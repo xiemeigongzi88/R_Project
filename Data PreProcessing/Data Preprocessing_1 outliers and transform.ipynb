{
 "cells": [
  {
   "cell_type": "markdown",
   "metadata": {},
   "source": [
    "# Data Preprocessing_1 outliers and transform"
   ]
  },
  {
   "cell_type": "markdown",
   "metadata": {},
   "source": [
    "http://rpubs.com/Cassiebaby/427894\n",
    "\n",
    "    In this report, the source of data sets used to analyze was from Kaggle which provides social, gender and study data from secondary school students for both math and portuguese language courses. There are two data sets were included, student-mat.csv and student-por.csv. \n",
    "    \n",
    "    Basically, the report focuses on understanding, tidy, manipulate, scan and transform data.The steps of this report is organised as follow.\n",
    "    The first step is to merge these two datasets to create  d3, and we selected columns we were interested to subset as d4is the data set we are going to use in further steps. \n",
    "    The second step, we summarized whole dataset and found variables were required type conversion. In this step, we mainly converted characters into factor variables including label and order. Moreover, one new variable was created in the third step. Then the whole dataset was checked to ensure it is tidy.\n",
    "    Additionally, we examined there is no either missing values or special values in our data. Then we also scanned essential numeric varaibles for detecing outliers by boxplot and z.score. There were only few varaibles have outliers, then  capping was given to deal with these outliers in basic information part. \n",
    "    Eventually, after applying several methods, we found Boxcox Transformation is the best method used on selected varaible Portuguese_Final in data transformation step to decrease the skewness and to make the distribution more close to normal distribution."
   ]
  },
  {
   "cell_type": "code",
   "execution_count": 6,
   "metadata": {},
   "outputs": [
    {
     "name": "stdout",
     "output_type": "stream",
     "text": [
      "\n",
      "  There is a binary version available but the source version is later:\n",
      "    binary source needs_compilation\n",
      "mlr 2.14.0 2.15.0              TRUE\n",
      "\n",
      "  Binaries will be installed\n"
     ]
    },
    {
     "name": "stderr",
     "output_type": "stream",
     "text": [
      "Warning message:\n",
      "\"package 'mlr' is in use and will not be installed\"Warning message:\n",
      "\"package 'deductive' is in use and will not be installed\"Warning message:\n",
      "\"package 'MVN' is in use and will not be installed\""
     ]
    }
   ],
   "source": [
    "install.packages('mlr')\n",
    "library(mlr)\n",
    "library(knitr)\n",
    "library(dplyr)\n",
    "library(lubridate)\n",
    "library(readr)\n",
    "library(tidyr)\n",
    "library(rvest)\n",
    "\n",
    "install.packages('deductive')\n",
    "library(deductive)\n",
    "library(validate)\n",
    "library(Hmisc)\n",
    "library(outliers)\n",
    "\n",
    "install.packages('MVN')\n",
    "library(MVN)\n",
    "library(MASS)\n",
    "library(caret)\n",
    "library(forecast)"
   ]
  },
  {
   "cell_type": "code",
   "execution_count": 12,
   "metadata": {},
   "outputs": [
    {
     "data": {
      "text/html": [
       "<table>\n",
       "<caption>A data.frame: 395 × 33</caption>\n",
       "<thead>\n",
       "\t<tr><th scope=col>school</th><th scope=col>sex</th><th scope=col>age</th><th scope=col>address</th><th scope=col>famsize</th><th scope=col>Pstatus</th><th scope=col>Medu</th><th scope=col>Fedu</th><th scope=col>Mjob</th><th scope=col>Fjob</th><th scope=col>...</th><th scope=col>famrel</th><th scope=col>freetime</th><th scope=col>goout</th><th scope=col>Dalc</th><th scope=col>Walc</th><th scope=col>health</th><th scope=col>absences</th><th scope=col>G1</th><th scope=col>G2</th><th scope=col>G3</th></tr>\n",
       "\t<tr><th scope=col>&lt;chr&gt;</th><th scope=col>&lt;chr&gt;</th><th scope=col>&lt;int&gt;</th><th scope=col>&lt;chr&gt;</th><th scope=col>&lt;chr&gt;</th><th scope=col>&lt;chr&gt;</th><th scope=col>&lt;int&gt;</th><th scope=col>&lt;int&gt;</th><th scope=col>&lt;chr&gt;</th><th scope=col>&lt;chr&gt;</th><th scope=col>...</th><th scope=col>&lt;int&gt;</th><th scope=col>&lt;int&gt;</th><th scope=col>&lt;int&gt;</th><th scope=col>&lt;int&gt;</th><th scope=col>&lt;int&gt;</th><th scope=col>&lt;int&gt;</th><th scope=col>&lt;int&gt;</th><th scope=col>&lt;int&gt;</th><th scope=col>&lt;int&gt;</th><th scope=col>&lt;int&gt;</th></tr>\n",
       "</thead>\n",
       "<tbody>\n",
       "\t<tr><td>GP</td><td>F</td><td>18</td><td>U</td><td>GT3</td><td>A</td><td>4</td><td>4</td><td>at_home </td><td>teacher </td><td>...</td><td>4</td><td>3</td><td>4</td><td>1</td><td>1</td><td>3</td><td> 6</td><td> 5</td><td> 6</td><td> 6</td></tr>\n",
       "\t<tr><td>GP</td><td>F</td><td>17</td><td>U</td><td>GT3</td><td>T</td><td>1</td><td>1</td><td>at_home </td><td>other   </td><td>...</td><td>5</td><td>3</td><td>3</td><td>1</td><td>1</td><td>3</td><td> 4</td><td> 5</td><td> 5</td><td> 6</td></tr>\n",
       "\t<tr><td>GP</td><td>F</td><td>15</td><td>U</td><td>LE3</td><td>T</td><td>1</td><td>1</td><td>at_home </td><td>other   </td><td>...</td><td>4</td><td>3</td><td>2</td><td>2</td><td>3</td><td>3</td><td>10</td><td> 7</td><td> 8</td><td>10</td></tr>\n",
       "\t<tr><td>GP</td><td>F</td><td>15</td><td>U</td><td>GT3</td><td>T</td><td>4</td><td>2</td><td>health  </td><td>services</td><td>...</td><td>3</td><td>2</td><td>2</td><td>1</td><td>1</td><td>5</td><td> 2</td><td>15</td><td>14</td><td>15</td></tr>\n",
       "\t<tr><td>GP</td><td>F</td><td>16</td><td>U</td><td>GT3</td><td>T</td><td>3</td><td>3</td><td>other   </td><td>other   </td><td>...</td><td>4</td><td>3</td><td>2</td><td>1</td><td>2</td><td>5</td><td> 4</td><td> 6</td><td>10</td><td>10</td></tr>\n",
       "\t<tr><td>GP</td><td>M</td><td>16</td><td>U</td><td>LE3</td><td>T</td><td>4</td><td>3</td><td>services</td><td>other   </td><td>...</td><td>5</td><td>4</td><td>2</td><td>1</td><td>2</td><td>5</td><td>10</td><td>15</td><td>15</td><td>15</td></tr>\n",
       "\t<tr><td>GP</td><td>M</td><td>16</td><td>U</td><td>LE3</td><td>T</td><td>2</td><td>2</td><td>other   </td><td>other   </td><td>...</td><td>4</td><td>4</td><td>4</td><td>1</td><td>1</td><td>3</td><td> 0</td><td>12</td><td>12</td><td>11</td></tr>\n",
       "\t<tr><td>GP</td><td>F</td><td>17</td><td>U</td><td>GT3</td><td>A</td><td>4</td><td>4</td><td>other   </td><td>teacher </td><td>...</td><td>4</td><td>1</td><td>4</td><td>1</td><td>1</td><td>1</td><td> 6</td><td> 6</td><td> 5</td><td> 6</td></tr>\n",
       "\t<tr><td>GP</td><td>M</td><td>15</td><td>U</td><td>LE3</td><td>A</td><td>3</td><td>2</td><td>services</td><td>other   </td><td>...</td><td>4</td><td>2</td><td>2</td><td>1</td><td>1</td><td>1</td><td> 0</td><td>16</td><td>18</td><td>19</td></tr>\n",
       "\t<tr><td>GP</td><td>M</td><td>15</td><td>U</td><td>GT3</td><td>T</td><td>3</td><td>4</td><td>other   </td><td>other   </td><td>...</td><td>5</td><td>5</td><td>1</td><td>1</td><td>1</td><td>5</td><td> 0</td><td>14</td><td>15</td><td>15</td></tr>\n",
       "\t<tr><td>GP</td><td>F</td><td>15</td><td>U</td><td>GT3</td><td>T</td><td>4</td><td>4</td><td>teacher </td><td>health  </td><td>...</td><td>3</td><td>3</td><td>3</td><td>1</td><td>2</td><td>2</td><td> 0</td><td>10</td><td> 8</td><td> 9</td></tr>\n",
       "\t<tr><td>GP</td><td>F</td><td>15</td><td>U</td><td>GT3</td><td>T</td><td>2</td><td>1</td><td>services</td><td>other   </td><td>...</td><td>5</td><td>2</td><td>2</td><td>1</td><td>1</td><td>4</td><td> 4</td><td>10</td><td>12</td><td>12</td></tr>\n",
       "\t<tr><td>GP</td><td>M</td><td>15</td><td>U</td><td>LE3</td><td>T</td><td>4</td><td>4</td><td>health  </td><td>services</td><td>...</td><td>4</td><td>3</td><td>3</td><td>1</td><td>3</td><td>5</td><td> 2</td><td>14</td><td>14</td><td>14</td></tr>\n",
       "\t<tr><td>GP</td><td>M</td><td>15</td><td>U</td><td>GT3</td><td>T</td><td>4</td><td>3</td><td>teacher </td><td>other   </td><td>...</td><td>5</td><td>4</td><td>3</td><td>1</td><td>2</td><td>3</td><td> 2</td><td>10</td><td>10</td><td>11</td></tr>\n",
       "\t<tr><td>GP</td><td>M</td><td>15</td><td>U</td><td>GT3</td><td>A</td><td>2</td><td>2</td><td>other   </td><td>other   </td><td>...</td><td>4</td><td>5</td><td>2</td><td>1</td><td>1</td><td>3</td><td> 0</td><td>14</td><td>16</td><td>16</td></tr>\n",
       "\t<tr><td>GP</td><td>F</td><td>16</td><td>U</td><td>GT3</td><td>T</td><td>4</td><td>4</td><td>health  </td><td>other   </td><td>...</td><td>4</td><td>4</td><td>4</td><td>1</td><td>2</td><td>2</td><td> 4</td><td>14</td><td>14</td><td>14</td></tr>\n",
       "\t<tr><td>GP</td><td>F</td><td>16</td><td>U</td><td>GT3</td><td>T</td><td>4</td><td>4</td><td>services</td><td>services</td><td>...</td><td>3</td><td>2</td><td>3</td><td>1</td><td>2</td><td>2</td><td> 6</td><td>13</td><td>14</td><td>14</td></tr>\n",
       "\t<tr><td>GP</td><td>F</td><td>16</td><td>U</td><td>GT3</td><td>T</td><td>3</td><td>3</td><td>other   </td><td>other   </td><td>...</td><td>5</td><td>3</td><td>2</td><td>1</td><td>1</td><td>4</td><td> 4</td><td> 8</td><td>10</td><td>10</td></tr>\n",
       "\t<tr><td>GP</td><td>M</td><td>17</td><td>U</td><td>GT3</td><td>T</td><td>3</td><td>2</td><td>services</td><td>services</td><td>...</td><td>5</td><td>5</td><td>5</td><td>2</td><td>4</td><td>5</td><td>16</td><td> 6</td><td> 5</td><td> 5</td></tr>\n",
       "\t<tr><td>GP</td><td>M</td><td>16</td><td>U</td><td>LE3</td><td>T</td><td>4</td><td>3</td><td>health  </td><td>other   </td><td>...</td><td>3</td><td>1</td><td>3</td><td>1</td><td>3</td><td>5</td><td> 4</td><td> 8</td><td>10</td><td>10</td></tr>\n",
       "\t<tr><td>GP</td><td>M</td><td>15</td><td>U</td><td>GT3</td><td>T</td><td>4</td><td>3</td><td>teacher </td><td>other   </td><td>...</td><td>4</td><td>4</td><td>1</td><td>1</td><td>1</td><td>1</td><td> 0</td><td>13</td><td>14</td><td>15</td></tr>\n",
       "\t<tr><td>GP</td><td>M</td><td>15</td><td>U</td><td>GT3</td><td>T</td><td>4</td><td>4</td><td>health  </td><td>health  </td><td>...</td><td>5</td><td>4</td><td>2</td><td>1</td><td>1</td><td>5</td><td> 0</td><td>12</td><td>15</td><td>15</td></tr>\n",
       "\t<tr><td>GP</td><td>M</td><td>16</td><td>U</td><td>LE3</td><td>T</td><td>4</td><td>2</td><td>teacher </td><td>other   </td><td>...</td><td>4</td><td>5</td><td>1</td><td>1</td><td>3</td><td>5</td><td> 2</td><td>15</td><td>15</td><td>16</td></tr>\n",
       "\t<tr><td>GP</td><td>M</td><td>16</td><td>U</td><td>LE3</td><td>T</td><td>2</td><td>2</td><td>other   </td><td>other   </td><td>...</td><td>5</td><td>4</td><td>4</td><td>2</td><td>4</td><td>5</td><td> 0</td><td>13</td><td>13</td><td>12</td></tr>\n",
       "\t<tr><td>GP</td><td>F</td><td>15</td><td>R</td><td>GT3</td><td>T</td><td>2</td><td>4</td><td>services</td><td>health  </td><td>...</td><td>4</td><td>3</td><td>2</td><td>1</td><td>1</td><td>5</td><td> 2</td><td>10</td><td> 9</td><td> 8</td></tr>\n",
       "\t<tr><td>GP</td><td>F</td><td>16</td><td>U</td><td>GT3</td><td>T</td><td>2</td><td>2</td><td>services</td><td>services</td><td>...</td><td>1</td><td>2</td><td>2</td><td>1</td><td>3</td><td>5</td><td>14</td><td> 6</td><td> 9</td><td> 8</td></tr>\n",
       "\t<tr><td>GP</td><td>M</td><td>15</td><td>U</td><td>GT3</td><td>T</td><td>2</td><td>2</td><td>other   </td><td>other   </td><td>...</td><td>4</td><td>2</td><td>2</td><td>1</td><td>2</td><td>5</td><td> 2</td><td>12</td><td>12</td><td>11</td></tr>\n",
       "\t<tr><td>GP</td><td>M</td><td>15</td><td>U</td><td>GT3</td><td>T</td><td>4</td><td>2</td><td>health  </td><td>services</td><td>...</td><td>2</td><td>2</td><td>4</td><td>2</td><td>4</td><td>1</td><td> 4</td><td>15</td><td>16</td><td>15</td></tr>\n",
       "\t<tr><td>GP</td><td>M</td><td>16</td><td>U</td><td>LE3</td><td>A</td><td>3</td><td>4</td><td>services</td><td>other   </td><td>...</td><td>5</td><td>3</td><td>3</td><td>1</td><td>1</td><td>5</td><td> 4</td><td>11</td><td>11</td><td>11</td></tr>\n",
       "\t<tr><td>GP</td><td>M</td><td>16</td><td>U</td><td>GT3</td><td>T</td><td>4</td><td>4</td><td>teacher </td><td>teacher </td><td>...</td><td>4</td><td>4</td><td>5</td><td>5</td><td>5</td><td>5</td><td>16</td><td>10</td><td>12</td><td>11</td></tr>\n",
       "\t<tr><td>...</td><td>...</td><td>...</td><td>...</td><td>...</td><td>...</td><td>...</td><td>...</td><td>...</td><td>...</td><td></td><td>...</td><td>...</td><td>...</td><td>...</td><td>...</td><td>...</td><td>...</td><td>...</td><td>...</td><td>...</td></tr>\n",
       "\t<tr><td>MS</td><td>M</td><td>18</td><td>R</td><td>GT3</td><td>T</td><td>1</td><td>3</td><td>at_home </td><td>other   </td><td>...</td><td>3</td><td>3</td><td>4</td><td>2</td><td>4</td><td>3</td><td> 4</td><td>10</td><td>10</td><td>10</td></tr>\n",
       "\t<tr><td>MS</td><td>M</td><td>18</td><td>U</td><td>LE3</td><td>T</td><td>4</td><td>4</td><td>teacher </td><td>services</td><td>...</td><td>4</td><td>2</td><td>2</td><td>2</td><td>2</td><td>5</td><td> 0</td><td>13</td><td>13</td><td>13</td></tr>\n",
       "\t<tr><td>MS</td><td>F</td><td>17</td><td>R</td><td>GT3</td><td>T</td><td>1</td><td>1</td><td>other   </td><td>services</td><td>...</td><td>5</td><td>2</td><td>1</td><td>1</td><td>2</td><td>1</td><td> 0</td><td> 7</td><td> 6</td><td> 0</td></tr>\n",
       "\t<tr><td>MS</td><td>F</td><td>18</td><td>U</td><td>GT3</td><td>T</td><td>2</td><td>3</td><td>at_home </td><td>services</td><td>...</td><td>5</td><td>2</td><td>3</td><td>1</td><td>2</td><td>4</td><td> 0</td><td>11</td><td>10</td><td>10</td></tr>\n",
       "\t<tr><td>MS</td><td>F</td><td>18</td><td>R</td><td>GT3</td><td>T</td><td>4</td><td>4</td><td>other   </td><td>teacher </td><td>...</td><td>3</td><td>2</td><td>2</td><td>4</td><td>2</td><td>5</td><td>10</td><td>14</td><td>12</td><td>11</td></tr>\n",
       "\t<tr><td>MS</td><td>F</td><td>19</td><td>U</td><td>LE3</td><td>T</td><td>3</td><td>2</td><td>services</td><td>services</td><td>...</td><td>3</td><td>2</td><td>2</td><td>1</td><td>1</td><td>3</td><td> 4</td><td> 7</td><td> 7</td><td> 9</td></tr>\n",
       "\t<tr><td>MS</td><td>M</td><td>18</td><td>R</td><td>LE3</td><td>T</td><td>1</td><td>2</td><td>at_home </td><td>services</td><td>...</td><td>4</td><td>3</td><td>3</td><td>2</td><td>3</td><td>3</td><td> 3</td><td>14</td><td>12</td><td>12</td></tr>\n",
       "\t<tr><td>MS</td><td>F</td><td>17</td><td>U</td><td>GT3</td><td>T</td><td>2</td><td>2</td><td>other   </td><td>at_home </td><td>...</td><td>3</td><td>4</td><td>3</td><td>1</td><td>1</td><td>3</td><td> 8</td><td>13</td><td>11</td><td>11</td></tr>\n",
       "\t<tr><td>MS</td><td>F</td><td>17</td><td>R</td><td>GT3</td><td>T</td><td>1</td><td>2</td><td>other   </td><td>other   </td><td>...</td><td>3</td><td>5</td><td>5</td><td>1</td><td>3</td><td>1</td><td>14</td><td> 6</td><td> 5</td><td> 5</td></tr>\n",
       "\t<tr><td>MS</td><td>F</td><td>18</td><td>R</td><td>LE3</td><td>T</td><td>4</td><td>4</td><td>other   </td><td>other   </td><td>...</td><td>5</td><td>4</td><td>4</td><td>1</td><td>1</td><td>1</td><td> 0</td><td>19</td><td>18</td><td>19</td></tr>\n",
       "\t<tr><td>MS</td><td>F</td><td>18</td><td>R</td><td>GT3</td><td>T</td><td>1</td><td>1</td><td>other   </td><td>other   </td><td>...</td><td>4</td><td>3</td><td>2</td><td>1</td><td>2</td><td>4</td><td> 2</td><td> 8</td><td> 8</td><td>10</td></tr>\n",
       "\t<tr><td>MS</td><td>F</td><td>20</td><td>U</td><td>GT3</td><td>T</td><td>4</td><td>2</td><td>health  </td><td>other   </td><td>...</td><td>5</td><td>4</td><td>3</td><td>1</td><td>1</td><td>3</td><td> 4</td><td>15</td><td>14</td><td>15</td></tr>\n",
       "\t<tr><td>MS</td><td>F</td><td>18</td><td>R</td><td>LE3</td><td>T</td><td>4</td><td>4</td><td>teacher </td><td>services</td><td>...</td><td>5</td><td>4</td><td>3</td><td>3</td><td>4</td><td>2</td><td> 4</td><td> 8</td><td> 9</td><td>10</td></tr>\n",
       "\t<tr><td>MS</td><td>F</td><td>18</td><td>U</td><td>GT3</td><td>T</td><td>3</td><td>3</td><td>other   </td><td>other   </td><td>...</td><td>4</td><td>1</td><td>3</td><td>1</td><td>2</td><td>1</td><td> 0</td><td>15</td><td>15</td><td>15</td></tr>\n",
       "\t<tr><td>MS</td><td>F</td><td>17</td><td>R</td><td>GT3</td><td>T</td><td>3</td><td>1</td><td>at_home </td><td>other   </td><td>...</td><td>4</td><td>5</td><td>4</td><td>2</td><td>3</td><td>1</td><td>17</td><td>10</td><td>10</td><td>10</td></tr>\n",
       "\t<tr><td>MS</td><td>M</td><td>18</td><td>U</td><td>GT3</td><td>T</td><td>4</td><td>4</td><td>teacher </td><td>teacher </td><td>...</td><td>3</td><td>2</td><td>4</td><td>1</td><td>4</td><td>2</td><td> 4</td><td>15</td><td>14</td><td>14</td></tr>\n",
       "\t<tr><td>MS</td><td>M</td><td>18</td><td>R</td><td>GT3</td><td>T</td><td>2</td><td>1</td><td>other   </td><td>other   </td><td>...</td><td>4</td><td>4</td><td>3</td><td>1</td><td>3</td><td>5</td><td> 5</td><td> 7</td><td> 6</td><td> 7</td></tr>\n",
       "\t<tr><td>MS</td><td>M</td><td>17</td><td>U</td><td>GT3</td><td>T</td><td>2</td><td>3</td><td>other   </td><td>services</td><td>...</td><td>4</td><td>4</td><td>3</td><td>1</td><td>1</td><td>3</td><td> 2</td><td>11</td><td>11</td><td>10</td></tr>\n",
       "\t<tr><td>MS</td><td>M</td><td>19</td><td>R</td><td>GT3</td><td>T</td><td>1</td><td>1</td><td>other   </td><td>services</td><td>...</td><td>4</td><td>3</td><td>2</td><td>1</td><td>3</td><td>5</td><td> 0</td><td> 6</td><td> 5</td><td> 0</td></tr>\n",
       "\t<tr><td>MS</td><td>M</td><td>18</td><td>R</td><td>GT3</td><td>T</td><td>4</td><td>2</td><td>other   </td><td>other   </td><td>...</td><td>5</td><td>4</td><td>3</td><td>4</td><td>3</td><td>3</td><td>14</td><td> 6</td><td> 5</td><td> 5</td></tr>\n",
       "\t<tr><td>MS</td><td>F</td><td>18</td><td>R</td><td>GT3</td><td>T</td><td>2</td><td>2</td><td>at_home </td><td>other   </td><td>...</td><td>5</td><td>3</td><td>3</td><td>1</td><td>3</td><td>4</td><td> 2</td><td>10</td><td> 9</td><td>10</td></tr>\n",
       "\t<tr><td>MS</td><td>F</td><td>18</td><td>R</td><td>GT3</td><td>T</td><td>4</td><td>4</td><td>teacher </td><td>at_home </td><td>...</td><td>4</td><td>4</td><td>3</td><td>2</td><td>2</td><td>5</td><td> 7</td><td> 6</td><td> 5</td><td> 6</td></tr>\n",
       "\t<tr><td>MS</td><td>F</td><td>19</td><td>R</td><td>GT3</td><td>T</td><td>2</td><td>3</td><td>services</td><td>other   </td><td>...</td><td>5</td><td>4</td><td>2</td><td>1</td><td>2</td><td>5</td><td> 0</td><td> 7</td><td> 5</td><td> 0</td></tr>\n",
       "\t<tr><td>MS</td><td>F</td><td>18</td><td>U</td><td>LE3</td><td>T</td><td>3</td><td>1</td><td>teacher </td><td>services</td><td>...</td><td>4</td><td>3</td><td>4</td><td>1</td><td>1</td><td>1</td><td> 0</td><td> 7</td><td> 9</td><td> 8</td></tr>\n",
       "\t<tr><td>MS</td><td>F</td><td>18</td><td>U</td><td>GT3</td><td>T</td><td>1</td><td>1</td><td>other   </td><td>other   </td><td>...</td><td>1</td><td>1</td><td>1</td><td>1</td><td>1</td><td>5</td><td> 0</td><td> 6</td><td> 5</td><td> 0</td></tr>\n",
       "\t<tr><td>MS</td><td>M</td><td>20</td><td>U</td><td>LE3</td><td>A</td><td>2</td><td>2</td><td>services</td><td>services</td><td>...</td><td>5</td><td>5</td><td>4</td><td>4</td><td>5</td><td>4</td><td>11</td><td> 9</td><td> 9</td><td> 9</td></tr>\n",
       "\t<tr><td>MS</td><td>M</td><td>17</td><td>U</td><td>LE3</td><td>T</td><td>3</td><td>1</td><td>services</td><td>services</td><td>...</td><td>2</td><td>4</td><td>5</td><td>3</td><td>4</td><td>2</td><td> 3</td><td>14</td><td>16</td><td>16</td></tr>\n",
       "\t<tr><td>MS</td><td>M</td><td>21</td><td>R</td><td>GT3</td><td>T</td><td>1</td><td>1</td><td>other   </td><td>other   </td><td>...</td><td>5</td><td>5</td><td>3</td><td>3</td><td>3</td><td>3</td><td> 3</td><td>10</td><td> 8</td><td> 7</td></tr>\n",
       "\t<tr><td>MS</td><td>M</td><td>18</td><td>R</td><td>LE3</td><td>T</td><td>3</td><td>2</td><td>services</td><td>other   </td><td>...</td><td>4</td><td>4</td><td>1</td><td>3</td><td>4</td><td>5</td><td> 0</td><td>11</td><td>12</td><td>10</td></tr>\n",
       "\t<tr><td>MS</td><td>M</td><td>19</td><td>U</td><td>LE3</td><td>T</td><td>1</td><td>1</td><td>other   </td><td>at_home </td><td>...</td><td>3</td><td>2</td><td>3</td><td>3</td><td>3</td><td>5</td><td> 5</td><td> 8</td><td> 9</td><td> 9</td></tr>\n",
       "</tbody>\n",
       "</table>\n"
      ],
      "text/latex": [
       "A data.frame: 395 × 33\n",
       "\\begin{tabular}{r|lllllllllllllllllllllllllllllllll}\n",
       " school & sex & age & address & famsize & Pstatus & Medu & Fedu & Mjob & Fjob & reason & guardian & traveltime & studytime & failures & schoolsup & famsup & paid & activities & nursery & higher & internet & romantic & famrel & freetime & goout & Dalc & Walc & health & absences & G1 & G2 & G3\\\\\n",
       " <chr> & <chr> & <int> & <chr> & <chr> & <chr> & <int> & <int> & <chr> & <chr> & <chr> & <chr> & <int> & <int> & <int> & <chr> & <chr> & <chr> & <chr> & <chr> & <chr> & <chr> & <chr> & <int> & <int> & <int> & <int> & <int> & <int> & <int> & <int> & <int> & <int>\\\\\n",
       "\\hline\n",
       "\t GP & F & 18 & U & GT3 & A & 4 & 4 & at\\_home  & teacher  & course     & mother & 2 & 2 & 0 & yes & no  & no  & no  & yes & yes & no  & no  & 4 & 3 & 4 & 1 & 1 & 3 &  6 &  5 &  6 &  6\\\\\n",
       "\t GP & F & 17 & U & GT3 & T & 1 & 1 & at\\_home  & other    & course     & father & 1 & 2 & 0 & no  & yes & no  & no  & no  & yes & yes & no  & 5 & 3 & 3 & 1 & 1 & 3 &  4 &  5 &  5 &  6\\\\\n",
       "\t GP & F & 15 & U & LE3 & T & 1 & 1 & at\\_home  & other    & other      & mother & 1 & 2 & 3 & yes & no  & yes & no  & yes & yes & yes & no  & 4 & 3 & 2 & 2 & 3 & 3 & 10 &  7 &  8 & 10\\\\\n",
       "\t GP & F & 15 & U & GT3 & T & 4 & 2 & health   & services & home       & mother & 1 & 3 & 0 & no  & yes & yes & yes & yes & yes & yes & yes & 3 & 2 & 2 & 1 & 1 & 5 &  2 & 15 & 14 & 15\\\\\n",
       "\t GP & F & 16 & U & GT3 & T & 3 & 3 & other    & other    & home       & father & 1 & 2 & 0 & no  & yes & yes & no  & yes & yes & no  & no  & 4 & 3 & 2 & 1 & 2 & 5 &  4 &  6 & 10 & 10\\\\\n",
       "\t GP & M & 16 & U & LE3 & T & 4 & 3 & services & other    & reputation & mother & 1 & 2 & 0 & no  & yes & yes & yes & yes & yes & yes & no  & 5 & 4 & 2 & 1 & 2 & 5 & 10 & 15 & 15 & 15\\\\\n",
       "\t GP & M & 16 & U & LE3 & T & 2 & 2 & other    & other    & home       & mother & 1 & 2 & 0 & no  & no  & no  & no  & yes & yes & yes & no  & 4 & 4 & 4 & 1 & 1 & 3 &  0 & 12 & 12 & 11\\\\\n",
       "\t GP & F & 17 & U & GT3 & A & 4 & 4 & other    & teacher  & home       & mother & 2 & 2 & 0 & yes & yes & no  & no  & yes & yes & no  & no  & 4 & 1 & 4 & 1 & 1 & 1 &  6 &  6 &  5 &  6\\\\\n",
       "\t GP & M & 15 & U & LE3 & A & 3 & 2 & services & other    & home       & mother & 1 & 2 & 0 & no  & yes & yes & no  & yes & yes & yes & no  & 4 & 2 & 2 & 1 & 1 & 1 &  0 & 16 & 18 & 19\\\\\n",
       "\t GP & M & 15 & U & GT3 & T & 3 & 4 & other    & other    & home       & mother & 1 & 2 & 0 & no  & yes & yes & yes & yes & yes & yes & no  & 5 & 5 & 1 & 1 & 1 & 5 &  0 & 14 & 15 & 15\\\\\n",
       "\t GP & F & 15 & U & GT3 & T & 4 & 4 & teacher  & health   & reputation & mother & 1 & 2 & 0 & no  & yes & yes & no  & yes & yes & yes & no  & 3 & 3 & 3 & 1 & 2 & 2 &  0 & 10 &  8 &  9\\\\\n",
       "\t GP & F & 15 & U & GT3 & T & 2 & 1 & services & other    & reputation & father & 3 & 3 & 0 & no  & yes & no  & yes & yes & yes & yes & no  & 5 & 2 & 2 & 1 & 1 & 4 &  4 & 10 & 12 & 12\\\\\n",
       "\t GP & M & 15 & U & LE3 & T & 4 & 4 & health   & services & course     & father & 1 & 1 & 0 & no  & yes & yes & yes & yes & yes & yes & no  & 4 & 3 & 3 & 1 & 3 & 5 &  2 & 14 & 14 & 14\\\\\n",
       "\t GP & M & 15 & U & GT3 & T & 4 & 3 & teacher  & other    & course     & mother & 2 & 2 & 0 & no  & yes & yes & no  & yes & yes & yes & no  & 5 & 4 & 3 & 1 & 2 & 3 &  2 & 10 & 10 & 11\\\\\n",
       "\t GP & M & 15 & U & GT3 & A & 2 & 2 & other    & other    & home       & other  & 1 & 3 & 0 & no  & yes & no  & no  & yes & yes & yes & yes & 4 & 5 & 2 & 1 & 1 & 3 &  0 & 14 & 16 & 16\\\\\n",
       "\t GP & F & 16 & U & GT3 & T & 4 & 4 & health   & other    & home       & mother & 1 & 1 & 0 & no  & yes & no  & no  & yes & yes & yes & no  & 4 & 4 & 4 & 1 & 2 & 2 &  4 & 14 & 14 & 14\\\\\n",
       "\t GP & F & 16 & U & GT3 & T & 4 & 4 & services & services & reputation & mother & 1 & 3 & 0 & no  & yes & yes & yes & yes & yes & yes & no  & 3 & 2 & 3 & 1 & 2 & 2 &  6 & 13 & 14 & 14\\\\\n",
       "\t GP & F & 16 & U & GT3 & T & 3 & 3 & other    & other    & reputation & mother & 3 & 2 & 0 & yes & yes & no  & yes & yes & yes & no  & no  & 5 & 3 & 2 & 1 & 1 & 4 &  4 &  8 & 10 & 10\\\\\n",
       "\t GP & M & 17 & U & GT3 & T & 3 & 2 & services & services & course     & mother & 1 & 1 & 3 & no  & yes & no  & yes & yes & yes & yes & no  & 5 & 5 & 5 & 2 & 4 & 5 & 16 &  6 &  5 &  5\\\\\n",
       "\t GP & M & 16 & U & LE3 & T & 4 & 3 & health   & other    & home       & father & 1 & 1 & 0 & no  & no  & yes & yes & yes & yes & yes & no  & 3 & 1 & 3 & 1 & 3 & 5 &  4 &  8 & 10 & 10\\\\\n",
       "\t GP & M & 15 & U & GT3 & T & 4 & 3 & teacher  & other    & reputation & mother & 1 & 2 & 0 & no  & no  & no  & no  & yes & yes & yes & no  & 4 & 4 & 1 & 1 & 1 & 1 &  0 & 13 & 14 & 15\\\\\n",
       "\t GP & M & 15 & U & GT3 & T & 4 & 4 & health   & health   & other      & father & 1 & 1 & 0 & no  & yes & yes & no  & yes & yes & yes & no  & 5 & 4 & 2 & 1 & 1 & 5 &  0 & 12 & 15 & 15\\\\\n",
       "\t GP & M & 16 & U & LE3 & T & 4 & 2 & teacher  & other    & course     & mother & 1 & 2 & 0 & no  & no  & no  & yes & yes & yes & yes & no  & 4 & 5 & 1 & 1 & 3 & 5 &  2 & 15 & 15 & 16\\\\\n",
       "\t GP & M & 16 & U & LE3 & T & 2 & 2 & other    & other    & reputation & mother & 2 & 2 & 0 & no  & yes & no  & yes & yes & yes & yes & no  & 5 & 4 & 4 & 2 & 4 & 5 &  0 & 13 & 13 & 12\\\\\n",
       "\t GP & F & 15 & R & GT3 & T & 2 & 4 & services & health   & course     & mother & 1 & 3 & 0 & yes & yes & yes & yes & yes & yes & yes & no  & 4 & 3 & 2 & 1 & 1 & 5 &  2 & 10 &  9 &  8\\\\\n",
       "\t GP & F & 16 & U & GT3 & T & 2 & 2 & services & services & home       & mother & 1 & 1 & 2 & no  & yes & yes & no  & no  & yes & yes & no  & 1 & 2 & 2 & 1 & 3 & 5 & 14 &  6 &  9 &  8\\\\\n",
       "\t GP & M & 15 & U & GT3 & T & 2 & 2 & other    & other    & home       & mother & 1 & 1 & 0 & no  & yes & yes & no  & yes & yes & yes & no  & 4 & 2 & 2 & 1 & 2 & 5 &  2 & 12 & 12 & 11\\\\\n",
       "\t GP & M & 15 & U & GT3 & T & 4 & 2 & health   & services & other      & mother & 1 & 1 & 0 & no  & no  & yes & no  & yes & yes & yes & no  & 2 & 2 & 4 & 2 & 4 & 1 &  4 & 15 & 16 & 15\\\\\n",
       "\t GP & M & 16 & U & LE3 & A & 3 & 4 & services & other    & home       & mother & 1 & 2 & 0 & yes & yes & no  & yes & yes & yes & yes & no  & 5 & 3 & 3 & 1 & 1 & 5 &  4 & 11 & 11 & 11\\\\\n",
       "\t GP & M & 16 & U & GT3 & T & 4 & 4 & teacher  & teacher  & home       & mother & 1 & 2 & 0 & no  & yes & yes & yes & yes & yes & yes & yes & 4 & 4 & 5 & 5 & 5 & 5 & 16 & 10 & 12 & 11\\\\\n",
       "\t ... & ... & ... & ... & ... & ... & ... & ... & ... & ... & ... & ... & ... & ... & ... & ... & ... & ... & ... & ... & ... & ... & ... & ... & ... & ... & ... & ... & ... & ... & ... & ... & ...\\\\\n",
       "\t MS & M & 18 & R & GT3 & T & 1 & 3 & at\\_home  & other    & course     & mother & 2 & 2 & 0 & no & yes & yes & no  & yes & yes & no  & no  & 3 & 3 & 4 & 2 & 4 & 3 &  4 & 10 & 10 & 10\\\\\n",
       "\t MS & M & 18 & U & LE3 & T & 4 & 4 & teacher  & services & other      & mother & 2 & 3 & 0 & no & no  & yes & no  & yes & yes & yes & yes & 4 & 2 & 2 & 2 & 2 & 5 &  0 & 13 & 13 & 13\\\\\n",
       "\t MS & F & 17 & R & GT3 & T & 1 & 1 & other    & services & reputation & mother & 3 & 1 & 1 & no & yes & yes & no  & yes & yes & yes & yes & 5 & 2 & 1 & 1 & 2 & 1 &  0 &  7 &  6 &  0\\\\\n",
       "\t MS & F & 18 & U & GT3 & T & 2 & 3 & at\\_home  & services & course     & father & 2 & 1 & 0 & no & yes & yes & no  & yes & yes & yes & yes & 5 & 2 & 3 & 1 & 2 & 4 &  0 & 11 & 10 & 10\\\\\n",
       "\t MS & F & 18 & R & GT3 & T & 4 & 4 & other    & teacher  & other      & father & 3 & 2 & 0 & no & yes & yes & no  & no  & yes & yes & yes & 3 & 2 & 2 & 4 & 2 & 5 & 10 & 14 & 12 & 11\\\\\n",
       "\t MS & F & 19 & U & LE3 & T & 3 & 2 & services & services & home       & other  & 2 & 2 & 2 & no & no  & no  & yes & yes & yes & no  & yes & 3 & 2 & 2 & 1 & 1 & 3 &  4 &  7 &  7 &  9\\\\\n",
       "\t MS & M & 18 & R & LE3 & T & 1 & 2 & at\\_home  & services & other      & father & 3 & 1 & 0 & no & yes & yes & yes & yes & no  & yes & yes & 4 & 3 & 3 & 2 & 3 & 3 &  3 & 14 & 12 & 12\\\\\n",
       "\t MS & F & 17 & U & GT3 & T & 2 & 2 & other    & at\\_home  & home       & mother & 1 & 3 & 0 & no & no  & no  & yes & yes & yes & no  & yes & 3 & 4 & 3 & 1 & 1 & 3 &  8 & 13 & 11 & 11\\\\\n",
       "\t MS & F & 17 & R & GT3 & T & 1 & 2 & other    & other    & course     & mother & 1 & 1 & 0 & no & no  & no  & yes & yes & yes & yes & no  & 3 & 5 & 5 & 1 & 3 & 1 & 14 &  6 &  5 &  5\\\\\n",
       "\t MS & F & 18 & R & LE3 & T & 4 & 4 & other    & other    & reputation & mother & 2 & 3 & 0 & no & no  & no  & no  & yes & yes & yes & no  & 5 & 4 & 4 & 1 & 1 & 1 &  0 & 19 & 18 & 19\\\\\n",
       "\t MS & F & 18 & R & GT3 & T & 1 & 1 & other    & other    & home       & mother & 4 & 3 & 0 & no & no  & no  & no  & yes & yes & yes & no  & 4 & 3 & 2 & 1 & 2 & 4 &  2 &  8 &  8 & 10\\\\\n",
       "\t MS & F & 20 & U & GT3 & T & 4 & 2 & health   & other    & course     & other  & 2 & 3 & 2 & no & yes & yes & no  & no  & yes & yes & yes & 5 & 4 & 3 & 1 & 1 & 3 &  4 & 15 & 14 & 15\\\\\n",
       "\t MS & F & 18 & R & LE3 & T & 4 & 4 & teacher  & services & course     & mother & 1 & 2 & 0 & no & no  & yes & yes & yes & yes & yes & no  & 5 & 4 & 3 & 3 & 4 & 2 &  4 &  8 &  9 & 10\\\\\n",
       "\t MS & F & 18 & U & GT3 & T & 3 & 3 & other    & other    & home       & mother & 1 & 2 & 0 & no & no  & yes & no  & yes & yes & yes & yes & 4 & 1 & 3 & 1 & 2 & 1 &  0 & 15 & 15 & 15\\\\\n",
       "\t MS & F & 17 & R & GT3 & T & 3 & 1 & at\\_home  & other    & reputation & mother & 1 & 2 & 0 & no & yes & yes & yes & no  & yes & yes & no  & 4 & 5 & 4 & 2 & 3 & 1 & 17 & 10 & 10 & 10\\\\\n",
       "\t MS & M & 18 & U & GT3 & T & 4 & 4 & teacher  & teacher  & home       & father & 1 & 2 & 0 & no & no  & yes & yes & no  & yes & yes & no  & 3 & 2 & 4 & 1 & 4 & 2 &  4 & 15 & 14 & 14\\\\\n",
       "\t MS & M & 18 & R & GT3 & T & 2 & 1 & other    & other    & other      & mother & 2 & 1 & 0 & no & no  & no  & yes & no  & yes & yes & yes & 4 & 4 & 3 & 1 & 3 & 5 &  5 &  7 &  6 &  7\\\\\n",
       "\t MS & M & 17 & U & GT3 & T & 2 & 3 & other    & services & home       & father & 2 & 2 & 0 & no & no  & no  & yes & yes & yes & yes & no  & 4 & 4 & 3 & 1 & 1 & 3 &  2 & 11 & 11 & 10\\\\\n",
       "\t MS & M & 19 & R & GT3 & T & 1 & 1 & other    & services & other      & mother & 2 & 1 & 1 & no & no  & no  & no  & yes & yes & no  & no  & 4 & 3 & 2 & 1 & 3 & 5 &  0 &  6 &  5 &  0\\\\\n",
       "\t MS & M & 18 & R & GT3 & T & 4 & 2 & other    & other    & home       & father & 2 & 1 & 1 & no & no  & yes & no  & yes & yes & no  & no  & 5 & 4 & 3 & 4 & 3 & 3 & 14 &  6 &  5 &  5\\\\\n",
       "\t MS & F & 18 & R & GT3 & T & 2 & 2 & at\\_home  & other    & other      & mother & 2 & 3 & 0 & no & no  & yes & no  & yes & yes & no  & no  & 5 & 3 & 3 & 1 & 3 & 4 &  2 & 10 &  9 & 10\\\\\n",
       "\t MS & F & 18 & R & GT3 & T & 4 & 4 & teacher  & at\\_home  & reputation & mother & 3 & 1 & 0 & no & yes & yes & yes & yes & yes & yes & yes & 4 & 4 & 3 & 2 & 2 & 5 &  7 &  6 &  5 &  6\\\\\n",
       "\t MS & F & 19 & R & GT3 & T & 2 & 3 & services & other    & course     & mother & 1 & 3 & 1 & no & no  & no  & yes & no  & yes & yes & no  & 5 & 4 & 2 & 1 & 2 & 5 &  0 &  7 &  5 &  0\\\\\n",
       "\t MS & F & 18 & U & LE3 & T & 3 & 1 & teacher  & services & course     & mother & 1 & 2 & 0 & no & yes & yes & no  & yes & yes & yes & no  & 4 & 3 & 4 & 1 & 1 & 1 &  0 &  7 &  9 &  8\\\\\n",
       "\t MS & F & 18 & U & GT3 & T & 1 & 1 & other    & other    & course     & mother & 2 & 2 & 1 & no & no  & no  & yes & yes & yes & no  & no  & 1 & 1 & 1 & 1 & 1 & 5 &  0 &  6 &  5 &  0\\\\\n",
       "\t MS & M & 20 & U & LE3 & A & 2 & 2 & services & services & course     & other  & 1 & 2 & 2 & no & yes & yes & no  & yes & yes & no  & no  & 5 & 5 & 4 & 4 & 5 & 4 & 11 &  9 &  9 &  9\\\\\n",
       "\t MS & M & 17 & U & LE3 & T & 3 & 1 & services & services & course     & mother & 2 & 1 & 0 & no & no  & no  & no  & no  & yes & yes & no  & 2 & 4 & 5 & 3 & 4 & 2 &  3 & 14 & 16 & 16\\\\\n",
       "\t MS & M & 21 & R & GT3 & T & 1 & 1 & other    & other    & course     & other  & 1 & 1 & 3 & no & no  & no  & no  & no  & yes & no  & no  & 5 & 5 & 3 & 3 & 3 & 3 &  3 & 10 &  8 &  7\\\\\n",
       "\t MS & M & 18 & R & LE3 & T & 3 & 2 & services & other    & course     & mother & 3 & 1 & 0 & no & no  & no  & no  & no  & yes & yes & no  & 4 & 4 & 1 & 3 & 4 & 5 &  0 & 11 & 12 & 10\\\\\n",
       "\t MS & M & 19 & U & LE3 & T & 1 & 1 & other    & at\\_home  & course     & father & 1 & 1 & 0 & no & no  & no  & no  & yes & yes & yes & no  & 3 & 2 & 3 & 3 & 3 & 5 &  5 &  8 &  9 &  9\\\\\n",
       "\\end{tabular}\n"
      ],
      "text/markdown": [
       "\n",
       "A data.frame: 395 × 33\n",
       "\n",
       "| school &lt;chr&gt; | sex &lt;chr&gt; | age &lt;int&gt; | address &lt;chr&gt; | famsize &lt;chr&gt; | Pstatus &lt;chr&gt; | Medu &lt;int&gt; | Fedu &lt;int&gt; | Mjob &lt;chr&gt; | Fjob &lt;chr&gt; | ... ... | famrel &lt;int&gt; | freetime &lt;int&gt; | goout &lt;int&gt; | Dalc &lt;int&gt; | Walc &lt;int&gt; | health &lt;int&gt; | absences &lt;int&gt; | G1 &lt;int&gt; | G2 &lt;int&gt; | G3 &lt;int&gt; |\n",
       "|---|---|---|---|---|---|---|---|---|---|---|---|---|---|---|---|---|---|---|---|---|\n",
       "| GP | F | 18 | U | GT3 | A | 4 | 4 | at_home  | teacher  | ... | 4 | 3 | 4 | 1 | 1 | 3 |  6 |  5 |  6 |  6 |\n",
       "| GP | F | 17 | U | GT3 | T | 1 | 1 | at_home  | other    | ... | 5 | 3 | 3 | 1 | 1 | 3 |  4 |  5 |  5 |  6 |\n",
       "| GP | F | 15 | U | LE3 | T | 1 | 1 | at_home  | other    | ... | 4 | 3 | 2 | 2 | 3 | 3 | 10 |  7 |  8 | 10 |\n",
       "| GP | F | 15 | U | GT3 | T | 4 | 2 | health   | services | ... | 3 | 2 | 2 | 1 | 1 | 5 |  2 | 15 | 14 | 15 |\n",
       "| GP | F | 16 | U | GT3 | T | 3 | 3 | other    | other    | ... | 4 | 3 | 2 | 1 | 2 | 5 |  4 |  6 | 10 | 10 |\n",
       "| GP | M | 16 | U | LE3 | T | 4 | 3 | services | other    | ... | 5 | 4 | 2 | 1 | 2 | 5 | 10 | 15 | 15 | 15 |\n",
       "| GP | M | 16 | U | LE3 | T | 2 | 2 | other    | other    | ... | 4 | 4 | 4 | 1 | 1 | 3 |  0 | 12 | 12 | 11 |\n",
       "| GP | F | 17 | U | GT3 | A | 4 | 4 | other    | teacher  | ... | 4 | 1 | 4 | 1 | 1 | 1 |  6 |  6 |  5 |  6 |\n",
       "| GP | M | 15 | U | LE3 | A | 3 | 2 | services | other    | ... | 4 | 2 | 2 | 1 | 1 | 1 |  0 | 16 | 18 | 19 |\n",
       "| GP | M | 15 | U | GT3 | T | 3 | 4 | other    | other    | ... | 5 | 5 | 1 | 1 | 1 | 5 |  0 | 14 | 15 | 15 |\n",
       "| GP | F | 15 | U | GT3 | T | 4 | 4 | teacher  | health   | ... | 3 | 3 | 3 | 1 | 2 | 2 |  0 | 10 |  8 |  9 |\n",
       "| GP | F | 15 | U | GT3 | T | 2 | 1 | services | other    | ... | 5 | 2 | 2 | 1 | 1 | 4 |  4 | 10 | 12 | 12 |\n",
       "| GP | M | 15 | U | LE3 | T | 4 | 4 | health   | services | ... | 4 | 3 | 3 | 1 | 3 | 5 |  2 | 14 | 14 | 14 |\n",
       "| GP | M | 15 | U | GT3 | T | 4 | 3 | teacher  | other    | ... | 5 | 4 | 3 | 1 | 2 | 3 |  2 | 10 | 10 | 11 |\n",
       "| GP | M | 15 | U | GT3 | A | 2 | 2 | other    | other    | ... | 4 | 5 | 2 | 1 | 1 | 3 |  0 | 14 | 16 | 16 |\n",
       "| GP | F | 16 | U | GT3 | T | 4 | 4 | health   | other    | ... | 4 | 4 | 4 | 1 | 2 | 2 |  4 | 14 | 14 | 14 |\n",
       "| GP | F | 16 | U | GT3 | T | 4 | 4 | services | services | ... | 3 | 2 | 3 | 1 | 2 | 2 |  6 | 13 | 14 | 14 |\n",
       "| GP | F | 16 | U | GT3 | T | 3 | 3 | other    | other    | ... | 5 | 3 | 2 | 1 | 1 | 4 |  4 |  8 | 10 | 10 |\n",
       "| GP | M | 17 | U | GT3 | T | 3 | 2 | services | services | ... | 5 | 5 | 5 | 2 | 4 | 5 | 16 |  6 |  5 |  5 |\n",
       "| GP | M | 16 | U | LE3 | T | 4 | 3 | health   | other    | ... | 3 | 1 | 3 | 1 | 3 | 5 |  4 |  8 | 10 | 10 |\n",
       "| GP | M | 15 | U | GT3 | T | 4 | 3 | teacher  | other    | ... | 4 | 4 | 1 | 1 | 1 | 1 |  0 | 13 | 14 | 15 |\n",
       "| GP | M | 15 | U | GT3 | T | 4 | 4 | health   | health   | ... | 5 | 4 | 2 | 1 | 1 | 5 |  0 | 12 | 15 | 15 |\n",
       "| GP | M | 16 | U | LE3 | T | 4 | 2 | teacher  | other    | ... | 4 | 5 | 1 | 1 | 3 | 5 |  2 | 15 | 15 | 16 |\n",
       "| GP | M | 16 | U | LE3 | T | 2 | 2 | other    | other    | ... | 5 | 4 | 4 | 2 | 4 | 5 |  0 | 13 | 13 | 12 |\n",
       "| GP | F | 15 | R | GT3 | T | 2 | 4 | services | health   | ... | 4 | 3 | 2 | 1 | 1 | 5 |  2 | 10 |  9 |  8 |\n",
       "| GP | F | 16 | U | GT3 | T | 2 | 2 | services | services | ... | 1 | 2 | 2 | 1 | 3 | 5 | 14 |  6 |  9 |  8 |\n",
       "| GP | M | 15 | U | GT3 | T | 2 | 2 | other    | other    | ... | 4 | 2 | 2 | 1 | 2 | 5 |  2 | 12 | 12 | 11 |\n",
       "| GP | M | 15 | U | GT3 | T | 4 | 2 | health   | services | ... | 2 | 2 | 4 | 2 | 4 | 1 |  4 | 15 | 16 | 15 |\n",
       "| GP | M | 16 | U | LE3 | A | 3 | 4 | services | other    | ... | 5 | 3 | 3 | 1 | 1 | 5 |  4 | 11 | 11 | 11 |\n",
       "| GP | M | 16 | U | GT3 | T | 4 | 4 | teacher  | teacher  | ... | 4 | 4 | 5 | 5 | 5 | 5 | 16 | 10 | 12 | 11 |\n",
       "| ... | ... | ... | ... | ... | ... | ... | ... | ... | ... | <!----> | ... | ... | ... | ... | ... | ... | ... | ... | ... | ... |\n",
       "| MS | M | 18 | R | GT3 | T | 1 | 3 | at_home  | other    | ... | 3 | 3 | 4 | 2 | 4 | 3 |  4 | 10 | 10 | 10 |\n",
       "| MS | M | 18 | U | LE3 | T | 4 | 4 | teacher  | services | ... | 4 | 2 | 2 | 2 | 2 | 5 |  0 | 13 | 13 | 13 |\n",
       "| MS | F | 17 | R | GT3 | T | 1 | 1 | other    | services | ... | 5 | 2 | 1 | 1 | 2 | 1 |  0 |  7 |  6 |  0 |\n",
       "| MS | F | 18 | U | GT3 | T | 2 | 3 | at_home  | services | ... | 5 | 2 | 3 | 1 | 2 | 4 |  0 | 11 | 10 | 10 |\n",
       "| MS | F | 18 | R | GT3 | T | 4 | 4 | other    | teacher  | ... | 3 | 2 | 2 | 4 | 2 | 5 | 10 | 14 | 12 | 11 |\n",
       "| MS | F | 19 | U | LE3 | T | 3 | 2 | services | services | ... | 3 | 2 | 2 | 1 | 1 | 3 |  4 |  7 |  7 |  9 |\n",
       "| MS | M | 18 | R | LE3 | T | 1 | 2 | at_home  | services | ... | 4 | 3 | 3 | 2 | 3 | 3 |  3 | 14 | 12 | 12 |\n",
       "| MS | F | 17 | U | GT3 | T | 2 | 2 | other    | at_home  | ... | 3 | 4 | 3 | 1 | 1 | 3 |  8 | 13 | 11 | 11 |\n",
       "| MS | F | 17 | R | GT3 | T | 1 | 2 | other    | other    | ... | 3 | 5 | 5 | 1 | 3 | 1 | 14 |  6 |  5 |  5 |\n",
       "| MS | F | 18 | R | LE3 | T | 4 | 4 | other    | other    | ... | 5 | 4 | 4 | 1 | 1 | 1 |  0 | 19 | 18 | 19 |\n",
       "| MS | F | 18 | R | GT3 | T | 1 | 1 | other    | other    | ... | 4 | 3 | 2 | 1 | 2 | 4 |  2 |  8 |  8 | 10 |\n",
       "| MS | F | 20 | U | GT3 | T | 4 | 2 | health   | other    | ... | 5 | 4 | 3 | 1 | 1 | 3 |  4 | 15 | 14 | 15 |\n",
       "| MS | F | 18 | R | LE3 | T | 4 | 4 | teacher  | services | ... | 5 | 4 | 3 | 3 | 4 | 2 |  4 |  8 |  9 | 10 |\n",
       "| MS | F | 18 | U | GT3 | T | 3 | 3 | other    | other    | ... | 4 | 1 | 3 | 1 | 2 | 1 |  0 | 15 | 15 | 15 |\n",
       "| MS | F | 17 | R | GT3 | T | 3 | 1 | at_home  | other    | ... | 4 | 5 | 4 | 2 | 3 | 1 | 17 | 10 | 10 | 10 |\n",
       "| MS | M | 18 | U | GT3 | T | 4 | 4 | teacher  | teacher  | ... | 3 | 2 | 4 | 1 | 4 | 2 |  4 | 15 | 14 | 14 |\n",
       "| MS | M | 18 | R | GT3 | T | 2 | 1 | other    | other    | ... | 4 | 4 | 3 | 1 | 3 | 5 |  5 |  7 |  6 |  7 |\n",
       "| MS | M | 17 | U | GT3 | T | 2 | 3 | other    | services | ... | 4 | 4 | 3 | 1 | 1 | 3 |  2 | 11 | 11 | 10 |\n",
       "| MS | M | 19 | R | GT3 | T | 1 | 1 | other    | services | ... | 4 | 3 | 2 | 1 | 3 | 5 |  0 |  6 |  5 |  0 |\n",
       "| MS | M | 18 | R | GT3 | T | 4 | 2 | other    | other    | ... | 5 | 4 | 3 | 4 | 3 | 3 | 14 |  6 |  5 |  5 |\n",
       "| MS | F | 18 | R | GT3 | T | 2 | 2 | at_home  | other    | ... | 5 | 3 | 3 | 1 | 3 | 4 |  2 | 10 |  9 | 10 |\n",
       "| MS | F | 18 | R | GT3 | T | 4 | 4 | teacher  | at_home  | ... | 4 | 4 | 3 | 2 | 2 | 5 |  7 |  6 |  5 |  6 |\n",
       "| MS | F | 19 | R | GT3 | T | 2 | 3 | services | other    | ... | 5 | 4 | 2 | 1 | 2 | 5 |  0 |  7 |  5 |  0 |\n",
       "| MS | F | 18 | U | LE3 | T | 3 | 1 | teacher  | services | ... | 4 | 3 | 4 | 1 | 1 | 1 |  0 |  7 |  9 |  8 |\n",
       "| MS | F | 18 | U | GT3 | T | 1 | 1 | other    | other    | ... | 1 | 1 | 1 | 1 | 1 | 5 |  0 |  6 |  5 |  0 |\n",
       "| MS | M | 20 | U | LE3 | A | 2 | 2 | services | services | ... | 5 | 5 | 4 | 4 | 5 | 4 | 11 |  9 |  9 |  9 |\n",
       "| MS | M | 17 | U | LE3 | T | 3 | 1 | services | services | ... | 2 | 4 | 5 | 3 | 4 | 2 |  3 | 14 | 16 | 16 |\n",
       "| MS | M | 21 | R | GT3 | T | 1 | 1 | other    | other    | ... | 5 | 5 | 3 | 3 | 3 | 3 |  3 | 10 |  8 |  7 |\n",
       "| MS | M | 18 | R | LE3 | T | 3 | 2 | services | other    | ... | 4 | 4 | 1 | 3 | 4 | 5 |  0 | 11 | 12 | 10 |\n",
       "| MS | M | 19 | U | LE3 | T | 1 | 1 | other    | at_home  | ... | 3 | 2 | 3 | 3 | 3 | 5 |  5 |  8 |  9 |  9 |\n",
       "\n"
      ],
      "text/plain": [
       "    school sex age address famsize Pstatus Medu Fedu Mjob     Fjob     ...\n",
       "1   GP     F   18  U       GT3     A       4    4    at_home  teacher  ...\n",
       "2   GP     F   17  U       GT3     T       1    1    at_home  other    ...\n",
       "3   GP     F   15  U       LE3     T       1    1    at_home  other    ...\n",
       "4   GP     F   15  U       GT3     T       4    2    health   services ...\n",
       "5   GP     F   16  U       GT3     T       3    3    other    other    ...\n",
       "6   GP     M   16  U       LE3     T       4    3    services other    ...\n",
       "7   GP     M   16  U       LE3     T       2    2    other    other    ...\n",
       "8   GP     F   17  U       GT3     A       4    4    other    teacher  ...\n",
       "9   GP     M   15  U       LE3     A       3    2    services other    ...\n",
       "10  GP     M   15  U       GT3     T       3    4    other    other    ...\n",
       "11  GP     F   15  U       GT3     T       4    4    teacher  health   ...\n",
       "12  GP     F   15  U       GT3     T       2    1    services other    ...\n",
       "13  GP     M   15  U       LE3     T       4    4    health   services ...\n",
       "14  GP     M   15  U       GT3     T       4    3    teacher  other    ...\n",
       "15  GP     M   15  U       GT3     A       2    2    other    other    ...\n",
       "16  GP     F   16  U       GT3     T       4    4    health   other    ...\n",
       "17  GP     F   16  U       GT3     T       4    4    services services ...\n",
       "18  GP     F   16  U       GT3     T       3    3    other    other    ...\n",
       "19  GP     M   17  U       GT3     T       3    2    services services ...\n",
       "20  GP     M   16  U       LE3     T       4    3    health   other    ...\n",
       "21  GP     M   15  U       GT3     T       4    3    teacher  other    ...\n",
       "22  GP     M   15  U       GT3     T       4    4    health   health   ...\n",
       "23  GP     M   16  U       LE3     T       4    2    teacher  other    ...\n",
       "24  GP     M   16  U       LE3     T       2    2    other    other    ...\n",
       "25  GP     F   15  R       GT3     T       2    4    services health   ...\n",
       "26  GP     F   16  U       GT3     T       2    2    services services ...\n",
       "27  GP     M   15  U       GT3     T       2    2    other    other    ...\n",
       "28  GP     M   15  U       GT3     T       4    2    health   services ...\n",
       "29  GP     M   16  U       LE3     A       3    4    services other    ...\n",
       "30  GP     M   16  U       GT3     T       4    4    teacher  teacher  ...\n",
       "... ...    ... ... ...     ...     ...     ...  ...  ...      ...         \n",
       "366 MS     M   18  R       GT3     T       1    3    at_home  other    ...\n",
       "367 MS     M   18  U       LE3     T       4    4    teacher  services ...\n",
       "368 MS     F   17  R       GT3     T       1    1    other    services ...\n",
       "369 MS     F   18  U       GT3     T       2    3    at_home  services ...\n",
       "370 MS     F   18  R       GT3     T       4    4    other    teacher  ...\n",
       "371 MS     F   19  U       LE3     T       3    2    services services ...\n",
       "372 MS     M   18  R       LE3     T       1    2    at_home  services ...\n",
       "373 MS     F   17  U       GT3     T       2    2    other    at_home  ...\n",
       "374 MS     F   17  R       GT3     T       1    2    other    other    ...\n",
       "375 MS     F   18  R       LE3     T       4    4    other    other    ...\n",
       "376 MS     F   18  R       GT3     T       1    1    other    other    ...\n",
       "377 MS     F   20  U       GT3     T       4    2    health   other    ...\n",
       "378 MS     F   18  R       LE3     T       4    4    teacher  services ...\n",
       "379 MS     F   18  U       GT3     T       3    3    other    other    ...\n",
       "380 MS     F   17  R       GT3     T       3    1    at_home  other    ...\n",
       "381 MS     M   18  U       GT3     T       4    4    teacher  teacher  ...\n",
       "382 MS     M   18  R       GT3     T       2    1    other    other    ...\n",
       "383 MS     M   17  U       GT3     T       2    3    other    services ...\n",
       "384 MS     M   19  R       GT3     T       1    1    other    services ...\n",
       "385 MS     M   18  R       GT3     T       4    2    other    other    ...\n",
       "386 MS     F   18  R       GT3     T       2    2    at_home  other    ...\n",
       "387 MS     F   18  R       GT3     T       4    4    teacher  at_home  ...\n",
       "388 MS     F   19  R       GT3     T       2    3    services other    ...\n",
       "389 MS     F   18  U       LE3     T       3    1    teacher  services ...\n",
       "390 MS     F   18  U       GT3     T       1    1    other    other    ...\n",
       "391 MS     M   20  U       LE3     A       2    2    services services ...\n",
       "392 MS     M   17  U       LE3     T       3    1    services services ...\n",
       "393 MS     M   21  R       GT3     T       1    1    other    other    ...\n",
       "394 MS     M   18  R       LE3     T       3    2    services other    ...\n",
       "395 MS     M   19  U       LE3     T       1    1    other    at_home  ...\n",
       "    famrel freetime goout Dalc Walc health absences G1  G2  G3 \n",
       "1   4      3        4     1    1    3       6        5   6   6 \n",
       "2   5      3        3     1    1    3       4        5   5   6 \n",
       "3   4      3        2     2    3    3      10        7   8  10 \n",
       "4   3      2        2     1    1    5       2       15  14  15 \n",
       "5   4      3        2     1    2    5       4        6  10  10 \n",
       "6   5      4        2     1    2    5      10       15  15  15 \n",
       "7   4      4        4     1    1    3       0       12  12  11 \n",
       "8   4      1        4     1    1    1       6        6   5   6 \n",
       "9   4      2        2     1    1    1       0       16  18  19 \n",
       "10  5      5        1     1    1    5       0       14  15  15 \n",
       "11  3      3        3     1    2    2       0       10   8   9 \n",
       "12  5      2        2     1    1    4       4       10  12  12 \n",
       "13  4      3        3     1    3    5       2       14  14  14 \n",
       "14  5      4        3     1    2    3       2       10  10  11 \n",
       "15  4      5        2     1    1    3       0       14  16  16 \n",
       "16  4      4        4     1    2    2       4       14  14  14 \n",
       "17  3      2        3     1    2    2       6       13  14  14 \n",
       "18  5      3        2     1    1    4       4        8  10  10 \n",
       "19  5      5        5     2    4    5      16        6   5   5 \n",
       "20  3      1        3     1    3    5       4        8  10  10 \n",
       "21  4      4        1     1    1    1       0       13  14  15 \n",
       "22  5      4        2     1    1    5       0       12  15  15 \n",
       "23  4      5        1     1    3    5       2       15  15  16 \n",
       "24  5      4        4     2    4    5       0       13  13  12 \n",
       "25  4      3        2     1    1    5       2       10   9   8 \n",
       "26  1      2        2     1    3    5      14        6   9   8 \n",
       "27  4      2        2     1    2    5       2       12  12  11 \n",
       "28  2      2        4     2    4    1       4       15  16  15 \n",
       "29  5      3        3     1    1    5       4       11  11  11 \n",
       "30  4      4        5     5    5    5      16       10  12  11 \n",
       "... ...    ...      ...   ...  ...  ...    ...      ... ... ...\n",
       "366 3      3        4     2    4    3       4       10  10  10 \n",
       "367 4      2        2     2    2    5       0       13  13  13 \n",
       "368 5      2        1     1    2    1       0        7   6   0 \n",
       "369 5      2        3     1    2    4       0       11  10  10 \n",
       "370 3      2        2     4    2    5      10       14  12  11 \n",
       "371 3      2        2     1    1    3       4        7   7   9 \n",
       "372 4      3        3     2    3    3       3       14  12  12 \n",
       "373 3      4        3     1    1    3       8       13  11  11 \n",
       "374 3      5        5     1    3    1      14        6   5   5 \n",
       "375 5      4        4     1    1    1       0       19  18  19 \n",
       "376 4      3        2     1    2    4       2        8   8  10 \n",
       "377 5      4        3     1    1    3       4       15  14  15 \n",
       "378 5      4        3     3    4    2       4        8   9  10 \n",
       "379 4      1        3     1    2    1       0       15  15  15 \n",
       "380 4      5        4     2    3    1      17       10  10  10 \n",
       "381 3      2        4     1    4    2       4       15  14  14 \n",
       "382 4      4        3     1    3    5       5        7   6   7 \n",
       "383 4      4        3     1    1    3       2       11  11  10 \n",
       "384 4      3        2     1    3    5       0        6   5   0 \n",
       "385 5      4        3     4    3    3      14        6   5   5 \n",
       "386 5      3        3     1    3    4       2       10   9  10 \n",
       "387 4      4        3     2    2    5       7        6   5   6 \n",
       "388 5      4        2     1    2    5       0        7   5   0 \n",
       "389 4      3        4     1    1    1       0        7   9   8 \n",
       "390 1      1        1     1    1    5       0        6   5   0 \n",
       "391 5      5        4     4    5    4      11        9   9   9 \n",
       "392 2      4        5     3    4    2       3       14  16  16 \n",
       "393 5      5        3     3    3    3       3       10   8   7 \n",
       "394 4      4        1     3    4    5       0       11  12  10 \n",
       "395 3      2        3     3    3    5       5        8   9   9 "
      ]
     },
     "metadata": {},
     "output_type": "display_data"
    }
   ],
   "source": [
    "d1<-read.csv('student-mat.csv', header=TRUE, stringsAsFactors = FALSE)\n",
    "\n",
    "d1"
   ]
  },
  {
   "cell_type": "code",
   "execution_count": 11,
   "metadata": {},
   "outputs": [
    {
     "data": {
      "text/html": [
       "<table>\n",
       "<caption>A data.frame: 649 × 33</caption>\n",
       "<thead>\n",
       "\t<tr><th scope=col>school</th><th scope=col>sex</th><th scope=col>age</th><th scope=col>address</th><th scope=col>famsize</th><th scope=col>Pstatus</th><th scope=col>Medu</th><th scope=col>Fedu</th><th scope=col>Mjob</th><th scope=col>Fjob</th><th scope=col>...</th><th scope=col>famrel</th><th scope=col>freetime</th><th scope=col>goout</th><th scope=col>Dalc</th><th scope=col>Walc</th><th scope=col>health</th><th scope=col>absences</th><th scope=col>G1</th><th scope=col>G2</th><th scope=col>G3</th></tr>\n",
       "\t<tr><th scope=col>&lt;chr&gt;</th><th scope=col>&lt;chr&gt;</th><th scope=col>&lt;int&gt;</th><th scope=col>&lt;chr&gt;</th><th scope=col>&lt;chr&gt;</th><th scope=col>&lt;chr&gt;</th><th scope=col>&lt;int&gt;</th><th scope=col>&lt;int&gt;</th><th scope=col>&lt;chr&gt;</th><th scope=col>&lt;chr&gt;</th><th scope=col>...</th><th scope=col>&lt;int&gt;</th><th scope=col>&lt;int&gt;</th><th scope=col>&lt;int&gt;</th><th scope=col>&lt;int&gt;</th><th scope=col>&lt;int&gt;</th><th scope=col>&lt;int&gt;</th><th scope=col>&lt;int&gt;</th><th scope=col>&lt;int&gt;</th><th scope=col>&lt;int&gt;</th><th scope=col>&lt;int&gt;</th></tr>\n",
       "</thead>\n",
       "<tbody>\n",
       "\t<tr><td>GP</td><td>F</td><td>18</td><td>U</td><td>GT3</td><td>A</td><td>4</td><td>4</td><td>at_home </td><td>teacher </td><td>...</td><td>4</td><td>3</td><td>4</td><td>1</td><td>1</td><td>3</td><td> 4</td><td> 0</td><td>11</td><td>11</td></tr>\n",
       "\t<tr><td>GP</td><td>F</td><td>17</td><td>U</td><td>GT3</td><td>T</td><td>1</td><td>1</td><td>at_home </td><td>other   </td><td>...</td><td>5</td><td>3</td><td>3</td><td>1</td><td>1</td><td>3</td><td> 2</td><td> 9</td><td>11</td><td>11</td></tr>\n",
       "\t<tr><td>GP</td><td>F</td><td>15</td><td>U</td><td>LE3</td><td>T</td><td>1</td><td>1</td><td>at_home </td><td>other   </td><td>...</td><td>4</td><td>3</td><td>2</td><td>2</td><td>3</td><td>3</td><td> 6</td><td>12</td><td>13</td><td>12</td></tr>\n",
       "\t<tr><td>GP</td><td>F</td><td>15</td><td>U</td><td>GT3</td><td>T</td><td>4</td><td>2</td><td>health  </td><td>services</td><td>...</td><td>3</td><td>2</td><td>2</td><td>1</td><td>1</td><td>5</td><td> 0</td><td>14</td><td>14</td><td>14</td></tr>\n",
       "\t<tr><td>GP</td><td>F</td><td>16</td><td>U</td><td>GT3</td><td>T</td><td>3</td><td>3</td><td>other   </td><td>other   </td><td>...</td><td>4</td><td>3</td><td>2</td><td>1</td><td>2</td><td>5</td><td> 0</td><td>11</td><td>13</td><td>13</td></tr>\n",
       "\t<tr><td>GP</td><td>M</td><td>16</td><td>U</td><td>LE3</td><td>T</td><td>4</td><td>3</td><td>services</td><td>other   </td><td>...</td><td>5</td><td>4</td><td>2</td><td>1</td><td>2</td><td>5</td><td> 6</td><td>12</td><td>12</td><td>13</td></tr>\n",
       "\t<tr><td>GP</td><td>M</td><td>16</td><td>U</td><td>LE3</td><td>T</td><td>2</td><td>2</td><td>other   </td><td>other   </td><td>...</td><td>4</td><td>4</td><td>4</td><td>1</td><td>1</td><td>3</td><td> 0</td><td>13</td><td>12</td><td>13</td></tr>\n",
       "\t<tr><td>GP</td><td>F</td><td>17</td><td>U</td><td>GT3</td><td>A</td><td>4</td><td>4</td><td>other   </td><td>teacher </td><td>...</td><td>4</td><td>1</td><td>4</td><td>1</td><td>1</td><td>1</td><td> 2</td><td>10</td><td>13</td><td>13</td></tr>\n",
       "\t<tr><td>GP</td><td>M</td><td>15</td><td>U</td><td>LE3</td><td>A</td><td>3</td><td>2</td><td>services</td><td>other   </td><td>...</td><td>4</td><td>2</td><td>2</td><td>1</td><td>1</td><td>1</td><td> 0</td><td>15</td><td>16</td><td>17</td></tr>\n",
       "\t<tr><td>GP</td><td>M</td><td>15</td><td>U</td><td>GT3</td><td>T</td><td>3</td><td>4</td><td>other   </td><td>other   </td><td>...</td><td>5</td><td>5</td><td>1</td><td>1</td><td>1</td><td>5</td><td> 0</td><td>12</td><td>12</td><td>13</td></tr>\n",
       "\t<tr><td>GP</td><td>F</td><td>15</td><td>U</td><td>GT3</td><td>T</td><td>4</td><td>4</td><td>teacher </td><td>health  </td><td>...</td><td>3</td><td>3</td><td>3</td><td>1</td><td>2</td><td>2</td><td> 2</td><td>14</td><td>14</td><td>14</td></tr>\n",
       "\t<tr><td>GP</td><td>F</td><td>15</td><td>U</td><td>GT3</td><td>T</td><td>2</td><td>1</td><td>services</td><td>other   </td><td>...</td><td>5</td><td>2</td><td>2</td><td>1</td><td>1</td><td>4</td><td> 0</td><td>10</td><td>12</td><td>13</td></tr>\n",
       "\t<tr><td>GP</td><td>M</td><td>15</td><td>U</td><td>LE3</td><td>T</td><td>4</td><td>4</td><td>health  </td><td>services</td><td>...</td><td>4</td><td>3</td><td>3</td><td>1</td><td>3</td><td>5</td><td> 0</td><td>12</td><td>13</td><td>12</td></tr>\n",
       "\t<tr><td>GP</td><td>M</td><td>15</td><td>U</td><td>GT3</td><td>T</td><td>4</td><td>3</td><td>teacher </td><td>other   </td><td>...</td><td>5</td><td>4</td><td>3</td><td>1</td><td>2</td><td>3</td><td> 0</td><td>12</td><td>12</td><td>13</td></tr>\n",
       "\t<tr><td>GP</td><td>M</td><td>15</td><td>U</td><td>GT3</td><td>A</td><td>2</td><td>2</td><td>other   </td><td>other   </td><td>...</td><td>4</td><td>5</td><td>2</td><td>1</td><td>1</td><td>3</td><td> 0</td><td>14</td><td>14</td><td>15</td></tr>\n",
       "\t<tr><td>GP</td><td>F</td><td>16</td><td>U</td><td>GT3</td><td>T</td><td>4</td><td>4</td><td>health  </td><td>other   </td><td>...</td><td>4</td><td>4</td><td>4</td><td>1</td><td>2</td><td>2</td><td> 6</td><td>17</td><td>17</td><td>17</td></tr>\n",
       "\t<tr><td>GP</td><td>F</td><td>16</td><td>U</td><td>GT3</td><td>T</td><td>4</td><td>4</td><td>services</td><td>services</td><td>...</td><td>3</td><td>2</td><td>3</td><td>1</td><td>2</td><td>2</td><td>10</td><td>13</td><td>13</td><td>14</td></tr>\n",
       "\t<tr><td>GP</td><td>F</td><td>16</td><td>U</td><td>GT3</td><td>T</td><td>3</td><td>3</td><td>other   </td><td>other   </td><td>...</td><td>5</td><td>3</td><td>2</td><td>1</td><td>1</td><td>4</td><td> 2</td><td>13</td><td>14</td><td>14</td></tr>\n",
       "\t<tr><td>GP</td><td>M</td><td>17</td><td>U</td><td>GT3</td><td>T</td><td>3</td><td>2</td><td>services</td><td>services</td><td>...</td><td>5</td><td>5</td><td>5</td><td>2</td><td>4</td><td>5</td><td> 2</td><td> 8</td><td> 8</td><td> 7</td></tr>\n",
       "\t<tr><td>GP</td><td>M</td><td>16</td><td>U</td><td>LE3</td><td>T</td><td>4</td><td>3</td><td>health  </td><td>other   </td><td>...</td><td>3</td><td>1</td><td>3</td><td>1</td><td>3</td><td>5</td><td> 6</td><td>12</td><td>12</td><td>12</td></tr>\n",
       "\t<tr><td>GP</td><td>M</td><td>15</td><td>U</td><td>GT3</td><td>T</td><td>4</td><td>3</td><td>teacher </td><td>other   </td><td>...</td><td>4</td><td>4</td><td>1</td><td>1</td><td>1</td><td>1</td><td> 0</td><td>12</td><td>13</td><td>14</td></tr>\n",
       "\t<tr><td>GP</td><td>M</td><td>15</td><td>U</td><td>GT3</td><td>T</td><td>4</td><td>4</td><td>health  </td><td>health  </td><td>...</td><td>5</td><td>4</td><td>2</td><td>1</td><td>1</td><td>5</td><td> 0</td><td>11</td><td>12</td><td>12</td></tr>\n",
       "\t<tr><td>GP</td><td>M</td><td>16</td><td>U</td><td>LE3</td><td>T</td><td>4</td><td>2</td><td>teacher </td><td>other   </td><td>...</td><td>4</td><td>5</td><td>1</td><td>1</td><td>3</td><td>5</td><td> 0</td><td>12</td><td>13</td><td>14</td></tr>\n",
       "\t<tr><td>GP</td><td>M</td><td>16</td><td>U</td><td>LE3</td><td>T</td><td>2</td><td>2</td><td>other   </td><td>other   </td><td>...</td><td>5</td><td>4</td><td>4</td><td>2</td><td>4</td><td>5</td><td> 2</td><td>10</td><td>10</td><td>10</td></tr>\n",
       "\t<tr><td>GP</td><td>F</td><td>15</td><td>R</td><td>GT3</td><td>T</td><td>2</td><td>4</td><td>services</td><td>health  </td><td>...</td><td>4</td><td>3</td><td>2</td><td>1</td><td>1</td><td>5</td><td> 2</td><td>10</td><td>11</td><td>10</td></tr>\n",
       "\t<tr><td>GP</td><td>F</td><td>16</td><td>U</td><td>GT3</td><td>T</td><td>2</td><td>2</td><td>services</td><td>services</td><td>...</td><td>1</td><td>2</td><td>2</td><td>1</td><td>3</td><td>5</td><td> 6</td><td>10</td><td>11</td><td>12</td></tr>\n",
       "\t<tr><td>GP</td><td>M</td><td>15</td><td>U</td><td>GT3</td><td>T</td><td>2</td><td>2</td><td>other   </td><td>other   </td><td>...</td><td>4</td><td>2</td><td>2</td><td>1</td><td>2</td><td>5</td><td> 8</td><td>11</td><td>12</td><td>12</td></tr>\n",
       "\t<tr><td>GP</td><td>M</td><td>15</td><td>U</td><td>GT3</td><td>T</td><td>4</td><td>2</td><td>health  </td><td>services</td><td>...</td><td>2</td><td>2</td><td>4</td><td>2</td><td>4</td><td>1</td><td> 0</td><td>11</td><td>11</td><td>11</td></tr>\n",
       "\t<tr><td>GP</td><td>M</td><td>16</td><td>U</td><td>LE3</td><td>A</td><td>3</td><td>4</td><td>services</td><td>other   </td><td>...</td><td>5</td><td>3</td><td>3</td><td>1</td><td>1</td><td>5</td><td> 2</td><td>12</td><td>12</td><td>13</td></tr>\n",
       "\t<tr><td>GP</td><td>M</td><td>16</td><td>U</td><td>GT3</td><td>T</td><td>4</td><td>4</td><td>teacher </td><td>teacher </td><td>...</td><td>4</td><td>4</td><td>5</td><td>5</td><td>5</td><td>5</td><td> 4</td><td>12</td><td>11</td><td>12</td></tr>\n",
       "\t<tr><td>...</td><td>...</td><td>...</td><td>...</td><td>...</td><td>...</td><td>...</td><td>...</td><td>...</td><td>...</td><td></td><td>...</td><td>...</td><td>...</td><td>...</td><td>...</td><td>...</td><td>...</td><td>...</td><td>...</td><td>...</td></tr>\n",
       "\t<tr><td>MS</td><td>F</td><td>18</td><td>U</td><td>GT3</td><td>T</td><td>3</td><td>3</td><td>services</td><td>services</td><td>...</td><td>4</td><td>3</td><td>2</td><td>1</td><td>3</td><td>3</td><td> 6</td><td>13</td><td>12</td><td>13</td></tr>\n",
       "\t<tr><td>MS</td><td>F</td><td>17</td><td>U</td><td>LE3</td><td>T</td><td>4</td><td>4</td><td>at_home </td><td>at_home </td><td>...</td><td>2</td><td>3</td><td>4</td><td>1</td><td>1</td><td>1</td><td> 4</td><td>15</td><td>14</td><td>15</td></tr>\n",
       "\t<tr><td>MS</td><td>F</td><td>17</td><td>R</td><td>GT3</td><td>T</td><td>1</td><td>2</td><td>other   </td><td>services</td><td>...</td><td>3</td><td>2</td><td>2</td><td>1</td><td>2</td><td>3</td><td> 0</td><td>13</td><td>13</td><td>13</td></tr>\n",
       "\t<tr><td>MS</td><td>M</td><td>18</td><td>R</td><td>GT3</td><td>T</td><td>1</td><td>3</td><td>at_home </td><td>other   </td><td>...</td><td>3</td><td>3</td><td>4</td><td>2</td><td>4</td><td>3</td><td> 0</td><td> 8</td><td>10</td><td> 9</td></tr>\n",
       "\t<tr><td>MS</td><td>M</td><td>18</td><td>U</td><td>LE3</td><td>T</td><td>4</td><td>4</td><td>teacher </td><td>services</td><td>...</td><td>4</td><td>2</td><td>2</td><td>2</td><td>2</td><td>5</td><td> 0</td><td>15</td><td>16</td><td>16</td></tr>\n",
       "\t<tr><td>MS</td><td>F</td><td>17</td><td>R</td><td>GT3</td><td>T</td><td>1</td><td>1</td><td>other   </td><td>services</td><td>...</td><td>5</td><td>2</td><td>1</td><td>1</td><td>2</td><td>1</td><td> 0</td><td> 8</td><td> 8</td><td> 9</td></tr>\n",
       "\t<tr><td>MS</td><td>F</td><td>18</td><td>U</td><td>GT3</td><td>T</td><td>2</td><td>3</td><td>at_home </td><td>services</td><td>...</td><td>5</td><td>2</td><td>3</td><td>1</td><td>2</td><td>4</td><td> 0</td><td>10</td><td>10</td><td>10</td></tr>\n",
       "\t<tr><td>MS</td><td>F</td><td>18</td><td>R</td><td>GT3</td><td>T</td><td>4</td><td>4</td><td>other   </td><td>teacher </td><td>...</td><td>3</td><td>2</td><td>2</td><td>4</td><td>2</td><td>5</td><td> 0</td><td> 7</td><td> 5</td><td> 0</td></tr>\n",
       "\t<tr><td>MS</td><td>M</td><td>18</td><td>R</td><td>LE3</td><td>T</td><td>1</td><td>2</td><td>at_home </td><td>services</td><td>...</td><td>4</td><td>3</td><td>3</td><td>2</td><td>3</td><td>3</td><td> 3</td><td> 9</td><td>10</td><td>10</td></tr>\n",
       "\t<tr><td>MS</td><td>F</td><td>17</td><td>U</td><td>GT3</td><td>T</td><td>2</td><td>2</td><td>other   </td><td>at_home </td><td>...</td><td>3</td><td>4</td><td>3</td><td>1</td><td>1</td><td>3</td><td> 8</td><td>10</td><td>11</td><td>12</td></tr>\n",
       "\t<tr><td>MS</td><td>F</td><td>17</td><td>R</td><td>GT3</td><td>T</td><td>1</td><td>2</td><td>other   </td><td>other   </td><td>...</td><td>3</td><td>5</td><td>5</td><td>1</td><td>3</td><td>1</td><td> 4</td><td> 7</td><td> 8</td><td> 9</td></tr>\n",
       "\t<tr><td>MS</td><td>F</td><td>18</td><td>R</td><td>LE3</td><td>T</td><td>4</td><td>4</td><td>other   </td><td>other   </td><td>...</td><td>5</td><td>4</td><td>4</td><td>1</td><td>1</td><td>1</td><td> 0</td><td>15</td><td>17</td><td>17</td></tr>\n",
       "\t<tr><td>MS</td><td>F</td><td>18</td><td>R</td><td>GT3</td><td>T</td><td>1</td><td>1</td><td>other   </td><td>other   </td><td>...</td><td>4</td><td>3</td><td>2</td><td>1</td><td>2</td><td>4</td><td> 4</td><td>10</td><td>11</td><td>12</td></tr>\n",
       "\t<tr><td>MS</td><td>F</td><td>19</td><td>R</td><td>GT3</td><td>T</td><td>1</td><td>1</td><td>at_home </td><td>other   </td><td>...</td><td>4</td><td>3</td><td>3</td><td>1</td><td>1</td><td>3</td><td> 4</td><td> 7</td><td> 8</td><td> 9</td></tr>\n",
       "\t<tr><td>MS</td><td>F</td><td>18</td><td>R</td><td>LE3</td><td>T</td><td>4</td><td>4</td><td>teacher </td><td>services</td><td>...</td><td>5</td><td>4</td><td>3</td><td>3</td><td>4</td><td>2</td><td> 1</td><td>13</td><td>14</td><td>14</td></tr>\n",
       "\t<tr><td>MS</td><td>F</td><td>18</td><td>U</td><td>GT3</td><td>T</td><td>3</td><td>3</td><td>other   </td><td>other   </td><td>...</td><td>4</td><td>1</td><td>3</td><td>1</td><td>2</td><td>1</td><td> 1</td><td>16</td><td>16</td><td>16</td></tr>\n",
       "\t<tr><td>MS</td><td>F</td><td>17</td><td>R</td><td>GT3</td><td>T</td><td>3</td><td>1</td><td>at_home </td><td>other   </td><td>...</td><td>4</td><td>5</td><td>4</td><td>2</td><td>3</td><td>1</td><td>10</td><td> 8</td><td> 9</td><td> 9</td></tr>\n",
       "\t<tr><td>MS</td><td>M</td><td>18</td><td>U</td><td>GT3</td><td>T</td><td>4</td><td>4</td><td>teacher </td><td>teacher </td><td>...</td><td>3</td><td>2</td><td>4</td><td>1</td><td>4</td><td>2</td><td> 4</td><td>17</td><td>18</td><td>19</td></tr>\n",
       "\t<tr><td>MS</td><td>M</td><td>18</td><td>R</td><td>GT3</td><td>T</td><td>2</td><td>1</td><td>other   </td><td>other   </td><td>...</td><td>4</td><td>4</td><td>3</td><td>1</td><td>3</td><td>5</td><td> 0</td><td> 7</td><td> 7</td><td> 0</td></tr>\n",
       "\t<tr><td>MS</td><td>M</td><td>17</td><td>U</td><td>GT3</td><td>T</td><td>2</td><td>3</td><td>other   </td><td>services</td><td>...</td><td>4</td><td>4</td><td>3</td><td>1</td><td>1</td><td>3</td><td> 4</td><td>14</td><td>15</td><td>16</td></tr>\n",
       "\t<tr><td>MS</td><td>M</td><td>19</td><td>R</td><td>GT3</td><td>T</td><td>1</td><td>1</td><td>other   </td><td>services</td><td>...</td><td>4</td><td>3</td><td>2</td><td>1</td><td>3</td><td>5</td><td> 0</td><td> 5</td><td> 8</td><td> 0</td></tr>\n",
       "\t<tr><td>MS</td><td>M</td><td>18</td><td>R</td><td>GT3</td><td>T</td><td>4</td><td>2</td><td>other   </td><td>other   </td><td>...</td><td>5</td><td>4</td><td>3</td><td>4</td><td>3</td><td>3</td><td> 0</td><td> 7</td><td> 7</td><td> 0</td></tr>\n",
       "\t<tr><td>MS</td><td>F</td><td>18</td><td>R</td><td>GT3</td><td>T</td><td>2</td><td>2</td><td>at_home </td><td>other   </td><td>...</td><td>5</td><td>3</td><td>3</td><td>1</td><td>3</td><td>4</td><td> 0</td><td>14</td><td>17</td><td>15</td></tr>\n",
       "\t<tr><td>MS</td><td>F</td><td>17</td><td>U</td><td>GT3</td><td>T</td><td>4</td><td>3</td><td>teacher </td><td>other   </td><td>...</td><td>5</td><td>5</td><td>4</td><td>1</td><td>1</td><td>1</td><td> 0</td><td> 6</td><td> 9</td><td>11</td></tr>\n",
       "\t<tr><td>MS</td><td>F</td><td>18</td><td>R</td><td>GT3</td><td>T</td><td>4</td><td>4</td><td>teacher </td><td>at_home </td><td>...</td><td>4</td><td>4</td><td>3</td><td>2</td><td>2</td><td>5</td><td> 4</td><td> 7</td><td> 9</td><td>10</td></tr>\n",
       "\t<tr><td>MS</td><td>F</td><td>19</td><td>R</td><td>GT3</td><td>T</td><td>2</td><td>3</td><td>services</td><td>other   </td><td>...</td><td>5</td><td>4</td><td>2</td><td>1</td><td>2</td><td>5</td><td> 4</td><td>10</td><td>11</td><td>10</td></tr>\n",
       "\t<tr><td>MS</td><td>F</td><td>18</td><td>U</td><td>LE3</td><td>T</td><td>3</td><td>1</td><td>teacher </td><td>services</td><td>...</td><td>4</td><td>3</td><td>4</td><td>1</td><td>1</td><td>1</td><td> 4</td><td>15</td><td>15</td><td>16</td></tr>\n",
       "\t<tr><td>MS</td><td>F</td><td>18</td><td>U</td><td>GT3</td><td>T</td><td>1</td><td>1</td><td>other   </td><td>other   </td><td>...</td><td>1</td><td>1</td><td>1</td><td>1</td><td>1</td><td>5</td><td> 6</td><td>11</td><td>12</td><td> 9</td></tr>\n",
       "\t<tr><td>MS</td><td>M</td><td>17</td><td>U</td><td>LE3</td><td>T</td><td>3</td><td>1</td><td>services</td><td>services</td><td>...</td><td>2</td><td>4</td><td>5</td><td>3</td><td>4</td><td>2</td><td> 6</td><td>10</td><td>10</td><td>10</td></tr>\n",
       "\t<tr><td>MS</td><td>M</td><td>18</td><td>R</td><td>LE3</td><td>T</td><td>3</td><td>2</td><td>services</td><td>other   </td><td>...</td><td>4</td><td>4</td><td>1</td><td>3</td><td>4</td><td>5</td><td> 4</td><td>10</td><td>11</td><td>11</td></tr>\n",
       "</tbody>\n",
       "</table>\n"
      ],
      "text/latex": [
       "A data.frame: 649 × 33\n",
       "\\begin{tabular}{r|lllllllllllllllllllllllllllllllll}\n",
       " school & sex & age & address & famsize & Pstatus & Medu & Fedu & Mjob & Fjob & reason & guardian & traveltime & studytime & failures & schoolsup & famsup & paid & activities & nursery & higher & internet & romantic & famrel & freetime & goout & Dalc & Walc & health & absences & G1 & G2 & G3\\\\\n",
       " <chr> & <chr> & <int> & <chr> & <chr> & <chr> & <int> & <int> & <chr> & <chr> & <chr> & <chr> & <int> & <int> & <int> & <chr> & <chr> & <chr> & <chr> & <chr> & <chr> & <chr> & <chr> & <int> & <int> & <int> & <int> & <int> & <int> & <int> & <int> & <int> & <int>\\\\\n",
       "\\hline\n",
       "\t GP & F & 18 & U & GT3 & A & 4 & 4 & at\\_home  & teacher  & course     & mother & 2 & 2 & 0 & yes & no  & no  & no  & yes & yes & no  & no  & 4 & 3 & 4 & 1 & 1 & 3 &  4 &  0 & 11 & 11\\\\\n",
       "\t GP & F & 17 & U & GT3 & T & 1 & 1 & at\\_home  & other    & course     & father & 1 & 2 & 0 & no  & yes & no  & no  & no  & yes & yes & no  & 5 & 3 & 3 & 1 & 1 & 3 &  2 &  9 & 11 & 11\\\\\n",
       "\t GP & F & 15 & U & LE3 & T & 1 & 1 & at\\_home  & other    & other      & mother & 1 & 2 & 0 & yes & no  & no  & no  & yes & yes & yes & no  & 4 & 3 & 2 & 2 & 3 & 3 &  6 & 12 & 13 & 12\\\\\n",
       "\t GP & F & 15 & U & GT3 & T & 4 & 2 & health   & services & home       & mother & 1 & 3 & 0 & no  & yes & no  & yes & yes & yes & yes & yes & 3 & 2 & 2 & 1 & 1 & 5 &  0 & 14 & 14 & 14\\\\\n",
       "\t GP & F & 16 & U & GT3 & T & 3 & 3 & other    & other    & home       & father & 1 & 2 & 0 & no  & yes & no  & no  & yes & yes & no  & no  & 4 & 3 & 2 & 1 & 2 & 5 &  0 & 11 & 13 & 13\\\\\n",
       "\t GP & M & 16 & U & LE3 & T & 4 & 3 & services & other    & reputation & mother & 1 & 2 & 0 & no  & yes & no  & yes & yes & yes & yes & no  & 5 & 4 & 2 & 1 & 2 & 5 &  6 & 12 & 12 & 13\\\\\n",
       "\t GP & M & 16 & U & LE3 & T & 2 & 2 & other    & other    & home       & mother & 1 & 2 & 0 & no  & no  & no  & no  & yes & yes & yes & no  & 4 & 4 & 4 & 1 & 1 & 3 &  0 & 13 & 12 & 13\\\\\n",
       "\t GP & F & 17 & U & GT3 & A & 4 & 4 & other    & teacher  & home       & mother & 2 & 2 & 0 & yes & yes & no  & no  & yes & yes & no  & no  & 4 & 1 & 4 & 1 & 1 & 1 &  2 & 10 & 13 & 13\\\\\n",
       "\t GP & M & 15 & U & LE3 & A & 3 & 2 & services & other    & home       & mother & 1 & 2 & 0 & no  & yes & no  & no  & yes & yes & yes & no  & 4 & 2 & 2 & 1 & 1 & 1 &  0 & 15 & 16 & 17\\\\\n",
       "\t GP & M & 15 & U & GT3 & T & 3 & 4 & other    & other    & home       & mother & 1 & 2 & 0 & no  & yes & no  & yes & yes & yes & yes & no  & 5 & 5 & 1 & 1 & 1 & 5 &  0 & 12 & 12 & 13\\\\\n",
       "\t GP & F & 15 & U & GT3 & T & 4 & 4 & teacher  & health   & reputation & mother & 1 & 2 & 0 & no  & yes & no  & no  & yes & yes & yes & no  & 3 & 3 & 3 & 1 & 2 & 2 &  2 & 14 & 14 & 14\\\\\n",
       "\t GP & F & 15 & U & GT3 & T & 2 & 1 & services & other    & reputation & father & 3 & 3 & 0 & no  & yes & no  & yes & yes & yes & yes & no  & 5 & 2 & 2 & 1 & 1 & 4 &  0 & 10 & 12 & 13\\\\\n",
       "\t GP & M & 15 & U & LE3 & T & 4 & 4 & health   & services & course     & father & 1 & 1 & 0 & no  & yes & no  & yes & yes & yes & yes & no  & 4 & 3 & 3 & 1 & 3 & 5 &  0 & 12 & 13 & 12\\\\\n",
       "\t GP & M & 15 & U & GT3 & T & 4 & 3 & teacher  & other    & course     & mother & 2 & 2 & 0 & no  & yes & no  & no  & yes & yes & yes & no  & 5 & 4 & 3 & 1 & 2 & 3 &  0 & 12 & 12 & 13\\\\\n",
       "\t GP & M & 15 & U & GT3 & A & 2 & 2 & other    & other    & home       & other  & 1 & 3 & 0 & no  & yes & no  & no  & yes & yes & yes & yes & 4 & 5 & 2 & 1 & 1 & 3 &  0 & 14 & 14 & 15\\\\\n",
       "\t GP & F & 16 & U & GT3 & T & 4 & 4 & health   & other    & home       & mother & 1 & 1 & 0 & no  & yes & no  & no  & yes & yes & yes & no  & 4 & 4 & 4 & 1 & 2 & 2 &  6 & 17 & 17 & 17\\\\\n",
       "\t GP & F & 16 & U & GT3 & T & 4 & 4 & services & services & reputation & mother & 1 & 3 & 0 & no  & yes & no  & yes & yes & yes & yes & no  & 3 & 2 & 3 & 1 & 2 & 2 & 10 & 13 & 13 & 14\\\\\n",
       "\t GP & F & 16 & U & GT3 & T & 3 & 3 & other    & other    & reputation & mother & 3 & 2 & 0 & yes & yes & no  & yes & yes & yes & no  & no  & 5 & 3 & 2 & 1 & 1 & 4 &  2 & 13 & 14 & 14\\\\\n",
       "\t GP & M & 17 & U & GT3 & T & 3 & 2 & services & services & course     & mother & 1 & 1 & 3 & no  & yes & yes & yes & yes & yes & yes & no  & 5 & 5 & 5 & 2 & 4 & 5 &  2 &  8 &  8 &  7\\\\\n",
       "\t GP & M & 16 & U & LE3 & T & 4 & 3 & health   & other    & home       & father & 1 & 1 & 0 & no  & no  & no  & yes & yes & yes & yes & no  & 3 & 1 & 3 & 1 & 3 & 5 &  6 & 12 & 12 & 12\\\\\n",
       "\t GP & M & 15 & U & GT3 & T & 4 & 3 & teacher  & other    & reputation & mother & 1 & 2 & 0 & no  & no  & no  & no  & yes & yes & yes & no  & 4 & 4 & 1 & 1 & 1 & 1 &  0 & 12 & 13 & 14\\\\\n",
       "\t GP & M & 15 & U & GT3 & T & 4 & 4 & health   & health   & other      & father & 1 & 1 & 0 & no  & yes & yes & no  & yes & yes & yes & no  & 5 & 4 & 2 & 1 & 1 & 5 &  0 & 11 & 12 & 12\\\\\n",
       "\t GP & M & 16 & U & LE3 & T & 4 & 2 & teacher  & other    & course     & mother & 1 & 2 & 0 & no  & no  & no  & yes & yes & yes & yes & no  & 4 & 5 & 1 & 1 & 3 & 5 &  0 & 12 & 13 & 14\\\\\n",
       "\t GP & M & 16 & U & LE3 & T & 2 & 2 & other    & other    & reputation & mother & 2 & 2 & 0 & no  & yes & no  & yes & yes & yes & yes & no  & 5 & 4 & 4 & 2 & 4 & 5 &  2 & 10 & 10 & 10\\\\\n",
       "\t GP & F & 15 & R & GT3 & T & 2 & 4 & services & health   & course     & mother & 1 & 3 & 0 & yes & yes & no  & yes & yes & yes & yes & no  & 4 & 3 & 2 & 1 & 1 & 5 &  2 & 10 & 11 & 10\\\\\n",
       "\t GP & F & 16 & U & GT3 & T & 2 & 2 & services & services & home       & mother & 1 & 1 & 0 & no  & yes & no  & no  & no  & yes & yes & no  & 1 & 2 & 2 & 1 & 3 & 5 &  6 & 10 & 11 & 12\\\\\n",
       "\t GP & M & 15 & U & GT3 & T & 2 & 2 & other    & other    & home       & mother & 1 & 1 & 0 & no  & yes & no  & no  & yes & yes & yes & no  & 4 & 2 & 2 & 1 & 2 & 5 &  8 & 11 & 12 & 12\\\\\n",
       "\t GP & M & 15 & U & GT3 & T & 4 & 2 & health   & services & other      & mother & 1 & 1 & 0 & no  & no  & no  & no  & yes & yes & yes & no  & 2 & 2 & 4 & 2 & 4 & 1 &  0 & 11 & 11 & 11\\\\\n",
       "\t GP & M & 16 & U & LE3 & A & 3 & 4 & services & other    & home       & mother & 1 & 2 & 0 & yes & yes & yes & yes & yes & yes & yes & no  & 5 & 3 & 3 & 1 & 1 & 5 &  2 & 12 & 12 & 13\\\\\n",
       "\t GP & M & 16 & U & GT3 & T & 4 & 4 & teacher  & teacher  & home       & mother & 1 & 2 & 0 & no  & yes & yes & yes & yes & yes & yes & yes & 4 & 4 & 5 & 5 & 5 & 5 &  4 & 12 & 11 & 12\\\\\n",
       "\t ... & ... & ... & ... & ... & ... & ... & ... & ... & ... & ... & ... & ... & ... & ... & ... & ... & ... & ... & ... & ... & ... & ... & ... & ... & ... & ... & ... & ... & ... & ... & ... & ...\\\\\n",
       "\t MS & F & 18 & U & GT3 & T & 3 & 3 & services & services & other      & mother & 2 & 2 & 0 & no & yes & no  & no  & yes & yes & yes & yes & 4 & 3 & 2 & 1 & 3 & 3 &  6 & 13 & 12 & 13\\\\\n",
       "\t MS & F & 17 & U & LE3 & T & 4 & 4 & at\\_home  & at\\_home  & course     & mother & 1 & 2 & 0 & no & yes & no  & yes & yes & yes & yes & yes & 2 & 3 & 4 & 1 & 1 & 1 &  4 & 15 & 14 & 15\\\\\n",
       "\t MS & F & 17 & R & GT3 & T & 1 & 2 & other    & services & course     & father & 2 & 2 & 0 & no & no  & no  & no  & no  & yes & no  & no  & 3 & 2 & 2 & 1 & 2 & 3 &  0 & 13 & 13 & 13\\\\\n",
       "\t MS & M & 18 & R & GT3 & T & 1 & 3 & at\\_home  & other    & course     & mother & 2 & 2 & 0 & no & yes & yes & no  & yes & yes & no  & no  & 3 & 3 & 4 & 2 & 4 & 3 &  0 &  8 & 10 &  9\\\\\n",
       "\t MS & M & 18 & U & LE3 & T & 4 & 4 & teacher  & services & other      & mother & 2 & 3 & 0 & no & no  & no  & no  & yes & yes & yes & yes & 4 & 2 & 2 & 2 & 2 & 5 &  0 & 15 & 16 & 16\\\\\n",
       "\t MS & F & 17 & R & GT3 & T & 1 & 1 & other    & services & reputation & mother & 3 & 1 & 1 & no & yes & no  & no  & yes & yes & yes & yes & 5 & 2 & 1 & 1 & 2 & 1 &  0 &  8 &  8 &  9\\\\\n",
       "\t MS & F & 18 & U & GT3 & T & 2 & 3 & at\\_home  & services & course     & father & 2 & 1 & 0 & no & yes & no  & no  & yes & yes & yes & yes & 5 & 2 & 3 & 1 & 2 & 4 &  0 & 10 & 10 & 10\\\\\n",
       "\t MS & F & 18 & R & GT3 & T & 4 & 4 & other    & teacher  & other      & father & 3 & 2 & 0 & no & yes & no  & no  & no  & yes & yes & yes & 3 & 2 & 2 & 4 & 2 & 5 &  0 &  7 &  5 &  0\\\\\n",
       "\t MS & M & 18 & R & LE3 & T & 1 & 2 & at\\_home  & services & other      & father & 3 & 1 & 0 & no & yes & no  & yes & yes & no  & yes & yes & 4 & 3 & 3 & 2 & 3 & 3 &  3 &  9 & 10 & 10\\\\\n",
       "\t MS & F & 17 & U & GT3 & T & 2 & 2 & other    & at\\_home  & home       & mother & 1 & 3 & 0 & no & no  & no  & yes & yes & yes & no  & yes & 3 & 4 & 3 & 1 & 1 & 3 &  8 & 10 & 11 & 12\\\\\n",
       "\t MS & F & 17 & R & GT3 & T & 1 & 2 & other    & other    & course     & mother & 1 & 1 & 0 & no & no  & no  & yes & yes & yes & yes & no  & 3 & 5 & 5 & 1 & 3 & 1 &  4 &  7 &  8 &  9\\\\\n",
       "\t MS & F & 18 & R & LE3 & T & 4 & 4 & other    & other    & reputation & mother & 2 & 3 & 0 & no & no  & no  & no  & yes & yes & yes & no  & 5 & 4 & 4 & 1 & 1 & 1 &  0 & 15 & 17 & 17\\\\\n",
       "\t MS & F & 18 & R & GT3 & T & 1 & 1 & other    & other    & home       & mother & 4 & 3 & 0 & no & no  & no  & no  & yes & yes & yes & no  & 4 & 3 & 2 & 1 & 2 & 4 &  4 & 10 & 11 & 12\\\\\n",
       "\t MS & F & 19 & R & GT3 & T & 1 & 1 & at\\_home  & other    & course     & other  & 2 & 2 & 1 & no & yes & no  & no  & yes & yes & yes & yes & 4 & 3 & 3 & 1 & 1 & 3 &  4 &  7 &  8 &  9\\\\\n",
       "\t MS & F & 18 & R & LE3 & T & 4 & 4 & teacher  & services & course     & mother & 1 & 2 & 0 & no & no  & no  & yes & yes & yes & yes & no  & 5 & 4 & 3 & 3 & 4 & 2 &  1 & 13 & 14 & 14\\\\\n",
       "\t MS & F & 18 & U & GT3 & T & 3 & 3 & other    & other    & home       & mother & 1 & 2 & 0 & no & no  & no  & no  & yes & yes & yes & yes & 4 & 1 & 3 & 1 & 2 & 1 &  1 & 16 & 16 & 16\\\\\n",
       "\t MS & F & 17 & R & GT3 & T & 3 & 1 & at\\_home  & other    & reputation & mother & 1 & 2 & 0 & no & yes & no  & yes & no  & yes & yes & no  & 4 & 5 & 4 & 2 & 3 & 1 & 10 &  8 &  9 &  9\\\\\n",
       "\t MS & M & 18 & U & GT3 & T & 4 & 4 & teacher  & teacher  & home       & father & 1 & 2 & 0 & no & no  & no  & yes & no  & yes & yes & no  & 3 & 2 & 4 & 1 & 4 & 2 &  4 & 17 & 18 & 19\\\\\n",
       "\t MS & M & 18 & R & GT3 & T & 2 & 1 & other    & other    & other      & mother & 2 & 1 & 0 & no & no  & no  & yes & no  & yes & yes & yes & 4 & 4 & 3 & 1 & 3 & 5 &  0 &  7 &  7 &  0\\\\\n",
       "\t MS & M & 17 & U & GT3 & T & 2 & 3 & other    & services & home       & father & 2 & 2 & 0 & no & no  & no  & yes & yes & yes & yes & no  & 4 & 4 & 3 & 1 & 1 & 3 &  4 & 14 & 15 & 16\\\\\n",
       "\t MS & M & 19 & R & GT3 & T & 1 & 1 & other    & services & other      & mother & 2 & 1 & 1 & no & no  & no  & no  & yes & yes & no  & no  & 4 & 3 & 2 & 1 & 3 & 5 &  0 &  5 &  8 &  0\\\\\n",
       "\t MS & M & 18 & R & GT3 & T & 4 & 2 & other    & other    & home       & father & 2 & 1 & 1 & no & no  & yes & no  & yes & yes & no  & no  & 5 & 4 & 3 & 4 & 3 & 3 &  0 &  7 &  7 &  0\\\\\n",
       "\t MS & F & 18 & R & GT3 & T & 2 & 2 & at\\_home  & other    & other      & mother & 2 & 3 & 0 & no & no  & no  & no  & yes & yes & no  & no  & 5 & 3 & 3 & 1 & 3 & 4 &  0 & 14 & 17 & 15\\\\\n",
       "\t MS & F & 17 & U & GT3 & T & 4 & 3 & teacher  & other    & other      & mother & 2 & 2 & 0 & no & no  & no  & no  & yes & yes & yes & no  & 5 & 5 & 4 & 1 & 1 & 1 &  0 &  6 &  9 & 11\\\\\n",
       "\t MS & F & 18 & R & GT3 & T & 4 & 4 & teacher  & at\\_home  & reputation & mother & 3 & 1 & 0 & no & yes & no  & yes & yes & yes & yes & yes & 4 & 4 & 3 & 2 & 2 & 5 &  4 &  7 &  9 & 10\\\\\n",
       "\t MS & F & 19 & R & GT3 & T & 2 & 3 & services & other    & course     & mother & 1 & 3 & 1 & no & no  & no  & yes & no  & yes & yes & no  & 5 & 4 & 2 & 1 & 2 & 5 &  4 & 10 & 11 & 10\\\\\n",
       "\t MS & F & 18 & U & LE3 & T & 3 & 1 & teacher  & services & course     & mother & 1 & 2 & 0 & no & yes & no  & no  & yes & yes & yes & no  & 4 & 3 & 4 & 1 & 1 & 1 &  4 & 15 & 15 & 16\\\\\n",
       "\t MS & F & 18 & U & GT3 & T & 1 & 1 & other    & other    & course     & mother & 2 & 2 & 0 & no & no  & no  & yes & yes & yes & no  & no  & 1 & 1 & 1 & 1 & 1 & 5 &  6 & 11 & 12 &  9\\\\\n",
       "\t MS & M & 17 & U & LE3 & T & 3 & 1 & services & services & course     & mother & 2 & 1 & 0 & no & no  & no  & no  & no  & yes & yes & no  & 2 & 4 & 5 & 3 & 4 & 2 &  6 & 10 & 10 & 10\\\\\n",
       "\t MS & M & 18 & R & LE3 & T & 3 & 2 & services & other    & course     & mother & 3 & 1 & 0 & no & no  & no  & no  & no  & yes & yes & no  & 4 & 4 & 1 & 3 & 4 & 5 &  4 & 10 & 11 & 11\\\\\n",
       "\\end{tabular}\n"
      ],
      "text/markdown": [
       "\n",
       "A data.frame: 649 × 33\n",
       "\n",
       "| school &lt;chr&gt; | sex &lt;chr&gt; | age &lt;int&gt; | address &lt;chr&gt; | famsize &lt;chr&gt; | Pstatus &lt;chr&gt; | Medu &lt;int&gt; | Fedu &lt;int&gt; | Mjob &lt;chr&gt; | Fjob &lt;chr&gt; | ... ... | famrel &lt;int&gt; | freetime &lt;int&gt; | goout &lt;int&gt; | Dalc &lt;int&gt; | Walc &lt;int&gt; | health &lt;int&gt; | absences &lt;int&gt; | G1 &lt;int&gt; | G2 &lt;int&gt; | G3 &lt;int&gt; |\n",
       "|---|---|---|---|---|---|---|---|---|---|---|---|---|---|---|---|---|---|---|---|---|\n",
       "| GP | F | 18 | U | GT3 | A | 4 | 4 | at_home  | teacher  | ... | 4 | 3 | 4 | 1 | 1 | 3 |  4 |  0 | 11 | 11 |\n",
       "| GP | F | 17 | U | GT3 | T | 1 | 1 | at_home  | other    | ... | 5 | 3 | 3 | 1 | 1 | 3 |  2 |  9 | 11 | 11 |\n",
       "| GP | F | 15 | U | LE3 | T | 1 | 1 | at_home  | other    | ... | 4 | 3 | 2 | 2 | 3 | 3 |  6 | 12 | 13 | 12 |\n",
       "| GP | F | 15 | U | GT3 | T | 4 | 2 | health   | services | ... | 3 | 2 | 2 | 1 | 1 | 5 |  0 | 14 | 14 | 14 |\n",
       "| GP | F | 16 | U | GT3 | T | 3 | 3 | other    | other    | ... | 4 | 3 | 2 | 1 | 2 | 5 |  0 | 11 | 13 | 13 |\n",
       "| GP | M | 16 | U | LE3 | T | 4 | 3 | services | other    | ... | 5 | 4 | 2 | 1 | 2 | 5 |  6 | 12 | 12 | 13 |\n",
       "| GP | M | 16 | U | LE3 | T | 2 | 2 | other    | other    | ... | 4 | 4 | 4 | 1 | 1 | 3 |  0 | 13 | 12 | 13 |\n",
       "| GP | F | 17 | U | GT3 | A | 4 | 4 | other    | teacher  | ... | 4 | 1 | 4 | 1 | 1 | 1 |  2 | 10 | 13 | 13 |\n",
       "| GP | M | 15 | U | LE3 | A | 3 | 2 | services | other    | ... | 4 | 2 | 2 | 1 | 1 | 1 |  0 | 15 | 16 | 17 |\n",
       "| GP | M | 15 | U | GT3 | T | 3 | 4 | other    | other    | ... | 5 | 5 | 1 | 1 | 1 | 5 |  0 | 12 | 12 | 13 |\n",
       "| GP | F | 15 | U | GT3 | T | 4 | 4 | teacher  | health   | ... | 3 | 3 | 3 | 1 | 2 | 2 |  2 | 14 | 14 | 14 |\n",
       "| GP | F | 15 | U | GT3 | T | 2 | 1 | services | other    | ... | 5 | 2 | 2 | 1 | 1 | 4 |  0 | 10 | 12 | 13 |\n",
       "| GP | M | 15 | U | LE3 | T | 4 | 4 | health   | services | ... | 4 | 3 | 3 | 1 | 3 | 5 |  0 | 12 | 13 | 12 |\n",
       "| GP | M | 15 | U | GT3 | T | 4 | 3 | teacher  | other    | ... | 5 | 4 | 3 | 1 | 2 | 3 |  0 | 12 | 12 | 13 |\n",
       "| GP | M | 15 | U | GT3 | A | 2 | 2 | other    | other    | ... | 4 | 5 | 2 | 1 | 1 | 3 |  0 | 14 | 14 | 15 |\n",
       "| GP | F | 16 | U | GT3 | T | 4 | 4 | health   | other    | ... | 4 | 4 | 4 | 1 | 2 | 2 |  6 | 17 | 17 | 17 |\n",
       "| GP | F | 16 | U | GT3 | T | 4 | 4 | services | services | ... | 3 | 2 | 3 | 1 | 2 | 2 | 10 | 13 | 13 | 14 |\n",
       "| GP | F | 16 | U | GT3 | T | 3 | 3 | other    | other    | ... | 5 | 3 | 2 | 1 | 1 | 4 |  2 | 13 | 14 | 14 |\n",
       "| GP | M | 17 | U | GT3 | T | 3 | 2 | services | services | ... | 5 | 5 | 5 | 2 | 4 | 5 |  2 |  8 |  8 |  7 |\n",
       "| GP | M | 16 | U | LE3 | T | 4 | 3 | health   | other    | ... | 3 | 1 | 3 | 1 | 3 | 5 |  6 | 12 | 12 | 12 |\n",
       "| GP | M | 15 | U | GT3 | T | 4 | 3 | teacher  | other    | ... | 4 | 4 | 1 | 1 | 1 | 1 |  0 | 12 | 13 | 14 |\n",
       "| GP | M | 15 | U | GT3 | T | 4 | 4 | health   | health   | ... | 5 | 4 | 2 | 1 | 1 | 5 |  0 | 11 | 12 | 12 |\n",
       "| GP | M | 16 | U | LE3 | T | 4 | 2 | teacher  | other    | ... | 4 | 5 | 1 | 1 | 3 | 5 |  0 | 12 | 13 | 14 |\n",
       "| GP | M | 16 | U | LE3 | T | 2 | 2 | other    | other    | ... | 5 | 4 | 4 | 2 | 4 | 5 |  2 | 10 | 10 | 10 |\n",
       "| GP | F | 15 | R | GT3 | T | 2 | 4 | services | health   | ... | 4 | 3 | 2 | 1 | 1 | 5 |  2 | 10 | 11 | 10 |\n",
       "| GP | F | 16 | U | GT3 | T | 2 | 2 | services | services | ... | 1 | 2 | 2 | 1 | 3 | 5 |  6 | 10 | 11 | 12 |\n",
       "| GP | M | 15 | U | GT3 | T | 2 | 2 | other    | other    | ... | 4 | 2 | 2 | 1 | 2 | 5 |  8 | 11 | 12 | 12 |\n",
       "| GP | M | 15 | U | GT3 | T | 4 | 2 | health   | services | ... | 2 | 2 | 4 | 2 | 4 | 1 |  0 | 11 | 11 | 11 |\n",
       "| GP | M | 16 | U | LE3 | A | 3 | 4 | services | other    | ... | 5 | 3 | 3 | 1 | 1 | 5 |  2 | 12 | 12 | 13 |\n",
       "| GP | M | 16 | U | GT3 | T | 4 | 4 | teacher  | teacher  | ... | 4 | 4 | 5 | 5 | 5 | 5 |  4 | 12 | 11 | 12 |\n",
       "| ... | ... | ... | ... | ... | ... | ... | ... | ... | ... | <!----> | ... | ... | ... | ... | ... | ... | ... | ... | ... | ... |\n",
       "| MS | F | 18 | U | GT3 | T | 3 | 3 | services | services | ... | 4 | 3 | 2 | 1 | 3 | 3 |  6 | 13 | 12 | 13 |\n",
       "| MS | F | 17 | U | LE3 | T | 4 | 4 | at_home  | at_home  | ... | 2 | 3 | 4 | 1 | 1 | 1 |  4 | 15 | 14 | 15 |\n",
       "| MS | F | 17 | R | GT3 | T | 1 | 2 | other    | services | ... | 3 | 2 | 2 | 1 | 2 | 3 |  0 | 13 | 13 | 13 |\n",
       "| MS | M | 18 | R | GT3 | T | 1 | 3 | at_home  | other    | ... | 3 | 3 | 4 | 2 | 4 | 3 |  0 |  8 | 10 |  9 |\n",
       "| MS | M | 18 | U | LE3 | T | 4 | 4 | teacher  | services | ... | 4 | 2 | 2 | 2 | 2 | 5 |  0 | 15 | 16 | 16 |\n",
       "| MS | F | 17 | R | GT3 | T | 1 | 1 | other    | services | ... | 5 | 2 | 1 | 1 | 2 | 1 |  0 |  8 |  8 |  9 |\n",
       "| MS | F | 18 | U | GT3 | T | 2 | 3 | at_home  | services | ... | 5 | 2 | 3 | 1 | 2 | 4 |  0 | 10 | 10 | 10 |\n",
       "| MS | F | 18 | R | GT3 | T | 4 | 4 | other    | teacher  | ... | 3 | 2 | 2 | 4 | 2 | 5 |  0 |  7 |  5 |  0 |\n",
       "| MS | M | 18 | R | LE3 | T | 1 | 2 | at_home  | services | ... | 4 | 3 | 3 | 2 | 3 | 3 |  3 |  9 | 10 | 10 |\n",
       "| MS | F | 17 | U | GT3 | T | 2 | 2 | other    | at_home  | ... | 3 | 4 | 3 | 1 | 1 | 3 |  8 | 10 | 11 | 12 |\n",
       "| MS | F | 17 | R | GT3 | T | 1 | 2 | other    | other    | ... | 3 | 5 | 5 | 1 | 3 | 1 |  4 |  7 |  8 |  9 |\n",
       "| MS | F | 18 | R | LE3 | T | 4 | 4 | other    | other    | ... | 5 | 4 | 4 | 1 | 1 | 1 |  0 | 15 | 17 | 17 |\n",
       "| MS | F | 18 | R | GT3 | T | 1 | 1 | other    | other    | ... | 4 | 3 | 2 | 1 | 2 | 4 |  4 | 10 | 11 | 12 |\n",
       "| MS | F | 19 | R | GT3 | T | 1 | 1 | at_home  | other    | ... | 4 | 3 | 3 | 1 | 1 | 3 |  4 |  7 |  8 |  9 |\n",
       "| MS | F | 18 | R | LE3 | T | 4 | 4 | teacher  | services | ... | 5 | 4 | 3 | 3 | 4 | 2 |  1 | 13 | 14 | 14 |\n",
       "| MS | F | 18 | U | GT3 | T | 3 | 3 | other    | other    | ... | 4 | 1 | 3 | 1 | 2 | 1 |  1 | 16 | 16 | 16 |\n",
       "| MS | F | 17 | R | GT3 | T | 3 | 1 | at_home  | other    | ... | 4 | 5 | 4 | 2 | 3 | 1 | 10 |  8 |  9 |  9 |\n",
       "| MS | M | 18 | U | GT3 | T | 4 | 4 | teacher  | teacher  | ... | 3 | 2 | 4 | 1 | 4 | 2 |  4 | 17 | 18 | 19 |\n",
       "| MS | M | 18 | R | GT3 | T | 2 | 1 | other    | other    | ... | 4 | 4 | 3 | 1 | 3 | 5 |  0 |  7 |  7 |  0 |\n",
       "| MS | M | 17 | U | GT3 | T | 2 | 3 | other    | services | ... | 4 | 4 | 3 | 1 | 1 | 3 |  4 | 14 | 15 | 16 |\n",
       "| MS | M | 19 | R | GT3 | T | 1 | 1 | other    | services | ... | 4 | 3 | 2 | 1 | 3 | 5 |  0 |  5 |  8 |  0 |\n",
       "| MS | M | 18 | R | GT3 | T | 4 | 2 | other    | other    | ... | 5 | 4 | 3 | 4 | 3 | 3 |  0 |  7 |  7 |  0 |\n",
       "| MS | F | 18 | R | GT3 | T | 2 | 2 | at_home  | other    | ... | 5 | 3 | 3 | 1 | 3 | 4 |  0 | 14 | 17 | 15 |\n",
       "| MS | F | 17 | U | GT3 | T | 4 | 3 | teacher  | other    | ... | 5 | 5 | 4 | 1 | 1 | 1 |  0 |  6 |  9 | 11 |\n",
       "| MS | F | 18 | R | GT3 | T | 4 | 4 | teacher  | at_home  | ... | 4 | 4 | 3 | 2 | 2 | 5 |  4 |  7 |  9 | 10 |\n",
       "| MS | F | 19 | R | GT3 | T | 2 | 3 | services | other    | ... | 5 | 4 | 2 | 1 | 2 | 5 |  4 | 10 | 11 | 10 |\n",
       "| MS | F | 18 | U | LE3 | T | 3 | 1 | teacher  | services | ... | 4 | 3 | 4 | 1 | 1 | 1 |  4 | 15 | 15 | 16 |\n",
       "| MS | F | 18 | U | GT3 | T | 1 | 1 | other    | other    | ... | 1 | 1 | 1 | 1 | 1 | 5 |  6 | 11 | 12 |  9 |\n",
       "| MS | M | 17 | U | LE3 | T | 3 | 1 | services | services | ... | 2 | 4 | 5 | 3 | 4 | 2 |  6 | 10 | 10 | 10 |\n",
       "| MS | M | 18 | R | LE3 | T | 3 | 2 | services | other    | ... | 4 | 4 | 1 | 3 | 4 | 5 |  4 | 10 | 11 | 11 |\n",
       "\n"
      ],
      "text/plain": [
       "    school sex age address famsize Pstatus Medu Fedu Mjob     Fjob     ...\n",
       "1   GP     F   18  U       GT3     A       4    4    at_home  teacher  ...\n",
       "2   GP     F   17  U       GT3     T       1    1    at_home  other    ...\n",
       "3   GP     F   15  U       LE3     T       1    1    at_home  other    ...\n",
       "4   GP     F   15  U       GT3     T       4    2    health   services ...\n",
       "5   GP     F   16  U       GT3     T       3    3    other    other    ...\n",
       "6   GP     M   16  U       LE3     T       4    3    services other    ...\n",
       "7   GP     M   16  U       LE3     T       2    2    other    other    ...\n",
       "8   GP     F   17  U       GT3     A       4    4    other    teacher  ...\n",
       "9   GP     M   15  U       LE3     A       3    2    services other    ...\n",
       "10  GP     M   15  U       GT3     T       3    4    other    other    ...\n",
       "11  GP     F   15  U       GT3     T       4    4    teacher  health   ...\n",
       "12  GP     F   15  U       GT3     T       2    1    services other    ...\n",
       "13  GP     M   15  U       LE3     T       4    4    health   services ...\n",
       "14  GP     M   15  U       GT3     T       4    3    teacher  other    ...\n",
       "15  GP     M   15  U       GT3     A       2    2    other    other    ...\n",
       "16  GP     F   16  U       GT3     T       4    4    health   other    ...\n",
       "17  GP     F   16  U       GT3     T       4    4    services services ...\n",
       "18  GP     F   16  U       GT3     T       3    3    other    other    ...\n",
       "19  GP     M   17  U       GT3     T       3    2    services services ...\n",
       "20  GP     M   16  U       LE3     T       4    3    health   other    ...\n",
       "21  GP     M   15  U       GT3     T       4    3    teacher  other    ...\n",
       "22  GP     M   15  U       GT3     T       4    4    health   health   ...\n",
       "23  GP     M   16  U       LE3     T       4    2    teacher  other    ...\n",
       "24  GP     M   16  U       LE3     T       2    2    other    other    ...\n",
       "25  GP     F   15  R       GT3     T       2    4    services health   ...\n",
       "26  GP     F   16  U       GT3     T       2    2    services services ...\n",
       "27  GP     M   15  U       GT3     T       2    2    other    other    ...\n",
       "28  GP     M   15  U       GT3     T       4    2    health   services ...\n",
       "29  GP     M   16  U       LE3     A       3    4    services other    ...\n",
       "30  GP     M   16  U       GT3     T       4    4    teacher  teacher  ...\n",
       "... ...    ... ... ...     ...     ...     ...  ...  ...      ...         \n",
       "620 MS     F   18  U       GT3     T       3    3    services services ...\n",
       "621 MS     F   17  U       LE3     T       4    4    at_home  at_home  ...\n",
       "622 MS     F   17  R       GT3     T       1    2    other    services ...\n",
       "623 MS     M   18  R       GT3     T       1    3    at_home  other    ...\n",
       "624 MS     M   18  U       LE3     T       4    4    teacher  services ...\n",
       "625 MS     F   17  R       GT3     T       1    1    other    services ...\n",
       "626 MS     F   18  U       GT3     T       2    3    at_home  services ...\n",
       "627 MS     F   18  R       GT3     T       4    4    other    teacher  ...\n",
       "628 MS     M   18  R       LE3     T       1    2    at_home  services ...\n",
       "629 MS     F   17  U       GT3     T       2    2    other    at_home  ...\n",
       "630 MS     F   17  R       GT3     T       1    2    other    other    ...\n",
       "631 MS     F   18  R       LE3     T       4    4    other    other    ...\n",
       "632 MS     F   18  R       GT3     T       1    1    other    other    ...\n",
       "633 MS     F   19  R       GT3     T       1    1    at_home  other    ...\n",
       "634 MS     F   18  R       LE3     T       4    4    teacher  services ...\n",
       "635 MS     F   18  U       GT3     T       3    3    other    other    ...\n",
       "636 MS     F   17  R       GT3     T       3    1    at_home  other    ...\n",
       "637 MS     M   18  U       GT3     T       4    4    teacher  teacher  ...\n",
       "638 MS     M   18  R       GT3     T       2    1    other    other    ...\n",
       "639 MS     M   17  U       GT3     T       2    3    other    services ...\n",
       "640 MS     M   19  R       GT3     T       1    1    other    services ...\n",
       "641 MS     M   18  R       GT3     T       4    2    other    other    ...\n",
       "642 MS     F   18  R       GT3     T       2    2    at_home  other    ...\n",
       "643 MS     F   17  U       GT3     T       4    3    teacher  other    ...\n",
       "644 MS     F   18  R       GT3     T       4    4    teacher  at_home  ...\n",
       "645 MS     F   19  R       GT3     T       2    3    services other    ...\n",
       "646 MS     F   18  U       LE3     T       3    1    teacher  services ...\n",
       "647 MS     F   18  U       GT3     T       1    1    other    other    ...\n",
       "648 MS     M   17  U       LE3     T       3    1    services services ...\n",
       "649 MS     M   18  R       LE3     T       3    2    services other    ...\n",
       "    famrel freetime goout Dalc Walc health absences G1  G2  G3 \n",
       "1   4      3        4     1    1    3       4        0  11  11 \n",
       "2   5      3        3     1    1    3       2        9  11  11 \n",
       "3   4      3        2     2    3    3       6       12  13  12 \n",
       "4   3      2        2     1    1    5       0       14  14  14 \n",
       "5   4      3        2     1    2    5       0       11  13  13 \n",
       "6   5      4        2     1    2    5       6       12  12  13 \n",
       "7   4      4        4     1    1    3       0       13  12  13 \n",
       "8   4      1        4     1    1    1       2       10  13  13 \n",
       "9   4      2        2     1    1    1       0       15  16  17 \n",
       "10  5      5        1     1    1    5       0       12  12  13 \n",
       "11  3      3        3     1    2    2       2       14  14  14 \n",
       "12  5      2        2     1    1    4       0       10  12  13 \n",
       "13  4      3        3     1    3    5       0       12  13  12 \n",
       "14  5      4        3     1    2    3       0       12  12  13 \n",
       "15  4      5        2     1    1    3       0       14  14  15 \n",
       "16  4      4        4     1    2    2       6       17  17  17 \n",
       "17  3      2        3     1    2    2      10       13  13  14 \n",
       "18  5      3        2     1    1    4       2       13  14  14 \n",
       "19  5      5        5     2    4    5       2        8   8   7 \n",
       "20  3      1        3     1    3    5       6       12  12  12 \n",
       "21  4      4        1     1    1    1       0       12  13  14 \n",
       "22  5      4        2     1    1    5       0       11  12  12 \n",
       "23  4      5        1     1    3    5       0       12  13  14 \n",
       "24  5      4        4     2    4    5       2       10  10  10 \n",
       "25  4      3        2     1    1    5       2       10  11  10 \n",
       "26  1      2        2     1    3    5       6       10  11  12 \n",
       "27  4      2        2     1    2    5       8       11  12  12 \n",
       "28  2      2        4     2    4    1       0       11  11  11 \n",
       "29  5      3        3     1    1    5       2       12  12  13 \n",
       "30  4      4        5     5    5    5       4       12  11  12 \n",
       "... ...    ...      ...   ...  ...  ...    ...      ... ... ...\n",
       "620 4      3        2     1    3    3       6       13  12  13 \n",
       "621 2      3        4     1    1    1       4       15  14  15 \n",
       "622 3      2        2     1    2    3       0       13  13  13 \n",
       "623 3      3        4     2    4    3       0        8  10   9 \n",
       "624 4      2        2     2    2    5       0       15  16  16 \n",
       "625 5      2        1     1    2    1       0        8   8   9 \n",
       "626 5      2        3     1    2    4       0       10  10  10 \n",
       "627 3      2        2     4    2    5       0        7   5   0 \n",
       "628 4      3        3     2    3    3       3        9  10  10 \n",
       "629 3      4        3     1    1    3       8       10  11  12 \n",
       "630 3      5        5     1    3    1       4        7   8   9 \n",
       "631 5      4        4     1    1    1       0       15  17  17 \n",
       "632 4      3        2     1    2    4       4       10  11  12 \n",
       "633 4      3        3     1    1    3       4        7   8   9 \n",
       "634 5      4        3     3    4    2       1       13  14  14 \n",
       "635 4      1        3     1    2    1       1       16  16  16 \n",
       "636 4      5        4     2    3    1      10        8   9   9 \n",
       "637 3      2        4     1    4    2       4       17  18  19 \n",
       "638 4      4        3     1    3    5       0        7   7   0 \n",
       "639 4      4        3     1    1    3       4       14  15  16 \n",
       "640 4      3        2     1    3    5       0        5   8   0 \n",
       "641 5      4        3     4    3    3       0        7   7   0 \n",
       "642 5      3        3     1    3    4       0       14  17  15 \n",
       "643 5      5        4     1    1    1       0        6   9  11 \n",
       "644 4      4        3     2    2    5       4        7   9  10 \n",
       "645 5      4        2     1    2    5       4       10  11  10 \n",
       "646 4      3        4     1    1    1       4       15  15  16 \n",
       "647 1      1        1     1    1    5       6       11  12   9 \n",
       "648 2      4        5     3    4    2       6       10  10  10 \n",
       "649 4      4        1     3    4    5       4       10  11  11 "
      ]
     },
     "metadata": {},
     "output_type": "display_data"
    }
   ],
   "source": [
    "d2<-read.csv('student-por.csv', header = TRUE, stringsAsFactors = FALSE)\n",
    "\n",
    "d2"
   ]
  },
  {
   "cell_type": "code",
   "execution_count": 18,
   "metadata": {},
   "outputs": [
    {
     "data": {
      "text/html": [
       "<ol class=list-inline>\n",
       "\t<li>'school'</li>\n",
       "\t<li>'sex'</li>\n",
       "\t<li>'age'</li>\n",
       "\t<li>'address'</li>\n",
       "\t<li>'famsize'</li>\n",
       "\t<li>'Pstatus'</li>\n",
       "\t<li>'Medu'</li>\n",
       "\t<li>'Fedu'</li>\n",
       "\t<li>'Mjob'</li>\n",
       "\t<li>'Fjob'</li>\n",
       "\t<li>'reason'</li>\n",
       "\t<li>'guardian'</li>\n",
       "\t<li>'traveltime'</li>\n",
       "\t<li>'studytime'</li>\n",
       "\t<li>'failures'</li>\n",
       "\t<li>'schoolsup'</li>\n",
       "\t<li>'famsup'</li>\n",
       "\t<li>'paid'</li>\n",
       "\t<li>'activities'</li>\n",
       "\t<li>'nursery'</li>\n",
       "\t<li>'higher'</li>\n",
       "\t<li>'internet'</li>\n",
       "\t<li>'romantic'</li>\n",
       "\t<li>'famrel'</li>\n",
       "\t<li>'freetime'</li>\n",
       "\t<li>'goout'</li>\n",
       "\t<li>'Dalc'</li>\n",
       "\t<li>'Walc'</li>\n",
       "\t<li>'health'</li>\n",
       "\t<li>'absences'</li>\n",
       "\t<li>'G1'</li>\n",
       "\t<li>'G2'</li>\n",
       "\t<li>'G3'</li>\n",
       "</ol>\n"
      ],
      "text/latex": [
       "\\begin{enumerate*}\n",
       "\\item 'school'\n",
       "\\item 'sex'\n",
       "\\item 'age'\n",
       "\\item 'address'\n",
       "\\item 'famsize'\n",
       "\\item 'Pstatus'\n",
       "\\item 'Medu'\n",
       "\\item 'Fedu'\n",
       "\\item 'Mjob'\n",
       "\\item 'Fjob'\n",
       "\\item 'reason'\n",
       "\\item 'guardian'\n",
       "\\item 'traveltime'\n",
       "\\item 'studytime'\n",
       "\\item 'failures'\n",
       "\\item 'schoolsup'\n",
       "\\item 'famsup'\n",
       "\\item 'paid'\n",
       "\\item 'activities'\n",
       "\\item 'nursery'\n",
       "\\item 'higher'\n",
       "\\item 'internet'\n",
       "\\item 'romantic'\n",
       "\\item 'famrel'\n",
       "\\item 'freetime'\n",
       "\\item 'goout'\n",
       "\\item 'Dalc'\n",
       "\\item 'Walc'\n",
       "\\item 'health'\n",
       "\\item 'absences'\n",
       "\\item 'G1'\n",
       "\\item 'G2'\n",
       "\\item 'G3'\n",
       "\\end{enumerate*}\n"
      ],
      "text/markdown": [
       "1. 'school'\n",
       "2. 'sex'\n",
       "3. 'age'\n",
       "4. 'address'\n",
       "5. 'famsize'\n",
       "6. 'Pstatus'\n",
       "7. 'Medu'\n",
       "8. 'Fedu'\n",
       "9. 'Mjob'\n",
       "10. 'Fjob'\n",
       "11. 'reason'\n",
       "12. 'guardian'\n",
       "13. 'traveltime'\n",
       "14. 'studytime'\n",
       "15. 'failures'\n",
       "16. 'schoolsup'\n",
       "17. 'famsup'\n",
       "18. 'paid'\n",
       "19. 'activities'\n",
       "20. 'nursery'\n",
       "21. 'higher'\n",
       "22. 'internet'\n",
       "23. 'romantic'\n",
       "24. 'famrel'\n",
       "25. 'freetime'\n",
       "26. 'goout'\n",
       "27. 'Dalc'\n",
       "28. 'Walc'\n",
       "29. 'health'\n",
       "30. 'absences'\n",
       "31. 'G1'\n",
       "32. 'G2'\n",
       "33. 'G3'\n",
       "\n",
       "\n"
      ],
      "text/plain": [
       " [1] \"school\"     \"sex\"        \"age\"        \"address\"    \"famsize\"   \n",
       " [6] \"Pstatus\"    \"Medu\"       \"Fedu\"       \"Mjob\"       \"Fjob\"      \n",
       "[11] \"reason\"     \"guardian\"   \"traveltime\" \"studytime\"  \"failures\"  \n",
       "[16] \"schoolsup\"  \"famsup\"     \"paid\"       \"activities\" \"nursery\"   \n",
       "[21] \"higher\"     \"internet\"   \"romantic\"   \"famrel\"     \"freetime\"  \n",
       "[26] \"goout\"      \"Dalc\"       \"Walc\"       \"health\"     \"absences\"  \n",
       "[31] \"G1\"         \"G2\"         \"G3\"        "
      ]
     },
     "metadata": {},
     "output_type": "display_data"
    },
    {
     "data": {
      "text/html": [
       "<ol class=list-inline>\n",
       "\t<li>'school'</li>\n",
       "\t<li>'sex'</li>\n",
       "\t<li>'age'</li>\n",
       "\t<li>'address'</li>\n",
       "\t<li>'famsize'</li>\n",
       "\t<li>'Pstatus'</li>\n",
       "\t<li>'Medu'</li>\n",
       "\t<li>'Fedu'</li>\n",
       "\t<li>'Mjob'</li>\n",
       "\t<li>'Fjob'</li>\n",
       "\t<li>'reason'</li>\n",
       "\t<li>'guardian'</li>\n",
       "\t<li>'traveltime'</li>\n",
       "\t<li>'studytime'</li>\n",
       "\t<li>'failures'</li>\n",
       "\t<li>'schoolsup'</li>\n",
       "\t<li>'famsup'</li>\n",
       "\t<li>'paid'</li>\n",
       "\t<li>'activities'</li>\n",
       "\t<li>'nursery'</li>\n",
       "\t<li>'higher'</li>\n",
       "\t<li>'internet'</li>\n",
       "\t<li>'romantic'</li>\n",
       "\t<li>'famrel'</li>\n",
       "\t<li>'freetime'</li>\n",
       "\t<li>'goout'</li>\n",
       "\t<li>'Dalc'</li>\n",
       "\t<li>'Walc'</li>\n",
       "\t<li>'health'</li>\n",
       "\t<li>'absences'</li>\n",
       "\t<li>'G1'</li>\n",
       "\t<li>'G2'</li>\n",
       "\t<li>'G3'</li>\n",
       "</ol>\n"
      ],
      "text/latex": [
       "\\begin{enumerate*}\n",
       "\\item 'school'\n",
       "\\item 'sex'\n",
       "\\item 'age'\n",
       "\\item 'address'\n",
       "\\item 'famsize'\n",
       "\\item 'Pstatus'\n",
       "\\item 'Medu'\n",
       "\\item 'Fedu'\n",
       "\\item 'Mjob'\n",
       "\\item 'Fjob'\n",
       "\\item 'reason'\n",
       "\\item 'guardian'\n",
       "\\item 'traveltime'\n",
       "\\item 'studytime'\n",
       "\\item 'failures'\n",
       "\\item 'schoolsup'\n",
       "\\item 'famsup'\n",
       "\\item 'paid'\n",
       "\\item 'activities'\n",
       "\\item 'nursery'\n",
       "\\item 'higher'\n",
       "\\item 'internet'\n",
       "\\item 'romantic'\n",
       "\\item 'famrel'\n",
       "\\item 'freetime'\n",
       "\\item 'goout'\n",
       "\\item 'Dalc'\n",
       "\\item 'Walc'\n",
       "\\item 'health'\n",
       "\\item 'absences'\n",
       "\\item 'G1'\n",
       "\\item 'G2'\n",
       "\\item 'G3'\n",
       "\\end{enumerate*}\n"
      ],
      "text/markdown": [
       "1. 'school'\n",
       "2. 'sex'\n",
       "3. 'age'\n",
       "4. 'address'\n",
       "5. 'famsize'\n",
       "6. 'Pstatus'\n",
       "7. 'Medu'\n",
       "8. 'Fedu'\n",
       "9. 'Mjob'\n",
       "10. 'Fjob'\n",
       "11. 'reason'\n",
       "12. 'guardian'\n",
       "13. 'traveltime'\n",
       "14. 'studytime'\n",
       "15. 'failures'\n",
       "16. 'schoolsup'\n",
       "17. 'famsup'\n",
       "18. 'paid'\n",
       "19. 'activities'\n",
       "20. 'nursery'\n",
       "21. 'higher'\n",
       "22. 'internet'\n",
       "23. 'romantic'\n",
       "24. 'famrel'\n",
       "25. 'freetime'\n",
       "26. 'goout'\n",
       "27. 'Dalc'\n",
       "28. 'Walc'\n",
       "29. 'health'\n",
       "30. 'absences'\n",
       "31. 'G1'\n",
       "32. 'G2'\n",
       "33. 'G3'\n",
       "\n",
       "\n"
      ],
      "text/plain": [
       " [1] \"school\"     \"sex\"        \"age\"        \"address\"    \"famsize\"   \n",
       " [6] \"Pstatus\"    \"Medu\"       \"Fedu\"       \"Mjob\"       \"Fjob\"      \n",
       "[11] \"reason\"     \"guardian\"   \"traveltime\" \"studytime\"  \"failures\"  \n",
       "[16] \"schoolsup\"  \"famsup\"     \"paid\"       \"activities\" \"nursery\"   \n",
       "[21] \"higher\"     \"internet\"   \"romantic\"   \"famrel\"     \"freetime\"  \n",
       "[26] \"goout\"      \"Dalc\"       \"Walc\"       \"health\"     \"absences\"  \n",
       "[31] \"G1\"         \"G2\"         \"G3\"        "
      ]
     },
     "metadata": {},
     "output_type": "display_data"
    },
    {
     "data": {
      "text/html": [
       "<table>\n",
       "<caption>A data.frame: 6 × 53</caption>\n",
       "<thead>\n",
       "\t<tr><th scope=col>school</th><th scope=col>sex</th><th scope=col>age</th><th scope=col>address</th><th scope=col>famsize</th><th scope=col>Pstatus</th><th scope=col>Medu</th><th scope=col>Fedu</th><th scope=col>Mjob</th><th scope=col>Fjob</th><th scope=col>...</th><th scope=col>famrel.y</th><th scope=col>freetime.y</th><th scope=col>goout.y</th><th scope=col>Dalc.y</th><th scope=col>Walc.y</th><th scope=col>health.y</th><th scope=col>absences.y</th><th scope=col>G1.y</th><th scope=col>G2.y</th><th scope=col>G3.y</th></tr>\n",
       "\t<tr><th scope=col>&lt;chr&gt;</th><th scope=col>&lt;chr&gt;</th><th scope=col>&lt;int&gt;</th><th scope=col>&lt;chr&gt;</th><th scope=col>&lt;chr&gt;</th><th scope=col>&lt;chr&gt;</th><th scope=col>&lt;int&gt;</th><th scope=col>&lt;int&gt;</th><th scope=col>&lt;chr&gt;</th><th scope=col>&lt;chr&gt;</th><th scope=col>...</th><th scope=col>&lt;int&gt;</th><th scope=col>&lt;int&gt;</th><th scope=col>&lt;int&gt;</th><th scope=col>&lt;int&gt;</th><th scope=col>&lt;int&gt;</th><th scope=col>&lt;int&gt;</th><th scope=col>&lt;int&gt;</th><th scope=col>&lt;int&gt;</th><th scope=col>&lt;int&gt;</th><th scope=col>&lt;int&gt;</th></tr>\n",
       "</thead>\n",
       "<tbody>\n",
       "\t<tr><td>GP</td><td>F</td><td>15</td><td>R</td><td>GT3</td><td>T</td><td>1</td><td>1</td><td>at_home </td><td>other   </td><td>...</td><td>3</td><td>1</td><td>2</td><td>1</td><td>1</td><td>1</td><td>4</td><td>13</td><td>13</td><td>13</td></tr>\n",
       "\t<tr><td>GP</td><td>F</td><td>15</td><td>R</td><td>GT3</td><td>T</td><td>1</td><td>1</td><td>other   </td><td>other   </td><td>...</td><td>3</td><td>3</td><td>4</td><td>2</td><td>4</td><td>5</td><td>2</td><td>13</td><td>11</td><td>11</td></tr>\n",
       "\t<tr><td>GP</td><td>F</td><td>15</td><td>R</td><td>GT3</td><td>T</td><td>2</td><td>2</td><td>at_home </td><td>other   </td><td>...</td><td>4</td><td>3</td><td>1</td><td>1</td><td>1</td><td>2</td><td>8</td><td>14</td><td>13</td><td>12</td></tr>\n",
       "\t<tr><td>GP</td><td>F</td><td>15</td><td>R</td><td>GT3</td><td>T</td><td>2</td><td>4</td><td>services</td><td>health  </td><td>...</td><td>4</td><td>3</td><td>2</td><td>1</td><td>1</td><td>5</td><td>2</td><td>10</td><td>11</td><td>10</td></tr>\n",
       "\t<tr><td>GP</td><td>F</td><td>15</td><td>R</td><td>GT3</td><td>T</td><td>3</td><td>3</td><td>services</td><td>services</td><td>...</td><td>4</td><td>2</td><td>1</td><td>2</td><td>3</td><td>3</td><td>2</td><td>13</td><td>13</td><td>13</td></tr>\n",
       "\t<tr><td>GP</td><td>F</td><td>15</td><td>R</td><td>GT3</td><td>T</td><td>3</td><td>4</td><td>services</td><td>health  </td><td>...</td><td>4</td><td>3</td><td>2</td><td>1</td><td>1</td><td>5</td><td>2</td><td>11</td><td>12</td><td>12</td></tr>\n",
       "</tbody>\n",
       "</table>\n"
      ],
      "text/latex": [
       "A data.frame: 6 × 53\n",
       "\\begin{tabular}{r|lllllllllllllllllllllllllllllllllllllllllllllllllllll}\n",
       " school & sex & age & address & famsize & Pstatus & Medu & Fedu & Mjob & Fjob & reason & nursery & internet & guardian.x & traveltime.x & studytime.x & failures.x & schoolsup.x & famsup.x & paid.x & activities.x & higher.x & romantic.x & famrel.x & freetime.x & goout.x & Dalc.x & Walc.x & health.x & absences.x & G1.x & G2.x & G3.x & guardian.y & traveltime.y & studytime.y & failures.y & schoolsup.y & famsup.y & paid.y & activities.y & higher.y & romantic.y & famrel.y & freetime.y & goout.y & Dalc.y & Walc.y & health.y & absences.y & G1.y & G2.y & G3.y\\\\\n",
       " <chr> & <chr> & <int> & <chr> & <chr> & <chr> & <int> & <int> & <chr> & <chr> & <chr> & <chr> & <chr> & <chr> & <int> & <int> & <int> & <chr> & <chr> & <chr> & <chr> & <chr> & <chr> & <int> & <int> & <int> & <int> & <int> & <int> & <int> & <int> & <int> & <int> & <chr> & <int> & <int> & <int> & <chr> & <chr> & <chr> & <chr> & <chr> & <chr> & <int> & <int> & <int> & <int> & <int> & <int> & <int> & <int> & <int> & <int>\\\\\n",
       "\\hline\n",
       "\t GP & F & 15 & R & GT3 & T & 1 & 1 & at\\_home  & other    & home       & yes & yes & mother & 2 & 4 & 1 & yes & yes & yes & yes & yes & no  & 3 & 1 & 2 & 1 & 1 & 1 & 2 &  7 & 10 & 10 & mother & 2 & 4 & 0 & yes & yes & yes & yes & yes & no  & 3 & 1 & 2 & 1 & 1 & 1 & 4 & 13 & 13 & 13\\\\\n",
       "\t GP & F & 15 & R & GT3 & T & 1 & 1 & other    & other    & reputation & no  & yes & mother & 1 & 2 & 2 & yes & yes & no  & no  & yes & yes & 3 & 3 & 4 & 2 & 4 & 5 & 2 &  8 &  6 &  5 & mother & 1 & 2 & 0 & yes & yes & no  & no  & yes & yes & 3 & 3 & 4 & 2 & 4 & 5 & 2 & 13 & 11 & 11\\\\\n",
       "\t GP & F & 15 & R & GT3 & T & 2 & 2 & at\\_home  & other    & reputation & yes & no  & mother & 1 & 1 & 0 & yes & yes & yes & yes & yes & no  & 4 & 3 & 1 & 1 & 1 & 2 & 8 & 14 & 13 & 13 & mother & 1 & 1 & 0 & yes & yes & no  & yes & yes & no  & 4 & 3 & 1 & 1 & 1 & 2 & 8 & 14 & 13 & 12\\\\\n",
       "\t GP & F & 15 & R & GT3 & T & 2 & 4 & services & health   & course     & yes & yes & mother & 1 & 3 & 0 & yes & yes & yes & yes & yes & no  & 4 & 3 & 2 & 1 & 1 & 5 & 2 & 10 &  9 &  8 & mother & 1 & 3 & 0 & yes & yes & no  & yes & yes & no  & 4 & 3 & 2 & 1 & 1 & 5 & 2 & 10 & 11 & 10\\\\\n",
       "\t GP & F & 15 & R & GT3 & T & 3 & 3 & services & services & reputation & yes & yes & other  & 2 & 3 & 2 & no  & yes & yes & yes & yes & yes & 4 & 2 & 1 & 2 & 3 & 3 & 8 & 10 & 10 & 10 & other  & 2 & 3 & 0 & no  & yes & yes & yes & yes & yes & 4 & 2 & 1 & 2 & 3 & 3 & 2 & 13 & 13 & 13\\\\\n",
       "\t GP & F & 15 & R & GT3 & T & 3 & 4 & services & health   & course     & yes & yes & mother & 1 & 3 & 0 & yes & yes & yes & yes & yes & no  & 4 & 3 & 2 & 1 & 1 & 5 & 2 & 12 & 12 & 11 & mother & 1 & 3 & 0 & yes & yes & no  & yes & yes & no  & 4 & 3 & 2 & 1 & 1 & 5 & 2 & 11 & 12 & 12\\\\\n",
       "\\end{tabular}\n"
      ],
      "text/markdown": [
       "\n",
       "A data.frame: 6 × 53\n",
       "\n",
       "| school &lt;chr&gt; | sex &lt;chr&gt; | age &lt;int&gt; | address &lt;chr&gt; | famsize &lt;chr&gt; | Pstatus &lt;chr&gt; | Medu &lt;int&gt; | Fedu &lt;int&gt; | Mjob &lt;chr&gt; | Fjob &lt;chr&gt; | ... ... | famrel.y &lt;int&gt; | freetime.y &lt;int&gt; | goout.y &lt;int&gt; | Dalc.y &lt;int&gt; | Walc.y &lt;int&gt; | health.y &lt;int&gt; | absences.y &lt;int&gt; | G1.y &lt;int&gt; | G2.y &lt;int&gt; | G3.y &lt;int&gt; |\n",
       "|---|---|---|---|---|---|---|---|---|---|---|---|---|---|---|---|---|---|---|---|---|\n",
       "| GP | F | 15 | R | GT3 | T | 1 | 1 | at_home  | other    | ... | 3 | 1 | 2 | 1 | 1 | 1 | 4 | 13 | 13 | 13 |\n",
       "| GP | F | 15 | R | GT3 | T | 1 | 1 | other    | other    | ... | 3 | 3 | 4 | 2 | 4 | 5 | 2 | 13 | 11 | 11 |\n",
       "| GP | F | 15 | R | GT3 | T | 2 | 2 | at_home  | other    | ... | 4 | 3 | 1 | 1 | 1 | 2 | 8 | 14 | 13 | 12 |\n",
       "| GP | F | 15 | R | GT3 | T | 2 | 4 | services | health   | ... | 4 | 3 | 2 | 1 | 1 | 5 | 2 | 10 | 11 | 10 |\n",
       "| GP | F | 15 | R | GT3 | T | 3 | 3 | services | services | ... | 4 | 2 | 1 | 2 | 3 | 3 | 2 | 13 | 13 | 13 |\n",
       "| GP | F | 15 | R | GT3 | T | 3 | 4 | services | health   | ... | 4 | 3 | 2 | 1 | 1 | 5 | 2 | 11 | 12 | 12 |\n",
       "\n"
      ],
      "text/plain": [
       "  school sex age address famsize Pstatus Medu Fedu Mjob     Fjob     ...\n",
       "1 GP     F   15  R       GT3     T       1    1    at_home  other    ...\n",
       "2 GP     F   15  R       GT3     T       1    1    other    other    ...\n",
       "3 GP     F   15  R       GT3     T       2    2    at_home  other    ...\n",
       "4 GP     F   15  R       GT3     T       2    4    services health   ...\n",
       "5 GP     F   15  R       GT3     T       3    3    services services ...\n",
       "6 GP     F   15  R       GT3     T       3    4    services health   ...\n",
       "  famrel.y freetime.y goout.y Dalc.y Walc.y health.y absences.y G1.y G2.y G3.y\n",
       "1 3        1          2       1      1      1        4          13   13   13  \n",
       "2 3        3          4       2      4      5        2          13   11   11  \n",
       "3 4        3          1       1      1      2        8          14   13   12  \n",
       "4 4        3          2       1      1      5        2          10   11   10  \n",
       "5 4        2          1       2      3      3        2          13   13   13  \n",
       "6 4        3          2       1      1      5        2          11   12   12  "
      ]
     },
     "metadata": {},
     "output_type": "display_data"
    },
    {
     "data": {
      "text/html": [
       "<ol class=list-inline>\n",
       "\t<li>'school'</li>\n",
       "\t<li>'sex'</li>\n",
       "\t<li>'age'</li>\n",
       "\t<li>'address'</li>\n",
       "\t<li>'famsize'</li>\n",
       "\t<li>'Pstatus'</li>\n",
       "\t<li>'Medu'</li>\n",
       "\t<li>'Fedu'</li>\n",
       "\t<li>'Mjob'</li>\n",
       "\t<li>'Fjob'</li>\n",
       "\t<li>'reason'</li>\n",
       "\t<li>'nursery'</li>\n",
       "\t<li>'internet'</li>\n",
       "\t<li>'guardian.x'</li>\n",
       "\t<li>'traveltime.x'</li>\n",
       "\t<li>'studytime.x'</li>\n",
       "\t<li>'failures.x'</li>\n",
       "\t<li>'schoolsup.x'</li>\n",
       "\t<li>'famsup.x'</li>\n",
       "\t<li>'paid.x'</li>\n",
       "\t<li>'activities.x'</li>\n",
       "\t<li>'higher.x'</li>\n",
       "\t<li>'romantic.x'</li>\n",
       "\t<li>'famrel.x'</li>\n",
       "\t<li>'freetime.x'</li>\n",
       "\t<li>'goout.x'</li>\n",
       "\t<li>'Dalc.x'</li>\n",
       "\t<li>'Walc.x'</li>\n",
       "\t<li>'health.x'</li>\n",
       "\t<li>'absences.x'</li>\n",
       "\t<li>'G1.x'</li>\n",
       "\t<li>'G2.x'</li>\n",
       "\t<li>'G3.x'</li>\n",
       "\t<li>'guardian.y'</li>\n",
       "\t<li>'traveltime.y'</li>\n",
       "\t<li>'studytime.y'</li>\n",
       "\t<li>'failures.y'</li>\n",
       "\t<li>'schoolsup.y'</li>\n",
       "\t<li>'famsup.y'</li>\n",
       "\t<li>'paid.y'</li>\n",
       "\t<li>'activities.y'</li>\n",
       "\t<li>'higher.y'</li>\n",
       "\t<li>'romantic.y'</li>\n",
       "\t<li>'famrel.y'</li>\n",
       "\t<li>'freetime.y'</li>\n",
       "\t<li>'goout.y'</li>\n",
       "\t<li>'Dalc.y'</li>\n",
       "\t<li>'Walc.y'</li>\n",
       "\t<li>'health.y'</li>\n",
       "\t<li>'absences.y'</li>\n",
       "\t<li>'G1.y'</li>\n",
       "\t<li>'G2.y'</li>\n",
       "\t<li>'G3.y'</li>\n",
       "</ol>\n"
      ],
      "text/latex": [
       "\\begin{enumerate*}\n",
       "\\item 'school'\n",
       "\\item 'sex'\n",
       "\\item 'age'\n",
       "\\item 'address'\n",
       "\\item 'famsize'\n",
       "\\item 'Pstatus'\n",
       "\\item 'Medu'\n",
       "\\item 'Fedu'\n",
       "\\item 'Mjob'\n",
       "\\item 'Fjob'\n",
       "\\item 'reason'\n",
       "\\item 'nursery'\n",
       "\\item 'internet'\n",
       "\\item 'guardian.x'\n",
       "\\item 'traveltime.x'\n",
       "\\item 'studytime.x'\n",
       "\\item 'failures.x'\n",
       "\\item 'schoolsup.x'\n",
       "\\item 'famsup.x'\n",
       "\\item 'paid.x'\n",
       "\\item 'activities.x'\n",
       "\\item 'higher.x'\n",
       "\\item 'romantic.x'\n",
       "\\item 'famrel.x'\n",
       "\\item 'freetime.x'\n",
       "\\item 'goout.x'\n",
       "\\item 'Dalc.x'\n",
       "\\item 'Walc.x'\n",
       "\\item 'health.x'\n",
       "\\item 'absences.x'\n",
       "\\item 'G1.x'\n",
       "\\item 'G2.x'\n",
       "\\item 'G3.x'\n",
       "\\item 'guardian.y'\n",
       "\\item 'traveltime.y'\n",
       "\\item 'studytime.y'\n",
       "\\item 'failures.y'\n",
       "\\item 'schoolsup.y'\n",
       "\\item 'famsup.y'\n",
       "\\item 'paid.y'\n",
       "\\item 'activities.y'\n",
       "\\item 'higher.y'\n",
       "\\item 'romantic.y'\n",
       "\\item 'famrel.y'\n",
       "\\item 'freetime.y'\n",
       "\\item 'goout.y'\n",
       "\\item 'Dalc.y'\n",
       "\\item 'Walc.y'\n",
       "\\item 'health.y'\n",
       "\\item 'absences.y'\n",
       "\\item 'G1.y'\n",
       "\\item 'G2.y'\n",
       "\\item 'G3.y'\n",
       "\\end{enumerate*}\n"
      ],
      "text/markdown": [
       "1. 'school'\n",
       "2. 'sex'\n",
       "3. 'age'\n",
       "4. 'address'\n",
       "5. 'famsize'\n",
       "6. 'Pstatus'\n",
       "7. 'Medu'\n",
       "8. 'Fedu'\n",
       "9. 'Mjob'\n",
       "10. 'Fjob'\n",
       "11. 'reason'\n",
       "12. 'nursery'\n",
       "13. 'internet'\n",
       "14. 'guardian.x'\n",
       "15. 'traveltime.x'\n",
       "16. 'studytime.x'\n",
       "17. 'failures.x'\n",
       "18. 'schoolsup.x'\n",
       "19. 'famsup.x'\n",
       "20. 'paid.x'\n",
       "21. 'activities.x'\n",
       "22. 'higher.x'\n",
       "23. 'romantic.x'\n",
       "24. 'famrel.x'\n",
       "25. 'freetime.x'\n",
       "26. 'goout.x'\n",
       "27. 'Dalc.x'\n",
       "28. 'Walc.x'\n",
       "29. 'health.x'\n",
       "30. 'absences.x'\n",
       "31. 'G1.x'\n",
       "32. 'G2.x'\n",
       "33. 'G3.x'\n",
       "34. 'guardian.y'\n",
       "35. 'traveltime.y'\n",
       "36. 'studytime.y'\n",
       "37. 'failures.y'\n",
       "38. 'schoolsup.y'\n",
       "39. 'famsup.y'\n",
       "40. 'paid.y'\n",
       "41. 'activities.y'\n",
       "42. 'higher.y'\n",
       "43. 'romantic.y'\n",
       "44. 'famrel.y'\n",
       "45. 'freetime.y'\n",
       "46. 'goout.y'\n",
       "47. 'Dalc.y'\n",
       "48. 'Walc.y'\n",
       "49. 'health.y'\n",
       "50. 'absences.y'\n",
       "51. 'G1.y'\n",
       "52. 'G2.y'\n",
       "53. 'G3.y'\n",
       "\n",
       "\n"
      ],
      "text/plain": [
       " [1] \"school\"       \"sex\"          \"age\"          \"address\"      \"famsize\"     \n",
       " [6] \"Pstatus\"      \"Medu\"         \"Fedu\"         \"Mjob\"         \"Fjob\"        \n",
       "[11] \"reason\"       \"nursery\"      \"internet\"     \"guardian.x\"   \"traveltime.x\"\n",
       "[16] \"studytime.x\"  \"failures.x\"   \"schoolsup.x\"  \"famsup.x\"     \"paid.x\"      \n",
       "[21] \"activities.x\" \"higher.x\"     \"romantic.x\"   \"famrel.x\"     \"freetime.x\"  \n",
       "[26] \"goout.x\"      \"Dalc.x\"       \"Walc.x\"       \"health.x\"     \"absences.x\"  \n",
       "[31] \"G1.x\"         \"G2.x\"         \"G3.x\"         \"guardian.y\"   \"traveltime.y\"\n",
       "[36] \"studytime.y\"  \"failures.y\"   \"schoolsup.y\"  \"famsup.y\"     \"paid.y\"      \n",
       "[41] \"activities.y\" \"higher.y\"     \"romantic.y\"   \"famrel.y\"     \"freetime.y\"  \n",
       "[46] \"goout.y\"      \"Dalc.y\"       \"Walc.y\"       \"health.y\"     \"absences.y\"  \n",
       "[51] \"G1.y\"         \"G2.y\"         \"G3.y\"        "
      ]
     },
     "metadata": {},
     "output_type": "display_data"
    }
   ],
   "source": [
    "d1_col_names<-names(d1)\n",
    "d1_col_names\n",
    "\n",
    "d2_col_names<-names(d2)\n",
    "d2_col_names\n",
    "\n",
    "d3 =merge(d1,d2, by=c(\"school\",\n",
    "                      \"sex\",\"age\",\"address\",\n",
    "                      \"famsize\",\"Pstatus\",\n",
    "                      \"Medu\",\"Fedu\",\"Mjob\",\n",
    "                      \"Fjob\",\"reason\",\"nursery\",\n",
    "                      \"internet\"))\n",
    "\n",
    "head(d3)\n",
    "d3_col_names<-names(d3)\n",
    "d3_col_names"
   ]
  },
  {
   "cell_type": "markdown",
   "metadata": {},
   "source": [
    "R数据分析之merge函数\n",
    "http://rstudio-pubs-static.s3.amazonaws.com/13602_96265a9b3bac4cb1b214340770aa18a1.html"
   ]
  },
  {
   "cell_type": "code",
   "execution_count": 20,
   "metadata": {
    "collapsed": true
   },
   "outputs": [],
   "source": [
    "id1 <- c(2, 3, 4, 5, 7)\n",
    "heights <- c(62, 65, 71, 71, 67)\n",
    "df1 <- data.frame(id = id1, heights)\n",
    "\n",
    "id2 <- c(1, 2, 6:10)\n",
    "weights <- c(147, 113, 168, 135, 142, 159, 160)\n",
    "df2 <- data.frame(id = id2, weights)"
   ]
  },
  {
   "cell_type": "code",
   "execution_count": 21,
   "metadata": {},
   "outputs": [
    {
     "data": {
      "text/html": [
       "<table>\n",
       "<caption>A data.frame: 5 × 2</caption>\n",
       "<thead>\n",
       "\t<tr><th scope=col>id</th><th scope=col>heights</th></tr>\n",
       "\t<tr><th scope=col>&lt;dbl&gt;</th><th scope=col>&lt;dbl&gt;</th></tr>\n",
       "</thead>\n",
       "<tbody>\n",
       "\t<tr><td>2</td><td>62</td></tr>\n",
       "\t<tr><td>3</td><td>65</td></tr>\n",
       "\t<tr><td>4</td><td>71</td></tr>\n",
       "\t<tr><td>5</td><td>71</td></tr>\n",
       "\t<tr><td>7</td><td>67</td></tr>\n",
       "</tbody>\n",
       "</table>\n"
      ],
      "text/latex": [
       "A data.frame: 5 × 2\n",
       "\\begin{tabular}{r|ll}\n",
       " id & heights\\\\\n",
       " <dbl> & <dbl>\\\\\n",
       "\\hline\n",
       "\t 2 & 62\\\\\n",
       "\t 3 & 65\\\\\n",
       "\t 4 & 71\\\\\n",
       "\t 5 & 71\\\\\n",
       "\t 7 & 67\\\\\n",
       "\\end{tabular}\n"
      ],
      "text/markdown": [
       "\n",
       "A data.frame: 5 × 2\n",
       "\n",
       "| id &lt;dbl&gt; | heights &lt;dbl&gt; |\n",
       "|---|---|\n",
       "| 2 | 62 |\n",
       "| 3 | 65 |\n",
       "| 4 | 71 |\n",
       "| 5 | 71 |\n",
       "| 7 | 67 |\n",
       "\n"
      ],
      "text/plain": [
       "  id heights\n",
       "1 2  62     \n",
       "2 3  65     \n",
       "3 4  71     \n",
       "4 5  71     \n",
       "5 7  67     "
      ]
     },
     "metadata": {},
     "output_type": "display_data"
    }
   ],
   "source": [
    "df1"
   ]
  },
  {
   "cell_type": "code",
   "execution_count": 22,
   "metadata": {},
   "outputs": [
    {
     "data": {
      "text/html": [
       "<table>\n",
       "<caption>A data.frame: 7 × 2</caption>\n",
       "<thead>\n",
       "\t<tr><th scope=col>id</th><th scope=col>weights</th></tr>\n",
       "\t<tr><th scope=col>&lt;dbl&gt;</th><th scope=col>&lt;dbl&gt;</th></tr>\n",
       "</thead>\n",
       "<tbody>\n",
       "\t<tr><td> 1</td><td>147</td></tr>\n",
       "\t<tr><td> 2</td><td>113</td></tr>\n",
       "\t<tr><td> 6</td><td>168</td></tr>\n",
       "\t<tr><td> 7</td><td>135</td></tr>\n",
       "\t<tr><td> 8</td><td>142</td></tr>\n",
       "\t<tr><td> 9</td><td>159</td></tr>\n",
       "\t<tr><td>10</td><td>160</td></tr>\n",
       "</tbody>\n",
       "</table>\n"
      ],
      "text/latex": [
       "A data.frame: 7 × 2\n",
       "\\begin{tabular}{r|ll}\n",
       " id & weights\\\\\n",
       " <dbl> & <dbl>\\\\\n",
       "\\hline\n",
       "\t  1 & 147\\\\\n",
       "\t  2 & 113\\\\\n",
       "\t  6 & 168\\\\\n",
       "\t  7 & 135\\\\\n",
       "\t  8 & 142\\\\\n",
       "\t  9 & 159\\\\\n",
       "\t 10 & 160\\\\\n",
       "\\end{tabular}\n"
      ],
      "text/markdown": [
       "\n",
       "A data.frame: 7 × 2\n",
       "\n",
       "| id &lt;dbl&gt; | weights &lt;dbl&gt; |\n",
       "|---|---|\n",
       "|  1 | 147 |\n",
       "|  2 | 113 |\n",
       "|  6 | 168 |\n",
       "|  7 | 135 |\n",
       "|  8 | 142 |\n",
       "|  9 | 159 |\n",
       "| 10 | 160 |\n",
       "\n"
      ],
      "text/plain": [
       "  id weights\n",
       "1  1 147    \n",
       "2  2 113    \n",
       "3  6 168    \n",
       "4  7 135    \n",
       "5  8 142    \n",
       "6  9 159    \n",
       "7 10 160    "
      ]
     },
     "metadata": {},
     "output_type": "display_data"
    }
   ],
   "source": [
    "df2"
   ]
  },
  {
   "cell_type": "code",
   "execution_count": 23,
   "metadata": {},
   "outputs": [
    {
     "data": {
      "text/html": [
       "<table>\n",
       "<caption>A data.frame: 2 × 3</caption>\n",
       "<thead>\n",
       "\t<tr><th scope=col>id</th><th scope=col>heights</th><th scope=col>weights</th></tr>\n",
       "\t<tr><th scope=col>&lt;dbl&gt;</th><th scope=col>&lt;dbl&gt;</th><th scope=col>&lt;dbl&gt;</th></tr>\n",
       "</thead>\n",
       "<tbody>\n",
       "\t<tr><td>2</td><td>62</td><td>113</td></tr>\n",
       "\t<tr><td>7</td><td>67</td><td>135</td></tr>\n",
       "</tbody>\n",
       "</table>\n"
      ],
      "text/latex": [
       "A data.frame: 2 × 3\n",
       "\\begin{tabular}{r|lll}\n",
       " id & heights & weights\\\\\n",
       " <dbl> & <dbl> & <dbl>\\\\\n",
       "\\hline\n",
       "\t 2 & 62 & 113\\\\\n",
       "\t 7 & 67 & 135\\\\\n",
       "\\end{tabular}\n"
      ],
      "text/markdown": [
       "\n",
       "A data.frame: 2 × 3\n",
       "\n",
       "| id &lt;dbl&gt; | heights &lt;dbl&gt; | weights &lt;dbl&gt; |\n",
       "|---|---|---|\n",
       "| 2 | 62 | 113 |\n",
       "| 7 | 67 | 135 |\n",
       "\n"
      ],
      "text/plain": [
       "  id heights weights\n",
       "1 2  62      113    \n",
       "2 7  67      135    "
      ]
     },
     "metadata": {},
     "output_type": "display_data"
    }
   ],
   "source": [
    "merge(df1, df2, all=FALSE)"
   ]
  },
  {
   "cell_type": "code",
   "execution_count": 24,
   "metadata": {},
   "outputs": [
    {
     "data": {
      "text/html": [
       "<table>\n",
       "<caption>A data.frame: 2 × 3</caption>\n",
       "<thead>\n",
       "\t<tr><th scope=col>id</th><th scope=col>weights</th><th scope=col>heights</th></tr>\n",
       "\t<tr><th scope=col>&lt;dbl&gt;</th><th scope=col>&lt;dbl&gt;</th><th scope=col>&lt;dbl&gt;</th></tr>\n",
       "</thead>\n",
       "<tbody>\n",
       "\t<tr><td>2</td><td>113</td><td>62</td></tr>\n",
       "\t<tr><td>7</td><td>135</td><td>67</td></tr>\n",
       "</tbody>\n",
       "</table>\n"
      ],
      "text/latex": [
       "A data.frame: 2 × 3\n",
       "\\begin{tabular}{r|lll}\n",
       " id & weights & heights\\\\\n",
       " <dbl> & <dbl> & <dbl>\\\\\n",
       "\\hline\n",
       "\t 2 & 113 & 62\\\\\n",
       "\t 7 & 135 & 67\\\\\n",
       "\\end{tabular}\n"
      ],
      "text/markdown": [
       "\n",
       "A data.frame: 2 × 3\n",
       "\n",
       "| id &lt;dbl&gt; | weights &lt;dbl&gt; | heights &lt;dbl&gt; |\n",
       "|---|---|---|\n",
       "| 2 | 113 | 62 |\n",
       "| 7 | 135 | 67 |\n",
       "\n"
      ],
      "text/plain": [
       "  id weights heights\n",
       "1 2  113     62     \n",
       "2 7  135     67     "
      ]
     },
     "metadata": {},
     "output_type": "display_data"
    }
   ],
   "source": [
    "merge(df2, df1, all=FALSE)"
   ]
  },
  {
   "cell_type": "code",
   "execution_count": 25,
   "metadata": {},
   "outputs": [
    {
     "data": {
      "text/html": [
       "<table>\n",
       "<caption>A data.frame: 10 × 3</caption>\n",
       "<thead>\n",
       "\t<tr><th scope=col>id</th><th scope=col>heights</th><th scope=col>weights</th></tr>\n",
       "\t<tr><th scope=col>&lt;dbl&gt;</th><th scope=col>&lt;dbl&gt;</th><th scope=col>&lt;dbl&gt;</th></tr>\n",
       "</thead>\n",
       "<tbody>\n",
       "\t<tr><td> 1</td><td>NA</td><td>147</td></tr>\n",
       "\t<tr><td> 2</td><td>62</td><td>113</td></tr>\n",
       "\t<tr><td> 3</td><td>65</td><td> NA</td></tr>\n",
       "\t<tr><td> 4</td><td>71</td><td> NA</td></tr>\n",
       "\t<tr><td> 5</td><td>71</td><td> NA</td></tr>\n",
       "\t<tr><td> 6</td><td>NA</td><td>168</td></tr>\n",
       "\t<tr><td> 7</td><td>67</td><td>135</td></tr>\n",
       "\t<tr><td> 8</td><td>NA</td><td>142</td></tr>\n",
       "\t<tr><td> 9</td><td>NA</td><td>159</td></tr>\n",
       "\t<tr><td>10</td><td>NA</td><td>160</td></tr>\n",
       "</tbody>\n",
       "</table>\n"
      ],
      "text/latex": [
       "A data.frame: 10 × 3\n",
       "\\begin{tabular}{r|lll}\n",
       " id & heights & weights\\\\\n",
       " <dbl> & <dbl> & <dbl>\\\\\n",
       "\\hline\n",
       "\t  1 & NA & 147\\\\\n",
       "\t  2 & 62 & 113\\\\\n",
       "\t  3 & 65 &  NA\\\\\n",
       "\t  4 & 71 &  NA\\\\\n",
       "\t  5 & 71 &  NA\\\\\n",
       "\t  6 & NA & 168\\\\\n",
       "\t  7 & 67 & 135\\\\\n",
       "\t  8 & NA & 142\\\\\n",
       "\t  9 & NA & 159\\\\\n",
       "\t 10 & NA & 160\\\\\n",
       "\\end{tabular}\n"
      ],
      "text/markdown": [
       "\n",
       "A data.frame: 10 × 3\n",
       "\n",
       "| id &lt;dbl&gt; | heights &lt;dbl&gt; | weights &lt;dbl&gt; |\n",
       "|---|---|---|\n",
       "|  1 | NA | 147 |\n",
       "|  2 | 62 | 113 |\n",
       "|  3 | 65 |  NA |\n",
       "|  4 | 71 |  NA |\n",
       "|  5 | 71 |  NA |\n",
       "|  6 | NA | 168 |\n",
       "|  7 | 67 | 135 |\n",
       "|  8 | NA | 142 |\n",
       "|  9 | NA | 159 |\n",
       "| 10 | NA | 160 |\n",
       "\n"
      ],
      "text/plain": [
       "   id heights weights\n",
       "1   1 NA      147    \n",
       "2   2 62      113    \n",
       "3   3 65       NA    \n",
       "4   4 71       NA    \n",
       "5   5 71       NA    \n",
       "6   6 NA      168    \n",
       "7   7 67      135    \n",
       "8   8 NA      142    \n",
       "9   9 NA      159    \n",
       "10 10 NA      160    "
      ]
     },
     "metadata": {},
     "output_type": "display_data"
    }
   ],
   "source": [
    "merge(df1, df2, by='id', all=TRUE)"
   ]
  },
  {
   "cell_type": "code",
   "execution_count": 26,
   "metadata": {},
   "outputs": [
    {
     "data": {
      "text/html": [
       "<table>\n",
       "<caption>A data.frame: 5 × 3</caption>\n",
       "<thead>\n",
       "\t<tr><th scope=col>id</th><th scope=col>heights</th><th scope=col>weights</th></tr>\n",
       "\t<tr><th scope=col>&lt;dbl&gt;</th><th scope=col>&lt;dbl&gt;</th><th scope=col>&lt;dbl&gt;</th></tr>\n",
       "</thead>\n",
       "<tbody>\n",
       "\t<tr><td>2</td><td>62</td><td>113</td></tr>\n",
       "\t<tr><td>3</td><td>65</td><td> NA</td></tr>\n",
       "\t<tr><td>4</td><td>71</td><td> NA</td></tr>\n",
       "\t<tr><td>5</td><td>71</td><td> NA</td></tr>\n",
       "\t<tr><td>7</td><td>67</td><td>135</td></tr>\n",
       "</tbody>\n",
       "</table>\n"
      ],
      "text/latex": [
       "A data.frame: 5 × 3\n",
       "\\begin{tabular}{r|lll}\n",
       " id & heights & weights\\\\\n",
       " <dbl> & <dbl> & <dbl>\\\\\n",
       "\\hline\n",
       "\t 2 & 62 & 113\\\\\n",
       "\t 3 & 65 &  NA\\\\\n",
       "\t 4 & 71 &  NA\\\\\n",
       "\t 5 & 71 &  NA\\\\\n",
       "\t 7 & 67 & 135\\\\\n",
       "\\end{tabular}\n"
      ],
      "text/markdown": [
       "\n",
       "A data.frame: 5 × 3\n",
       "\n",
       "| id &lt;dbl&gt; | heights &lt;dbl&gt; | weights &lt;dbl&gt; |\n",
       "|---|---|---|\n",
       "| 2 | 62 | 113 |\n",
       "| 3 | 65 |  NA |\n",
       "| 4 | 71 |  NA |\n",
       "| 5 | 71 |  NA |\n",
       "| 7 | 67 | 135 |\n",
       "\n"
      ],
      "text/plain": [
       "  id heights weights\n",
       "1 2  62      113    \n",
       "2 3  65       NA    \n",
       "3 4  71       NA    \n",
       "4 5  71       NA    \n",
       "5 7  67      135    "
      ]
     },
     "metadata": {},
     "output_type": "display_data"
    }
   ],
   "source": [
    "merge(df1, df2, by = \"id\", all.x = TRUE)"
   ]
  },
  {
   "cell_type": "code",
   "execution_count": 27,
   "metadata": {},
   "outputs": [
    {
     "data": {
      "text/html": [
       "<table>\n",
       "<caption>A data.frame: 7 × 3</caption>\n",
       "<thead>\n",
       "\t<tr><th scope=col>id</th><th scope=col>heights</th><th scope=col>weights</th></tr>\n",
       "\t<tr><th scope=col>&lt;dbl&gt;</th><th scope=col>&lt;dbl&gt;</th><th scope=col>&lt;dbl&gt;</th></tr>\n",
       "</thead>\n",
       "<tbody>\n",
       "\t<tr><td> 1</td><td>NA</td><td>147</td></tr>\n",
       "\t<tr><td> 2</td><td>62</td><td>113</td></tr>\n",
       "\t<tr><td> 6</td><td>NA</td><td>168</td></tr>\n",
       "\t<tr><td> 7</td><td>67</td><td>135</td></tr>\n",
       "\t<tr><td> 8</td><td>NA</td><td>142</td></tr>\n",
       "\t<tr><td> 9</td><td>NA</td><td>159</td></tr>\n",
       "\t<tr><td>10</td><td>NA</td><td>160</td></tr>\n",
       "</tbody>\n",
       "</table>\n"
      ],
      "text/latex": [
       "A data.frame: 7 × 3\n",
       "\\begin{tabular}{r|lll}\n",
       " id & heights & weights\\\\\n",
       " <dbl> & <dbl> & <dbl>\\\\\n",
       "\\hline\n",
       "\t  1 & NA & 147\\\\\n",
       "\t  2 & 62 & 113\\\\\n",
       "\t  6 & NA & 168\\\\\n",
       "\t  7 & 67 & 135\\\\\n",
       "\t  8 & NA & 142\\\\\n",
       "\t  9 & NA & 159\\\\\n",
       "\t 10 & NA & 160\\\\\n",
       "\\end{tabular}\n"
      ],
      "text/markdown": [
       "\n",
       "A data.frame: 7 × 3\n",
       "\n",
       "| id &lt;dbl&gt; | heights &lt;dbl&gt; | weights &lt;dbl&gt; |\n",
       "|---|---|---|\n",
       "|  1 | NA | 147 |\n",
       "|  2 | 62 | 113 |\n",
       "|  6 | NA | 168 |\n",
       "|  7 | 67 | 135 |\n",
       "|  8 | NA | 142 |\n",
       "|  9 | NA | 159 |\n",
       "| 10 | NA | 160 |\n",
       "\n"
      ],
      "text/plain": [
       "  id heights weights\n",
       "1  1 NA      147    \n",
       "2  2 62      113    \n",
       "3  6 NA      168    \n",
       "4  7 67      135    \n",
       "5  8 NA      142    \n",
       "6  9 NA      159    \n",
       "7 10 NA      160    "
      ]
     },
     "metadata": {},
     "output_type": "display_data"
    }
   ],
   "source": [
    "merge(df1, df2, by = \"id\", all.y = TRUE)"
   ]
  },
  {
   "cell_type": "code",
   "execution_count": 28,
   "metadata": {},
   "outputs": [
    {
     "data": {
      "text/html": [
       "<table>\n",
       "<caption>A data.frame: 2 × 4</caption>\n",
       "<thead>\n",
       "\t<tr><th scope=col>id</th><th scope=col>sex</th><th scope=col>heights</th><th scope=col>weights</th></tr>\n",
       "\t<tr><th scope=col>&lt;dbl&gt;</th><th scope=col>&lt;chr&gt;</th><th scope=col>&lt;dbl&gt;</th><th scope=col>&lt;dbl&gt;</th></tr>\n",
       "</thead>\n",
       "<tbody>\n",
       "\t<tr><td>2</td><td>f</td><td>62</td><td>113</td></tr>\n",
       "\t<tr><td>7</td><td>m</td><td>67</td><td>135</td></tr>\n",
       "</tbody>\n",
       "</table>\n"
      ],
      "text/latex": [
       "A data.frame: 2 × 4\n",
       "\\begin{tabular}{r|llll}\n",
       " id & sex & heights & weights\\\\\n",
       " <dbl> & <chr> & <dbl> & <dbl>\\\\\n",
       "\\hline\n",
       "\t 2 & f & 62 & 113\\\\\n",
       "\t 7 & m & 67 & 135\\\\\n",
       "\\end{tabular}\n"
      ],
      "text/markdown": [
       "\n",
       "A data.frame: 2 × 4\n",
       "\n",
       "| id &lt;dbl&gt; | sex &lt;chr&gt; | heights &lt;dbl&gt; | weights &lt;dbl&gt; |\n",
       "|---|---|---|---|\n",
       "| 2 | f | 62 | 113 |\n",
       "| 7 | m | 67 | 135 |\n",
       "\n"
      ],
      "text/plain": [
       "  id sex heights weights\n",
       "1 2  f   62      113    \n",
       "2 7  m   67      135    "
      ]
     },
     "metadata": {},
     "output_type": "display_data"
    }
   ],
   "source": [
    "df1$sex <- c(\"f\", \"m\", \"f\", \"f\", \"m\")\n",
    "df2$sex <- c(\"f\", \"f\", \"m\", \"m\", \"f\", \"f\", \"f\")\n",
    "merge(df1, df2)"
   ]
  },
  {
   "cell_type": "code",
   "execution_count": 29,
   "metadata": {},
   "outputs": [
    {
     "data": {
      "text/html": [
       "<table>\n",
       "<caption>A data.frame: 2 × 4</caption>\n",
       "<thead>\n",
       "\t<tr><th scope=col>id</th><th scope=col>sex</th><th scope=col>heights</th><th scope=col>weights</th></tr>\n",
       "\t<tr><th scope=col>&lt;dbl&gt;</th><th scope=col>&lt;chr&gt;</th><th scope=col>&lt;dbl&gt;</th><th scope=col>&lt;dbl&gt;</th></tr>\n",
       "</thead>\n",
       "<tbody>\n",
       "\t<tr><td>2</td><td>f</td><td>62</td><td>113</td></tr>\n",
       "\t<tr><td>7</td><td>m</td><td>67</td><td>135</td></tr>\n",
       "</tbody>\n",
       "</table>\n"
      ],
      "text/latex": [
       "A data.frame: 2 × 4\n",
       "\\begin{tabular}{r|llll}\n",
       " id & sex & heights & weights\\\\\n",
       " <dbl> & <chr> & <dbl> & <dbl>\\\\\n",
       "\\hline\n",
       "\t 2 & f & 62 & 113\\\\\n",
       "\t 7 & m & 67 & 135\\\\\n",
       "\\end{tabular}\n"
      ],
      "text/markdown": [
       "\n",
       "A data.frame: 2 × 4\n",
       "\n",
       "| id &lt;dbl&gt; | sex &lt;chr&gt; | heights &lt;dbl&gt; | weights &lt;dbl&gt; |\n",
       "|---|---|---|---|\n",
       "| 2 | f | 62 | 113 |\n",
       "| 7 | m | 67 | 135 |\n",
       "\n"
      ],
      "text/plain": [
       "  id sex heights weights\n",
       "1 2  f   62      113    \n",
       "2 7  m   67      135    "
      ]
     },
     "metadata": {},
     "output_type": "display_data"
    }
   ],
   "source": [
    "merge(df1, df2, by = c(\"id\", \"sex\"))"
   ]
  },
  {
   "cell_type": "markdown",
   "metadata": {},
   "source": [
    "Medu - mother’s education (numeric: 0 - none, 1 - primary education (4th grade), 2 – 5th to 9th grade, 3 – secondary education or 4 – higher education)\n",
    "Fedu - father’s education (numeric: 0 - none, 1 - primary education (4th grade), 2 – 5th to 9th grade, 3 – secondary education or 4 – higher education)\n",
    "Mjob - mother’s job (nominal: ‘teacher’, ‘health’ care related, civil ‘services’ (e.g. administrative or police), ‘at_home’ or ‘other’)\n",
    "Fjob - father’s job (nominal: ‘teacher’, ‘health’ care related, civil ‘services’ (e.g. administrative or police), ‘at_home’ or ‘other’)\n",
    "studytime - weekly study time (numeric: 1 - <2 hours, 2 - 2 to 5 hours, 3 - 5 to 10 hours, or 4 - >10 hours)\n",
    "G1 - first period grade (numeric: from 0 to 20)"
   ]
  },
  {
   "cell_type": "markdown",
   "metadata": {},
   "source": [
    "Understand\n",
    "\n",
    "Firstly, we subset the merged dataset by selecting columns that we were interested to explore. Types of variables and data structures were summmarised and attributes were checked below. We can see this datsset includes multiple data types, it has both characters such as school,  sex, famsize, Mjob, and numerics such as age, absences,G1.x."
   ]
  },
  {
   "cell_type": "code",
   "execution_count": 31,
   "metadata": {},
   "outputs": [
    {
     "data": {
      "text/html": [
       "<ol class=list-inline>\n",
       "\t<li>'school'</li>\n",
       "\t<li>'sex'</li>\n",
       "\t<li>'age'</li>\n",
       "\t<li>'address'</li>\n",
       "\t<li>'famsize'</li>\n",
       "\t<li>'Pstatus'</li>\n",
       "\t<li>'Medu'</li>\n",
       "\t<li>'Fedu'</li>\n",
       "\t<li>'Mjob'</li>\n",
       "\t<li>'Fjob'</li>\n",
       "\t<li>'reason'</li>\n",
       "\t<li>'nursery'</li>\n",
       "\t<li>'internet'</li>\n",
       "\t<li>'guardian.x'</li>\n",
       "\t<li>'traveltime.x'</li>\n",
       "\t<li>'studytime.x'</li>\n",
       "\t<li>'failures.x'</li>\n",
       "\t<li>'schoolsup.x'</li>\n",
       "\t<li>'famsup.x'</li>\n",
       "\t<li>'paid.x'</li>\n",
       "\t<li>'activities.x'</li>\n",
       "\t<li>'higher.x'</li>\n",
       "\t<li>'romantic.x'</li>\n",
       "\t<li>'famrel.x'</li>\n",
       "\t<li>'freetime.x'</li>\n",
       "\t<li>'goout.x'</li>\n",
       "\t<li>'Dalc.x'</li>\n",
       "\t<li>'Walc.x'</li>\n",
       "\t<li>'health.x'</li>\n",
       "\t<li>'absences.x'</li>\n",
       "\t<li>'G1.x'</li>\n",
       "\t<li>'G2.x'</li>\n",
       "\t<li>'G3.x'</li>\n",
       "\t<li>'guardian.y'</li>\n",
       "\t<li>'traveltime.y'</li>\n",
       "\t<li>'studytime.y'</li>\n",
       "\t<li>'failures.y'</li>\n",
       "\t<li>'schoolsup.y'</li>\n",
       "\t<li>'famsup.y'</li>\n",
       "\t<li>'paid.y'</li>\n",
       "\t<li>'activities.y'</li>\n",
       "\t<li>'higher.y'</li>\n",
       "\t<li>'romantic.y'</li>\n",
       "\t<li>'famrel.y'</li>\n",
       "\t<li>'freetime.y'</li>\n",
       "\t<li>'goout.y'</li>\n",
       "\t<li>'Dalc.y'</li>\n",
       "\t<li>'Walc.y'</li>\n",
       "\t<li>'health.y'</li>\n",
       "\t<li>'absences.y'</li>\n",
       "\t<li>'G1.y'</li>\n",
       "\t<li>'G2.y'</li>\n",
       "\t<li>'G3.y'</li>\n",
       "</ol>\n"
      ],
      "text/latex": [
       "\\begin{enumerate*}\n",
       "\\item 'school'\n",
       "\\item 'sex'\n",
       "\\item 'age'\n",
       "\\item 'address'\n",
       "\\item 'famsize'\n",
       "\\item 'Pstatus'\n",
       "\\item 'Medu'\n",
       "\\item 'Fedu'\n",
       "\\item 'Mjob'\n",
       "\\item 'Fjob'\n",
       "\\item 'reason'\n",
       "\\item 'nursery'\n",
       "\\item 'internet'\n",
       "\\item 'guardian.x'\n",
       "\\item 'traveltime.x'\n",
       "\\item 'studytime.x'\n",
       "\\item 'failures.x'\n",
       "\\item 'schoolsup.x'\n",
       "\\item 'famsup.x'\n",
       "\\item 'paid.x'\n",
       "\\item 'activities.x'\n",
       "\\item 'higher.x'\n",
       "\\item 'romantic.x'\n",
       "\\item 'famrel.x'\n",
       "\\item 'freetime.x'\n",
       "\\item 'goout.x'\n",
       "\\item 'Dalc.x'\n",
       "\\item 'Walc.x'\n",
       "\\item 'health.x'\n",
       "\\item 'absences.x'\n",
       "\\item 'G1.x'\n",
       "\\item 'G2.x'\n",
       "\\item 'G3.x'\n",
       "\\item 'guardian.y'\n",
       "\\item 'traveltime.y'\n",
       "\\item 'studytime.y'\n",
       "\\item 'failures.y'\n",
       "\\item 'schoolsup.y'\n",
       "\\item 'famsup.y'\n",
       "\\item 'paid.y'\n",
       "\\item 'activities.y'\n",
       "\\item 'higher.y'\n",
       "\\item 'romantic.y'\n",
       "\\item 'famrel.y'\n",
       "\\item 'freetime.y'\n",
       "\\item 'goout.y'\n",
       "\\item 'Dalc.y'\n",
       "\\item 'Walc.y'\n",
       "\\item 'health.y'\n",
       "\\item 'absences.y'\n",
       "\\item 'G1.y'\n",
       "\\item 'G2.y'\n",
       "\\item 'G3.y'\n",
       "\\end{enumerate*}\n"
      ],
      "text/markdown": [
       "1. 'school'\n",
       "2. 'sex'\n",
       "3. 'age'\n",
       "4. 'address'\n",
       "5. 'famsize'\n",
       "6. 'Pstatus'\n",
       "7. 'Medu'\n",
       "8. 'Fedu'\n",
       "9. 'Mjob'\n",
       "10. 'Fjob'\n",
       "11. 'reason'\n",
       "12. 'nursery'\n",
       "13. 'internet'\n",
       "14. 'guardian.x'\n",
       "15. 'traveltime.x'\n",
       "16. 'studytime.x'\n",
       "17. 'failures.x'\n",
       "18. 'schoolsup.x'\n",
       "19. 'famsup.x'\n",
       "20. 'paid.x'\n",
       "21. 'activities.x'\n",
       "22. 'higher.x'\n",
       "23. 'romantic.x'\n",
       "24. 'famrel.x'\n",
       "25. 'freetime.x'\n",
       "26. 'goout.x'\n",
       "27. 'Dalc.x'\n",
       "28. 'Walc.x'\n",
       "29. 'health.x'\n",
       "30. 'absences.x'\n",
       "31. 'G1.x'\n",
       "32. 'G2.x'\n",
       "33. 'G3.x'\n",
       "34. 'guardian.y'\n",
       "35. 'traveltime.y'\n",
       "36. 'studytime.y'\n",
       "37. 'failures.y'\n",
       "38. 'schoolsup.y'\n",
       "39. 'famsup.y'\n",
       "40. 'paid.y'\n",
       "41. 'activities.y'\n",
       "42. 'higher.y'\n",
       "43. 'romantic.y'\n",
       "44. 'famrel.y'\n",
       "45. 'freetime.y'\n",
       "46. 'goout.y'\n",
       "47. 'Dalc.y'\n",
       "48. 'Walc.y'\n",
       "49. 'health.y'\n",
       "50. 'absences.y'\n",
       "51. 'G1.y'\n",
       "52. 'G2.y'\n",
       "53. 'G3.y'\n",
       "\n",
       "\n"
      ],
      "text/plain": [
       " [1] \"school\"       \"sex\"          \"age\"          \"address\"      \"famsize\"     \n",
       " [6] \"Pstatus\"      \"Medu\"         \"Fedu\"         \"Mjob\"         \"Fjob\"        \n",
       "[11] \"reason\"       \"nursery\"      \"internet\"     \"guardian.x\"   \"traveltime.x\"\n",
       "[16] \"studytime.x\"  \"failures.x\"   \"schoolsup.x\"  \"famsup.x\"     \"paid.x\"      \n",
       "[21] \"activities.x\" \"higher.x\"     \"romantic.x\"   \"famrel.x\"     \"freetime.x\"  \n",
       "[26] \"goout.x\"      \"Dalc.x\"       \"Walc.x\"       \"health.x\"     \"absences.x\"  \n",
       "[31] \"G1.x\"         \"G2.x\"         \"G3.x\"         \"guardian.y\"   \"traveltime.y\"\n",
       "[36] \"studytime.y\"  \"failures.y\"   \"schoolsup.y\"  \"famsup.y\"     \"paid.y\"      \n",
       "[41] \"activities.y\" \"higher.y\"     \"romantic.y\"   \"famrel.y\"     \"freetime.y\"  \n",
       "[46] \"goout.y\"      \"Dalc.y\"       \"Walc.y\"       \"health.y\"     \"absences.y\"  \n",
       "[51] \"G1.y\"         \"G2.y\"         \"G3.y\"        "
      ]
     },
     "metadata": {},
     "output_type": "display_data"
    },
    {
     "data": {
      "text/html": [
       "53"
      ],
      "text/latex": [
       "53"
      ],
      "text/markdown": [
       "53"
      ],
      "text/plain": [
       "[1] 53"
      ]
     },
     "metadata": {},
     "output_type": "display_data"
    }
   ],
   "source": [
    "d3_col_names\n",
    "\n",
    "length(d3_col_names)"
   ]
  },
  {
   "cell_type": "code",
   "execution_count": 37,
   "metadata": {},
   "outputs": [
    {
     "name": "stdout",
     "output_type": "stream",
     "text": [
      "'data.frame':\t382 obs. of  18 variables:\n",
      " $ school     : chr  \"GP\" \"GP\" \"GP\" \"GP\" ...\n",
      " $ sex        : chr  \"F\" \"F\" \"F\" \"F\" ...\n",
      " $ age        : int  15 15 15 15 15 15 15 15 15 15 ...\n",
      " $ address    : chr  \"R\" \"R\" \"R\" \"R\" ...\n",
      " $ famsize    : chr  \"GT3\" \"GT3\" \"GT3\" \"GT3\" ...\n",
      " $ Pstatus    : chr  \"T\" \"T\" \"T\" \"T\" ...\n",
      " $ Medu       : int  1 1 2 2 3 3 3 2 3 3 ...\n",
      " $ Fedu       : int  1 1 2 4 3 4 4 2 1 3 ...\n",
      " $ Mjob       : chr  \"at_home\" \"other\" \"at_home\" \"services\" ...\n",
      " $ Fjob       : chr  \"other\" \"other\" \"other\" \"health\" ...\n",
      " $ studytime.x: int  4 2 1 3 3 3 3 2 4 4 ...\n",
      " $ G1.x       : int  7 8 14 10 10 12 12 8 16 10 ...\n",
      " $ G2.x       : int  10 6 13 9 10 12 0 9 16 11 ...\n",
      " $ G3.x       : int  10 5 13 8 10 11 0 8 16 11 ...\n",
      " $ absences.y : int  4 2 8 2 2 2 0 0 6 10 ...\n",
      " $ G1.y       : int  13 13 14 10 13 11 10 11 15 10 ...\n",
      " $ G2.y       : int  13 11 13 11 13 12 11 10 15 10 ...\n",
      " $ G3.y       : int  13 11 12 10 13 12 12 11 15 10 ...\n"
     ]
    },
    {
     "data": {
      "text/html": [
       "<table>\n",
       "<caption>A data.frame: 6 × 18</caption>\n",
       "<thead>\n",
       "\t<tr><th scope=col>school</th><th scope=col>sex</th><th scope=col>age</th><th scope=col>address</th><th scope=col>famsize</th><th scope=col>Pstatus</th><th scope=col>Medu</th><th scope=col>Fedu</th><th scope=col>Mjob</th><th scope=col>Fjob</th><th scope=col>studytime.x</th><th scope=col>G1.x</th><th scope=col>G2.x</th><th scope=col>G3.x</th><th scope=col>absences.y</th><th scope=col>G1.y</th><th scope=col>G2.y</th><th scope=col>G3.y</th></tr>\n",
       "\t<tr><th scope=col>&lt;chr&gt;</th><th scope=col>&lt;chr&gt;</th><th scope=col>&lt;int&gt;</th><th scope=col>&lt;chr&gt;</th><th scope=col>&lt;chr&gt;</th><th scope=col>&lt;chr&gt;</th><th scope=col>&lt;int&gt;</th><th scope=col>&lt;int&gt;</th><th scope=col>&lt;chr&gt;</th><th scope=col>&lt;chr&gt;</th><th scope=col>&lt;int&gt;</th><th scope=col>&lt;int&gt;</th><th scope=col>&lt;int&gt;</th><th scope=col>&lt;int&gt;</th><th scope=col>&lt;int&gt;</th><th scope=col>&lt;int&gt;</th><th scope=col>&lt;int&gt;</th><th scope=col>&lt;int&gt;</th></tr>\n",
       "</thead>\n",
       "<tbody>\n",
       "\t<tr><td>GP</td><td>F</td><td>15</td><td>R</td><td>GT3</td><td>T</td><td>1</td><td>1</td><td>at_home </td><td>other   </td><td>4</td><td> 7</td><td>10</td><td>10</td><td>4</td><td>13</td><td>13</td><td>13</td></tr>\n",
       "\t<tr><td>GP</td><td>F</td><td>15</td><td>R</td><td>GT3</td><td>T</td><td>1</td><td>1</td><td>other   </td><td>other   </td><td>2</td><td> 8</td><td> 6</td><td> 5</td><td>2</td><td>13</td><td>11</td><td>11</td></tr>\n",
       "\t<tr><td>GP</td><td>F</td><td>15</td><td>R</td><td>GT3</td><td>T</td><td>2</td><td>2</td><td>at_home </td><td>other   </td><td>1</td><td>14</td><td>13</td><td>13</td><td>8</td><td>14</td><td>13</td><td>12</td></tr>\n",
       "\t<tr><td>GP</td><td>F</td><td>15</td><td>R</td><td>GT3</td><td>T</td><td>2</td><td>4</td><td>services</td><td>health  </td><td>3</td><td>10</td><td> 9</td><td> 8</td><td>2</td><td>10</td><td>11</td><td>10</td></tr>\n",
       "\t<tr><td>GP</td><td>F</td><td>15</td><td>R</td><td>GT3</td><td>T</td><td>3</td><td>3</td><td>services</td><td>services</td><td>3</td><td>10</td><td>10</td><td>10</td><td>2</td><td>13</td><td>13</td><td>13</td></tr>\n",
       "\t<tr><td>GP</td><td>F</td><td>15</td><td>R</td><td>GT3</td><td>T</td><td>3</td><td>4</td><td>services</td><td>health  </td><td>3</td><td>12</td><td>12</td><td>11</td><td>2</td><td>11</td><td>12</td><td>12</td></tr>\n",
       "</tbody>\n",
       "</table>\n"
      ],
      "text/latex": [
       "A data.frame: 6 × 18\n",
       "\\begin{tabular}{r|llllllllllllllllll}\n",
       " school & sex & age & address & famsize & Pstatus & Medu & Fedu & Mjob & Fjob & studytime.x & G1.x & G2.x & G3.x & absences.y & G1.y & G2.y & G3.y\\\\\n",
       " <chr> & <chr> & <int> & <chr> & <chr> & <chr> & <int> & <int> & <chr> & <chr> & <int> & <int> & <int> & <int> & <int> & <int> & <int> & <int>\\\\\n",
       "\\hline\n",
       "\t GP & F & 15 & R & GT3 & T & 1 & 1 & at\\_home  & other    & 4 &  7 & 10 & 10 & 4 & 13 & 13 & 13\\\\\n",
       "\t GP & F & 15 & R & GT3 & T & 1 & 1 & other    & other    & 2 &  8 &  6 &  5 & 2 & 13 & 11 & 11\\\\\n",
       "\t GP & F & 15 & R & GT3 & T & 2 & 2 & at\\_home  & other    & 1 & 14 & 13 & 13 & 8 & 14 & 13 & 12\\\\\n",
       "\t GP & F & 15 & R & GT3 & T & 2 & 4 & services & health   & 3 & 10 &  9 &  8 & 2 & 10 & 11 & 10\\\\\n",
       "\t GP & F & 15 & R & GT3 & T & 3 & 3 & services & services & 3 & 10 & 10 & 10 & 2 & 13 & 13 & 13\\\\\n",
       "\t GP & F & 15 & R & GT3 & T & 3 & 4 & services & health   & 3 & 12 & 12 & 11 & 2 & 11 & 12 & 12\\\\\n",
       "\\end{tabular}\n"
      ],
      "text/markdown": [
       "\n",
       "A data.frame: 6 × 18\n",
       "\n",
       "| school &lt;chr&gt; | sex &lt;chr&gt; | age &lt;int&gt; | address &lt;chr&gt; | famsize &lt;chr&gt; | Pstatus &lt;chr&gt; | Medu &lt;int&gt; | Fedu &lt;int&gt; | Mjob &lt;chr&gt; | Fjob &lt;chr&gt; | studytime.x &lt;int&gt; | G1.x &lt;int&gt; | G2.x &lt;int&gt; | G3.x &lt;int&gt; | absences.y &lt;int&gt; | G1.y &lt;int&gt; | G2.y &lt;int&gt; | G3.y &lt;int&gt; |\n",
       "|---|---|---|---|---|---|---|---|---|---|---|---|---|---|---|---|---|---|\n",
       "| GP | F | 15 | R | GT3 | T | 1 | 1 | at_home  | other    | 4 |  7 | 10 | 10 | 4 | 13 | 13 | 13 |\n",
       "| GP | F | 15 | R | GT3 | T | 1 | 1 | other    | other    | 2 |  8 |  6 |  5 | 2 | 13 | 11 | 11 |\n",
       "| GP | F | 15 | R | GT3 | T | 2 | 2 | at_home  | other    | 1 | 14 | 13 | 13 | 8 | 14 | 13 | 12 |\n",
       "| GP | F | 15 | R | GT3 | T | 2 | 4 | services | health   | 3 | 10 |  9 |  8 | 2 | 10 | 11 | 10 |\n",
       "| GP | F | 15 | R | GT3 | T | 3 | 3 | services | services | 3 | 10 | 10 | 10 | 2 | 13 | 13 | 13 |\n",
       "| GP | F | 15 | R | GT3 | T | 3 | 4 | services | health   | 3 | 12 | 12 | 11 | 2 | 11 | 12 | 12 |\n",
       "\n"
      ],
      "text/plain": [
       "  school sex age address famsize Pstatus Medu Fedu Mjob     Fjob    \n",
       "1 GP     F   15  R       GT3     T       1    1    at_home  other   \n",
       "2 GP     F   15  R       GT3     T       1    1    other    other   \n",
       "3 GP     F   15  R       GT3     T       2    2    at_home  other   \n",
       "4 GP     F   15  R       GT3     T       2    4    services health  \n",
       "5 GP     F   15  R       GT3     T       3    3    services services\n",
       "6 GP     F   15  R       GT3     T       3    4    services health  \n",
       "  studytime.x G1.x G2.x G3.x absences.y G1.y G2.y G3.y\n",
       "1 4            7   10   10   4          13   13   13  \n",
       "2 2            8    6    5   2          13   11   11  \n",
       "3 1           14   13   13   8          14   13   12  \n",
       "4 3           10    9    8   2          10   11   10  \n",
       "5 3           10   10   10   2          13   13   13  \n",
       "6 3           12   12   11   2          11   12   12  "
      ]
     },
     "metadata": {},
     "output_type": "display_data"
    }
   ],
   "source": [
    "d4<-subset(d3, select = c(-11, -12, -13, -14, -15, -17, -18, -19, -20, -21, -22, -23, -24, -25, -26, -27, -28, -29, -30, -34, -35, -36, -37, -38, -39, -40, -41, -42, -43, -44, -45, -46, -47, -48, -49))\n",
    "str(d4)\n",
    "head(d4)"
   ]
  },
  {
   "cell_type": "markdown",
   "metadata": {},
   "source": [
    "data type conversions werer applied on to convert Mjob, Fjob, Medu,Fedu and  studytime.x from character to factor variables. Furthermore, factor variables school, sex,  address, famsize, and Pstatuswere labelled, Medu,Fedu and studytime.x were ordered."
   ]
  },
  {
   "cell_type": "code",
   "execution_count": 73,
   "metadata": {},
   "outputs": [
    {
     "ename": "ERROR",
     "evalue": "Error in `$<-.data.frame`(`*tmp*`, Mjob, value = structure(integer(0), .Label = character(0), class = \"factor\")): replacement has 0 rows, data has 382\n",
     "output_type": "error",
     "traceback": [
      "Error in `$<-.data.frame`(`*tmp*`, Mjob, value = structure(integer(0), .Label = character(0), class = \"factor\")): replacement has 0 rows, data has 382\nTraceback:\n",
      "1. `$<-`(`*tmp*`, Mjob, value = structure(integer(0), .Label = character(0), class = \"factor\"))",
      "2. `$<-.data.frame`(`*tmp*`, Mjob, value = structure(integer(0), .Label = character(0), class = \"factor\"))",
      "3. stop(sprintf(ngettext(N, \"replacement has %d row, data has %d\", \n .     \"replacement has %d rows, data has %d\"), N, nrows), domain = NA)"
     ]
    }
   ],
   "source": [
    "d4$Mjob <- as.factor(d4$Mjob)\n",
    "d4$Fjob <- as.factor(d4$Fjob)\n",
    "d4$Medu <- factor(d4$Medu, level = c(\"0\", \"1\", \"2\", \"3\", \"4\"), labels = c(\"None\", \"Primary\", \"5th-9th Grade\", \"Secondary\", \"Higher\"), ordered = TRUE)\n",
    "d4$Fedu <- factor(d4$Fedu, level = c(\"0\", \"1\", \"2\", \"3\", \"4\"), labels = c(\"None\", \"Primary\", \"5th-9th Grade\", \"Secondary\", \"Higher\"), ordered = TRUE)\n",
    "d4$studytime.x <- factor(d4$studytime.x, level = c(\"1\", \"2\", \"3\", \"4\"), labels = c(\"<2h\", \"2-5h\", \"5-10h\", \">10h\"), ordered = TRUE)\n",
    "d4$school <- factor(d4$school, level = c(\"GP\", \"MS\"), labels = c(\"Gabriel Pereira\", \"Mousinho da Silveira\"))\n",
    "d4$sex <- factor(d4$sex, level = c(\"F\", \"M\"), labels = c(\"Female\", \"Male\"))\n",
    "d4$address <- factor(d4$address, level = c(\"R\", \"U\"), labels = c(\"Rural\", \"Urban\"))\n",
    "d4$famsize <- factor(d4$famsize, level = c(\"GT3\", \"LE3\"), labels = c(\"Greater than 3\", \"Less than 3\"))\n",
    "d4$Pstatus <- factor(d4$Pstatus, level = c(\"A\", \"T\"), labels = c(\"Apart\", \"Living Together\"))"
   ]
  },
  {
   "cell_type": "markdown",
   "metadata": {},
   "source": [
    "## Tidy & Manipulate Data I"
   ]
  },
  {
   "cell_type": "markdown",
   "metadata": {},
   "source": [
    "Columns were renamed in order to be more distinct. After checking the data, it seems the data set is in a tidy format, because each vairable has its own column, each observation has its own row and each value has its own cell."
   ]
  },
  {
   "cell_type": "code",
   "execution_count": 43,
   "metadata": {},
   "outputs": [
    {
     "data": {
      "text/html": [
       "<ol class=list-inline>\n",
       "\t<li>'School'</li>\n",
       "\t<li>'Sex'</li>\n",
       "\t<li>'Age'</li>\n",
       "\t<li>'Address'</li>\n",
       "\t<li>'Family_size'</li>\n",
       "\t<li>'P_Cohabitation_status'</li>\n",
       "\t<li>'Mother_Eduction'</li>\n",
       "\t<li>'Father_Education'</li>\n",
       "\t<li>'Mother_Job'</li>\n",
       "\t<li>'Father_Job'</li>\n",
       "\t<li>'Study_Time'</li>\n",
       "\t<li>'Math_Grade1'</li>\n",
       "\t<li>'Math_Grade2'</li>\n",
       "\t<li>'Math_Final'</li>\n",
       "\t<li>'Absence'</li>\n",
       "\t<li>'Portuguese_Grade1'</li>\n",
       "\t<li>'Portuguese_Grade2'</li>\n",
       "\t<li>'Portuguese_Final'</li>\n",
       "</ol>\n"
      ],
      "text/latex": [
       "\\begin{enumerate*}\n",
       "\\item 'School'\n",
       "\\item 'Sex'\n",
       "\\item 'Age'\n",
       "\\item 'Address'\n",
       "\\item 'Family\\_size'\n",
       "\\item 'P\\_Cohabitation\\_status'\n",
       "\\item 'Mother\\_Eduction'\n",
       "\\item 'Father\\_Education'\n",
       "\\item 'Mother\\_Job'\n",
       "\\item 'Father\\_Job'\n",
       "\\item 'Study\\_Time'\n",
       "\\item 'Math\\_Grade1'\n",
       "\\item 'Math\\_Grade2'\n",
       "\\item 'Math\\_Final'\n",
       "\\item 'Absence'\n",
       "\\item 'Portuguese\\_Grade1'\n",
       "\\item 'Portuguese\\_Grade2'\n",
       "\\item 'Portuguese\\_Final'\n",
       "\\end{enumerate*}\n"
      ],
      "text/markdown": [
       "1. 'School'\n",
       "2. 'Sex'\n",
       "3. 'Age'\n",
       "4. 'Address'\n",
       "5. 'Family_size'\n",
       "6. 'P_Cohabitation_status'\n",
       "7. 'Mother_Eduction'\n",
       "8. 'Father_Education'\n",
       "9. 'Mother_Job'\n",
       "10. 'Father_Job'\n",
       "11. 'Study_Time'\n",
       "12. 'Math_Grade1'\n",
       "13. 'Math_Grade2'\n",
       "14. 'Math_Final'\n",
       "15. 'Absence'\n",
       "16. 'Portuguese_Grade1'\n",
       "17. 'Portuguese_Grade2'\n",
       "18. 'Portuguese_Final'\n",
       "\n",
       "\n"
      ],
      "text/plain": [
       " [1] \"School\"                \"Sex\"                   \"Age\"                  \n",
       " [4] \"Address\"               \"Family_size\"           \"P_Cohabitation_status\"\n",
       " [7] \"Mother_Eduction\"       \"Father_Education\"      \"Mother_Job\"           \n",
       "[10] \"Father_Job\"            \"Study_Time\"            \"Math_Grade1\"          \n",
       "[13] \"Math_Grade2\"           \"Math_Final\"            \"Absence\"              \n",
       "[16] \"Portuguese_Grade1\"     \"Portuguese_Grade2\"     \"Portuguese_Final\"     "
      ]
     },
     "metadata": {},
     "output_type": "display_data"
    },
    {
     "data": {
      "text/html": [
       "18"
      ],
      "text/latex": [
       "18"
      ],
      "text/markdown": [
       "18"
      ],
      "text/plain": [
       "[1] 18"
      ]
     },
     "metadata": {},
     "output_type": "display_data"
    }
   ],
   "source": [
    "colnames(d4)\n",
    "length(colnames(d4))"
   ]
  },
  {
   "cell_type": "code",
   "execution_count": 42,
   "metadata": {},
   "outputs": [
    {
     "data": {
      "text/html": [
       "<ol class=list-inline>\n",
       "\t<li>'School'</li>\n",
       "\t<li>'Sex'</li>\n",
       "\t<li>'Age'</li>\n",
       "\t<li>'Address'</li>\n",
       "\t<li>'Family_size'</li>\n",
       "\t<li>'P_Cohabitation_status'</li>\n",
       "\t<li>'Mother_Eduction'</li>\n",
       "\t<li>'Father_Education'</li>\n",
       "\t<li>'Mother_Job'</li>\n",
       "\t<li>'Father_Job'</li>\n",
       "\t<li>'Study_Time'</li>\n",
       "\t<li>'Math_Grade1'</li>\n",
       "\t<li>'Math_Grade2'</li>\n",
       "\t<li>'Math_Final'</li>\n",
       "\t<li>'Absence'</li>\n",
       "\t<li>'Portuguese_Grade1'</li>\n",
       "\t<li>'Portuguese_Grade2'</li>\n",
       "\t<li>'Portuguese_Final'</li>\n",
       "</ol>\n"
      ],
      "text/latex": [
       "\\begin{enumerate*}\n",
       "\\item 'School'\n",
       "\\item 'Sex'\n",
       "\\item 'Age'\n",
       "\\item 'Address'\n",
       "\\item 'Family\\_size'\n",
       "\\item 'P\\_Cohabitation\\_status'\n",
       "\\item 'Mother\\_Eduction'\n",
       "\\item 'Father\\_Education'\n",
       "\\item 'Mother\\_Job'\n",
       "\\item 'Father\\_Job'\n",
       "\\item 'Study\\_Time'\n",
       "\\item 'Math\\_Grade1'\n",
       "\\item 'Math\\_Grade2'\n",
       "\\item 'Math\\_Final'\n",
       "\\item 'Absence'\n",
       "\\item 'Portuguese\\_Grade1'\n",
       "\\item 'Portuguese\\_Grade2'\n",
       "\\item 'Portuguese\\_Final'\n",
       "\\end{enumerate*}\n"
      ],
      "text/markdown": [
       "1. 'School'\n",
       "2. 'Sex'\n",
       "3. 'Age'\n",
       "4. 'Address'\n",
       "5. 'Family_size'\n",
       "6. 'P_Cohabitation_status'\n",
       "7. 'Mother_Eduction'\n",
       "8. 'Father_Education'\n",
       "9. 'Mother_Job'\n",
       "10. 'Father_Job'\n",
       "11. 'Study_Time'\n",
       "12. 'Math_Grade1'\n",
       "13. 'Math_Grade2'\n",
       "14. 'Math_Final'\n",
       "15. 'Absence'\n",
       "16. 'Portuguese_Grade1'\n",
       "17. 'Portuguese_Grade2'\n",
       "18. 'Portuguese_Final'\n",
       "\n",
       "\n"
      ],
      "text/plain": [
       " [1] \"School\"                \"Sex\"                   \"Age\"                  \n",
       " [4] \"Address\"               \"Family_size\"           \"P_Cohabitation_status\"\n",
       " [7] \"Mother_Eduction\"       \"Father_Education\"      \"Mother_Job\"           \n",
       "[10] \"Father_Job\"            \"Study_Time\"            \"Math_Grade1\"          \n",
       "[13] \"Math_Grade2\"           \"Math_Final\"            \"Absence\"              \n",
       "[16] \"Portuguese_Grade1\"     \"Portuguese_Grade2\"     \"Portuguese_Final\"     "
      ]
     },
     "metadata": {},
     "output_type": "display_data"
    },
    {
     "data": {
      "text/html": [
       "18"
      ],
      "text/latex": [
       "18"
      ],
      "text/markdown": [
       "18"
      ],
      "text/plain": [
       "[1] 18"
      ]
     },
     "metadata": {},
     "output_type": "display_data"
    }
   ],
   "source": [
    "colnames(d4) <- c(\"School\", \"Sex\", \"Age\", \"Address\", \"Family_size\", \"P_Cohabitation_status\", \"Mother_Eduction\", \"Father_Education\", \"Mother_Job\", \"Father_Job\", \"Study_Time\", \"Math_Grade1\", \"Math_Grade2\", \"Math_Final\", \"Absence\", \"Portuguese_Grade1\", \"Portuguese_Grade2\", \"Portuguese_Final\")\n",
    "\n",
    "colnames(d4)\n",
    "length(colnames(d4))"
   ]
  },
  {
   "cell_type": "code",
   "execution_count": 44,
   "metadata": {},
   "outputs": [
    {
     "data": {
      "text/plain": [
       "<table>\n",
       "<caption>Feature Summary</caption>\n",
       " <thead>\n",
       "  <tr>\n",
       "   <th style=\"text-align:left;\"> name </th>\n",
       "   <th style=\"text-align:left;\"> type </th>\n",
       "   <th style=\"text-align:right;\"> na </th>\n",
       "   <th style=\"text-align:right;\"> mean </th>\n",
       "   <th style=\"text-align:right;\"> disp </th>\n",
       "   <th style=\"text-align:right;\"> median </th>\n",
       "   <th style=\"text-align:right;\"> mad </th>\n",
       "   <th style=\"text-align:right;\"> min </th>\n",
       "   <th style=\"text-align:right;\"> max </th>\n",
       "   <th style=\"text-align:right;\"> nlevs </th>\n",
       "  </tr>\n",
       " </thead>\n",
       "<tbody>\n",
       "  <tr>\n",
       "   <td style=\"text-align:left;\"> School </td>\n",
       "   <td style=\"text-align:left;\"> factor </td>\n",
       "   <td style=\"text-align:right;\"> 0 </td>\n",
       "   <td style=\"text-align:right;\"> NA </td>\n",
       "   <td style=\"text-align:right;\"> 0.1047120 </td>\n",
       "   <td style=\"text-align:right;\"> NA </td>\n",
       "   <td style=\"text-align:right;\"> NA </td>\n",
       "   <td style=\"text-align:right;\"> 40 </td>\n",
       "   <td style=\"text-align:right;\"> 342 </td>\n",
       "   <td style=\"text-align:right;\"> 2 </td>\n",
       "  </tr>\n",
       "  <tr>\n",
       "   <td style=\"text-align:left;\"> Sex </td>\n",
       "   <td style=\"text-align:left;\"> factor </td>\n",
       "   <td style=\"text-align:right;\"> 0 </td>\n",
       "   <td style=\"text-align:right;\"> NA </td>\n",
       "   <td style=\"text-align:right;\"> 0.4816754 </td>\n",
       "   <td style=\"text-align:right;\"> NA </td>\n",
       "   <td style=\"text-align:right;\"> NA </td>\n",
       "   <td style=\"text-align:right;\"> 184 </td>\n",
       "   <td style=\"text-align:right;\"> 198 </td>\n",
       "   <td style=\"text-align:right;\"> 2 </td>\n",
       "  </tr>\n",
       "  <tr>\n",
       "   <td style=\"text-align:left;\"> Age </td>\n",
       "   <td style=\"text-align:left;\"> integer </td>\n",
       "   <td style=\"text-align:right;\"> 0 </td>\n",
       "   <td style=\"text-align:right;\"> 16.586387 </td>\n",
       "   <td style=\"text-align:right;\"> 1.1734701 </td>\n",
       "   <td style=\"text-align:right;\"> 17.0 </td>\n",
       "   <td style=\"text-align:right;\"> 1.4826 </td>\n",
       "   <td style=\"text-align:right;\"> 15 </td>\n",
       "   <td style=\"text-align:right;\"> 22 </td>\n",
       "   <td style=\"text-align:right;\"> 0 </td>\n",
       "  </tr>\n",
       "  <tr>\n",
       "   <td style=\"text-align:left;\"> Address </td>\n",
       "   <td style=\"text-align:left;\"> factor </td>\n",
       "   <td style=\"text-align:right;\"> 0 </td>\n",
       "   <td style=\"text-align:right;\"> NA </td>\n",
       "   <td style=\"text-align:right;\"> 0.2120419 </td>\n",
       "   <td style=\"text-align:right;\"> NA </td>\n",
       "   <td style=\"text-align:right;\"> NA </td>\n",
       "   <td style=\"text-align:right;\"> 81 </td>\n",
       "   <td style=\"text-align:right;\"> 301 </td>\n",
       "   <td style=\"text-align:right;\"> 2 </td>\n",
       "  </tr>\n",
       "  <tr>\n",
       "   <td style=\"text-align:left;\"> Family_size </td>\n",
       "   <td style=\"text-align:left;\"> factor </td>\n",
       "   <td style=\"text-align:right;\"> 0 </td>\n",
       "   <td style=\"text-align:right;\"> NA </td>\n",
       "   <td style=\"text-align:right;\"> 0.2722513 </td>\n",
       "   <td style=\"text-align:right;\"> NA </td>\n",
       "   <td style=\"text-align:right;\"> NA </td>\n",
       "   <td style=\"text-align:right;\"> 104 </td>\n",
       "   <td style=\"text-align:right;\"> 278 </td>\n",
       "   <td style=\"text-align:right;\"> 2 </td>\n",
       "  </tr>\n",
       "  <tr>\n",
       "   <td style=\"text-align:left;\"> P_Cohabitation_status </td>\n",
       "   <td style=\"text-align:left;\"> factor </td>\n",
       "   <td style=\"text-align:right;\"> 0 </td>\n",
       "   <td style=\"text-align:right;\"> NA </td>\n",
       "   <td style=\"text-align:right;\"> 0.0994764 </td>\n",
       "   <td style=\"text-align:right;\"> NA </td>\n",
       "   <td style=\"text-align:right;\"> NA </td>\n",
       "   <td style=\"text-align:right;\"> 38 </td>\n",
       "   <td style=\"text-align:right;\"> 344 </td>\n",
       "   <td style=\"text-align:right;\"> 2 </td>\n",
       "  </tr>\n",
       "  <tr>\n",
       "   <td style=\"text-align:left;\"> Mother_Eduction </td>\n",
       "   <td style=\"text-align:left;\"> ordered </td>\n",
       "   <td style=\"text-align:right;\"> 0 </td>\n",
       "   <td style=\"text-align:right;\"> NA </td>\n",
       "   <td style=\"text-align:right;\"> 0.6465969 </td>\n",
       "   <td style=\"text-align:right;\"> NA </td>\n",
       "   <td style=\"text-align:right;\"> NA </td>\n",
       "   <td style=\"text-align:right;\"> 3 </td>\n",
       "   <td style=\"text-align:right;\"> 135 </td>\n",
       "   <td style=\"text-align:right;\"> 5 </td>\n",
       "  </tr>\n",
       "  <tr>\n",
       "   <td style=\"text-align:left;\"> Father_Education </td>\n",
       "   <td style=\"text-align:left;\"> ordered </td>\n",
       "   <td style=\"text-align:right;\"> 0 </td>\n",
       "   <td style=\"text-align:right;\"> NA </td>\n",
       "   <td style=\"text-align:right;\"> 0.7251309 </td>\n",
       "   <td style=\"text-align:right;\"> NA </td>\n",
       "   <td style=\"text-align:right;\"> NA </td>\n",
       "   <td style=\"text-align:right;\"> 2 </td>\n",
       "   <td style=\"text-align:right;\"> 105 </td>\n",
       "   <td style=\"text-align:right;\"> 5 </td>\n",
       "  </tr>\n",
       "  <tr>\n",
       "   <td style=\"text-align:left;\"> Mother_Job </td>\n",
       "   <td style=\"text-align:left;\"> factor </td>\n",
       "   <td style=\"text-align:right;\"> 0 </td>\n",
       "   <td style=\"text-align:right;\"> NA </td>\n",
       "   <td style=\"text-align:right;\"> 0.6387435 </td>\n",
       "   <td style=\"text-align:right;\"> NA </td>\n",
       "   <td style=\"text-align:right;\"> NA </td>\n",
       "   <td style=\"text-align:right;\"> 33 </td>\n",
       "   <td style=\"text-align:right;\"> 138 </td>\n",
       "   <td style=\"text-align:right;\"> 5 </td>\n",
       "  </tr>\n",
       "  <tr>\n",
       "   <td style=\"text-align:left;\"> Father_Job </td>\n",
       "   <td style=\"text-align:left;\"> factor </td>\n",
       "   <td style=\"text-align:right;\"> 0 </td>\n",
       "   <td style=\"text-align:right;\"> NA </td>\n",
       "   <td style=\"text-align:right;\"> 0.4476440 </td>\n",
       "   <td style=\"text-align:right;\"> NA </td>\n",
       "   <td style=\"text-align:right;\"> NA </td>\n",
       "   <td style=\"text-align:right;\"> 16 </td>\n",
       "   <td style=\"text-align:right;\"> 211 </td>\n",
       "   <td style=\"text-align:right;\"> 5 </td>\n",
       "  </tr>\n",
       "  <tr>\n",
       "   <td style=\"text-align:left;\"> Study_Time </td>\n",
       "   <td style=\"text-align:left;\"> ordered </td>\n",
       "   <td style=\"text-align:right;\"> 0 </td>\n",
       "   <td style=\"text-align:right;\"> NA </td>\n",
       "   <td style=\"text-align:right;\"> 0.5026178 </td>\n",
       "   <td style=\"text-align:right;\"> NA </td>\n",
       "   <td style=\"text-align:right;\"> NA </td>\n",
       "   <td style=\"text-align:right;\"> 27 </td>\n",
       "   <td style=\"text-align:right;\"> 190 </td>\n",
       "   <td style=\"text-align:right;\"> 4 </td>\n",
       "  </tr>\n",
       "  <tr>\n",
       "   <td style=\"text-align:left;\"> Math_Grade1 </td>\n",
       "   <td style=\"text-align:left;\"> integer </td>\n",
       "   <td style=\"text-align:right;\"> 0 </td>\n",
       "   <td style=\"text-align:right;\"> 10.861256 </td>\n",
       "   <td style=\"text-align:right;\"> 3.3491671 </td>\n",
       "   <td style=\"text-align:right;\"> 10.5 </td>\n",
       "   <td style=\"text-align:right;\"> 3.7065 </td>\n",
       "   <td style=\"text-align:right;\"> 3 </td>\n",
       "   <td style=\"text-align:right;\"> 19 </td>\n",
       "   <td style=\"text-align:right;\"> 0 </td>\n",
       "  </tr>\n",
       "  <tr>\n",
       "   <td style=\"text-align:left;\"> Math_Grade2 </td>\n",
       "   <td style=\"text-align:left;\"> integer </td>\n",
       "   <td style=\"text-align:right;\"> 0 </td>\n",
       "   <td style=\"text-align:right;\"> 10.712042 </td>\n",
       "   <td style=\"text-align:right;\"> 3.8325600 </td>\n",
       "   <td style=\"text-align:right;\"> 11.0 </td>\n",
       "   <td style=\"text-align:right;\"> 2.9652 </td>\n",
       "   <td style=\"text-align:right;\"> 0 </td>\n",
       "   <td style=\"text-align:right;\"> 19 </td>\n",
       "   <td style=\"text-align:right;\"> 0 </td>\n",
       "  </tr>\n",
       "  <tr>\n",
       "   <td style=\"text-align:left;\"> Math_Final </td>\n",
       "   <td style=\"text-align:left;\"> integer </td>\n",
       "   <td style=\"text-align:right;\"> 0 </td>\n",
       "   <td style=\"text-align:right;\"> 10.387435 </td>\n",
       "   <td style=\"text-align:right;\"> 4.6872418 </td>\n",
       "   <td style=\"text-align:right;\"> 11.0 </td>\n",
       "   <td style=\"text-align:right;\"> 4.4478 </td>\n",
       "   <td style=\"text-align:right;\"> 0 </td>\n",
       "   <td style=\"text-align:right;\"> 20 </td>\n",
       "   <td style=\"text-align:right;\"> 0 </td>\n",
       "  </tr>\n",
       "  <tr>\n",
       "   <td style=\"text-align:left;\"> Absence </td>\n",
       "   <td style=\"text-align:left;\"> integer </td>\n",
       "   <td style=\"text-align:right;\"> 0 </td>\n",
       "   <td style=\"text-align:right;\"> 3.672775 </td>\n",
       "   <td style=\"text-align:right;\"> 4.9059653 </td>\n",
       "   <td style=\"text-align:right;\"> 2.0 </td>\n",
       "   <td style=\"text-align:right;\"> 2.9652 </td>\n",
       "   <td style=\"text-align:right;\"> 0 </td>\n",
       "   <td style=\"text-align:right;\"> 32 </td>\n",
       "   <td style=\"text-align:right;\"> 0 </td>\n",
       "  </tr>\n",
       "  <tr>\n",
       "   <td style=\"text-align:left;\"> Portuguese_Grade1 </td>\n",
       "   <td style=\"text-align:left;\"> integer </td>\n",
       "   <td style=\"text-align:right;\"> 0 </td>\n",
       "   <td style=\"text-align:right;\"> 12.112565 </td>\n",
       "   <td style=\"text-align:right;\"> 2.5565313 </td>\n",
       "   <td style=\"text-align:right;\"> 12.0 </td>\n",
       "   <td style=\"text-align:right;\"> 2.9652 </td>\n",
       "   <td style=\"text-align:right;\"> 0 </td>\n",
       "   <td style=\"text-align:right;\"> 19 </td>\n",
       "   <td style=\"text-align:right;\"> 0 </td>\n",
       "  </tr>\n",
       "  <tr>\n",
       "   <td style=\"text-align:left;\"> Portuguese_Grade2 </td>\n",
       "   <td style=\"text-align:left;\"> integer </td>\n",
       "   <td style=\"text-align:right;\"> 0 </td>\n",
       "   <td style=\"text-align:right;\"> 12.238220 </td>\n",
       "   <td style=\"text-align:right;\"> 2.4683413 </td>\n",
       "   <td style=\"text-align:right;\"> 12.0 </td>\n",
       "   <td style=\"text-align:right;\"> 2.9652 </td>\n",
       "   <td style=\"text-align:right;\"> 5 </td>\n",
       "   <td style=\"text-align:right;\"> 19 </td>\n",
       "   <td style=\"text-align:right;\"> 0 </td>\n",
       "  </tr>\n",
       "  <tr>\n",
       "   <td style=\"text-align:left;\"> Portuguese_Final </td>\n",
       "   <td style=\"text-align:left;\"> integer </td>\n",
       "   <td style=\"text-align:right;\"> 0 </td>\n",
       "   <td style=\"text-align:right;\"> 12.515707 </td>\n",
       "   <td style=\"text-align:right;\"> 2.9454381 </td>\n",
       "   <td style=\"text-align:right;\"> 13.0 </td>\n",
       "   <td style=\"text-align:right;\"> 2.9652 </td>\n",
       "   <td style=\"text-align:right;\"> 0 </td>\n",
       "   <td style=\"text-align:right;\"> 19 </td>\n",
       "   <td style=\"text-align:right;\"> 0 </td>\n",
       "  </tr>\n",
       "</tbody>\n",
       "</table>"
      ]
     },
     "metadata": {},
     "output_type": "display_data"
    }
   ],
   "source": [
    "summarizeColumns(d4) %>% knitr::kable( caption =  'Feature Summary')"
   ]
  },
  {
   "cell_type": "markdown",
   "metadata": {},
   "source": [
    "##Tidy & Manipulate Data II"
   ]
  },
  {
   "cell_type": "markdown",
   "metadata": {},
   "source": [
    "Total_Grade was created by adding Math_Final and Portuguese_Final to show students academic performance as a whole."
   ]
  },
  {
   "cell_type": "code",
   "execution_count": 45,
   "metadata": {},
   "outputs": [
    {
     "data": {
      "text/html": [
       "<ol class=list-inline>\n",
       "\t<li>23</li>\n",
       "\t<li>16</li>\n",
       "\t<li>25</li>\n",
       "\t<li>18</li>\n",
       "\t<li>23</li>\n",
       "\t<li>23</li>\n",
       "\t<li>12</li>\n",
       "\t<li>19</li>\n",
       "\t<li>31</li>\n",
       "\t<li>21</li>\n",
       "</ol>\n"
      ],
      "text/latex": [
       "\\begin{enumerate*}\n",
       "\\item 23\n",
       "\\item 16\n",
       "\\item 25\n",
       "\\item 18\n",
       "\\item 23\n",
       "\\item 23\n",
       "\\item 12\n",
       "\\item 19\n",
       "\\item 31\n",
       "\\item 21\n",
       "\\end{enumerate*}\n"
      ],
      "text/markdown": [
       "1. 23\n",
       "2. 16\n",
       "3. 25\n",
       "4. 18\n",
       "5. 23\n",
       "6. 23\n",
       "7. 12\n",
       "8. 19\n",
       "9. 31\n",
       "10. 21\n",
       "\n",
       "\n"
      ],
      "text/plain": [
       " [1] 23 16 25 18 23 23 12 19 31 21"
      ]
     },
     "metadata": {},
     "output_type": "display_data"
    }
   ],
   "source": [
    "d4 <- mutate(d4, Total_Grade = Math_Final + Portuguese_Final)\n",
    "head(d4$Total_Grade, n=10)"
   ]
  },
  {
   "cell_type": "markdown",
   "metadata": {},
   "source": [
    "## Scan I"
   ]
  },
  {
   "cell_type": "markdown",
   "metadata": {},
   "source": [
    "There is no either missing values or special values in our data. Due to long output about checking special values, the results were not show here."
   ]
  },
  {
   "cell_type": "code",
   "execution_count": 46,
   "metadata": {},
   "outputs": [
    {
     "data": {
      "text/html": [
       "0"
      ],
      "text/latex": [
       "0"
      ],
      "text/markdown": [
       "0"
      ],
      "text/plain": [
       "[1] 0"
      ]
     },
     "metadata": {},
     "output_type": "display_data"
    }
   ],
   "source": [
    "sum(is.na(d4))\n",
    "\n",
    "# is.special <- function(x){\n",
    "# if (is.numeric(x)) !is.finite(x)\n",
    "# }\n",
    "# sapply(d4, is.special)"
   ]
  },
  {
   "cell_type": "markdown",
   "metadata": {},
   "source": [
    "## Scan II"
   ]
  },
  {
   "cell_type": "markdown",
   "metadata": {},
   "source": [
    "The following numeric variables were scanned for outliers.\n",
    "\n",
    "Age: the result indicates only one outlier which is 22, but it is reasonable to have a student who is 22 year old."
   ]
  },
  {
   "cell_type": "code",
   "execution_count": 59,
   "metadata": {},
   "outputs": [
    {
     "data": {
      "image/png": "[encoded data removed]",
      "text/plain": [
       "Plot with title \"Box Plot of Age\""
      ]
     },
     "metadata": {},
     "output_type": "display_data"
    }
   ],
   "source": [
    "boxplot(d4$Age, main = \"Box Plot of Age\", ylab = \"Age\", col = \"grey\")"
   ]
  },
  {
   "cell_type": "code",
   "execution_count": 75,
   "metadata": {},
   "outputs": [
    {
     "data": {
      "text/html": [
       "342"
      ],
      "text/latex": [
       "342"
      ],
      "text/markdown": [
       "342"
      ],
      "text/plain": [
       "[1] 342"
      ]
     },
     "metadata": {},
     "output_type": "display_data"
    }
   ],
   "source": [
    "z.scores1 <- d4$Age %>% scores(type = \"z\")\n",
    "#z.scores1\n",
    "# z-score ：measure the variance\n",
    "which( abs(z.scores1) >3 )  # 342"
   ]
  },
  {
   "cell_type": "code",
   "execution_count": 58,
   "metadata": {},
   "outputs": [
    {
     "data": {
      "text/html": [
       "1"
      ],
      "text/latex": [
       "1"
      ],
      "text/markdown": [
       "1"
      ],
      "text/plain": [
       "[1] 1"
      ]
     },
     "metadata": {},
     "output_type": "display_data"
    }
   ],
   "source": [
    "length (which( abs(z.scores1) >3 ))"
   ]
  },
  {
   "cell_type": "code",
   "execution_count": 50,
   "metadata": {},
   "outputs": [
    {
     "data": {
      "image/png": "[encoded data removed]",
      "text/plain": [
       "Plot with title \"Box Plot of Absence\""
      ]
     },
     "metadata": {},
     "output_type": "display_data"
    }
   ],
   "source": [
    "boxplot(d4$Absence, main = \"Box Plot of Absence\", ylab = \"Absences\", col = \"grey\")"
   ]
  },
  {
   "cell_type": "code",
   "execution_count": 52,
   "metadata": {},
   "outputs": [
    {
     "data": {
      "text/html": [
       "6"
      ],
      "text/latex": [
       "6"
      ],
      "text/markdown": [
       "6"
      ],
      "text/plain": [
       "[1] 6"
      ]
     },
     "metadata": {},
     "output_type": "display_data"
    }
   ],
   "source": [
    "z.scores2 <- d4$Absence %>% scores(type = \"z\")\n",
    "length (which( abs(z.scores2) >3 )) #6"
   ]
  },
  {
   "cell_type": "code",
   "execution_count": 60,
   "metadata": {},
   "outputs": [
    {
     "data": {
      "text/html": [
       "<ol class=list-inline>\n",
       "\t<li>96</li>\n",
       "\t<li>131</li>\n",
       "\t<li>141</li>\n",
       "\t<li>286</li>\n",
       "\t<li>288</li>\n",
       "\t<li>300</li>\n",
       "</ol>\n"
      ],
      "text/latex": [
       "\\begin{enumerate*}\n",
       "\\item 96\n",
       "\\item 131\n",
       "\\item 141\n",
       "\\item 286\n",
       "\\item 288\n",
       "\\item 300\n",
       "\\end{enumerate*}\n"
      ],
      "text/markdown": [
       "1. 96\n",
       "2. 131\n",
       "3. 141\n",
       "4. 286\n",
       "5. 288\n",
       "6. 300\n",
       "\n",
       "\n"
      ],
      "text/plain": [
       "[1]  96 131 141 286 288 300"
      ]
     },
     "metadata": {},
     "output_type": "display_data"
    }
   ],
   "source": [
    "which( abs(z.scores2) >3 ) "
   ]
  },
  {
   "cell_type": "code",
   "execution_count": 61,
   "metadata": {},
   "outputs": [
    {
     "data": {
      "text/plain": [
       "   Min. 1st Qu.  Median    Mean 3rd Qu.    Max. \n",
       "  0.000   0.000   2.000   3.673   6.000  32.000 "
      ]
     },
     "metadata": {},
     "output_type": "display_data"
    }
   ],
   "source": [
    "summary(d4$Absence)"
   ]
  },
  {
   "cell_type": "code",
   "execution_count": 62,
   "metadata": {},
   "outputs": [
    {
     "data": {
      "image/png": "[encoded data removed]",
      "text/plain": [
       "Plot with title \"Box Plot of Math_Grade1\""
      ]
     },
     "metadata": {},
     "output_type": "display_data"
    }
   ],
   "source": [
    "# Math_Grade 1 : No outlier\n",
    "\n",
    "boxplot(d4$Math_Grade1, main = \"Box Plot of Math_Grade1\", ylab = \"Grade\", col = \"grey\")"
   ]
  },
  {
   "cell_type": "code",
   "execution_count": 63,
   "metadata": {},
   "outputs": [
    {
     "data": {
      "text/html": [
       "0"
      ],
      "text/latex": [
       "0"
      ],
      "text/markdown": [
       "0"
      ],
      "text/plain": [
       "[1] 0"
      ]
     },
     "metadata": {},
     "output_type": "display_data"
    }
   ],
   "source": [
    "z.scores3 <- d4$Math_Grade1 %>% scores(type = \"z\")\n",
    "length (which( abs(z.scores3) >3 ))"
   ]
  },
  {
   "cell_type": "code",
   "execution_count": 64,
   "metadata": {},
   "outputs": [
    {
     "data": {
      "image/png": "[encoded data removed]",
      "text/plain": [
       "Plot with title \"Box Plot of Math_Grade2\""
      ]
     },
     "metadata": {},
     "output_type": "display_data"
    }
   ],
   "source": [
    "#Math_Grade2: one outlier which Math_Grade2 is 0.\n",
    "\n",
    "boxplot(d4$Math_Grade2, main = \"Box Plot of Math_Grade2\", ylab = \"Grade\", col = \"grey\")"
   ]
  },
  {
   "cell_type": "code",
   "execution_count": 65,
   "metadata": {},
   "outputs": [
    {
     "data": {
      "text/html": [
       "0"
      ],
      "text/latex": [
       "0"
      ],
      "text/markdown": [
       "0"
      ],
      "text/plain": [
       "[1] 0"
      ]
     },
     "metadata": {},
     "output_type": "display_data"
    }
   ],
   "source": [
    "z.scores4 <- d4$Math_Grade2 %>% scores(type = \"z\")\n",
    "length (which( abs(z.scores4) >3 )) #0"
   ]
  },
  {
   "cell_type": "code",
   "execution_count": 76,
   "metadata": {},
   "outputs": [
    {
     "data": {
      "text/html": [],
      "text/latex": [],
      "text/markdown": [],
      "text/plain": [
       "integer(0)"
      ]
     },
     "metadata": {},
     "output_type": "display_data"
    }
   ],
   "source": [
    "which( abs(z.scores4) >3 ) "
   ]
  },
  {
   "cell_type": "code",
   "execution_count": 67,
   "metadata": {},
   "outputs": [
    {
     "data": {
      "image/png": "[encoded data removed]",
      "text/plain": [
       "Plot with title \"Box Plot of Math_Final\""
      ]
     },
     "metadata": {},
     "output_type": "display_data"
    }
   ],
   "source": [
    "# Math_Final: No Outlier\n",
    "\n",
    "boxplot(d4$Math_Final, main = \"Box Plot of Math_Final\", ylab = \"Grade\", col = \"grey\")"
   ]
  },
  {
   "cell_type": "code",
   "execution_count": 68,
   "metadata": {},
   "outputs": [
    {
     "data": {
      "text/html": [
       "0"
      ],
      "text/latex": [
       "0"
      ],
      "text/markdown": [
       "0"
      ],
      "text/plain": [
       "[1] 0"
      ]
     },
     "metadata": {},
     "output_type": "display_data"
    }
   ],
   "source": [
    "z.scores5 <- d4$Math_Final %>% scores(type = \"z\")\n",
    "length (which( abs(z.scores5) >3 )) #0"
   ]
  },
  {
   "cell_type": "code",
   "execution_count": 77,
   "metadata": {},
   "outputs": [
    {
     "data": {
      "text/html": [
       "1"
      ],
      "text/latex": [
       "1"
      ],
      "text/markdown": [
       "1"
      ],
      "text/plain": [
       "[1] 1"
      ]
     },
     "metadata": {},
     "output_type": "display_data"
    },
    {
     "data": {
      "text/html": [
       "151"
      ],
      "text/latex": [
       "151"
      ],
      "text/markdown": [
       "151"
      ],
      "text/plain": [
       "[1] 151"
      ]
     },
     "metadata": {},
     "output_type": "display_data"
    },
    {
     "data": {
      "image/png": "[encoded data removed]",
      "text/plain": [
       "Plot with title \"Box Plot of Portuguese_Grade1\""
      ]
     },
     "metadata": {},
     "output_type": "display_data"
    }
   ],
   "source": [
    "#Portuguese_Grade1: No outlier\n",
    "\n",
    "boxplot(d4$Portuguese_Grade1, main = \"Box Plot of Portuguese_Grade1\", ylab = \"Grade\", col = \"grey\") # due to page limit, box plot is not shown here\n",
    "z.scores6 <- d4$Portuguese_Grade1 %>% scores(type = \"z\")\n",
    "length (which( abs(z.scores6) >3 )) #0\n",
    "\n",
    "which(abs(z.scores6)>3)  # 151"
   ]
  },
  {
   "cell_type": "code",
   "execution_count": 88,
   "metadata": {},
   "outputs": [
    {
     "data": {
      "image/png": "[encoded data removed]",
      "text/plain": [
       "Plot with title \"Box Plot of Portuguese_Grade2\""
      ]
     },
     "metadata": {},
     "output_type": "display_data"
    }
   ],
   "source": [
    "boxplot(d4$Portuguese_Grade2, main = \"Box Plot of Portuguese_Grade2\", ylab = \"Grade\", col = \"grey\")"
   ]
  },
  {
   "cell_type": "code",
   "execution_count": 83,
   "metadata": {},
   "outputs": [
    {
     "data": {
      "text/html": [
       "0"
      ],
      "text/latex": [
       "0"
      ],
      "text/markdown": [
       "0"
      ],
      "text/plain": [
       "[1] 0"
      ]
     },
     "metadata": {},
     "output_type": "display_data"
    },
    {
     "data": {
      "text/html": [],
      "text/latex": [],
      "text/markdown": [],
      "text/plain": [
       "integer(0)"
      ]
     },
     "metadata": {},
     "output_type": "display_data"
    }
   ],
   "source": [
    "z.scores7 <- d4$Portuguese_Grade2 %>% scores(type = \"z\")\n",
    "length (which( abs(z.scores7) >3 )) #0\n",
    "which( abs(z.scores7) >3 )"
   ]
  },
  {
   "cell_type": "code",
   "execution_count": 85,
   "metadata": {},
   "outputs": [
    {
     "data": {
      "image/png": "[encoded data removed]",
      "text/plain": [
       "Plot with title \"Box Plot of Portuguese_Final\""
      ]
     },
     "metadata": {},
     "output_type": "display_data"
    }
   ],
   "source": [
    "boxplot(d4$Portuguese_Final, main = \"Box Plot of Portuguese_Final\", ylab = \"Grade\", col = \"grey\")"
   ]
  },
  {
   "cell_type": "code",
   "execution_count": 86,
   "metadata": {},
   "outputs": [
    {
     "data": {
      "text/html": [
       "6"
      ],
      "text/latex": [
       "6"
      ],
      "text/markdown": [
       "6"
      ],
      "text/plain": [
       "[1] 6"
      ]
     },
     "metadata": {},
     "output_type": "display_data"
    }
   ],
   "source": [
    "z.scores8 <- d4$Portuguese_Final %>% scores(type = \"z\")\n",
    "length (which( abs(z.scores8) >3 )) #6"
   ]
  },
  {
   "cell_type": "code",
   "execution_count": 87,
   "metadata": {},
   "outputs": [
    {
     "data": {
      "text/html": [
       "<ol class=list-inline>\n",
       "\t<li>239</li>\n",
       "\t<li>331</li>\n",
       "\t<li>353</li>\n",
       "\t<li>371</li>\n",
       "\t<li>373</li>\n",
       "\t<li>382</li>\n",
       "</ol>\n"
      ],
      "text/latex": [
       "\\begin{enumerate*}\n",
       "\\item 239\n",
       "\\item 331\n",
       "\\item 353\n",
       "\\item 371\n",
       "\\item 373\n",
       "\\item 382\n",
       "\\end{enumerate*}\n"
      ],
      "text/markdown": [
       "1. 239\n",
       "2. 331\n",
       "3. 353\n",
       "4. 371\n",
       "5. 373\n",
       "6. 382\n",
       "\n",
       "\n"
      ],
      "text/plain": [
       "[1] 239 331 353 371 373 382"
      ]
     },
     "metadata": {},
     "output_type": "display_data"
    }
   ],
   "source": [
    "which( abs(z.scores8) >3 ) "
   ]
  },
  {
   "cell_type": "code",
   "execution_count": 89,
   "metadata": {},
   "outputs": [
    {
     "data": {
      "image/png": "[encoded data removed]",
      "text/plain": [
       "Plot with title \"Box Plot of Total_Grade\""
      ]
     },
     "metadata": {},
     "output_type": "display_data"
    }
   ],
   "source": [
    "boxplot(d4$Total_Grade, main = \"Box Plot of Total_Grade\", ylab = \"Grade\", col = \"grey\")"
   ]
  },
  {
   "cell_type": "code",
   "execution_count": 90,
   "metadata": {},
   "outputs": [
    {
     "data": {
      "text/html": [
       "2"
      ],
      "text/latex": [
       "2"
      ],
      "text/markdown": [
       "2"
      ],
      "text/plain": [
       "[1] 2"
      ]
     },
     "metadata": {},
     "output_type": "display_data"
    }
   ],
   "source": [
    "z.scores9 <- d4$Total_Grade %>% scores(type = \"z\")\n",
    "length (which( abs(z.scores9) >3 )) #6"
   ]
  },
  {
   "cell_type": "code",
   "execution_count": 91,
   "metadata": {},
   "outputs": [
    {
     "data": {
      "text/html": [
       "<ol class=list-inline>\n",
       "\t<li>331</li>\n",
       "\t<li>382</li>\n",
       "</ol>\n"
      ],
      "text/latex": [
       "\\begin{enumerate*}\n",
       "\\item 331\n",
       "\\item 382\n",
       "\\end{enumerate*}\n"
      ],
      "text/markdown": [
       "1. 331\n",
       "2. 382\n",
       "\n",
       "\n"
      ],
      "text/plain": [
       "[1] 331 382"
      ]
     },
     "metadata": {},
     "output_type": "display_data"
    }
   ],
   "source": [
    "which( abs(z.scores9) >3 ) "
   ]
  },
  {
   "cell_type": "markdown",
   "metadata": {},
   "source": [
    "##Dealing wih outliers\n",
    "\n",
    "Capping function was used to deal with outliers that outliers were replacing with the nearest neighbours that are not outliners."
   ]
  },
  {
   "cell_type": "code",
   "execution_count": 92,
   "metadata": {},
   "outputs": [
    {
     "data": {
      "text/plain": [
       "   Min. 1st Qu.  Median    Mean 3rd Qu.    Max. \n",
       "  0.000   0.000   2.000   3.673   6.000  32.000 "
      ]
     },
     "metadata": {},
     "output_type": "display_data"
    }
   ],
   "source": [
    "cap <- function(x){\n",
    "    quantiles <- quantile( x, c(.05, 0.25, 0.75, .95 ) )\n",
    "    x[ x < quantiles[2] - 1.5*IQR(x) ] <- quantiles[1]\n",
    "    x[ x > quantiles[3] + 1.5*IQR(x) ] <- quantiles[4]\n",
    "    x\n",
    "}\n",
    "summary(d4$Absence)"
   ]
  },
  {
   "cell_type": "code",
   "execution_count": 93,
   "metadata": {},
   "outputs": [
    {
     "data": {
      "text/plain": [
       "   Min. 1st Qu.  Median    Mean 3rd Qu.    Max. \n",
       "  0.000   0.000   2.000   3.435   6.000  15.000 "
      ]
     },
     "metadata": {},
     "output_type": "display_data"
    }
   ],
   "source": [
    "Absence_capped <- d4$Absence %>% cap()\n",
    "summary(Absence_capped)"
   ]
  },
  {
   "cell_type": "code",
   "execution_count": 94,
   "metadata": {},
   "outputs": [
    {
     "data": {
      "text/plain": [
       "   Min. 1st Qu.  Median    Mean 3rd Qu.    Max. \n",
       "   0.00    8.25   11.00   10.71   13.00   19.00 "
      ]
     },
     "metadata": {},
     "output_type": "display_data"
    },
    {
     "data": {
      "text/plain": [
       "   Min. 1st Qu.  Median    Mean 3rd Qu.    Max. \n",
       "   5.00    8.25   11.00   10.88   13.00   19.00 "
      ]
     },
     "metadata": {},
     "output_type": "display_data"
    }
   ],
   "source": [
    "summary(d4$Math_Grade2)\n",
    "\n",
    "Math_Grade2_capped <- d4$Math_Grade2 %>% cap()\n",
    "summary(Math_Grade2_capped)"
   ]
  },
  {
   "cell_type": "code",
   "execution_count": 95,
   "metadata": {},
   "outputs": [
    {
     "data": {
      "text/plain": [
       "   Min. 1st Qu.  Median    Mean 3rd Qu.    Max. \n",
       "   0.00   11.00   13.00   12.52   14.00   19.00 "
      ]
     },
     "metadata": {},
     "output_type": "display_data"
    },
    {
     "data": {
      "text/plain": [
       "   Min. 1st Qu.  Median    Mean 3rd Qu.    Max. \n",
       "   7.00   11.00   13.00   12.65   14.00   18.00 "
      ]
     },
     "metadata": {},
     "output_type": "display_data"
    }
   ],
   "source": [
    "summary(d4$Portuguese_Final)\n",
    "\n",
    "PFinal_capped <- d4$Portuguese_Final %>% cap()\n",
    "summary(PFinal_capped)"
   ]
  },
  {
   "cell_type": "code",
   "execution_count": 96,
   "metadata": {},
   "outputs": [
    {
     "data": {
      "text/plain": [
       "   Min. 1st Qu.  Median    Mean 3rd Qu.    Max. \n",
       "    0.0    19.0    23.0    22.9    27.0    37.0 "
      ]
     },
     "metadata": {},
     "output_type": "display_data"
    },
    {
     "data": {
      "text/plain": [
       "   Min. 1st Qu.  Median    Mean 3rd Qu.    Max. \n",
       "   7.00   19.00   23.00   22.99   27.00   37.00 "
      ]
     },
     "metadata": {},
     "output_type": "display_data"
    }
   ],
   "source": [
    "summary(d4$Total_Grade)\n",
    "\n",
    "Total_Grade_capped <- d4$Total_Grade %>% cap()\n",
    "summary(Total_Grade_capped)"
   ]
  },
  {
   "cell_type": "markdown",
   "metadata": {},
   "source": [
    "## Transform"
   ]
  },
  {
   "cell_type": "markdown",
   "metadata": {},
   "source": [
    "At first, we used hist function on Math_Final and Portuguese_Final to discover whether data transformation is necessary to applied on them.\n",
    "\n",
    "Based on histograms below, Math_Final seems to be symmetric despite its left tail is not tail-off. However, distribution of Portuguese_Final was left-skewed. Therefore, we aimed to change its scale for better understanding of this variable.\n",
    "\n",
    "log10, log, mean-centering, minmaxnormalise and Box-Cox Transforamtion were applied on Portuguese_Final. As the result, Boc-Cox transformation was found to be the best transformation technique as it gave the best result for decreasing the skewness and converting the distribution into a normal distribution."
   ]
  },
  {
   "cell_type": "code",
   "execution_count": 97,
   "metadata": {},
   "outputs": [
    {
     "data": {
      "image/png": "[encoded data removed]",
      "text/plain": [
       "Plot with title \"Math_Final\""
      ]
     },
     "metadata": {},
     "output_type": "display_data"
    },
    {
     "data": {
      "image/png": "[encoded data removed]",
      "text/plain": [
       "Plot with title \"Portuguese_Final\""
      ]
     },
     "metadata": {},
     "output_type": "display_data"
    }
   ],
   "source": [
    "d4_Sub <- d4 %>%  dplyr::select(Math_Final, Portuguese_Final)\n",
    "colnames <- colnames(d4_Sub)\n",
    "for (i in 1:2) {\n",
    "  hist(unlist(d4_Sub[ ,i]), main = colnames[i], xlab = colnames[i])\n",
    "}"
   ]
  },
  {
   "cell_type": "code",
   "execution_count": 105,
   "metadata": {},
   "outputs": [
    {
     "data": {
      "image/png": "[encoded data removed]",
      "text/plain": [
       "Plot with title \"Math_Final\""
      ]
     },
     "metadata": {},
     "output_type": "display_data"
    },
    {
     "data": {
      "image/png": "[encoded data removed]",
      "text/plain": [
       "Plot with title \"Portuguese_Final\""
      ]
     },
     "metadata": {},
     "output_type": "display_data"
    }
   ],
   "source": [
    "#d4_Sub <- d4 %>%  dplyr::select(Math_Final, Portuguese_Final)\n",
    "\n",
    "d4_log <- sapply(d4_Sub, log10)\n",
    "\n",
    "for (i in 1:2){\n",
    "hist(unlist(d4_log[,i]), main = colnames[i], xlab = colnames[i])}"
   ]
  },
  {
   "cell_type": "code",
   "execution_count": 106,
   "metadata": {},
   "outputs": [
    {
     "data": {
      "image/png": "[encoded data removed]",
      "text/plain": [
       "Plot with title \"Math_Final\""
      ]
     },
     "metadata": {},
     "output_type": "display_data"
    },
    {
     "data": {
      "image/png": "[encoded data removed]",
      "text/plain": [
       "Plot with title \"Portuguese_Final\""
      ]
     },
     "metadata": {},
     "output_type": "display_data"
    }
   ],
   "source": [
    "d4_ln <- sapply(d4_Sub, log)\n",
    "\n",
    "for( i in 1:2){\n",
    "hist(unlist(d4_ln[,i]), main = colnames[i], xlab = colnames[i])}"
   ]
  },
  {
   "cell_type": "code",
   "execution_count": 107,
   "metadata": {},
   "outputs": [
    {
     "data": {
      "image/png": "[encoded data removed]",
      "text/plain": [
       "Plot with title \"Math_Final\""
      ]
     },
     "metadata": {},
     "output_type": "display_data"
    },
    {
     "data": {
      "image/png": "[encoded data removed]",
      "text/plain": [
       "Plot with title \"Portuguese_Final\""
      ]
     },
     "metadata": {},
     "output_type": "display_data"
    }
   ],
   "source": [
    "center_d4 <- apply(d4_Sub, 2, function(x) scale(x, center = TRUE, scale = FALSE))\n",
    "    \n",
    "for (i in 1:2){\n",
    "hist(unlist(center_d4[,i]), main = colnames[i], xlab = colnames[i])}"
   ]
  },
  {
   "cell_type": "code",
   "execution_count": 108,
   "metadata": {},
   "outputs": [
    {
     "data": {
      "image/png": "[encoded data removed]",
      "text/plain": [
       "Plot with title \"Math_Final\""
      ]
     },
     "metadata": {},
     "output_type": "display_data"
    },
    {
     "data": {
      "image/png": "[encoded data removed]",
      "text/plain": [
       "Plot with title \"Portuguese_Final\""
      ]
     },
     "metadata": {},
     "output_type": "display_data"
    }
   ],
   "source": [
    "d4_Check2 <- d4_Sub[complete.cases(d4_Sub),]\n",
    "minmaxnormalise <- function(x){(x- min(x)) /(max(x)-min(x))}\n",
    "minmax_d4 <- sapply(d4_Check2, minmaxnormalise)\n",
    "\n",
    "for( i in 1:2){\n",
    "hist(unlist(minmax_d4[,i]), main = colnames[i], xlab = colnames[i])}"
   ]
  },
  {
   "cell_type": "code",
   "execution_count": 110,
   "metadata": {},
   "outputs": [
    {
     "data": {
      "image/png": "[encoded data removed]",
      "text/plain": [
       "Plot with title \"Math_Final\""
      ]
     },
     "metadata": {},
     "output_type": "display_data"
    },
    {
     "data": {
      "image/png": "[encoded data removed]",
      "text/plain": [
       "Plot with title \"Portuguese_Final\""
      ]
     },
     "metadata": {},
     "output_type": "display_data"
    }
   ],
   "source": [
    "obc_d4 <- apply(d4_Sub, 2, function(x) BoxCox(x, lambda = \"auto\"))\n",
    "    \n",
    "for ( i in 1:2){    \n",
    "hist(unlist(obc_d4[,i]), main = colnames[i], xlab = colnames[i])\n",
    "        }"
   ]
  }
 ],
 "metadata": {
  "kernelspec": {
   "display_name": "R",
   "language": "R",
   "name": "ir"
  },
  "language_info": {
   "codemirror_mode": "r",
   "file_extension": ".r",
   "mimetype": "text/x-r-source",
   "name": "R",
   "pygments_lexer": "r",
   "version": "3.6.0"
  }
 },
 "nbformat": 4,
 "nbformat_minor": 2
}
