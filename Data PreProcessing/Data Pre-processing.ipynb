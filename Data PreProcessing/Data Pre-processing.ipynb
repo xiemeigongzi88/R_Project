{
 "cells": [
  {
   "cell_type": "markdown",
   "metadata": {},
   "source": [
    "#Data Pre-processing"
   ]
  },
  {
   "cell_type": "markdown",
   "metadata": {},
   "source": [
    "https://rpubs.com/sidTyson92/329310\n",
    "Taking Care of Missing data"
   ]
  },
  {
   "cell_type": "code",
   "execution_count": 4,
   "metadata": {},
   "outputs": [
    {
     "data": {
      "text/html": [
       "<table>\n",
       "<caption>A data.frame: 10 × 4</caption>\n",
       "<thead>\n",
       "\t<tr><th scope=col>Country</th><th scope=col>Age</th><th scope=col>Salary</th><th scope=col>Purchased</th></tr>\n",
       "\t<tr><th scope=col>&lt;fct&gt;</th><th scope=col>&lt;int&gt;</th><th scope=col>&lt;int&gt;</th><th scope=col>&lt;fct&gt;</th></tr>\n",
       "</thead>\n",
       "<tbody>\n",
       "\t<tr><td>France </td><td>44</td><td>72000</td><td>No </td></tr>\n",
       "\t<tr><td>Spain  </td><td>27</td><td>48000</td><td>Yes</td></tr>\n",
       "\t<tr><td>Germany</td><td>30</td><td>54000</td><td>No </td></tr>\n",
       "\t<tr><td>Spain  </td><td>38</td><td>61000</td><td>No </td></tr>\n",
       "\t<tr><td>Germany</td><td>40</td><td>   NA</td><td>Yes</td></tr>\n",
       "\t<tr><td>France </td><td>35</td><td>58000</td><td>Yes</td></tr>\n",
       "\t<tr><td>Spain  </td><td>NA</td><td>52000</td><td>No </td></tr>\n",
       "\t<tr><td>France </td><td>48</td><td>79000</td><td>Yes</td></tr>\n",
       "\t<tr><td>Germany</td><td>50</td><td>83000</td><td>No </td></tr>\n",
       "\t<tr><td>France </td><td>37</td><td>67000</td><td>Yes</td></tr>\n",
       "</tbody>\n",
       "</table>\n"
      ],
      "text/latex": [
       "A data.frame: 10 × 4\n",
       "\\begin{tabular}{r|llll}\n",
       " Country & Age & Salary & Purchased\\\\\n",
       " <fct> & <int> & <int> & <fct>\\\\\n",
       "\\hline\n",
       "\t France  & 44 & 72000 & No \\\\\n",
       "\t Spain   & 27 & 48000 & Yes\\\\\n",
       "\t Germany & 30 & 54000 & No \\\\\n",
       "\t Spain   & 38 & 61000 & No \\\\\n",
       "\t Germany & 40 &    NA & Yes\\\\\n",
       "\t France  & 35 & 58000 & Yes\\\\\n",
       "\t Spain   & NA & 52000 & No \\\\\n",
       "\t France  & 48 & 79000 & Yes\\\\\n",
       "\t Germany & 50 & 83000 & No \\\\\n",
       "\t France  & 37 & 67000 & Yes\\\\\n",
       "\\end{tabular}\n"
      ],
      "text/markdown": [
       "\n",
       "A data.frame: 10 × 4\n",
       "\n",
       "| Country &lt;fct&gt; | Age &lt;int&gt; | Salary &lt;int&gt; | Purchased &lt;fct&gt; |\n",
       "|---|---|---|---|\n",
       "| France  | 44 | 72000 | No  |\n",
       "| Spain   | 27 | 48000 | Yes |\n",
       "| Germany | 30 | 54000 | No  |\n",
       "| Spain   | 38 | 61000 | No  |\n",
       "| Germany | 40 |    NA | Yes |\n",
       "| France  | 35 | 58000 | Yes |\n",
       "| Spain   | NA | 52000 | No  |\n",
       "| France  | 48 | 79000 | Yes |\n",
       "| Germany | 50 | 83000 | No  |\n",
       "| France  | 37 | 67000 | Yes |\n",
       "\n"
      ],
      "text/plain": [
       "   Country Age Salary Purchased\n",
       "1  France  44  72000  No       \n",
       "2  Spain   27  48000  Yes      \n",
       "3  Germany 30  54000  No       \n",
       "4  Spain   38  61000  No       \n",
       "5  Germany 40     NA  Yes      \n",
       "6  France  35  58000  Yes      \n",
       "7  Spain   NA  52000  No       \n",
       "8  France  48  79000  Yes      \n",
       "9  Germany 50  83000  No       \n",
       "10 France  37  67000  Yes      "
      ]
     },
     "metadata": {},
     "output_type": "display_data"
    }
   ],
   "source": [
    "#import the data set \n",
    "\n",
    "dataset<-read.csv('Data.csv')\n",
    "dataset"
   ]
  },
  {
   "cell_type": "code",
   "execution_count": 5,
   "metadata": {
    "collapsed": true
   },
   "outputs": [
    {
     "data": {
      "text/html": [
       "<table>\n",
       "<caption>A data.frame: 10 × 4</caption>\n",
       "<thead>\n",
       "\t<tr><th scope=col>Country</th><th scope=col>Age</th><th scope=col>Salary</th><th scope=col>Purchased</th></tr>\n",
       "\t<tr><th scope=col>&lt;fct&gt;</th><th scope=col>&lt;dbl&gt;</th><th scope=col>&lt;dbl&gt;</th><th scope=col>&lt;fct&gt;</th></tr>\n",
       "</thead>\n",
       "<tbody>\n",
       "\t<tr><td>France </td><td>44.00000</td><td>72000.00</td><td>No </td></tr>\n",
       "\t<tr><td>Spain  </td><td>27.00000</td><td>48000.00</td><td>Yes</td></tr>\n",
       "\t<tr><td>Germany</td><td>30.00000</td><td>54000.00</td><td>No </td></tr>\n",
       "\t<tr><td>Spain  </td><td>38.00000</td><td>61000.00</td><td>No </td></tr>\n",
       "\t<tr><td>Germany</td><td>40.00000</td><td>63777.78</td><td>Yes</td></tr>\n",
       "\t<tr><td>France </td><td>35.00000</td><td>58000.00</td><td>Yes</td></tr>\n",
       "\t<tr><td>Spain  </td><td>38.77778</td><td>52000.00</td><td>No </td></tr>\n",
       "\t<tr><td>France </td><td>48.00000</td><td>79000.00</td><td>Yes</td></tr>\n",
       "\t<tr><td>Germany</td><td>50.00000</td><td>83000.00</td><td>No </td></tr>\n",
       "\t<tr><td>France </td><td>37.00000</td><td>67000.00</td><td>Yes</td></tr>\n",
       "</tbody>\n",
       "</table>\n"
      ],
      "text/latex": [
       "A data.frame: 10 × 4\n",
       "\\begin{tabular}{r|llll}\n",
       " Country & Age & Salary & Purchased\\\\\n",
       " <fct> & <dbl> & <dbl> & <fct>\\\\\n",
       "\\hline\n",
       "\t France  & 44.00000 & 72000.00 & No \\\\\n",
       "\t Spain   & 27.00000 & 48000.00 & Yes\\\\\n",
       "\t Germany & 30.00000 & 54000.00 & No \\\\\n",
       "\t Spain   & 38.00000 & 61000.00 & No \\\\\n",
       "\t Germany & 40.00000 & 63777.78 & Yes\\\\\n",
       "\t France  & 35.00000 & 58000.00 & Yes\\\\\n",
       "\t Spain   & 38.77778 & 52000.00 & No \\\\\n",
       "\t France  & 48.00000 & 79000.00 & Yes\\\\\n",
       "\t Germany & 50.00000 & 83000.00 & No \\\\\n",
       "\t France  & 37.00000 & 67000.00 & Yes\\\\\n",
       "\\end{tabular}\n"
      ],
      "text/markdown": [
       "\n",
       "A data.frame: 10 × 4\n",
       "\n",
       "| Country &lt;fct&gt; | Age &lt;dbl&gt; | Salary &lt;dbl&gt; | Purchased &lt;fct&gt; |\n",
       "|---|---|---|---|\n",
       "| France  | 44.00000 | 72000.00 | No  |\n",
       "| Spain   | 27.00000 | 48000.00 | Yes |\n",
       "| Germany | 30.00000 | 54000.00 | No  |\n",
       "| Spain   | 38.00000 | 61000.00 | No  |\n",
       "| Germany | 40.00000 | 63777.78 | Yes |\n",
       "| France  | 35.00000 | 58000.00 | Yes |\n",
       "| Spain   | 38.77778 | 52000.00 | No  |\n",
       "| France  | 48.00000 | 79000.00 | Yes |\n",
       "| Germany | 50.00000 | 83000.00 | No  |\n",
       "| France  | 37.00000 | 67000.00 | Yes |\n",
       "\n"
      ],
      "text/plain": [
       "   Country Age      Salary   Purchased\n",
       "1  France  44.00000 72000.00 No       \n",
       "2  Spain   27.00000 48000.00 Yes      \n",
       "3  Germany 30.00000 54000.00 No       \n",
       "4  Spain   38.00000 61000.00 No       \n",
       "5  Germany 40.00000 63777.78 Yes      \n",
       "6  France  35.00000 58000.00 Yes      \n",
       "7  Spain   38.77778 52000.00 No       \n",
       "8  France  48.00000 79000.00 Yes      \n",
       "9  Germany 50.00000 83000.00 No       \n",
       "10 France  37.00000 67000.00 Yes      "
      ]
     },
     "metadata": {},
     "output_type": "display_data"
    }
   ],
   "source": [
    "# missing values present in both Age and Salary Columns\n",
    "\n",
    "#taking care of missing values\n",
    "# By replacing it to the average value for non NA entries\n",
    "\n",
    "dataset$Age <- ifelse(is.na(dataset$Age),\n",
    "                  ave(dataset$Age, FUN=function(x)\n",
    "                      mean(x, na.rm=TRUE)),\n",
    "                      dataset$Age)\n",
    "                      \n",
    "dataset$Salary<- ifelse(is.na(dataset$Salary),\n",
    "                       ave(dataset$Salary, FUN=function(x)\n",
    "                           mean(x, na.rm = TRUE)),\n",
    "                           dataset$Salary)\n",
    "                           \n",
    "dataset\n"
   ]
  },
  {
   "cell_type": "markdown",
   "metadata": {},
   "source": [
    "How the ave() function works here ?\n",
    "\n",
    "read it like this : we are changing Age column of dataset and if the column entry is NA then, take the average of the dataset$Age column where function FUN is function of x which calculates the mean excluding(na.rm = TRUE) the NA values."
   ]
  },
  {
   "cell_type": "code",
   "execution_count": 6,
   "metadata": {},
   "outputs": [
    {
     "data": {
      "text/html": [
       "&lt;NA&gt;"
      ],
      "text/latex": [
       "<NA>"
      ],
      "text/markdown": [
       "&lt;NA&gt;"
      ],
      "text/plain": [
       "[1] NA"
      ]
     },
     "metadata": {},
     "output_type": "display_data"
    }
   ],
   "source": [
    "#defining  x = 1 2 3\n",
    "x <- 1:3\n",
    "#introducing missing value\n",
    "x[1] <- NA\n",
    "# mean = NA\n",
    "mean(x)"
   ]
  },
  {
   "cell_type": "code",
   "execution_count": 7,
   "metadata": {},
   "outputs": [
    {
     "data": {
      "text/html": [
       "2.5"
      ],
      "text/latex": [
       "2.5"
      ],
      "text/markdown": [
       "2.5"
      ],
      "text/plain": [
       "[1] 2.5"
      ]
     },
     "metadata": {},
     "output_type": "display_data"
    }
   ],
   "source": [
    "# mean = mean excluding the NA value\n",
    "mean(x, na.rm = T)"
   ]
  },
  {
   "cell_type": "markdown",
   "metadata": {},
   "source": [
    "2. Categorical data\n",
    "\n",
    "Categorical data is non numeric data which belongs to specific set of categories. Like the Country column in dataset\n",
    "\n",
    "By default read.csv() function in R makes all the string variables as categorical variables(factor) but suppose there is a name column in the dataset in that case we dont need them as categorical variables. Below is the code to make specific variables as factor variables."
   ]
  },
  {
   "cell_type": "code",
   "execution_count": null,
   "metadata": {
    "collapsed": true
   },
   "outputs": [],
   "source": [
    "# Encoding categorical data\n",
    "dataset$Country = factor(dataset$Country,\n",
    "                         levels = c('France', 'Spain', 'Germany'),\n",
    "                         labels = c(1, 2, 3))\n",
    "\n",
    "dataset$Purchased = factor(dataset$Purchased,\n",
    "                           levels = c('No', 'Yes'),\n",
    "                           labels = c(0, 1))"
   ]
  },
  {
   "cell_type": "markdown",
   "metadata": {},
   "source": [
    "3. Splitting into training and test dataset : When the dataset is presented to us to do machine learning stuff we need some data as part of training and some to test the model after the learning stage is done."
   ]
  },
  {
   "cell_type": "markdown",
   "metadata": {},
   "source": [
    "For this we need to install catools,"
   ]
  },
  {
   "cell_type": "code",
   "execution_count": 9,
   "metadata": {},
   "outputs": [
    {
     "name": "stderr",
     "output_type": "stream",
     "text": [
      "also installing the dependency 'bitops'\n",
      "\n"
     ]
    },
    {
     "name": "stdout",
     "output_type": "stream",
     "text": [
      "package 'bitops' successfully unpacked and MD5 sums checked\n",
      "package 'caTools' successfully unpacked and MD5 sums checked\n",
      "\n",
      "The downloaded binary packages are in\n",
      "\tC:\\Users\\sxw17\\AppData\\Local\\Temp\\RtmpasX4Xt\\downloaded_packages\n"
     ]
    },
    {
     "name": "stderr",
     "output_type": "stream",
     "text": [
      "Warning message:\n",
      "\"package 'caTools' was built under R version 3.6.1\""
     ]
    }
   ],
   "source": [
    "install.packages('caTools')\n",
    "library(caTools)"
   ]
  },
  {
   "cell_type": "code",
   "execution_count": 11,
   "metadata": {},
   "outputs": [
    {
     "data": {
      "text/html": [
       "<table>\n",
       "<caption>A data.frame: 8 × 4</caption>\n",
       "<thead>\n",
       "\t<tr><th></th><th scope=col>Country</th><th scope=col>Age</th><th scope=col>Salary</th><th scope=col>Purchased</th></tr>\n",
       "\t<tr><th></th><th scope=col>&lt;fct&gt;</th><th scope=col>&lt;dbl&gt;</th><th scope=col>&lt;dbl&gt;</th><th scope=col>&lt;fct&gt;</th></tr>\n",
       "</thead>\n",
       "<tbody>\n",
       "\t<tr><th scope=row>1</th><td>France </td><td>44.00000</td><td>72000.00</td><td>No </td></tr>\n",
       "\t<tr><th scope=row>2</th><td>Spain  </td><td>27.00000</td><td>48000.00</td><td>Yes</td></tr>\n",
       "\t<tr><th scope=row>3</th><td>Germany</td><td>30.00000</td><td>54000.00</td><td>No </td></tr>\n",
       "\t<tr><th scope=row>4</th><td>Spain  </td><td>38.00000</td><td>61000.00</td><td>No </td></tr>\n",
       "\t<tr><th scope=row>5</th><td>Germany</td><td>40.00000</td><td>63777.78</td><td>Yes</td></tr>\n",
       "\t<tr><th scope=row>7</th><td>Spain  </td><td>38.77778</td><td>52000.00</td><td>No </td></tr>\n",
       "\t<tr><th scope=row>8</th><td>France </td><td>48.00000</td><td>79000.00</td><td>Yes</td></tr>\n",
       "\t<tr><th scope=row>10</th><td>France </td><td>37.00000</td><td>67000.00</td><td>Yes</td></tr>\n",
       "</tbody>\n",
       "</table>\n"
      ],
      "text/latex": [
       "A data.frame: 8 × 4\n",
       "\\begin{tabular}{r|llll}\n",
       "  & Country & Age & Salary & Purchased\\\\\n",
       "  & <fct> & <dbl> & <dbl> & <fct>\\\\\n",
       "\\hline\n",
       "\t1 & France  & 44.00000 & 72000.00 & No \\\\\n",
       "\t2 & Spain   & 27.00000 & 48000.00 & Yes\\\\\n",
       "\t3 & Germany & 30.00000 & 54000.00 & No \\\\\n",
       "\t4 & Spain   & 38.00000 & 61000.00 & No \\\\\n",
       "\t5 & Germany & 40.00000 & 63777.78 & Yes\\\\\n",
       "\t7 & Spain   & 38.77778 & 52000.00 & No \\\\\n",
       "\t8 & France  & 48.00000 & 79000.00 & Yes\\\\\n",
       "\t10 & France  & 37.00000 & 67000.00 & Yes\\\\\n",
       "\\end{tabular}\n"
      ],
      "text/markdown": [
       "\n",
       "A data.frame: 8 × 4\n",
       "\n",
       "| <!--/--> | Country &lt;fct&gt; | Age &lt;dbl&gt; | Salary &lt;dbl&gt; | Purchased &lt;fct&gt; |\n",
       "|---|---|---|---|---|\n",
       "| 1 | France  | 44.00000 | 72000.00 | No  |\n",
       "| 2 | Spain   | 27.00000 | 48000.00 | Yes |\n",
       "| 3 | Germany | 30.00000 | 54000.00 | No  |\n",
       "| 4 | Spain   | 38.00000 | 61000.00 | No  |\n",
       "| 5 | Germany | 40.00000 | 63777.78 | Yes |\n",
       "| 7 | Spain   | 38.77778 | 52000.00 | No  |\n",
       "| 8 | France  | 48.00000 | 79000.00 | Yes |\n",
       "| 10 | France  | 37.00000 | 67000.00 | Yes |\n",
       "\n"
      ],
      "text/plain": [
       "   Country Age      Salary   Purchased\n",
       "1  France  44.00000 72000.00 No       \n",
       "2  Spain   27.00000 48000.00 Yes      \n",
       "3  Germany 30.00000 54000.00 No       \n",
       "4  Spain   38.00000 61000.00 No       \n",
       "5  Germany 40.00000 63777.78 Yes      \n",
       "7  Spain   38.77778 52000.00 No       \n",
       "8  France  48.00000 79000.00 Yes      \n",
       "10 France  37.00000 67000.00 Yes      "
      ]
     },
     "metadata": {},
     "output_type": "display_data"
    },
    {
     "data": {
      "text/html": [
       "<table>\n",
       "<caption>A data.frame: 2 × 4</caption>\n",
       "<thead>\n",
       "\t<tr><th></th><th scope=col>Country</th><th scope=col>Age</th><th scope=col>Salary</th><th scope=col>Purchased</th></tr>\n",
       "\t<tr><th></th><th scope=col>&lt;fct&gt;</th><th scope=col>&lt;dbl&gt;</th><th scope=col>&lt;dbl&gt;</th><th scope=col>&lt;fct&gt;</th></tr>\n",
       "</thead>\n",
       "<tbody>\n",
       "\t<tr><th scope=row>6</th><td>France </td><td>35</td><td>58000</td><td>Yes</td></tr>\n",
       "\t<tr><th scope=row>9</th><td>Germany</td><td>50</td><td>83000</td><td>No </td></tr>\n",
       "</tbody>\n",
       "</table>\n"
      ],
      "text/latex": [
       "A data.frame: 2 × 4\n",
       "\\begin{tabular}{r|llll}\n",
       "  & Country & Age & Salary & Purchased\\\\\n",
       "  & <fct> & <dbl> & <dbl> & <fct>\\\\\n",
       "\\hline\n",
       "\t6 & France  & 35 & 58000 & Yes\\\\\n",
       "\t9 & Germany & 50 & 83000 & No \\\\\n",
       "\\end{tabular}\n"
      ],
      "text/markdown": [
       "\n",
       "A data.frame: 2 × 4\n",
       "\n",
       "| <!--/--> | Country &lt;fct&gt; | Age &lt;dbl&gt; | Salary &lt;dbl&gt; | Purchased &lt;fct&gt; |\n",
       "|---|---|---|---|---|\n",
       "| 6 | France  | 35 | 58000 | Yes |\n",
       "| 9 | Germany | 50 | 83000 | No  |\n",
       "\n"
      ],
      "text/plain": [
       "  Country Age Salary Purchased\n",
       "6 France  35  58000  Yes      \n",
       "9 Germany 50  83000  No       "
      ]
     },
     "metadata": {},
     "output_type": "display_data"
    }
   ],
   "source": [
    "set.seed(123) # this is to ensure same output as split is done randomly, you can exclude in real time\n",
    "split = sample.split(dataset$Purchased,SplitRatio = 0.8)\n",
    "training_set = subset(dataset,split == TRUE)\n",
    "test_set = subset(dataset, split == FALSE)\n",
    "\n",
    "training_set\n",
    "\n",
    "test_set"
   ]
  },
  {
   "cell_type": "markdown",
   "metadata": {},
   "source": [
    "SplitRatio is the ratio in which training and test set, its usually set an 80:20 for training and test respectively.\n",
    "\n",
    "sample.split() methid takes the column and calculates a numeric array with true and false in random locations and with the given split ratio.\n",
    "\n",
    "subset() method takes the dataset and subset according to the condition"
   ]
  },
  {
   "cell_type": "markdown",
   "metadata": {},
   "source": [
    "4. Feature Scaling :\n",
    "\n",
    "Feature scaling is needed when different features has different ranges, for example Age and Salary Column.\n",
    "\n",
    "They have very different ranges but when we training a model, which is basically trying to fit some line(in linear regression) then the error is trying to be minimized,\n",
    "\n",
    "to minimize the error the euclidian distance is minimized using some algorithm(gradient descent )\n",
    "\n",
    "But if no feature scaling is applied then the training will be highly biased with the feature having large values because the euclidian distance will be large there.\n",
    "\n",
    "Hence, We need feature scaling which is done in below steps :"
   ]
  },
  {
   "cell_type": "code",
   "execution_count": 13,
   "metadata": {},
   "outputs": [
    {
     "data": {
      "text/html": [
       "<table>\n",
       "<caption>A data.frame: 8 × 4</caption>\n",
       "<thead>\n",
       "\t<tr><th></th><th scope=col>Country</th><th scope=col>Age</th><th scope=col>Salary</th><th scope=col>Purchased</th></tr>\n",
       "\t<tr><th></th><th scope=col>&lt;fct&gt;</th><th scope=col>&lt;dbl&gt;</th><th scope=col>&lt;dbl&gt;</th><th scope=col>&lt;fct&gt;</th></tr>\n",
       "</thead>\n",
       "<tbody>\n",
       "\t<tr><th scope=row>1</th><td>France </td><td>44.00000</td><td>72000.00</td><td>No </td></tr>\n",
       "\t<tr><th scope=row>2</th><td>Spain  </td><td>27.00000</td><td>48000.00</td><td>Yes</td></tr>\n",
       "\t<tr><th scope=row>3</th><td>Germany</td><td>30.00000</td><td>54000.00</td><td>No </td></tr>\n",
       "\t<tr><th scope=row>4</th><td>Spain  </td><td>38.00000</td><td>61000.00</td><td>No </td></tr>\n",
       "\t<tr><th scope=row>5</th><td>Germany</td><td>40.00000</td><td>63777.78</td><td>Yes</td></tr>\n",
       "\t<tr><th scope=row>7</th><td>Spain  </td><td>38.77778</td><td>52000.00</td><td>No </td></tr>\n",
       "\t<tr><th scope=row>8</th><td>France </td><td>48.00000</td><td>79000.00</td><td>Yes</td></tr>\n",
       "\t<tr><th scope=row>10</th><td>France </td><td>37.00000</td><td>67000.00</td><td>Yes</td></tr>\n",
       "</tbody>\n",
       "</table>\n"
      ],
      "text/latex": [
       "A data.frame: 8 × 4\n",
       "\\begin{tabular}{r|llll}\n",
       "  & Country & Age & Salary & Purchased\\\\\n",
       "  & <fct> & <dbl> & <dbl> & <fct>\\\\\n",
       "\\hline\n",
       "\t1 & France  & 44.00000 & 72000.00 & No \\\\\n",
       "\t2 & Spain   & 27.00000 & 48000.00 & Yes\\\\\n",
       "\t3 & Germany & 30.00000 & 54000.00 & No \\\\\n",
       "\t4 & Spain   & 38.00000 & 61000.00 & No \\\\\n",
       "\t5 & Germany & 40.00000 & 63777.78 & Yes\\\\\n",
       "\t7 & Spain   & 38.77778 & 52000.00 & No \\\\\n",
       "\t8 & France  & 48.00000 & 79000.00 & Yes\\\\\n",
       "\t10 & France  & 37.00000 & 67000.00 & Yes\\\\\n",
       "\\end{tabular}\n"
      ],
      "text/markdown": [
       "\n",
       "A data.frame: 8 × 4\n",
       "\n",
       "| <!--/--> | Country &lt;fct&gt; | Age &lt;dbl&gt; | Salary &lt;dbl&gt; | Purchased &lt;fct&gt; |\n",
       "|---|---|---|---|---|\n",
       "| 1 | France  | 44.00000 | 72000.00 | No  |\n",
       "| 2 | Spain   | 27.00000 | 48000.00 | Yes |\n",
       "| 3 | Germany | 30.00000 | 54000.00 | No  |\n",
       "| 4 | Spain   | 38.00000 | 61000.00 | No  |\n",
       "| 5 | Germany | 40.00000 | 63777.78 | Yes |\n",
       "| 7 | Spain   | 38.77778 | 52000.00 | No  |\n",
       "| 8 | France  | 48.00000 | 79000.00 | Yes |\n",
       "| 10 | France  | 37.00000 | 67000.00 | Yes |\n",
       "\n"
      ],
      "text/plain": [
       "   Country Age      Salary   Purchased\n",
       "1  France  44.00000 72000.00 No       \n",
       "2  Spain   27.00000 48000.00 Yes      \n",
       "3  Germany 30.00000 54000.00 No       \n",
       "4  Spain   38.00000 61000.00 No       \n",
       "5  Germany 40.00000 63777.78 Yes      \n",
       "7  Spain   38.77778 52000.00 No       \n",
       "8  France  48.00000 79000.00 Yes      \n",
       "10 France  37.00000 67000.00 Yes      "
      ]
     },
     "metadata": {},
     "output_type": "display_data"
    },
    {
     "data": {
      "text/html": [
       "<table>\n",
       "<caption>A data.frame: 2 × 4</caption>\n",
       "<thead>\n",
       "\t<tr><th></th><th scope=col>Country</th><th scope=col>Age</th><th scope=col>Salary</th><th scope=col>Purchased</th></tr>\n",
       "\t<tr><th></th><th scope=col>&lt;fct&gt;</th><th scope=col>&lt;dbl&gt;</th><th scope=col>&lt;dbl&gt;</th><th scope=col>&lt;fct&gt;</th></tr>\n",
       "</thead>\n",
       "<tbody>\n",
       "\t<tr><th scope=row>6</th><td>France </td><td>35</td><td>58000</td><td>Yes</td></tr>\n",
       "\t<tr><th scope=row>9</th><td>Germany</td><td>50</td><td>83000</td><td>No </td></tr>\n",
       "</tbody>\n",
       "</table>\n"
      ],
      "text/latex": [
       "A data.frame: 2 × 4\n",
       "\\begin{tabular}{r|llll}\n",
       "  & Country & Age & Salary & Purchased\\\\\n",
       "  & <fct> & <dbl> & <dbl> & <fct>\\\\\n",
       "\\hline\n",
       "\t6 & France  & 35 & 58000 & Yes\\\\\n",
       "\t9 & Germany & 50 & 83000 & No \\\\\n",
       "\\end{tabular}\n"
      ],
      "text/markdown": [
       "\n",
       "A data.frame: 2 × 4\n",
       "\n",
       "| <!--/--> | Country &lt;fct&gt; | Age &lt;dbl&gt; | Salary &lt;dbl&gt; | Purchased &lt;fct&gt; |\n",
       "|---|---|---|---|---|\n",
       "| 6 | France  | 35 | 58000 | Yes |\n",
       "| 9 | Germany | 50 | 83000 | No  |\n",
       "\n"
      ],
      "text/plain": [
       "  Country Age Salary Purchased\n",
       "6 France  35  58000  Yes      \n",
       "9 Germany 50  83000  No       "
      ]
     },
     "metadata": {},
     "output_type": "display_data"
    }
   ],
   "source": [
    "training_set\n",
    "test_set"
   ]
  },
  {
   "cell_type": "code",
   "execution_count": 14,
   "metadata": {
    "collapsed": true
   },
   "outputs": [],
   "source": [
    "training_set[,2:3] = scale(training_set[,2:3])\n",
    "test_set[,2:3] = scale(test_set[,2:3])"
   ]
  },
  {
   "cell_type": "code",
   "execution_count": 15,
   "metadata": {},
   "outputs": [
    {
     "data": {
      "text/html": [
       "<table>\n",
       "<caption>A data.frame: 8 × 4</caption>\n",
       "<thead>\n",
       "\t<tr><th></th><th scope=col>Country</th><th scope=col>Age</th><th scope=col>Salary</th><th scope=col>Purchased</th></tr>\n",
       "\t<tr><th></th><th scope=col>&lt;fct&gt;</th><th scope=col>&lt;dbl&gt;</th><th scope=col>&lt;dbl&gt;</th><th scope=col>&lt;fct&gt;</th></tr>\n",
       "</thead>\n",
       "<tbody>\n",
       "\t<tr><th scope=row>1</th><td>France </td><td> 0.90101716</td><td> 0.9392746</td><td>No </td></tr>\n",
       "\t<tr><th scope=row>2</th><td>Spain  </td><td>-1.58847494</td><td>-1.3371160</td><td>Yes</td></tr>\n",
       "\t<tr><th scope=row>3</th><td>Germany</td><td>-1.14915281</td><td>-0.7680183</td><td>No </td></tr>\n",
       "\t<tr><th scope=row>4</th><td>Spain  </td><td> 0.02237289</td><td>-0.1040711</td><td>No </td></tr>\n",
       "\t<tr><th scope=row>5</th><td>Germany</td><td> 0.31525431</td><td> 0.1594000</td><td>Yes</td></tr>\n",
       "\t<tr><th scope=row>7</th><td>Spain  </td><td> 0.13627122</td><td>-0.9577176</td><td>No </td></tr>\n",
       "\t<tr><th scope=row>8</th><td>France </td><td> 1.48678000</td><td> 1.6032218</td><td>Yes</td></tr>\n",
       "\t<tr><th scope=row>10</th><td>France </td><td>-0.12406783</td><td> 0.4650265</td><td>Yes</td></tr>\n",
       "</tbody>\n",
       "</table>\n"
      ],
      "text/latex": [
       "A data.frame: 8 × 4\n",
       "\\begin{tabular}{r|llll}\n",
       "  & Country & Age & Salary & Purchased\\\\\n",
       "  & <fct> & <dbl> & <dbl> & <fct>\\\\\n",
       "\\hline\n",
       "\t1 & France  &  0.90101716 &  0.9392746 & No \\\\\n",
       "\t2 & Spain   & -1.58847494 & -1.3371160 & Yes\\\\\n",
       "\t3 & Germany & -1.14915281 & -0.7680183 & No \\\\\n",
       "\t4 & Spain   &  0.02237289 & -0.1040711 & No \\\\\n",
       "\t5 & Germany &  0.31525431 &  0.1594000 & Yes\\\\\n",
       "\t7 & Spain   &  0.13627122 & -0.9577176 & No \\\\\n",
       "\t8 & France  &  1.48678000 &  1.6032218 & Yes\\\\\n",
       "\t10 & France  & -0.12406783 &  0.4650265 & Yes\\\\\n",
       "\\end{tabular}\n"
      ],
      "text/markdown": [
       "\n",
       "A data.frame: 8 × 4\n",
       "\n",
       "| <!--/--> | Country &lt;fct&gt; | Age &lt;dbl&gt; | Salary &lt;dbl&gt; | Purchased &lt;fct&gt; |\n",
       "|---|---|---|---|---|\n",
       "| 1 | France  |  0.90101716 |  0.9392746 | No  |\n",
       "| 2 | Spain   | -1.58847494 | -1.3371160 | Yes |\n",
       "| 3 | Germany | -1.14915281 | -0.7680183 | No  |\n",
       "| 4 | Spain   |  0.02237289 | -0.1040711 | No  |\n",
       "| 5 | Germany |  0.31525431 |  0.1594000 | Yes |\n",
       "| 7 | Spain   |  0.13627122 | -0.9577176 | No  |\n",
       "| 8 | France  |  1.48678000 |  1.6032218 | Yes |\n",
       "| 10 | France  | -0.12406783 |  0.4650265 | Yes |\n",
       "\n"
      ],
      "text/plain": [
       "   Country Age         Salary     Purchased\n",
       "1  France   0.90101716  0.9392746 No       \n",
       "2  Spain   -1.58847494 -1.3371160 Yes      \n",
       "3  Germany -1.14915281 -0.7680183 No       \n",
       "4  Spain    0.02237289 -0.1040711 No       \n",
       "5  Germany  0.31525431  0.1594000 Yes      \n",
       "7  Spain    0.13627122 -0.9577176 No       \n",
       "8  France   1.48678000  1.6032218 Yes      \n",
       "10 France  -0.12406783  0.4650265 Yes      "
      ]
     },
     "metadata": {},
     "output_type": "display_data"
    }
   ],
   "source": [
    "training_set"
   ]
  },
  {
   "cell_type": "code",
   "execution_count": 16,
   "metadata": {},
   "outputs": [
    {
     "data": {
      "text/html": [
       "<table>\n",
       "<caption>A data.frame: 2 × 4</caption>\n",
       "<thead>\n",
       "\t<tr><th></th><th scope=col>Country</th><th scope=col>Age</th><th scope=col>Salary</th><th scope=col>Purchased</th></tr>\n",
       "\t<tr><th></th><th scope=col>&lt;fct&gt;</th><th scope=col>&lt;dbl&gt;</th><th scope=col>&lt;dbl&gt;</th><th scope=col>&lt;fct&gt;</th></tr>\n",
       "</thead>\n",
       "<tbody>\n",
       "\t<tr><th scope=row>6</th><td>France </td><td>-0.7071068</td><td>-0.7071068</td><td>Yes</td></tr>\n",
       "\t<tr><th scope=row>9</th><td>Germany</td><td> 0.7071068</td><td> 0.7071068</td><td>No </td></tr>\n",
       "</tbody>\n",
       "</table>\n"
      ],
      "text/latex": [
       "A data.frame: 2 × 4\n",
       "\\begin{tabular}{r|llll}\n",
       "  & Country & Age & Salary & Purchased\\\\\n",
       "  & <fct> & <dbl> & <dbl> & <fct>\\\\\n",
       "\\hline\n",
       "\t6 & France  & -0.7071068 & -0.7071068 & Yes\\\\\n",
       "\t9 & Germany &  0.7071068 &  0.7071068 & No \\\\\n",
       "\\end{tabular}\n"
      ],
      "text/markdown": [
       "\n",
       "A data.frame: 2 × 4\n",
       "\n",
       "| <!--/--> | Country &lt;fct&gt; | Age &lt;dbl&gt; | Salary &lt;dbl&gt; | Purchased &lt;fct&gt; |\n",
       "|---|---|---|---|---|\n",
       "| 6 | France  | -0.7071068 | -0.7071068 | Yes |\n",
       "| 9 | Germany |  0.7071068 |  0.7071068 | No  |\n",
       "\n"
      ],
      "text/plain": [
       "  Country Age        Salary     Purchased\n",
       "6 France  -0.7071068 -0.7071068 Yes      \n",
       "9 Germany  0.7071068  0.7071068 No       "
      ]
     },
     "metadata": {},
     "output_type": "display_data"
    }
   ],
   "source": [
    "test_set"
   ]
  },
  {
   "cell_type": "markdown",
   "metadata": {},
   "source": [
    "Note : Most libraries in R internally take care this feature scaling problem(overfitting) so we might not need to include this always."
   ]
  }
 ],
 "metadata": {
  "kernelspec": {
   "display_name": "R",
   "language": "R",
   "name": "ir"
  },
  "language_info": {
   "codemirror_mode": "r",
   "file_extension": ".r",
   "mimetype": "text/x-r-source",
   "name": "R",
   "pygments_lexer": "r",
   "version": "3.6.0"
  }
 },
 "nbformat": 4,
 "nbformat_minor": 2
}
