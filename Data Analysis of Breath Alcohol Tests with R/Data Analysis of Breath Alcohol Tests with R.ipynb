{
 "cells": [
  {
   "cell_type": "markdown",
   "metadata": {},
   "source": [
    "# Data Analysis of Breath Alcohol Tests with R "
   ]
  },
  {
   "cell_type": "code",
   "execution_count": 2,
   "metadata": {},
   "outputs": [
    {
     "name": "stderr",
     "output_type": "stream",
     "text": [
      "Installing package into 'C:/Users/sxw17/Documents/R/win-library/3.5'\n",
      "(as 'lib' is unspecified)\n",
      "\n",
      "Warning message:\n",
      "\"package 'tidyverse' is in use and will not be installed\"\n"
     ]
    }
   ],
   "source": [
    "install.packages('tidyverse')"
   ]
  },
  {
   "cell_type": "markdown",
   "metadata": {},
   "source": [
    "##  Breath alcohol tests in Ames, Iowa, USA"
   ]
  },
  {
   "cell_type": "code",
   "execution_count": 3,
   "metadata": {},
   "outputs": [
    {
     "name": "stderr",
     "output_type": "stream",
     "text": [
      "Parsed with column specification:\n",
      "cols(\n",
      "  year = \u001b[32mcol_double()\u001b[39m,\n",
      "  month = \u001b[32mcol_double()\u001b[39m,\n",
      "  day = \u001b[32mcol_double()\u001b[39m,\n",
      "  hour = \u001b[32mcol_double()\u001b[39m,\n",
      "  location = \u001b[31mcol_character()\u001b[39m,\n",
      "  gender = \u001b[31mcol_character()\u001b[39m,\n",
      "  Res1 = \u001b[32mcol_double()\u001b[39m,\n",
      "  Res2 = \u001b[32mcol_double()\u001b[39m\n",
      ")\n",
      "\n"
     ]
    },
    {
     "data": {
      "text/html": [
       "<table>\n",
       "<caption>A tibble: 6 × 8</caption>\n",
       "<thead>\n",
       "\t<tr><th scope=col>year</th><th scope=col>month</th><th scope=col>day</th><th scope=col>hour</th><th scope=col>location</th><th scope=col>gender</th><th scope=col>Res1</th><th scope=col>Res2</th></tr>\n",
       "\t<tr><th scope=col>&lt;dbl&gt;</th><th scope=col>&lt;dbl&gt;</th><th scope=col>&lt;dbl&gt;</th><th scope=col>&lt;dbl&gt;</th><th scope=col>&lt;chr&gt;</th><th scope=col>&lt;chr&gt;</th><th scope=col>&lt;dbl&gt;</th><th scope=col>&lt;dbl&gt;</th></tr>\n",
       "</thead>\n",
       "<tbody>\n",
       "\t<tr><td>2017</td><td>12</td><td>17</td><td>1</td><td>Ames PD</td><td>M</td><td>0.046</td><td>0.046</td></tr>\n",
       "\t<tr><td>2017</td><td>12</td><td>14</td><td>3</td><td>ISU PD </td><td>F</td><td>0.121</td><td>0.120</td></tr>\n",
       "\t<tr><td>2017</td><td>12</td><td>10</td><td>5</td><td>ISU PD </td><td>F</td><td>0.068</td><td>0.067</td></tr>\n",
       "\t<tr><td>2017</td><td>12</td><td>10</td><td>3</td><td>ISU PD </td><td>F</td><td>0.077</td><td>0.077</td></tr>\n",
       "\t<tr><td>2017</td><td>12</td><td> 9</td><td>2</td><td>ISU PD </td><td>M</td><td>0.085</td><td>0.084</td></tr>\n",
       "\t<tr><td>2017</td><td>12</td><td> 9</td><td>1</td><td>Ames PD</td><td>M</td><td>0.160</td><td>0.161</td></tr>\n",
       "</tbody>\n",
       "</table>\n"
      ],
      "text/latex": [
       "A tibble: 6 × 8\n",
       "\\begin{tabular}{r|llllllll}\n",
       " year & month & day & hour & location & gender & Res1 & Res2\\\\\n",
       " <dbl> & <dbl> & <dbl> & <dbl> & <chr> & <chr> & <dbl> & <dbl>\\\\\n",
       "\\hline\n",
       "\t 2017 & 12 & 17 & 1 & Ames PD & M & 0.046 & 0.046\\\\\n",
       "\t 2017 & 12 & 14 & 3 & ISU PD  & F & 0.121 & 0.120\\\\\n",
       "\t 2017 & 12 & 10 & 5 & ISU PD  & F & 0.068 & 0.067\\\\\n",
       "\t 2017 & 12 & 10 & 3 & ISU PD  & F & 0.077 & 0.077\\\\\n",
       "\t 2017 & 12 &  9 & 2 & ISU PD  & M & 0.085 & 0.084\\\\\n",
       "\t 2017 & 12 &  9 & 1 & Ames PD & M & 0.160 & 0.161\\\\\n",
       "\\end{tabular}\n"
      ],
      "text/markdown": [
       "\n",
       "A tibble: 6 × 8\n",
       "\n",
       "| year &lt;dbl&gt; | month &lt;dbl&gt; | day &lt;dbl&gt; | hour &lt;dbl&gt; | location &lt;chr&gt; | gender &lt;chr&gt; | Res1 &lt;dbl&gt; | Res2 &lt;dbl&gt; |\n",
       "|---|---|---|---|---|---|---|---|\n",
       "| 2017 | 12 | 17 | 1 | Ames PD | M | 0.046 | 0.046 |\n",
       "| 2017 | 12 | 14 | 3 | ISU PD  | F | 0.121 | 0.120 |\n",
       "| 2017 | 12 | 10 | 5 | ISU PD  | F | 0.068 | 0.067 |\n",
       "| 2017 | 12 | 10 | 3 | ISU PD  | F | 0.077 | 0.077 |\n",
       "| 2017 | 12 |  9 | 2 | ISU PD  | M | 0.085 | 0.084 |\n",
       "| 2017 | 12 |  9 | 1 | Ames PD | M | 0.160 | 0.161 |\n",
       "\n"
      ],
      "text/plain": [
       "  year month day hour location gender Res1  Res2 \n",
       "1 2017 12    17  1    Ames PD  M      0.046 0.046\n",
       "2 2017 12    14  3    ISU PD   F      0.121 0.120\n",
       "3 2017 12    10  5    ISU PD   F      0.068 0.067\n",
       "4 2017 12    10  3    ISU PD   F      0.077 0.077\n",
       "5 2017 12     9  2    ISU PD   M      0.085 0.084\n",
       "6 2017 12     9  1    Ames PD  M      0.160 0.161"
      ]
     },
     "metadata": {},
     "output_type": "display_data"
    }
   ],
   "source": [
    "# load the tidyverse suite of packages \n",
    "library(tidyverse)\n",
    "\n",
    "# read the data into your workspace\n",
    "ba_data <- read_csv(\"breath_alcohol_ames.csv\")\n",
    "\n",
    "# quickly inspect the data\n",
    "head(ba_data)\n",
    "\n",
    "# obtain counts for each year \n",
    "ba_year <- ba_data %>%\n",
    "            count(year)"
   ]
  },
  {
   "cell_type": "code",
   "execution_count": null,
   "metadata": {},
   "outputs": [],
   "source": []
  },
  {
   "cell_type": "markdown",
   "metadata": {},
   "source": [
    "##  2. What is the busiest police department"
   ]
  },
  {
   "cell_type": "code",
   "execution_count": 4,
   "metadata": {},
   "outputs": [],
   "source": [
    "# use count to tally up the totals for each department\n",
    "pds <- ba_data %>%\n",
    "        group_by(location)%>%\n",
    "        count()"
   ]
  },
  {
   "cell_type": "code",
   "execution_count": null,
   "metadata": {},
   "outputs": [],
   "source": []
  },
  {
   "cell_type": "markdown",
   "metadata": {},
   "source": [
    "# 3. Nothing Good Happens after 2am"
   ]
  },
  {
   "cell_type": "code",
   "execution_count": 5,
   "metadata": {},
   "outputs": [
    {
     "data": {
      "image/png": "[encoded data removed]",
      "text/plain": [
       "plot without title"
      ]
     },
     "metadata": {
      "image/png": {
       "height": 420,
       "width": 420
      },
      "text/plain": {
       "height": 420,
       "width": 420
      }
     },
     "output_type": "display_data"
    }
   ],
   "source": [
    "\n",
    "# count by hour and arrange by descending frequency\n",
    "hourly <- ba_data %>%\n",
    "            count(hour)%>%\n",
    "            arrange(desc(n))\n",
    "\n",
    "# use a geom_ to create the appropriate bar chart\n",
    "ggplot(hourly, aes(hour, weight=n)) + geom_bar()"
   ]
  },
  {
   "cell_type": "code",
   "execution_count": null,
   "metadata": {},
   "outputs": [],
   "source": []
  },
  {
   "cell_type": "markdown",
   "metadata": {},
   "source": [
    "## 4. Breathalyzer tests by month"
   ]
  },
  {
   "cell_type": "code",
   "execution_count": 6,
   "metadata": {},
   "outputs": [
    {
     "data": {
      "image/png": "[encoded data removed]",
      "text/plain": [
       "plot without title"
      ]
     },
     "metadata": {
      "image/png": {
       "height": 420,
       "width": 420
      },
      "text/plain": {
       "height": 420,
       "width": 420
      }
     },
     "output_type": "display_data"
    }
   ],
   "source": [
    "\n",
    "# count by month and arrange by descending frequency\n",
    "monthly <- ba_data %>%\n",
    "            count(month) %>%\n",
    "            arrange(desc(n))\n",
    "\n",
    "# make month a factor\n",
    "monthly$month <- as.factor(monthly$month)\n",
    "\n",
    "# use a geom_ to create the appropriate bar chart\n",
    "ggplot(monthly, aes(month, weight=n)) + geom_bar()"
   ]
  },
  {
   "cell_type": "code",
   "execution_count": null,
   "metadata": {},
   "outputs": [],
   "source": []
  },
  {
   "cell_type": "markdown",
   "metadata": {},
   "source": [
    "## 5. COLLEGE"
   ]
  },
  {
   "cell_type": "code",
   "execution_count": 7,
   "metadata": {},
   "outputs": [
    {
     "data": {
      "text/html": [
       "<table>\n",
       "<caption>A tibble: 3 × 2</caption>\n",
       "<thead>\n",
       "\t<tr><th scope=col>gender</th><th scope=col>n</th></tr>\n",
       "\t<tr><th scope=col>&lt;chr&gt;</th><th scope=col>&lt;int&gt;</th></tr>\n",
       "</thead>\n",
       "<tbody>\n",
       "\t<tr><td>F </td><td> 425</td></tr>\n",
       "\t<tr><td>M </td><td>1102</td></tr>\n",
       "\t<tr><td>NA</td><td>  29</td></tr>\n",
       "</tbody>\n",
       "</table>\n"
      ],
      "text/latex": [
       "A tibble: 3 × 2\n",
       "\\begin{tabular}{r|ll}\n",
       " gender & n\\\\\n",
       " <chr> & <int>\\\\\n",
       "\\hline\n",
       "\t F  &  425\\\\\n",
       "\t M  & 1102\\\\\n",
       "\t NA &   29\\\\\n",
       "\\end{tabular}\n"
      ],
      "text/markdown": [
       "\n",
       "A tibble: 3 × 2\n",
       "\n",
       "| gender &lt;chr&gt; | n &lt;int&gt; |\n",
       "|---|---|\n",
       "| F  |  425 |\n",
       "| M  | 1102 |\n",
       "| NA |   29 |\n",
       "\n"
      ],
      "text/plain": [
       "  gender n   \n",
       "1 F       425\n",
       "2 M      1102\n",
       "3 NA       29"
      ]
     },
     "metadata": {},
     "output_type": "display_data"
    },
    {
     "data": {
      "image/png": "[encoded data removed]",
      "text/plain": [
       "plot without title"
      ]
     },
     "metadata": {
      "image/png": {
       "height": 420,
       "width": 420
      },
      "text/plain": {
       "height": 420,
       "width": 420
      }
     },
     "output_type": "display_data"
    }
   ],
   "source": [
    "# count by gender \n",
    "ba_data %>% count(gender)\n",
    "\n",
    "# create a dataset with no NAs in gender \n",
    "clean_gender <- ba_data %>%\n",
    "                filter(!is.na(gender))\n",
    "# create a mean test result variable and save as mean_bas\n",
    "mean_bas <- clean_gender %>%\n",
    "            mutate(meanRes = (Res1 + Res2)/2)\n",
    "\n",
    "# create side-by-side boxplots to compare the mean blood alcohol levels of men and women\n",
    "ggplot(mean_bas, aes(gender, y=meanRes)) + geom_boxplot()"
   ]
  },
  {
   "cell_type": "code",
   "execution_count": null,
   "metadata": {},
   "outputs": [],
   "source": []
  },
  {
   "cell_type": "markdown",
   "metadata": {},
   "source": [
    "## 6. Above the legal limit"
   ]
  },
  {
   "cell_type": "code",
   "execution_count": 9,
   "metadata": {},
   "outputs": [
    {
     "data": {
      "text/html": [
       "0.744858611825193"
      ],
      "text/latex": [
       "0.744858611825193"
      ],
      "text/markdown": [
       "0.744858611825193"
      ],
      "text/plain": [
       "[1] 0.7448586"
      ]
     },
     "metadata": {},
     "output_type": "display_data"
    }
   ],
   "source": [
    "# Filter the data\n",
    "duis <- ba_data %>%\n",
    "        filter(Res1 > 0.08 | Res2 > 0.08)\n",
    "\n",
    "# proportion of tests that would have resulted in a DUI\n",
    "p_dui <- nrow(duis) / nrow(ba_data)\n",
    "\n",
    "p_dui"
   ]
  },
  {
   "cell_type": "code",
   "execution_count": null,
   "metadata": {},
   "outputs": [],
   "source": []
  },
  {
   "cell_type": "markdown",
   "metadata": {},
   "source": [
    "## 7. Breathalyzer tests: is there a pattern over time?"
   ]
  },
  {
   "cell_type": "code",
   "execution_count": 10,
   "metadata": {},
   "outputs": [
    {
     "name": "stderr",
     "output_type": "stream",
     "text": [
      "\n",
      "Attaching package: 'lubridate'\n",
      "\n",
      "\n",
      "The following object is masked from 'package:base':\n",
      "\n",
      "    date\n",
      "\n",
      "\n"
     ]
    },
    {
     "data": {
      "text/html": [
       "<table>\n",
       "<caption>A spec_tbl_df: 1556 × 10</caption>\n",
       "<thead>\n",
       "\t<tr><th scope=col>year</th><th scope=col>month</th><th scope=col>day</th><th scope=col>hour</th><th scope=col>location</th><th scope=col>gender</th><th scope=col>Res1</th><th scope=col>Res2</th><th scope=col>date</th><th scope=col>week</th></tr>\n",
       "\t<tr><th scope=col>&lt;dbl&gt;</th><th scope=col>&lt;dbl&gt;</th><th scope=col>&lt;dbl&gt;</th><th scope=col>&lt;dbl&gt;</th><th scope=col>&lt;chr&gt;</th><th scope=col>&lt;chr&gt;</th><th scope=col>&lt;dbl&gt;</th><th scope=col>&lt;dbl&gt;</th><th scope=col>&lt;date&gt;</th><th scope=col>&lt;dbl&gt;</th></tr>\n",
       "</thead>\n",
       "<tbody>\n",
       "\t<tr><td>2017</td><td>12</td><td>17</td><td> 1</td><td>Ames PD</td><td>M</td><td>0.046</td><td>0.046</td><td>2017-12-17</td><td>51</td></tr>\n",
       "\t<tr><td>2017</td><td>12</td><td>14</td><td> 3</td><td>ISU PD </td><td>F</td><td>0.121</td><td>0.120</td><td>2017-12-14</td><td>50</td></tr>\n",
       "\t<tr><td>2017</td><td>12</td><td>10</td><td> 5</td><td>ISU PD </td><td>F</td><td>0.068</td><td>0.067</td><td>2017-12-10</td><td>50</td></tr>\n",
       "\t<tr><td>2017</td><td>12</td><td>10</td><td> 3</td><td>ISU PD </td><td>F</td><td>0.077</td><td>0.077</td><td>2017-12-10</td><td>50</td></tr>\n",
       "\t<tr><td>2017</td><td>12</td><td> 9</td><td> 2</td><td>ISU PD </td><td>M</td><td>0.085</td><td>0.084</td><td>2017-12-09</td><td>49</td></tr>\n",
       "\t<tr><td>2017</td><td>12</td><td> 9</td><td> 1</td><td>Ames PD</td><td>M</td><td>0.160</td><td>0.161</td><td>2017-12-09</td><td>49</td></tr>\n",
       "\t<tr><td>2017</td><td>12</td><td> 7</td><td> 3</td><td>Ames PD</td><td>M</td><td>0.131</td><td>0.131</td><td>2017-12-07</td><td>49</td></tr>\n",
       "\t<tr><td>2017</td><td>12</td><td> 4</td><td> 1</td><td>ISU PD </td><td>M</td><td>0.000</td><td>0.000</td><td>2017-12-04</td><td>49</td></tr>\n",
       "\t<tr><td>2017</td><td>12</td><td> 3</td><td> 1</td><td>Ames PD</td><td>M</td><td>0.091</td><td>0.090</td><td>2017-12-03</td><td>49</td></tr>\n",
       "\t<tr><td>2017</td><td>12</td><td> 3</td><td> 0</td><td>Ames PD</td><td>M</td><td>0.095</td><td>0.095</td><td>2017-12-03</td><td>49</td></tr>\n",
       "\t<tr><td>2017</td><td>12</td><td> 2</td><td> 1</td><td>Ames PD</td><td>M</td><td>0.155</td><td>0.155</td><td>2017-12-02</td><td>48</td></tr>\n",
       "\t<tr><td>2017</td><td>11</td><td>29</td><td> 3</td><td>ISU PD </td><td>F</td><td>0.171</td><td>0.171</td><td>2017-11-29</td><td>48</td></tr>\n",
       "\t<tr><td>2017</td><td>11</td><td>21</td><td> 3</td><td>ISU PD </td><td>F</td><td>0.050</td><td>0.051</td><td>2017-11-21</td><td>47</td></tr>\n",
       "\t<tr><td>2017</td><td>11</td><td>17</td><td>18</td><td>ISU PD </td><td>M</td><td>0.176</td><td>0.176</td><td>2017-11-17</td><td>46</td></tr>\n",
       "\t<tr><td>2017</td><td>11</td><td>11</td><td> 3</td><td>Ames PD</td><td>M</td><td>0.072</td><td>0.072</td><td>2017-11-11</td><td>45</td></tr>\n",
       "\t<tr><td>2017</td><td>11</td><td>11</td><td> 2</td><td>ISU PD </td><td>M</td><td>0.094</td><td>0.093</td><td>2017-11-11</td><td>45</td></tr>\n",
       "\t<tr><td>2017</td><td>11</td><td>11</td><td> 2</td><td>ISU PD </td><td>F</td><td>0.106</td><td>0.106</td><td>2017-11-11</td><td>45</td></tr>\n",
       "\t<tr><td>2017</td><td>11</td><td>10</td><td> 3</td><td>ISU PD </td><td>M</td><td>0.145</td><td>0.144</td><td>2017-11-10</td><td>45</td></tr>\n",
       "\t<tr><td>2017</td><td>11</td><td> 9</td><td> 2</td><td>Ames PD</td><td>F</td><td>0.148</td><td>0.148</td><td>2017-11-09</td><td>45</td></tr>\n",
       "\t<tr><td>2017</td><td>11</td><td> 8</td><td> 3</td><td>ISU PD </td><td>F</td><td>0.110</td><td>0.110</td><td>2017-11-08</td><td>45</td></tr>\n",
       "\t<tr><td>2017</td><td>11</td><td> 6</td><td>19</td><td>Ames PD</td><td>F</td><td>0.000</td><td>0.000</td><td>2017-11-06</td><td>45</td></tr>\n",
       "\t<tr><td>2017</td><td>11</td><td> 5</td><td> 2</td><td>ISU PD </td><td>M</td><td>0.155</td><td>0.155</td><td>2017-11-05</td><td>45</td></tr>\n",
       "\t<tr><td>2017</td><td>11</td><td> 5</td><td> 0</td><td>Ames PD</td><td>M</td><td>0.114</td><td>0.113</td><td>2017-11-05</td><td>45</td></tr>\n",
       "\t<tr><td>2017</td><td>11</td><td> 4</td><td> 3</td><td>Ames PD</td><td>M</td><td>0.107</td><td>0.107</td><td>2017-11-04</td><td>44</td></tr>\n",
       "\t<tr><td>2017</td><td>11</td><td> 3</td><td> 3</td><td>ISU PD </td><td>M</td><td>0.000</td><td>0.000</td><td>2017-11-03</td><td>44</td></tr>\n",
       "\t<tr><td>2017</td><td>11</td><td> 2</td><td> 2</td><td>Ames PD</td><td>M</td><td>0.000</td><td>0.000</td><td>2017-11-02</td><td>44</td></tr>\n",
       "\t<tr><td>2017</td><td>10</td><td>29</td><td> 5</td><td>Ames PD</td><td>F</td><td>0.164</td><td>0.164</td><td>2017-10-29</td><td>44</td></tr>\n",
       "\t<tr><td>2017</td><td>10</td><td>29</td><td> 4</td><td>ISU PD </td><td>M</td><td>0.101</td><td>0.101</td><td>2017-10-29</td><td>44</td></tr>\n",
       "\t<tr><td>2017</td><td>10</td><td>29</td><td> 4</td><td>Ames PD</td><td>M</td><td>0.116</td><td>0.116</td><td>2017-10-29</td><td>44</td></tr>\n",
       "\t<tr><td>2017</td><td>10</td><td>29</td><td> 3</td><td>ISU PD </td><td>F</td><td>0.100</td><td>0.099</td><td>2017-10-29</td><td>44</td></tr>\n",
       "\t<tr><td>...</td><td>...</td><td>...</td><td>...</td><td>...</td><td>...</td><td>...</td><td>...</td><td>...</td><td>...</td></tr>\n",
       "\t<tr><td>2013</td><td>1</td><td>26</td><td> 1</td><td>Ames PD</td><td>M</td><td>0.099</td><td>0.098</td><td>2013-01-26</td><td>4</td></tr>\n",
       "\t<tr><td>2013</td><td>1</td><td>25</td><td> 1</td><td>ISU PD </td><td>M</td><td>0.094</td><td>0.094</td><td>2013-01-25</td><td>4</td></tr>\n",
       "\t<tr><td>2013</td><td>1</td><td>22</td><td>22</td><td>ISU PD </td><td>M</td><td>0.000</td><td>0.000</td><td>2013-01-22</td><td>4</td></tr>\n",
       "\t<tr><td>2013</td><td>1</td><td>21</td><td> 3</td><td>ISU PD </td><td>M</td><td>0.059</td><td>0.058</td><td>2013-01-21</td><td>3</td></tr>\n",
       "\t<tr><td>2013</td><td>1</td><td>20</td><td> 4</td><td>ISU PD </td><td>M</td><td>0.159</td><td>0.158</td><td>2013-01-20</td><td>3</td></tr>\n",
       "\t<tr><td>2013</td><td>1</td><td>20</td><td> 2</td><td>Ames PD</td><td>F</td><td>0.195</td><td>0.194</td><td>2013-01-20</td><td>3</td></tr>\n",
       "\t<tr><td>2013</td><td>1</td><td>20</td><td> 2</td><td>Ames PD</td><td>M</td><td>0.155</td><td>0.155</td><td>2013-01-20</td><td>3</td></tr>\n",
       "\t<tr><td>2013</td><td>1</td><td>20</td><td> 1</td><td>ISU PD </td><td>M</td><td>0.140</td><td>0.139</td><td>2013-01-20</td><td>3</td></tr>\n",
       "\t<tr><td>2013</td><td>1</td><td>19</td><td> 3</td><td>Ames PD</td><td>F</td><td>0.129</td><td>0.128</td><td>2013-01-19</td><td>3</td></tr>\n",
       "\t<tr><td>2013</td><td>1</td><td>18</td><td> 4</td><td>ISU PD </td><td>M</td><td>0.111</td><td>0.110</td><td>2013-01-18</td><td>3</td></tr>\n",
       "\t<tr><td>2013</td><td>1</td><td>18</td><td> 3</td><td>ISU PD </td><td>M</td><td>0.089</td><td>0.090</td><td>2013-01-18</td><td>3</td></tr>\n",
       "\t<tr><td>2013</td><td>1</td><td>15</td><td> 2</td><td>ISU PD </td><td>M</td><td>0.141</td><td>0.140</td><td>2013-01-15</td><td>3</td></tr>\n",
       "\t<tr><td>2013</td><td>1</td><td>13</td><td> 3</td><td>ISU PD </td><td>F</td><td>0.028</td><td>0.028</td><td>2013-01-13</td><td>2</td></tr>\n",
       "\t<tr><td>2013</td><td>1</td><td>13</td><td> 2</td><td>Ames PD</td><td>F</td><td>0.130</td><td>0.128</td><td>2013-01-13</td><td>2</td></tr>\n",
       "\t<tr><td>2013</td><td>1</td><td>13</td><td> 2</td><td>Ames PD</td><td>M</td><td>0.209</td><td>0.209</td><td>2013-01-13</td><td>2</td></tr>\n",
       "\t<tr><td>2013</td><td>1</td><td>13</td><td> 1</td><td>Ames PD</td><td>M</td><td>0.239</td><td>0.237</td><td>2013-01-13</td><td>2</td></tr>\n",
       "\t<tr><td>2013</td><td>1</td><td>13</td><td> 1</td><td>Ames PD</td><td>F</td><td>0.118</td><td>0.117</td><td>2013-01-13</td><td>2</td></tr>\n",
       "\t<tr><td>2013</td><td>1</td><td>12</td><td> 4</td><td>ISU PD </td><td>M</td><td>0.144</td><td>0.144</td><td>2013-01-12</td><td>2</td></tr>\n",
       "\t<tr><td>2013</td><td>1</td><td>12</td><td> 2</td><td>ISU PD </td><td>M</td><td>0.125</td><td>0.125</td><td>2013-01-12</td><td>2</td></tr>\n",
       "\t<tr><td>2013</td><td>1</td><td>12</td><td> 1</td><td>ISU PD </td><td>M</td><td>0.055</td><td>0.055</td><td>2013-01-12</td><td>2</td></tr>\n",
       "\t<tr><td>2013</td><td>1</td><td>11</td><td> 4</td><td>Ames PD</td><td>M</td><td>0.181</td><td>0.182</td><td>2013-01-11</td><td>2</td></tr>\n",
       "\t<tr><td>2013</td><td>1</td><td> 9</td><td> 3</td><td>Ames PD</td><td>M</td><td>0.000</td><td>0.000</td><td>2013-01-09</td><td>2</td></tr>\n",
       "\t<tr><td>2013</td><td>1</td><td> 9</td><td> 3</td><td>ISU PD </td><td>F</td><td>0.134</td><td>0.133</td><td>2013-01-09</td><td>2</td></tr>\n",
       "\t<tr><td>2013</td><td>1</td><td> 9</td><td> 3</td><td>ISU PD </td><td>F</td><td>0.000</td><td>0.000</td><td>2013-01-09</td><td>2</td></tr>\n",
       "\t<tr><td>2013</td><td>1</td><td> 6</td><td> 1</td><td>ISU PD </td><td>F</td><td>0.085</td><td>0.085</td><td>2013-01-06</td><td>1</td></tr>\n",
       "\t<tr><td>2013</td><td>1</td><td> 5</td><td>23</td><td>Ames PD</td><td>M</td><td>0.182</td><td>0.181</td><td>2013-01-05</td><td>1</td></tr>\n",
       "\t<tr><td>2013</td><td>1</td><td> 4</td><td> 2</td><td>ISU PD </td><td>M</td><td>0.066</td><td>0.065</td><td>2013-01-04</td><td>1</td></tr>\n",
       "\t<tr><td>2013</td><td>1</td><td> 1</td><td> 3</td><td>Ames PD</td><td>M</td><td>0.090</td><td>0.090</td><td>2013-01-01</td><td>1</td></tr>\n",
       "\t<tr><td>2013</td><td>1</td><td> 1</td><td> 2</td><td>ISU PD </td><td>F</td><td>0.132</td><td>0.131</td><td>2013-01-01</td><td>1</td></tr>\n",
       "\t<tr><td>2013</td><td>1</td><td> 1</td><td> 0</td><td>ISU PD </td><td>M</td><td>0.130</td><td>0.130</td><td>2013-01-01</td><td>1</td></tr>\n",
       "</tbody>\n",
       "</table>\n"
      ],
      "text/latex": [
       "A spec_tbl_df: 1556 × 10\n",
       "\\begin{tabular}{r|llllllllll}\n",
       " year & month & day & hour & location & gender & Res1 & Res2 & date & week\\\\\n",
       " <dbl> & <dbl> & <dbl> & <dbl> & <chr> & <chr> & <dbl> & <dbl> & <date> & <dbl>\\\\\n",
       "\\hline\n",
       "\t 2017 & 12 & 17 &  1 & Ames PD & M & 0.046 & 0.046 & 2017-12-17 & 51\\\\\n",
       "\t 2017 & 12 & 14 &  3 & ISU PD  & F & 0.121 & 0.120 & 2017-12-14 & 50\\\\\n",
       "\t 2017 & 12 & 10 &  5 & ISU PD  & F & 0.068 & 0.067 & 2017-12-10 & 50\\\\\n",
       "\t 2017 & 12 & 10 &  3 & ISU PD  & F & 0.077 & 0.077 & 2017-12-10 & 50\\\\\n",
       "\t 2017 & 12 &  9 &  2 & ISU PD  & M & 0.085 & 0.084 & 2017-12-09 & 49\\\\\n",
       "\t 2017 & 12 &  9 &  1 & Ames PD & M & 0.160 & 0.161 & 2017-12-09 & 49\\\\\n",
       "\t 2017 & 12 &  7 &  3 & Ames PD & M & 0.131 & 0.131 & 2017-12-07 & 49\\\\\n",
       "\t 2017 & 12 &  4 &  1 & ISU PD  & M & 0.000 & 0.000 & 2017-12-04 & 49\\\\\n",
       "\t 2017 & 12 &  3 &  1 & Ames PD & M & 0.091 & 0.090 & 2017-12-03 & 49\\\\\n",
       "\t 2017 & 12 &  3 &  0 & Ames PD & M & 0.095 & 0.095 & 2017-12-03 & 49\\\\\n",
       "\t 2017 & 12 &  2 &  1 & Ames PD & M & 0.155 & 0.155 & 2017-12-02 & 48\\\\\n",
       "\t 2017 & 11 & 29 &  3 & ISU PD  & F & 0.171 & 0.171 & 2017-11-29 & 48\\\\\n",
       "\t 2017 & 11 & 21 &  3 & ISU PD  & F & 0.050 & 0.051 & 2017-11-21 & 47\\\\\n",
       "\t 2017 & 11 & 17 & 18 & ISU PD  & M & 0.176 & 0.176 & 2017-11-17 & 46\\\\\n",
       "\t 2017 & 11 & 11 &  3 & Ames PD & M & 0.072 & 0.072 & 2017-11-11 & 45\\\\\n",
       "\t 2017 & 11 & 11 &  2 & ISU PD  & M & 0.094 & 0.093 & 2017-11-11 & 45\\\\\n",
       "\t 2017 & 11 & 11 &  2 & ISU PD  & F & 0.106 & 0.106 & 2017-11-11 & 45\\\\\n",
       "\t 2017 & 11 & 10 &  3 & ISU PD  & M & 0.145 & 0.144 & 2017-11-10 & 45\\\\\n",
       "\t 2017 & 11 &  9 &  2 & Ames PD & F & 0.148 & 0.148 & 2017-11-09 & 45\\\\\n",
       "\t 2017 & 11 &  8 &  3 & ISU PD  & F & 0.110 & 0.110 & 2017-11-08 & 45\\\\\n",
       "\t 2017 & 11 &  6 & 19 & Ames PD & F & 0.000 & 0.000 & 2017-11-06 & 45\\\\\n",
       "\t 2017 & 11 &  5 &  2 & ISU PD  & M & 0.155 & 0.155 & 2017-11-05 & 45\\\\\n",
       "\t 2017 & 11 &  5 &  0 & Ames PD & M & 0.114 & 0.113 & 2017-11-05 & 45\\\\\n",
       "\t 2017 & 11 &  4 &  3 & Ames PD & M & 0.107 & 0.107 & 2017-11-04 & 44\\\\\n",
       "\t 2017 & 11 &  3 &  3 & ISU PD  & M & 0.000 & 0.000 & 2017-11-03 & 44\\\\\n",
       "\t 2017 & 11 &  2 &  2 & Ames PD & M & 0.000 & 0.000 & 2017-11-02 & 44\\\\\n",
       "\t 2017 & 10 & 29 &  5 & Ames PD & F & 0.164 & 0.164 & 2017-10-29 & 44\\\\\n",
       "\t 2017 & 10 & 29 &  4 & ISU PD  & M & 0.101 & 0.101 & 2017-10-29 & 44\\\\\n",
       "\t 2017 & 10 & 29 &  4 & Ames PD & M & 0.116 & 0.116 & 2017-10-29 & 44\\\\\n",
       "\t 2017 & 10 & 29 &  3 & ISU PD  & F & 0.100 & 0.099 & 2017-10-29 & 44\\\\\n",
       "\t ... & ... & ... & ... & ... & ... & ... & ... & ... & ...\\\\\n",
       "\t 2013 & 1 & 26 &  1 & Ames PD & M & 0.099 & 0.098 & 2013-01-26 & 4\\\\\n",
       "\t 2013 & 1 & 25 &  1 & ISU PD  & M & 0.094 & 0.094 & 2013-01-25 & 4\\\\\n",
       "\t 2013 & 1 & 22 & 22 & ISU PD  & M & 0.000 & 0.000 & 2013-01-22 & 4\\\\\n",
       "\t 2013 & 1 & 21 &  3 & ISU PD  & M & 0.059 & 0.058 & 2013-01-21 & 3\\\\\n",
       "\t 2013 & 1 & 20 &  4 & ISU PD  & M & 0.159 & 0.158 & 2013-01-20 & 3\\\\\n",
       "\t 2013 & 1 & 20 &  2 & Ames PD & F & 0.195 & 0.194 & 2013-01-20 & 3\\\\\n",
       "\t 2013 & 1 & 20 &  2 & Ames PD & M & 0.155 & 0.155 & 2013-01-20 & 3\\\\\n",
       "\t 2013 & 1 & 20 &  1 & ISU PD  & M & 0.140 & 0.139 & 2013-01-20 & 3\\\\\n",
       "\t 2013 & 1 & 19 &  3 & Ames PD & F & 0.129 & 0.128 & 2013-01-19 & 3\\\\\n",
       "\t 2013 & 1 & 18 &  4 & ISU PD  & M & 0.111 & 0.110 & 2013-01-18 & 3\\\\\n",
       "\t 2013 & 1 & 18 &  3 & ISU PD  & M & 0.089 & 0.090 & 2013-01-18 & 3\\\\\n",
       "\t 2013 & 1 & 15 &  2 & ISU PD  & M & 0.141 & 0.140 & 2013-01-15 & 3\\\\\n",
       "\t 2013 & 1 & 13 &  3 & ISU PD  & F & 0.028 & 0.028 & 2013-01-13 & 2\\\\\n",
       "\t 2013 & 1 & 13 &  2 & Ames PD & F & 0.130 & 0.128 & 2013-01-13 & 2\\\\\n",
       "\t 2013 & 1 & 13 &  2 & Ames PD & M & 0.209 & 0.209 & 2013-01-13 & 2\\\\\n",
       "\t 2013 & 1 & 13 &  1 & Ames PD & M & 0.239 & 0.237 & 2013-01-13 & 2\\\\\n",
       "\t 2013 & 1 & 13 &  1 & Ames PD & F & 0.118 & 0.117 & 2013-01-13 & 2\\\\\n",
       "\t 2013 & 1 & 12 &  4 & ISU PD  & M & 0.144 & 0.144 & 2013-01-12 & 2\\\\\n",
       "\t 2013 & 1 & 12 &  2 & ISU PD  & M & 0.125 & 0.125 & 2013-01-12 & 2\\\\\n",
       "\t 2013 & 1 & 12 &  1 & ISU PD  & M & 0.055 & 0.055 & 2013-01-12 & 2\\\\\n",
       "\t 2013 & 1 & 11 &  4 & Ames PD & M & 0.181 & 0.182 & 2013-01-11 & 2\\\\\n",
       "\t 2013 & 1 &  9 &  3 & Ames PD & M & 0.000 & 0.000 & 2013-01-09 & 2\\\\\n",
       "\t 2013 & 1 &  9 &  3 & ISU PD  & F & 0.134 & 0.133 & 2013-01-09 & 2\\\\\n",
       "\t 2013 & 1 &  9 &  3 & ISU PD  & F & 0.000 & 0.000 & 2013-01-09 & 2\\\\\n",
       "\t 2013 & 1 &  6 &  1 & ISU PD  & F & 0.085 & 0.085 & 2013-01-06 & 1\\\\\n",
       "\t 2013 & 1 &  5 & 23 & Ames PD & M & 0.182 & 0.181 & 2013-01-05 & 1\\\\\n",
       "\t 2013 & 1 &  4 &  2 & ISU PD  & M & 0.066 & 0.065 & 2013-01-04 & 1\\\\\n",
       "\t 2013 & 1 &  1 &  3 & Ames PD & M & 0.090 & 0.090 & 2013-01-01 & 1\\\\\n",
       "\t 2013 & 1 &  1 &  2 & ISU PD  & F & 0.132 & 0.131 & 2013-01-01 & 1\\\\\n",
       "\t 2013 & 1 &  1 &  0 & ISU PD  & M & 0.130 & 0.130 & 2013-01-01 & 1\\\\\n",
       "\\end{tabular}\n"
      ],
      "text/markdown": [
       "\n",
       "A spec_tbl_df: 1556 × 10\n",
       "\n",
       "| year &lt;dbl&gt; | month &lt;dbl&gt; | day &lt;dbl&gt; | hour &lt;dbl&gt; | location &lt;chr&gt; | gender &lt;chr&gt; | Res1 &lt;dbl&gt; | Res2 &lt;dbl&gt; | date &lt;date&gt; | week &lt;dbl&gt; |\n",
       "|---|---|---|---|---|---|---|---|---|---|\n",
       "| 2017 | 12 | 17 |  1 | Ames PD | M | 0.046 | 0.046 | 2017-12-17 | 51 |\n",
       "| 2017 | 12 | 14 |  3 | ISU PD  | F | 0.121 | 0.120 | 2017-12-14 | 50 |\n",
       "| 2017 | 12 | 10 |  5 | ISU PD  | F | 0.068 | 0.067 | 2017-12-10 | 50 |\n",
       "| 2017 | 12 | 10 |  3 | ISU PD  | F | 0.077 | 0.077 | 2017-12-10 | 50 |\n",
       "| 2017 | 12 |  9 |  2 | ISU PD  | M | 0.085 | 0.084 | 2017-12-09 | 49 |\n",
       "| 2017 | 12 |  9 |  1 | Ames PD | M | 0.160 | 0.161 | 2017-12-09 | 49 |\n",
       "| 2017 | 12 |  7 |  3 | Ames PD | M | 0.131 | 0.131 | 2017-12-07 | 49 |\n",
       "| 2017 | 12 |  4 |  1 | ISU PD  | M | 0.000 | 0.000 | 2017-12-04 | 49 |\n",
       "| 2017 | 12 |  3 |  1 | Ames PD | M | 0.091 | 0.090 | 2017-12-03 | 49 |\n",
       "| 2017 | 12 |  3 |  0 | Ames PD | M | 0.095 | 0.095 | 2017-12-03 | 49 |\n",
       "| 2017 | 12 |  2 |  1 | Ames PD | M | 0.155 | 0.155 | 2017-12-02 | 48 |\n",
       "| 2017 | 11 | 29 |  3 | ISU PD  | F | 0.171 | 0.171 | 2017-11-29 | 48 |\n",
       "| 2017 | 11 | 21 |  3 | ISU PD  | F | 0.050 | 0.051 | 2017-11-21 | 47 |\n",
       "| 2017 | 11 | 17 | 18 | ISU PD  | M | 0.176 | 0.176 | 2017-11-17 | 46 |\n",
       "| 2017 | 11 | 11 |  3 | Ames PD | M | 0.072 | 0.072 | 2017-11-11 | 45 |\n",
       "| 2017 | 11 | 11 |  2 | ISU PD  | M | 0.094 | 0.093 | 2017-11-11 | 45 |\n",
       "| 2017 | 11 | 11 |  2 | ISU PD  | F | 0.106 | 0.106 | 2017-11-11 | 45 |\n",
       "| 2017 | 11 | 10 |  3 | ISU PD  | M | 0.145 | 0.144 | 2017-11-10 | 45 |\n",
       "| 2017 | 11 |  9 |  2 | Ames PD | F | 0.148 | 0.148 | 2017-11-09 | 45 |\n",
       "| 2017 | 11 |  8 |  3 | ISU PD  | F | 0.110 | 0.110 | 2017-11-08 | 45 |\n",
       "| 2017 | 11 |  6 | 19 | Ames PD | F | 0.000 | 0.000 | 2017-11-06 | 45 |\n",
       "| 2017 | 11 |  5 |  2 | ISU PD  | M | 0.155 | 0.155 | 2017-11-05 | 45 |\n",
       "| 2017 | 11 |  5 |  0 | Ames PD | M | 0.114 | 0.113 | 2017-11-05 | 45 |\n",
       "| 2017 | 11 |  4 |  3 | Ames PD | M | 0.107 | 0.107 | 2017-11-04 | 44 |\n",
       "| 2017 | 11 |  3 |  3 | ISU PD  | M | 0.000 | 0.000 | 2017-11-03 | 44 |\n",
       "| 2017 | 11 |  2 |  2 | Ames PD | M | 0.000 | 0.000 | 2017-11-02 | 44 |\n",
       "| 2017 | 10 | 29 |  5 | Ames PD | F | 0.164 | 0.164 | 2017-10-29 | 44 |\n",
       "| 2017 | 10 | 29 |  4 | ISU PD  | M | 0.101 | 0.101 | 2017-10-29 | 44 |\n",
       "| 2017 | 10 | 29 |  4 | Ames PD | M | 0.116 | 0.116 | 2017-10-29 | 44 |\n",
       "| 2017 | 10 | 29 |  3 | ISU PD  | F | 0.100 | 0.099 | 2017-10-29 | 44 |\n",
       "| ... | ... | ... | ... | ... | ... | ... | ... | ... | ... |\n",
       "| 2013 | 1 | 26 |  1 | Ames PD | M | 0.099 | 0.098 | 2013-01-26 | 4 |\n",
       "| 2013 | 1 | 25 |  1 | ISU PD  | M | 0.094 | 0.094 | 2013-01-25 | 4 |\n",
       "| 2013 | 1 | 22 | 22 | ISU PD  | M | 0.000 | 0.000 | 2013-01-22 | 4 |\n",
       "| 2013 | 1 | 21 |  3 | ISU PD  | M | 0.059 | 0.058 | 2013-01-21 | 3 |\n",
       "| 2013 | 1 | 20 |  4 | ISU PD  | M | 0.159 | 0.158 | 2013-01-20 | 3 |\n",
       "| 2013 | 1 | 20 |  2 | Ames PD | F | 0.195 | 0.194 | 2013-01-20 | 3 |\n",
       "| 2013 | 1 | 20 |  2 | Ames PD | M | 0.155 | 0.155 | 2013-01-20 | 3 |\n",
       "| 2013 | 1 | 20 |  1 | ISU PD  | M | 0.140 | 0.139 | 2013-01-20 | 3 |\n",
       "| 2013 | 1 | 19 |  3 | Ames PD | F | 0.129 | 0.128 | 2013-01-19 | 3 |\n",
       "| 2013 | 1 | 18 |  4 | ISU PD  | M | 0.111 | 0.110 | 2013-01-18 | 3 |\n",
       "| 2013 | 1 | 18 |  3 | ISU PD  | M | 0.089 | 0.090 | 2013-01-18 | 3 |\n",
       "| 2013 | 1 | 15 |  2 | ISU PD  | M | 0.141 | 0.140 | 2013-01-15 | 3 |\n",
       "| 2013 | 1 | 13 |  3 | ISU PD  | F | 0.028 | 0.028 | 2013-01-13 | 2 |\n",
       "| 2013 | 1 | 13 |  2 | Ames PD | F | 0.130 | 0.128 | 2013-01-13 | 2 |\n",
       "| 2013 | 1 | 13 |  2 | Ames PD | M | 0.209 | 0.209 | 2013-01-13 | 2 |\n",
       "| 2013 | 1 | 13 |  1 | Ames PD | M | 0.239 | 0.237 | 2013-01-13 | 2 |\n",
       "| 2013 | 1 | 13 |  1 | Ames PD | F | 0.118 | 0.117 | 2013-01-13 | 2 |\n",
       "| 2013 | 1 | 12 |  4 | ISU PD  | M | 0.144 | 0.144 | 2013-01-12 | 2 |\n",
       "| 2013 | 1 | 12 |  2 | ISU PD  | M | 0.125 | 0.125 | 2013-01-12 | 2 |\n",
       "| 2013 | 1 | 12 |  1 | ISU PD  | M | 0.055 | 0.055 | 2013-01-12 | 2 |\n",
       "| 2013 | 1 | 11 |  4 | Ames PD | M | 0.181 | 0.182 | 2013-01-11 | 2 |\n",
       "| 2013 | 1 |  9 |  3 | Ames PD | M | 0.000 | 0.000 | 2013-01-09 | 2 |\n",
       "| 2013 | 1 |  9 |  3 | ISU PD  | F | 0.134 | 0.133 | 2013-01-09 | 2 |\n",
       "| 2013 | 1 |  9 |  3 | ISU PD  | F | 0.000 | 0.000 | 2013-01-09 | 2 |\n",
       "| 2013 | 1 |  6 |  1 | ISU PD  | F | 0.085 | 0.085 | 2013-01-06 | 1 |\n",
       "| 2013 | 1 |  5 | 23 | Ames PD | M | 0.182 | 0.181 | 2013-01-05 | 1 |\n",
       "| 2013 | 1 |  4 |  2 | ISU PD  | M | 0.066 | 0.065 | 2013-01-04 | 1 |\n",
       "| 2013 | 1 |  1 |  3 | Ames PD | M | 0.090 | 0.090 | 2013-01-01 | 1 |\n",
       "| 2013 | 1 |  1 |  2 | ISU PD  | F | 0.132 | 0.131 | 2013-01-01 | 1 |\n",
       "| 2013 | 1 |  1 |  0 | ISU PD  | M | 0.130 | 0.130 | 2013-01-01 | 1 |\n",
       "\n"
      ],
      "text/plain": [
       "     year month day hour location gender Res1  Res2  date       week\n",
       "1    2017 12    17   1   Ames PD  M      0.046 0.046 2017-12-17 51  \n",
       "2    2017 12    14   3   ISU PD   F      0.121 0.120 2017-12-14 50  \n",
       "3    2017 12    10   5   ISU PD   F      0.068 0.067 2017-12-10 50  \n",
       "4    2017 12    10   3   ISU PD   F      0.077 0.077 2017-12-10 50  \n",
       "5    2017 12     9   2   ISU PD   M      0.085 0.084 2017-12-09 49  \n",
       "6    2017 12     9   1   Ames PD  M      0.160 0.161 2017-12-09 49  \n",
       "7    2017 12     7   3   Ames PD  M      0.131 0.131 2017-12-07 49  \n",
       "8    2017 12     4   1   ISU PD   M      0.000 0.000 2017-12-04 49  \n",
       "9    2017 12     3   1   Ames PD  M      0.091 0.090 2017-12-03 49  \n",
       "10   2017 12     3   0   Ames PD  M      0.095 0.095 2017-12-03 49  \n",
       "11   2017 12     2   1   Ames PD  M      0.155 0.155 2017-12-02 48  \n",
       "12   2017 11    29   3   ISU PD   F      0.171 0.171 2017-11-29 48  \n",
       "13   2017 11    21   3   ISU PD   F      0.050 0.051 2017-11-21 47  \n",
       "14   2017 11    17  18   ISU PD   M      0.176 0.176 2017-11-17 46  \n",
       "15   2017 11    11   3   Ames PD  M      0.072 0.072 2017-11-11 45  \n",
       "16   2017 11    11   2   ISU PD   M      0.094 0.093 2017-11-11 45  \n",
       "17   2017 11    11   2   ISU PD   F      0.106 0.106 2017-11-11 45  \n",
       "18   2017 11    10   3   ISU PD   M      0.145 0.144 2017-11-10 45  \n",
       "19   2017 11     9   2   Ames PD  F      0.148 0.148 2017-11-09 45  \n",
       "20   2017 11     8   3   ISU PD   F      0.110 0.110 2017-11-08 45  \n",
       "21   2017 11     6  19   Ames PD  F      0.000 0.000 2017-11-06 45  \n",
       "22   2017 11     5   2   ISU PD   M      0.155 0.155 2017-11-05 45  \n",
       "23   2017 11     5   0   Ames PD  M      0.114 0.113 2017-11-05 45  \n",
       "24   2017 11     4   3   Ames PD  M      0.107 0.107 2017-11-04 44  \n",
       "25   2017 11     3   3   ISU PD   M      0.000 0.000 2017-11-03 44  \n",
       "26   2017 11     2   2   Ames PD  M      0.000 0.000 2017-11-02 44  \n",
       "27   2017 10    29   5   Ames PD  F      0.164 0.164 2017-10-29 44  \n",
       "28   2017 10    29   4   ISU PD   M      0.101 0.101 2017-10-29 44  \n",
       "29   2017 10    29   4   Ames PD  M      0.116 0.116 2017-10-29 44  \n",
       "30   2017 10    29   3   ISU PD   F      0.100 0.099 2017-10-29 44  \n",
       "...  ...  ...   ... ...  ...      ...    ...   ...   ...        ... \n",
       "1527 2013 1     26   1   Ames PD  M      0.099 0.098 2013-01-26 4   \n",
       "1528 2013 1     25   1   ISU PD   M      0.094 0.094 2013-01-25 4   \n",
       "1529 2013 1     22  22   ISU PD   M      0.000 0.000 2013-01-22 4   \n",
       "1530 2013 1     21   3   ISU PD   M      0.059 0.058 2013-01-21 3   \n",
       "1531 2013 1     20   4   ISU PD   M      0.159 0.158 2013-01-20 3   \n",
       "1532 2013 1     20   2   Ames PD  F      0.195 0.194 2013-01-20 3   \n",
       "1533 2013 1     20   2   Ames PD  M      0.155 0.155 2013-01-20 3   \n",
       "1534 2013 1     20   1   ISU PD   M      0.140 0.139 2013-01-20 3   \n",
       "1535 2013 1     19   3   Ames PD  F      0.129 0.128 2013-01-19 3   \n",
       "1536 2013 1     18   4   ISU PD   M      0.111 0.110 2013-01-18 3   \n",
       "1537 2013 1     18   3   ISU PD   M      0.089 0.090 2013-01-18 3   \n",
       "1538 2013 1     15   2   ISU PD   M      0.141 0.140 2013-01-15 3   \n",
       "1539 2013 1     13   3   ISU PD   F      0.028 0.028 2013-01-13 2   \n",
       "1540 2013 1     13   2   Ames PD  F      0.130 0.128 2013-01-13 2   \n",
       "1541 2013 1     13   2   Ames PD  M      0.209 0.209 2013-01-13 2   \n",
       "1542 2013 1     13   1   Ames PD  M      0.239 0.237 2013-01-13 2   \n",
       "1543 2013 1     13   1   Ames PD  F      0.118 0.117 2013-01-13 2   \n",
       "1544 2013 1     12   4   ISU PD   M      0.144 0.144 2013-01-12 2   \n",
       "1545 2013 1     12   2   ISU PD   M      0.125 0.125 2013-01-12 2   \n",
       "1546 2013 1     12   1   ISU PD   M      0.055 0.055 2013-01-12 2   \n",
       "1547 2013 1     11   4   Ames PD  M      0.181 0.182 2013-01-11 2   \n",
       "1548 2013 1      9   3   Ames PD  M      0.000 0.000 2013-01-09 2   \n",
       "1549 2013 1      9   3   ISU PD   F      0.134 0.133 2013-01-09 2   \n",
       "1550 2013 1      9   3   ISU PD   F      0.000 0.000 2013-01-09 2   \n",
       "1551 2013 1      6   1   ISU PD   F      0.085 0.085 2013-01-06 1   \n",
       "1552 2013 1      5  23   Ames PD  M      0.182 0.181 2013-01-05 1   \n",
       "1553 2013 1      4   2   ISU PD   M      0.066 0.065 2013-01-04 1   \n",
       "1554 2013 1      1   3   Ames PD  M      0.090 0.090 2013-01-01 1   \n",
       "1555 2013 1      1   2   ISU PD   F      0.132 0.131 2013-01-01 1   \n",
       "1556 2013 1      1   0   ISU PD   M      0.130 0.130 2013-01-01 1   "
      ]
     },
     "metadata": {},
     "output_type": "display_data"
    }
   ],
   "source": [
    "\n",
    "library(lubridate) \n",
    "\n",
    "# Create date variable using paste() and ymd()\n",
    "ba_data <- ba_data %>% mutate(date = ymd(paste(year, month, day)))\n",
    "\n",
    "# Create a week variable using week()\n",
    "ba_data <- ba_data %>% mutate(week = week(date))\n",
    "\n",
    "ba_data"
   ]
  },
  {
   "cell_type": "code",
   "execution_count": null,
   "metadata": {},
   "outputs": [],
   "source": []
  },
  {
   "cell_type": "markdown",
   "metadata": {},
   "source": [
    "## 8. Looking at timelines"
   ]
  },
  {
   "cell_type": "code",
   "execution_count": 11,
   "metadata": {},
   "outputs": [
    {
     "data": {
      "image/png": "[encoded data removed]",
      "text/plain": [
       "plot without title"
      ]
     },
     "metadata": {
      "image/png": {
       "height": 420,
       "width": 420
      },
      "text/plain": {
       "height": 420,
       "width": 420
      }
     },
     "output_type": "display_data"
    }
   ],
   "source": [
    "# create the weekly data set \n",
    "weekly <- ba_data %>%\n",
    "            group_by(year, week) %>%\n",
    "            count()\n",
    "\n",
    "# uncomment and run the following line\n",
    "weekly <- weekly %>% ungroup() # ungroup is necessary for the plot later\n",
    "\n",
    "# make year a factor\n",
    "weekly <- weekly %>% mutate(year = as.factor(year))\n",
    "\n",
    "# create the time series plot with one line for each year\n",
    "ggplot(weekly, aes(x = week, y = n, color=year)) + geom_line() +\n",
    "  geom_point(aes(color = year)) +  # included to make the plot more readable \n",
    "  scale_x_continuous(breaks = seq(0,52,2))  # to make the x-axis more readable"
   ]
  },
  {
   "cell_type": "code",
   "execution_count": null,
   "metadata": {},
   "outputs": [],
   "source": []
  },
  {
   "cell_type": "markdown",
   "metadata": {},
   "source": [
    "## 9. The end of VEISHEA"
   ]
  },
  {
   "cell_type": "code",
   "execution_count": 12,
   "metadata": {},
   "outputs": [
    {
     "data": {
      "image/png": "[encoded data removed]",
      "text/plain": [
       "plot without title"
      ]
     },
     "metadata": {
      "image/png": {
       "height": 420,
       "width": 420
      },
      "text/plain": {
       "height": 420,
       "width": 420
      }
     },
     "output_type": "display_data"
    }
   ],
   "source": [
    "## Run this code to create the plot \n",
    "ggplot() + \n",
    "  geom_point(data = weekly, aes(x = week, y = n, color = year)) + \n",
    "  geom_line(data = weekly, aes(x = week, y = n, color = year)) +  # included to make the plot more readable \n",
    "  geom_segment(data = NULL, arrow = arrow(angle = 20, length = unit(0.1, \"inches\"),\n",
    "                                          ends = \"last\", type = \"closed\"), \n",
    "               aes(x = c(20,20), xend = c(15.5,16), y = c(21, 20), yend = c(21, 12.25))) + \n",
    "  geom_text(data = NULL, aes(x = 23, y = 20.5, label = \"VEISHEA Weeks\"), size = 3) + \n",
    "  scale_x_continuous(breaks = seq(0,52,2)) \n",
    "\n",
    "## Make a decision about VEISHEA. TRUE or FALSE?  \n",
    "cancelling_VEISHEA_was_right <- TRUE"
   ]
  },
  {
   "cell_type": "code",
   "execution_count": null,
   "metadata": {},
   "outputs": [],
   "source": []
  }
 ],
 "metadata": {
  "kernelspec": {
   "display_name": "R",
   "language": "R",
   "name": "ir"
  },
  "language_info": {
   "codemirror_mode": "r",
   "file_extension": ".r",
   "mimetype": "text/x-r-source",
   "name": "R",
   "pygments_lexer": "r",
   "version": "3.5.3"
  }
 },
 "nbformat": 4,
 "nbformat_minor": 2
}
