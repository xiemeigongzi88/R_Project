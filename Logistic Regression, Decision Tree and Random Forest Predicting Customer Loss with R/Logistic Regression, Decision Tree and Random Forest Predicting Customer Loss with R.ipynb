{
 "cells": [
  {
   "cell_type": "markdown",
   "metadata": {},
   "source": [
    "# Logistic Regression, Decision Tree and Random Forest  Predicting Customer Loss with R "
   ]
  },
  {
   "cell_type": "markdown",
   "metadata": {},
   "source": [
    "## IMport Data "
   ]
  },
  {
   "cell_type": "code",
   "execution_count": 1,
   "metadata": {},
   "outputs": [
    {
     "name": "stderr",
     "output_type": "stream",
     "text": [
      "corrplot 0.84 loaded\n",
      "\n",
      "Loading required package: lattice\n",
      "\n",
      "randomForest 4.6-14\n",
      "\n",
      "Type rfNews() to see new features/changes/bug fixes.\n",
      "\n",
      "\n",
      "Attaching package: 'randomForest'\n",
      "\n",
      "\n",
      "The following object is masked from 'package:gridExtra':\n",
      "\n",
      "    combine\n",
      "\n",
      "\n",
      "The following object is masked from 'package:ggplot2':\n",
      "\n",
      "    margin\n",
      "\n",
      "\n",
      "Loading required package: grid\n",
      "\n",
      "Loading required package: mvtnorm\n",
      "\n",
      "Loading required package: modeltools\n",
      "\n",
      "Loading required package: stats4\n",
      "\n",
      "\n",
      "Attaching package: 'modeltools'\n",
      "\n",
      "\n",
      "The following object is masked from 'package:plyr':\n",
      "\n",
      "    empty\n",
      "\n",
      "\n",
      "Loading required package: strucchange\n",
      "\n",
      "Loading required package: zoo\n",
      "\n",
      "\n",
      "Attaching package: 'zoo'\n",
      "\n",
      "\n",
      "The following objects are masked from 'package:base':\n",
      "\n",
      "    as.Date, as.Date.numeric\n",
      "\n",
      "\n",
      "Loading required package: sandwich\n",
      "\n"
     ]
    }
   ],
   "source": [
    "library(plyr)\n",
    "library(corrplot)\n",
    "library(ggplot2)\n",
    "library(gridExtra)\n",
    "library(ggthemes)\n",
    "library(caret)\n",
    "library(MASS)\n",
    "library(randomForest)\n",
    "library(party)"
   ]
  },
  {
   "cell_type": "code",
   "execution_count": 5,
   "metadata": {},
   "outputs": [
    {
     "name": "stdout",
     "output_type": "stream",
     "text": [
      "'data.frame':\t7043 obs. of  21 variables:\n",
      " $ customerID      : Factor w/ 7043 levels \"0002-ORFBO\",\"0003-MKNFE\",..: 5376 3963 2565 5536 6512 6552 1003 4771 5605 4535 ...\n",
      " $ gender          : Factor w/ 2 levels \"Female\",\"Male\": 1 2 2 2 1 1 2 1 1 2 ...\n",
      " $ SeniorCitizen   : int  0 0 0 0 0 0 0 0 0 0 ...\n",
      " $ Partner         : Factor w/ 2 levels \"No\",\"Yes\": 2 1 1 1 1 1 1 1 2 1 ...\n",
      " $ Dependents      : Factor w/ 2 levels \"No\",\"Yes\": 1 1 1 1 1 1 2 1 1 2 ...\n",
      " $ tenure          : int  1 34 2 45 2 8 22 10 28 62 ...\n",
      " $ PhoneService    : Factor w/ 2 levels \"No\",\"Yes\": 1 2 2 1 2 2 2 1 2 2 ...\n",
      " $ MultipleLines   : Factor w/ 3 levels \"No\",\"No phone service\",..: 2 1 1 2 1 3 3 2 3 1 ...\n",
      " $ InternetService : Factor w/ 3 levels \"DSL\",\"Fiber optic\",..: 1 1 1 1 2 2 2 1 2 1 ...\n",
      " $ OnlineSecurity  : Factor w/ 3 levels \"No\",\"No internet service\",..: 1 3 3 3 1 1 1 3 1 3 ...\n",
      " $ OnlineBackup    : Factor w/ 3 levels \"No\",\"No internet service\",..: 3 1 3 1 1 1 3 1 1 3 ...\n",
      " $ DeviceProtection: Factor w/ 3 levels \"No\",\"No internet service\",..: 1 3 1 3 1 3 1 1 3 1 ...\n",
      " $ TechSupport     : Factor w/ 3 levels \"No\",\"No internet service\",..: 1 1 1 3 1 1 1 1 3 1 ...\n",
      " $ StreamingTV     : Factor w/ 3 levels \"No\",\"No internet service\",..: 1 1 1 1 1 3 3 1 3 1 ...\n",
      " $ StreamingMovies : Factor w/ 3 levels \"No\",\"No internet service\",..: 1 1 1 1 1 3 1 1 3 1 ...\n",
      " $ Contract        : Factor w/ 3 levels \"Month-to-month\",..: 1 2 1 2 1 1 1 1 1 2 ...\n",
      " $ PaperlessBilling: Factor w/ 2 levels \"No\",\"Yes\": 2 1 2 1 2 2 2 1 2 1 ...\n",
      " $ PaymentMethod   : Factor w/ 4 levels \"Bank transfer (automatic)\",..: 3 4 4 1 3 3 2 4 3 1 ...\n",
      " $ MonthlyCharges  : num  29.9 57 53.9 42.3 70.7 ...\n",
      " $ TotalCharges    : num  29.9 1889.5 108.2 1840.8 151.7 ...\n",
      " $ Churn           : Factor w/ 2 levels \"No\",\"Yes\": 1 1 2 1 2 2 1 1 2 1 ...\n"
     ]
    }
   ],
   "source": [
    "churn <- read.csv('Customer-Churn.csv')\n",
    "str(churn)"
   ]
  },
  {
   "cell_type": "code",
   "execution_count": 6,
   "metadata": {},
   "outputs": [
    {
     "data": {
      "text/html": [
       "<dl class=dl-horizontal>\n",
       "\t<dt>customerID</dt>\n",
       "\t\t<dd>0</dd>\n",
       "\t<dt>gender</dt>\n",
       "\t\t<dd>0</dd>\n",
       "\t<dt>SeniorCitizen</dt>\n",
       "\t\t<dd>0</dd>\n",
       "\t<dt>Partner</dt>\n",
       "\t\t<dd>0</dd>\n",
       "\t<dt>Dependents</dt>\n",
       "\t\t<dd>0</dd>\n",
       "\t<dt>tenure</dt>\n",
       "\t\t<dd>0</dd>\n",
       "\t<dt>PhoneService</dt>\n",
       "\t\t<dd>0</dd>\n",
       "\t<dt>MultipleLines</dt>\n",
       "\t\t<dd>0</dd>\n",
       "\t<dt>InternetService</dt>\n",
       "\t\t<dd>0</dd>\n",
       "\t<dt>OnlineSecurity</dt>\n",
       "\t\t<dd>0</dd>\n",
       "\t<dt>OnlineBackup</dt>\n",
       "\t\t<dd>0</dd>\n",
       "\t<dt>DeviceProtection</dt>\n",
       "\t\t<dd>0</dd>\n",
       "\t<dt>TechSupport</dt>\n",
       "\t\t<dd>0</dd>\n",
       "\t<dt>StreamingTV</dt>\n",
       "\t\t<dd>0</dd>\n",
       "\t<dt>StreamingMovies</dt>\n",
       "\t\t<dd>0</dd>\n",
       "\t<dt>Contract</dt>\n",
       "\t\t<dd>0</dd>\n",
       "\t<dt>PaperlessBilling</dt>\n",
       "\t\t<dd>0</dd>\n",
       "\t<dt>PaymentMethod</dt>\n",
       "\t\t<dd>0</dd>\n",
       "\t<dt>MonthlyCharges</dt>\n",
       "\t\t<dd>0</dd>\n",
       "\t<dt>TotalCharges</dt>\n",
       "\t\t<dd>11</dd>\n",
       "\t<dt>Churn</dt>\n",
       "\t\t<dd>0</dd>\n",
       "</dl>\n"
      ],
      "text/latex": [
       "\\begin{description*}\n",
       "\\item[customerID] 0\n",
       "\\item[gender] 0\n",
       "\\item[SeniorCitizen] 0\n",
       "\\item[Partner] 0\n",
       "\\item[Dependents] 0\n",
       "\\item[tenure] 0\n",
       "\\item[PhoneService] 0\n",
       "\\item[MultipleLines] 0\n",
       "\\item[InternetService] 0\n",
       "\\item[OnlineSecurity] 0\n",
       "\\item[OnlineBackup] 0\n",
       "\\item[DeviceProtection] 0\n",
       "\\item[TechSupport] 0\n",
       "\\item[StreamingTV] 0\n",
       "\\item[StreamingMovies] 0\n",
       "\\item[Contract] 0\n",
       "\\item[PaperlessBilling] 0\n",
       "\\item[PaymentMethod] 0\n",
       "\\item[MonthlyCharges] 0\n",
       "\\item[TotalCharges] 11\n",
       "\\item[Churn] 0\n",
       "\\end{description*}\n"
      ],
      "text/markdown": [
       "customerID\n",
       ":   0gender\n",
       ":   0SeniorCitizen\n",
       ":   0Partner\n",
       ":   0Dependents\n",
       ":   0tenure\n",
       ":   0PhoneService\n",
       ":   0MultipleLines\n",
       ":   0InternetService\n",
       ":   0OnlineSecurity\n",
       ":   0OnlineBackup\n",
       ":   0DeviceProtection\n",
       ":   0TechSupport\n",
       ":   0StreamingTV\n",
       ":   0StreamingMovies\n",
       ":   0Contract\n",
       ":   0PaperlessBilling\n",
       ":   0PaymentMethod\n",
       ":   0MonthlyCharges\n",
       ":   0TotalCharges\n",
       ":   11Churn\n",
       ":   0\n",
       "\n"
      ],
      "text/plain": [
       "      customerID           gender    SeniorCitizen          Partner \n",
       "               0                0                0                0 \n",
       "      Dependents           tenure     PhoneService    MultipleLines \n",
       "               0                0                0                0 \n",
       " InternetService   OnlineSecurity     OnlineBackup DeviceProtection \n",
       "               0                0                0                0 \n",
       "     TechSupport      StreamingTV  StreamingMovies         Contract \n",
       "               0                0                0                0 \n",
       "PaperlessBilling    PaymentMethod   MonthlyCharges     TotalCharges \n",
       "               0                0                0               11 \n",
       "           Churn \n",
       "               0 "
      ]
     },
     "metadata": {},
     "output_type": "display_data"
    }
   ],
   "source": [
    "sapply(churn, function(x) sum(is.na(x)))"
   ]
  },
  {
   "cell_type": "code",
   "execution_count": 7,
   "metadata": {},
   "outputs": [],
   "source": [
    "churn <- churn[complete.cases(churn), ]"
   ]
  },
  {
   "cell_type": "code",
   "execution_count": 8,
   "metadata": {},
   "outputs": [],
   "source": [
    "cols_recode1 <- c(10:15)\n",
    "for(i in 1:ncol(churn[,cols_recode1])) {\n",
    "        churn[,cols_recode1][,i] <- as.factor(mapvalues\n",
    "                                              (churn[,cols_recode1][,i], from =c(\"No internet service\"),to=c(\"No\")))\n",
    "}"
   ]
  },
  {
   "cell_type": "code",
   "execution_count": null,
   "metadata": {},
   "outputs": [],
   "source": []
  },
  {
   "cell_type": "code",
   "execution_count": 9,
   "metadata": {},
   "outputs": [],
   "source": [
    "churn$MultipleLines <- as.factor(mapvalues(churn$MultipleLines, \n",
    "                                           from=c(\"No phone service\"),\n",
    "                                           to=c(\"No\")))"
   ]
  },
  {
   "cell_type": "code",
   "execution_count": 10,
   "metadata": {},
   "outputs": [
    {
     "data": {
      "text/html": [
       "1"
      ],
      "text/latex": [
       "1"
      ],
      "text/markdown": [
       "1"
      ],
      "text/plain": [
       "[1] 1"
      ]
     },
     "metadata": {},
     "output_type": "display_data"
    },
    {
     "data": {
      "text/html": [
       "72"
      ],
      "text/latex": [
       "72"
      ],
      "text/markdown": [
       "72"
      ],
      "text/plain": [
       "[1] 72"
      ]
     },
     "metadata": {},
     "output_type": "display_data"
    }
   ],
   "source": [
    "min(churn$tenure); max(churn$tenure)"
   ]
  },
  {
   "cell_type": "code",
   "execution_count": null,
   "metadata": {},
   "outputs": [],
   "source": []
  },
  {
   "cell_type": "code",
   "execution_count": 11,
   "metadata": {},
   "outputs": [],
   "source": [
    "group_tenure <- function(tenure){\n",
    "    if (tenure >= 0 & tenure <= 12){\n",
    "        return('0-12 Month')\n",
    "    }else if(tenure > 12 & tenure <= 24){\n",
    "        return('12-24 Month')\n",
    "    }else if (tenure > 24 & tenure <= 48){\n",
    "        return('24-48 Month')\n",
    "    }else if (tenure > 48 & tenure <=60){\n",
    "        return('48-60 Month')\n",
    "    }else if (tenure > 60){\n",
    "        return('> 60 Month')\n",
    "    }\n",
    "}\n",
    "churn$tenure_group <- sapply(churn$tenure,group_tenure)\n",
    "churn$tenure_group <- as.factor(churn$tenure_group)"
   ]
  },
  {
   "cell_type": "code",
   "execution_count": null,
   "metadata": {},
   "outputs": [],
   "source": []
  },
  {
   "cell_type": "code",
   "execution_count": 13,
   "metadata": {},
   "outputs": [],
   "source": [
    "churn$SeniorCitizen <- as.factor(mapvalues(churn$SeniorCitizen,\n",
    "                                      from=c(\"0\",\"1\"),\n",
    "                                      to=c(\"No\", \"Yes\")))"
   ]
  },
  {
   "cell_type": "code",
   "execution_count": 14,
   "metadata": {},
   "outputs": [],
   "source": [
    "churn$customerID <- NULL\n",
    "churn$tenure <- NULL"
   ]
  },
  {
   "cell_type": "code",
   "execution_count": null,
   "metadata": {},
   "outputs": [],
   "source": []
  },
  {
   "cell_type": "markdown",
   "metadata": {},
   "source": [
    "## Exploratory data analysis and feature selection"
   ]
  },
  {
   "cell_type": "code",
   "execution_count": 15,
   "metadata": {},
   "outputs": [
    {
     "data": {
      "image/png": "[encoded data removed]",
      "text/plain": [
       "Plot with title \"\n",
       "\n",
       "Correlation Plot for Numerical Variables\""
      ]
     },
     "metadata": {
      "image/png": {
       "height": 420,
       "width": 420
      },
      "text/plain": {
       "height": 420,
       "width": 420
      }
     },
     "output_type": "display_data"
    }
   ],
   "source": [
    "numeric.var <- sapply(churn, is.numeric)\n",
    "corr.matrix <- cor(churn[,numeric.var])\n",
    "corrplot(corr.matrix, main=\"\\n\\nCorrelation Plot for Numerical Variables\", method=\"number\")"
   ]
  },
  {
   "cell_type": "code",
   "execution_count": 16,
   "metadata": {},
   "outputs": [],
   "source": [
    "churn$TotalCharges <- NULL"
   ]
  },
  {
   "cell_type": "code",
   "execution_count": null,
   "metadata": {},
   "outputs": [],
   "source": []
  },
  {
   "cell_type": "code",
   "execution_count": 17,
   "metadata": {},
   "outputs": [
    {
     "data": {
      "image/png": "[encoded data removed]",
      "text/plain": [
       "plot without title"
      ]
     },
     "metadata": {
      "image/png": {
       "height": 420,
       "width": 420
      },
      "text/plain": {
       "height": 420,
       "width": 420
      }
     },
     "output_type": "display_data"
    }
   ],
   "source": [
    "p1 <- ggplot(churn, aes(x=gender)) + ggtitle(\"Gender\") + xlab(\"Gender\") +\n",
    "  geom_bar(aes(y = 100*(..count..)/sum(..count..)), width = 0.5) + ylab(\"Percentage\") + coord_flip() + theme_minimal()\n",
    "p2 <- ggplot(churn, aes(x=SeniorCitizen)) + ggtitle(\"Senior Citizen\") + xlab(\"Senior Citizen\") + \n",
    "  geom_bar(aes(y = 100*(..count..)/sum(..count..)), width = 0.5) + ylab(\"Percentage\") + coord_flip() + theme_minimal()\n",
    "p3 <- ggplot(churn, aes(x=Partner)) + ggtitle(\"Partner\") + xlab(\"Partner\") + \n",
    "  geom_bar(aes(y = 100*(..count..)/sum(..count..)), width = 0.5) + ylab(\"Percentage\") + coord_flip() + theme_minimal()\n",
    "p4 <- ggplot(churn, aes(x=Dependents)) + ggtitle(\"Dependents\") + xlab(\"Dependents\") +\n",
    "  geom_bar(aes(y = 100*(..count..)/sum(..count..)), width = 0.5) + ylab(\"Percentage\") + coord_flip() + theme_minimal()\n",
    "grid.arrange(p1, p2, p3, p4, ncol=2)"
   ]
  },
  {
   "cell_type": "code",
   "execution_count": null,
   "metadata": {},
   "outputs": [],
   "source": []
  },
  {
   "cell_type": "code",
   "execution_count": 18,
   "metadata": {},
   "outputs": [
    {
     "data": {
      "image/png": "[encoded data removed]",
      "text/plain": [
       "plot without title"
      ]
     },
     "metadata": {
      "image/png": {
       "height": 420,
       "width": 420
      },
      "text/plain": {
       "height": 420,
       "width": 420
      }
     },
     "output_type": "display_data"
    }
   ],
   "source": [
    "p5 <- ggplot(churn, aes(x=PhoneService)) + ggtitle(\"Phone Service\") + xlab(\"Phone Service\") +\n",
    "  geom_bar(aes(y = 100*(..count..)/sum(..count..)), width = 0.5) + ylab(\"Percentage\") + coord_flip() + theme_minimal()\n",
    "p6 <- ggplot(churn, aes(x=MultipleLines)) + ggtitle(\"Multiple Lines\") + xlab(\"Multiple Lines\") + \n",
    "  geom_bar(aes(y = 100*(..count..)/sum(..count..)), width = 0.5) + ylab(\"Percentage\") + coord_flip() + theme_minimal()\n",
    "p7 <- ggplot(churn, aes(x=InternetService)) + ggtitle(\"Internet Service\") + xlab(\"Internet Service\") + \n",
    "  geom_bar(aes(y = 100*(..count..)/sum(..count..)), width = 0.5) + ylab(\"Percentage\") + coord_flip() + theme_minimal()\n",
    "p8 <- ggplot(churn, aes(x=OnlineSecurity)) + ggtitle(\"Online Security\") + xlab(\"Online Security\") +\n",
    "  geom_bar(aes(y = 100*(..count..)/sum(..count..)), width = 0.5) + ylab(\"Percentage\") + coord_flip() + theme_minimal()\n",
    "grid.arrange(p5, p6, p7, p8, ncol=2)"
   ]
  },
  {
   "cell_type": "code",
   "execution_count": null,
   "metadata": {},
   "outputs": [],
   "source": []
  },
  {
   "cell_type": "code",
   "execution_count": 19,
   "metadata": {},
   "outputs": [
    {
     "data": {
      "image/png": "[encoded data removed]",
      "text/plain": [
       "plot without title"
      ]
     },
     "metadata": {
      "image/png": {
       "height": 420,
       "width": 420
      },
      "text/plain": {
       "height": 420,
       "width": 420
      }
     },
     "output_type": "display_data"
    }
   ],
   "source": [
    "p9 <- ggplot(churn, aes(x=OnlineBackup)) + ggtitle(\"Online Backup\") + xlab(\"Online Backup\") +\n",
    "  geom_bar(aes(y = 100*(..count..)/sum(..count..)), width = 0.5) + ylab(\"Percentage\") + coord_flip() + theme_minimal()\n",
    "p10 <- ggplot(churn, aes(x=DeviceProtection)) + ggtitle(\"Device Protection\") + xlab(\"Device Protection\") + \n",
    "  geom_bar(aes(y = 100*(..count..)/sum(..count..)), width = 0.5) + ylab(\"Percentage\") + coord_flip() + theme_minimal()\n",
    "p11 <- ggplot(churn, aes(x=TechSupport)) + ggtitle(\"Tech Support\") + xlab(\"Tech Support\") + \n",
    "  geom_bar(aes(y = 100*(..count..)/sum(..count..)), width = 0.5) + ylab(\"Percentage\") + coord_flip() + theme_minimal()\n",
    "p12 <- ggplot(churn, aes(x=StreamingTV)) + ggtitle(\"Streaming TV\") + xlab(\"Streaming TV\") +\n",
    "  geom_bar(aes(y = 100*(..count..)/sum(..count..)), width = 0.5) + ylab(\"Percentage\") + coord_flip() + theme_minimal()\n",
    "grid.arrange(p9, p10, p11, p12, ncol=2)"
   ]
  },
  {
   "cell_type": "code",
   "execution_count": null,
   "metadata": {},
   "outputs": [],
   "source": []
  },
  {
   "cell_type": "code",
   "execution_count": 20,
   "metadata": {},
   "outputs": [
    {
     "data": {
      "image/png": "[encoded data removed]",
      "text/plain": [
       "plot without title"
      ]
     },
     "metadata": {
      "image/png": {
       "height": 420,
       "width": 420
      },
      "text/plain": {
       "height": 420,
       "width": 420
      }
     },
     "output_type": "display_data"
    }
   ],
   "source": [
    "p13 <- ggplot(churn, aes(x=StreamingMovies)) + ggtitle(\"Streaming Movies\") + xlab(\"Streaming Movies\") +\n",
    "  geom_bar(aes(y = 100*(..count..)/sum(..count..)), width = 0.5) + ylab(\"Percentage\") + coord_flip() + theme_minimal()\n",
    "p14 <- ggplot(churn, aes(x=Contract)) + ggtitle(\"Contract\") + xlab(\"Contract\") + \n",
    "  geom_bar(aes(y = 100*(..count..)/sum(..count..)), width = 0.5) + ylab(\"Percentage\") + coord_flip() + theme_minimal()\n",
    "p15 <- ggplot(churn, aes(x=PaperlessBilling)) + ggtitle(\"Paperless Billing\") + xlab(\"Paperless Billing\") + \n",
    "  geom_bar(aes(y = 100*(..count..)/sum(..count..)), width = 0.5) + ylab(\"Percentage\") + coord_flip() + theme_minimal()\n",
    "p16 <- ggplot(churn, aes(x=PaymentMethod)) + ggtitle(\"Payment Method\") + xlab(\"Payment Method\") +\n",
    "  geom_bar(aes(y = 100*(..count..)/sum(..count..)), width = 0.5) + ylab(\"Percentage\") + coord_flip() + theme_minimal()\n",
    "p17 <- ggplot(churn, aes(x=tenure_group)) + ggtitle(\"Tenure Group\") + xlab(\"Tenure Group\") +\n",
    "  geom_bar(aes(y = 100*(..count..)/sum(..count..)), width = 0.5) + ylab(\"Percentage\") + coord_flip() + theme_minimal()\n",
    "grid.arrange(p13, p14, p15, p16, p17, ncol=2)"
   ]
  },
  {
   "cell_type": "code",
   "execution_count": null,
   "metadata": {},
   "outputs": [],
   "source": []
  },
  {
   "cell_type": "markdown",
   "metadata": {},
   "source": [
    "## Logistic Regression"
   ]
  },
  {
   "cell_type": "code",
   "execution_count": 21,
   "metadata": {},
   "outputs": [],
   "source": [
    "intrain<- createDataPartition(churn$Churn,p=0.7,list=FALSE)\n",
    "set.seed(2017)\n",
    "training<- churn[intrain,]\n",
    "testing<- churn[-intrain,]"
   ]
  },
  {
   "cell_type": "code",
   "execution_count": 22,
   "metadata": {},
   "outputs": [
    {
     "data": {
      "text/html": [
       "<ol class=list-inline>\n",
       "\t<li>4924</li>\n",
       "\t<li>19</li>\n",
       "</ol>\n"
      ],
      "text/latex": [
       "\\begin{enumerate*}\n",
       "\\item 4924\n",
       "\\item 19\n",
       "\\end{enumerate*}\n"
      ],
      "text/markdown": [
       "1. 4924\n",
       "2. 19\n",
       "\n",
       "\n"
      ],
      "text/plain": [
       "[1] 4924   19"
      ]
     },
     "metadata": {},
     "output_type": "display_data"
    },
    {
     "data": {
      "text/html": [
       "<ol class=list-inline>\n",
       "\t<li>2108</li>\n",
       "\t<li>19</li>\n",
       "</ol>\n"
      ],
      "text/latex": [
       "\\begin{enumerate*}\n",
       "\\item 2108\n",
       "\\item 19\n",
       "\\end{enumerate*}\n"
      ],
      "text/markdown": [
       "1. 2108\n",
       "2. 19\n",
       "\n",
       "\n"
      ],
      "text/plain": [
       "[1] 2108   19"
      ]
     },
     "metadata": {},
     "output_type": "display_data"
    }
   ],
   "source": [
    "dim(training); dim(testing)"
   ]
  },
  {
   "cell_type": "code",
   "execution_count": 23,
   "metadata": {},
   "outputs": [
    {
     "name": "stdout",
     "output_type": "stream",
     "text": [
      "\n",
      "Call:\n",
      "glm(formula = Churn ~ ., family = binomial(link = \"logit\"), data = training)\n",
      "\n",
      "Deviance Residuals: \n",
      "    Min       1Q   Median       3Q      Max  \n",
      "-1.9964  -0.6723  -0.2904   0.6629   3.0963  \n",
      "\n",
      "Coefficients:\n",
      "                                       Estimate Std. Error z value Pr(>|z|)    \n",
      "(Intercept)                          -9.275e-01  9.740e-01  -0.952  0.34097    \n",
      "genderMale                           -6.852e-02  7.769e-02  -0.882  0.37779    \n",
      "SeniorCitizenYes                      2.099e-01  9.999e-02   2.099  0.03578 *  \n",
      "PartnerYes                            2.078e-02  9.152e-02   0.227  0.82037    \n",
      "DependentsYes                        -2.007e-01  1.065e-01  -1.885  0.05946 .  \n",
      "PhoneServiceYes                       5.057e-01  7.684e-01   0.658  0.51046    \n",
      "MultipleLinesYes                      5.610e-01  2.097e-01   2.675  0.00747 ** \n",
      "InternetServiceFiber optic            1.991e+00  9.470e-01   2.102  0.03554 *  \n",
      "InternetServiceNo                    -2.093e+00  9.556e-01  -2.191  0.02848 *  \n",
      "OnlineSecurityYes                    -1.283e-01  2.111e-01  -0.608  0.54334    \n",
      "OnlineBackupYes                       9.418e-02  2.091e-01   0.450  0.65235    \n",
      "DeviceProtectionYes                   2.340e-01  2.084e-01   1.123  0.26158    \n",
      "TechSupportYes                       -1.337e-01  2.132e-01  -0.627  0.53038    \n",
      "StreamingTVYes                        7.473e-01  3.862e-01   1.935  0.05297 .  \n",
      "StreamingMoviesYes                    6.916e-01  3.887e-01   1.779  0.07519 .  \n",
      "ContractOne year                     -7.081e-01  1.257e-01  -5.632 1.78e-08 ***\n",
      "ContractTwo year                     -1.687e+00  2.196e-01  -7.683 1.56e-14 ***\n",
      "PaperlessBillingYes                   2.291e-01  8.940e-02   2.562  0.01040 *  \n",
      "PaymentMethodCredit card (automatic) -3.893e-02  1.357e-01  -0.287  0.77427    \n",
      "PaymentMethodElectronic check         3.225e-01  1.131e-01   2.851  0.00435 ** \n",
      "PaymentMethodMailed check            -7.748e-05  1.367e-01  -0.001  0.99955    \n",
      "MonthlyCharges                       -4.544e-02  3.760e-02  -1.208  0.22691    \n",
      "tenure_group0-12 Month                1.894e+00  2.008e-01   9.433  < 2e-16 ***\n",
      "tenure_group12-24 Month               9.688e-01  1.974e-01   4.907 9.24e-07 ***\n",
      "tenure_group24-48 Month               5.786e-01  1.799e-01   3.216  0.00130 ** \n",
      "tenure_group48-60 Month               3.545e-01  1.920e-01   1.846  0.06488 .  \n",
      "---\n",
      "Signif. codes:  0 '***' 0.001 '**' 0.01 '*' 0.05 '.' 0.1 ' ' 1\n",
      "\n",
      "(Dispersion parameter for binomial family taken to be 1)\n",
      "\n",
      "    Null deviance: 5702.8  on 4923  degrees of freedom\n",
      "Residual deviance: 4086.7  on 4898  degrees of freedom\n",
      "AIC: 4138.7\n",
      "\n",
      "Number of Fisher Scoring iterations: 6\n",
      "\n"
     ]
    }
   ],
   "source": [
    "LogModel <- glm(Churn ~ .,family=binomial(link=\"logit\"),data=training)\n",
    "print(summary(LogModel))"
   ]
  },
  {
   "cell_type": "code",
   "execution_count": 24,
   "metadata": {},
   "outputs": [
    {
     "data": {
      "text/html": [
       "<table>\n",
       "<caption>A anova: 19 × 5</caption>\n",
       "<thead>\n",
       "\t<tr><th></th><th scope=col>Df</th><th scope=col>Deviance</th><th scope=col>Resid. Df</th><th scope=col>Resid. Dev</th><th scope=col>Pr(&gt;Chi)</th></tr>\n",
       "\t<tr><th></th><th scope=col>&lt;int&gt;</th><th scope=col>&lt;dbl&gt;</th><th scope=col>&lt;int&gt;</th><th scope=col>&lt;dbl&gt;</th><th scope=col>&lt;dbl&gt;</th></tr>\n",
       "</thead>\n",
       "<tbody>\n",
       "\t<tr><th scope=row>NULL</th><td>NA</td><td>          NA</td><td>4923</td><td>5702.760</td><td>           NA</td></tr>\n",
       "\t<tr><th scope=row>gender</th><td> 1</td><td>1.730566e+00</td><td>4922</td><td>5701.029</td><td> 1.883386e-01</td></tr>\n",
       "\t<tr><th scope=row>SeniorCitizen</th><td> 1</td><td>1.162500e+02</td><td>4921</td><td>5584.779</td><td> 4.190082e-27</td></tr>\n",
       "\t<tr><th scope=row>Partner</th><td> 1</td><td>1.093739e+02</td><td>4920</td><td>5475.405</td><td> 1.343849e-25</td></tr>\n",
       "\t<tr><th scope=row>Dependents</th><td> 1</td><td>4.298763e+01</td><td>4919</td><td>5432.418</td><td> 5.508695e-11</td></tr>\n",
       "\t<tr><th scope=row>PhoneService</th><td> 1</td><td>1.702847e+00</td><td>4918</td><td>5430.715</td><td> 1.919161e-01</td></tr>\n",
       "\t<tr><th scope=row>MultipleLines</th><td> 1</td><td>9.430621e+00</td><td>4917</td><td>5421.284</td><td> 2.133920e-03</td></tr>\n",
       "\t<tr><th scope=row>InternetService</th><td> 2</td><td>4.616612e+02</td><td>4915</td><td>4959.623</td><td>5.643564e-101</td></tr>\n",
       "\t<tr><th scope=row>OnlineSecurity</th><td> 1</td><td>1.678338e+02</td><td>4914</td><td>4791.789</td><td> 2.199427e-38</td></tr>\n",
       "\t<tr><th scope=row>OnlineBackup</th><td> 1</td><td>7.881819e+01</td><td>4913</td><td>4712.971</td><td> 6.809726e-19</td></tr>\n",
       "\t<tr><th scope=row>DeviceProtection</th><td> 1</td><td>4.088417e+01</td><td>4912</td><td>4672.087</td><td> 1.615241e-10</td></tr>\n",
       "\t<tr><th scope=row>TechSupport</th><td> 1</td><td>8.374722e+01</td><td>4911</td><td>4588.340</td><td> 5.622596e-20</td></tr>\n",
       "\t<tr><th scope=row>StreamingTV</th><td> 1</td><td>1.282759e+00</td><td>4910</td><td>4587.057</td><td> 2.573867e-01</td></tr>\n",
       "\t<tr><th scope=row>StreamingMovies</th><td> 1</td><td>6.162194e-04</td><td>4909</td><td>4587.056</td><td> 9.801955e-01</td></tr>\n",
       "\t<tr><th scope=row>Contract</th><td> 2</td><td>2.897308e+02</td><td>4907</td><td>4297.325</td><td> 1.218319e-63</td></tr>\n",
       "\t<tr><th scope=row>PaperlessBilling</th><td> 1</td><td>6.361295e+00</td><td>4906</td><td>4290.964</td><td> 1.166364e-02</td></tr>\n",
       "\t<tr><th scope=row>PaymentMethod</th><td> 3</td><td>3.030237e+01</td><td>4903</td><td>4260.662</td><td> 1.192020e-06</td></tr>\n",
       "\t<tr><th scope=row>MonthlyCharges</th><td> 1</td><td>1.729916e+00</td><td>4902</td><td>4258.932</td><td> 1.884216e-01</td></tr>\n",
       "\t<tr><th scope=row>tenure_group</th><td> 4</td><td>1.722002e+02</td><td>4898</td><td>4086.732</td><td> 3.525503e-36</td></tr>\n",
       "</tbody>\n",
       "</table>\n"
      ],
      "text/latex": [
       "A anova: 19 × 5\n",
       "\\begin{tabular}{r|lllll}\n",
       "  & Df & Deviance & Resid. Df & Resid. Dev & Pr(>Chi)\\\\\n",
       "  & <int> & <dbl> & <int> & <dbl> & <dbl>\\\\\n",
       "\\hline\n",
       "\tNULL & NA &           NA & 4923 & 5702.760 &            NA\\\\\n",
       "\tgender &  1 & 1.730566e+00 & 4922 & 5701.029 &  1.883386e-01\\\\\n",
       "\tSeniorCitizen &  1 & 1.162500e+02 & 4921 & 5584.779 &  4.190082e-27\\\\\n",
       "\tPartner &  1 & 1.093739e+02 & 4920 & 5475.405 &  1.343849e-25\\\\\n",
       "\tDependents &  1 & 4.298763e+01 & 4919 & 5432.418 &  5.508695e-11\\\\\n",
       "\tPhoneService &  1 & 1.702847e+00 & 4918 & 5430.715 &  1.919161e-01\\\\\n",
       "\tMultipleLines &  1 & 9.430621e+00 & 4917 & 5421.284 &  2.133920e-03\\\\\n",
       "\tInternetService &  2 & 4.616612e+02 & 4915 & 4959.623 & 5.643564e-101\\\\\n",
       "\tOnlineSecurity &  1 & 1.678338e+02 & 4914 & 4791.789 &  2.199427e-38\\\\\n",
       "\tOnlineBackup &  1 & 7.881819e+01 & 4913 & 4712.971 &  6.809726e-19\\\\\n",
       "\tDeviceProtection &  1 & 4.088417e+01 & 4912 & 4672.087 &  1.615241e-10\\\\\n",
       "\tTechSupport &  1 & 8.374722e+01 & 4911 & 4588.340 &  5.622596e-20\\\\\n",
       "\tStreamingTV &  1 & 1.282759e+00 & 4910 & 4587.057 &  2.573867e-01\\\\\n",
       "\tStreamingMovies &  1 & 6.162194e-04 & 4909 & 4587.056 &  9.801955e-01\\\\\n",
       "\tContract &  2 & 2.897308e+02 & 4907 & 4297.325 &  1.218319e-63\\\\\n",
       "\tPaperlessBilling &  1 & 6.361295e+00 & 4906 & 4290.964 &  1.166364e-02\\\\\n",
       "\tPaymentMethod &  3 & 3.030237e+01 & 4903 & 4260.662 &  1.192020e-06\\\\\n",
       "\tMonthlyCharges &  1 & 1.729916e+00 & 4902 & 4258.932 &  1.884216e-01\\\\\n",
       "\ttenure\\_group &  4 & 1.722002e+02 & 4898 & 4086.732 &  3.525503e-36\\\\\n",
       "\\end{tabular}\n"
      ],
      "text/markdown": [
       "\n",
       "A anova: 19 × 5\n",
       "\n",
       "| <!--/--> | Df &lt;int&gt; | Deviance &lt;dbl&gt; | Resid. Df &lt;int&gt; | Resid. Dev &lt;dbl&gt; | Pr(&gt;Chi) &lt;dbl&gt; |\n",
       "|---|---|---|---|---|---|\n",
       "| NULL | NA |           NA | 4923 | 5702.760 |            NA |\n",
       "| gender |  1 | 1.730566e+00 | 4922 | 5701.029 |  1.883386e-01 |\n",
       "| SeniorCitizen |  1 | 1.162500e+02 | 4921 | 5584.779 |  4.190082e-27 |\n",
       "| Partner |  1 | 1.093739e+02 | 4920 | 5475.405 |  1.343849e-25 |\n",
       "| Dependents |  1 | 4.298763e+01 | 4919 | 5432.418 |  5.508695e-11 |\n",
       "| PhoneService |  1 | 1.702847e+00 | 4918 | 5430.715 |  1.919161e-01 |\n",
       "| MultipleLines |  1 | 9.430621e+00 | 4917 | 5421.284 |  2.133920e-03 |\n",
       "| InternetService |  2 | 4.616612e+02 | 4915 | 4959.623 | 5.643564e-101 |\n",
       "| OnlineSecurity |  1 | 1.678338e+02 | 4914 | 4791.789 |  2.199427e-38 |\n",
       "| OnlineBackup |  1 | 7.881819e+01 | 4913 | 4712.971 |  6.809726e-19 |\n",
       "| DeviceProtection |  1 | 4.088417e+01 | 4912 | 4672.087 |  1.615241e-10 |\n",
       "| TechSupport |  1 | 8.374722e+01 | 4911 | 4588.340 |  5.622596e-20 |\n",
       "| StreamingTV |  1 | 1.282759e+00 | 4910 | 4587.057 |  2.573867e-01 |\n",
       "| StreamingMovies |  1 | 6.162194e-04 | 4909 | 4587.056 |  9.801955e-01 |\n",
       "| Contract |  2 | 2.897308e+02 | 4907 | 4297.325 |  1.218319e-63 |\n",
       "| PaperlessBilling |  1 | 6.361295e+00 | 4906 | 4290.964 |  1.166364e-02 |\n",
       "| PaymentMethod |  3 | 3.030237e+01 | 4903 | 4260.662 |  1.192020e-06 |\n",
       "| MonthlyCharges |  1 | 1.729916e+00 | 4902 | 4258.932 |  1.884216e-01 |\n",
       "| tenure_group |  4 | 1.722002e+02 | 4898 | 4086.732 |  3.525503e-36 |\n",
       "\n"
      ],
      "text/plain": [
       "                 Df Deviance     Resid. Df Resid. Dev Pr(>Chi)     \n",
       "NULL             NA           NA 4923      5702.760              NA\n",
       "gender            1 1.730566e+00 4922      5701.029    1.883386e-01\n",
       "SeniorCitizen     1 1.162500e+02 4921      5584.779    4.190082e-27\n",
       "Partner           1 1.093739e+02 4920      5475.405    1.343849e-25\n",
       "Dependents        1 4.298763e+01 4919      5432.418    5.508695e-11\n",
       "PhoneService      1 1.702847e+00 4918      5430.715    1.919161e-01\n",
       "MultipleLines     1 9.430621e+00 4917      5421.284    2.133920e-03\n",
       "InternetService   2 4.616612e+02 4915      4959.623   5.643564e-101\n",
       "OnlineSecurity    1 1.678338e+02 4914      4791.789    2.199427e-38\n",
       "OnlineBackup      1 7.881819e+01 4913      4712.971    6.809726e-19\n",
       "DeviceProtection  1 4.088417e+01 4912      4672.087    1.615241e-10\n",
       "TechSupport       1 8.374722e+01 4911      4588.340    5.622596e-20\n",
       "StreamingTV       1 1.282759e+00 4910      4587.057    2.573867e-01\n",
       "StreamingMovies   1 6.162194e-04 4909      4587.056    9.801955e-01\n",
       "Contract          2 2.897308e+02 4907      4297.325    1.218319e-63\n",
       "PaperlessBilling  1 6.361295e+00 4906      4290.964    1.166364e-02\n",
       "PaymentMethod     3 3.030237e+01 4903      4260.662    1.192020e-06\n",
       "MonthlyCharges    1 1.729916e+00 4902      4258.932    1.884216e-01\n",
       "tenure_group      4 1.722002e+02 4898      4086.732    3.525503e-36"
      ]
     },
     "metadata": {},
     "output_type": "display_data"
    }
   ],
   "source": [
    "anova(LogModel, test=\"Chisq\")"
   ]
  },
  {
   "cell_type": "code",
   "execution_count": null,
   "metadata": {},
   "outputs": [],
   "source": []
  },
  {
   "cell_type": "code",
   "execution_count": 25,
   "metadata": {},
   "outputs": [
    {
     "name": "stdout",
     "output_type": "stream",
     "text": [
      "[1] \"Logistic Regression Accuracy 0.804554079696395\"\n"
     ]
    }
   ],
   "source": [
    "testing$Churn <- as.character(testing$Churn)\n",
    "testing$Churn[testing$Churn==\"No\"] <- \"0\"\n",
    "testing$Churn[testing$Churn==\"Yes\"] <- \"1\"\n",
    "fitted.results <- predict(LogModel,newdata=testing,type='response')\n",
    "fitted.results <- ifelse(fitted.results > 0.5,1,0)\n",
    "misClasificError <- mean(fitted.results != testing$Churn)\n",
    "print(paste('Logistic Regression Accuracy',1-misClasificError))"
   ]
  },
  {
   "cell_type": "code",
   "execution_count": null,
   "metadata": {},
   "outputs": [],
   "source": []
  },
  {
   "cell_type": "code",
   "execution_count": 26,
   "metadata": {},
   "outputs": [
    {
     "name": "stdout",
     "output_type": "stream",
     "text": [
      "[1] \"Confusion Matrix for Logistic Regression\"\n"
     ]
    },
    {
     "data": {
      "text/plain": [
       "   \n",
       "    FALSE TRUE\n",
       "  0  1394  154\n",
       "  1   258  302"
      ]
     },
     "metadata": {},
     "output_type": "display_data"
    }
   ],
   "source": [
    "print(\"Confusion Matrix for Logistic Regression\"); table(testing$Churn, fitted.results > 0.5)"
   ]
  },
  {
   "cell_type": "code",
   "execution_count": null,
   "metadata": {},
   "outputs": [],
   "source": []
  },
  {
   "cell_type": "code",
   "execution_count": 27,
   "metadata": {},
   "outputs": [
    {
     "name": "stderr",
     "output_type": "stream",
     "text": [
      "Waiting for profiling to be done...\n",
      "\n"
     ]
    },
    {
     "data": {
      "text/html": [
       "<table>\n",
       "<caption>A matrix: 26 × 3 of type dbl</caption>\n",
       "<thead>\n",
       "\t<tr><th></th><th scope=col>OR</th><th scope=col>2.5 %</th><th scope=col>97.5 %</th></tr>\n",
       "</thead>\n",
       "<tbody>\n",
       "\t<tr><th scope=row>(Intercept)</th><td>0.3955510</td><td>0.05857155</td><td> 2.6684762</td></tr>\n",
       "\t<tr><th scope=row>genderMale</th><td>0.9337757</td><td>0.80184976</td><td> 1.0873692</td></tr>\n",
       "\t<tr><th scope=row>SeniorCitizenYes</th><td>1.2335840</td><td>1.01379474</td><td> 1.5004491</td></tr>\n",
       "\t<tr><th scope=row>PartnerYes</th><td>1.0209978</td><td>0.85343352</td><td> 1.2218190</td></tr>\n",
       "\t<tr><th scope=row>DependentsYes</th><td>0.8181552</td><td>0.66346167</td><td> 1.0073248</td></tr>\n",
       "\t<tr><th scope=row>PhoneServiceYes</th><td>1.6581579</td><td>0.36796809</td><td> 7.4871583</td></tr>\n",
       "\t<tr><th scope=row>MultipleLinesYes</th><td>1.7523429</td><td>1.16231469</td><td> 2.6450107</td></tr>\n",
       "\t<tr><th scope=row>InternetServiceFiber optic</th><td>7.3203989</td><td>1.14696566</td><td>47.0079399</td></tr>\n",
       "\t<tr><th scope=row>InternetServiceNo</th><td>0.1232775</td><td>0.01890126</td><td> 0.8012303</td></tr>\n",
       "\t<tr><th scope=row>OnlineSecurityYes</th><td>0.8795716</td><td>0.58124605</td><td> 1.3301515</td></tr>\n",
       "\t<tr><th scope=row>OnlineBackupYes</th><td>1.0987551</td><td>0.72938789</td><td> 1.6556013</td></tr>\n",
       "\t<tr><th scope=row>DeviceProtectionYes</th><td>1.2635847</td><td>0.84001093</td><td> 1.9017520</td></tr>\n",
       "\t<tr><th scope=row>TechSupportYes</th><td>0.8748198</td><td>0.57581592</td><td> 1.3282088</td></tr>\n",
       "\t<tr><th scope=row>StreamingTVYes</th><td>2.1113781</td><td>0.99137244</td><td> 4.5070157</td></tr>\n",
       "\t<tr><th scope=row>StreamingMoviesYes</th><td>1.9969526</td><td>0.93292770</td><td> 4.2830834</td></tr>\n",
       "\t<tr><th scope=row>ContractOne year</th><td>0.4925550</td><td>0.38398850</td><td> 0.6287934</td></tr>\n",
       "\t<tr><th scope=row>ContractTwo year</th><td>0.1851103</td><td>0.11861743</td><td> 0.2810647</td></tr>\n",
       "\t<tr><th scope=row>PaperlessBillingYes</th><td>1.2574257</td><td>1.05555013</td><td> 1.4986911</td></tr>\n",
       "\t<tr><th scope=row>PaymentMethodCredit card (automatic)</th><td>0.9618184</td><td>0.73691268</td><td> 1.2549433</td></tr>\n",
       "\t<tr><th scope=row>PaymentMethodElectronic check</th><td>1.3806198</td><td>1.10696493</td><td> 1.7249998</td></tr>\n",
       "\t<tr><th scope=row>PaymentMethodMailed check</th><td>0.9999225</td><td>0.76517273</td><td> 1.3078646</td></tr>\n",
       "\t<tr><th scope=row>MonthlyCharges</th><td>0.9555808</td><td>0.88759578</td><td> 1.0285992</td></tr>\n",
       "\t<tr><th scope=row>tenure_group0-12 Month</th><td>6.6455476</td><td>4.50155928</td><td> 9.8949620</td></tr>\n",
       "\t<tr><th scope=row>tenure_group12-24 Month</th><td>2.6346565</td><td>1.79478256</td><td> 3.8936048</td></tr>\n",
       "\t<tr><th scope=row>tenure_group24-48 Month</th><td>1.7835051</td><td>1.25773242</td><td> 2.5477596</td></tr>\n",
       "\t<tr><th scope=row>tenure_group48-60 Month</th><td>1.4254591</td><td>0.97923279</td><td> 2.0805648</td></tr>\n",
       "</tbody>\n",
       "</table>\n"
      ],
      "text/latex": [
       "A matrix: 26 × 3 of type dbl\n",
       "\\begin{tabular}{r|lll}\n",
       "  & OR & 2.5 \\% & 97.5 \\%\\\\\n",
       "\\hline\n",
       "\t(Intercept) & 0.3955510 & 0.05857155 &  2.6684762\\\\\n",
       "\tgenderMale & 0.9337757 & 0.80184976 &  1.0873692\\\\\n",
       "\tSeniorCitizenYes & 1.2335840 & 1.01379474 &  1.5004491\\\\\n",
       "\tPartnerYes & 1.0209978 & 0.85343352 &  1.2218190\\\\\n",
       "\tDependentsYes & 0.8181552 & 0.66346167 &  1.0073248\\\\\n",
       "\tPhoneServiceYes & 1.6581579 & 0.36796809 &  7.4871583\\\\\n",
       "\tMultipleLinesYes & 1.7523429 & 1.16231469 &  2.6450107\\\\\n",
       "\tInternetServiceFiber optic & 7.3203989 & 1.14696566 & 47.0079399\\\\\n",
       "\tInternetServiceNo & 0.1232775 & 0.01890126 &  0.8012303\\\\\n",
       "\tOnlineSecurityYes & 0.8795716 & 0.58124605 &  1.3301515\\\\\n",
       "\tOnlineBackupYes & 1.0987551 & 0.72938789 &  1.6556013\\\\\n",
       "\tDeviceProtectionYes & 1.2635847 & 0.84001093 &  1.9017520\\\\\n",
       "\tTechSupportYes & 0.8748198 & 0.57581592 &  1.3282088\\\\\n",
       "\tStreamingTVYes & 2.1113781 & 0.99137244 &  4.5070157\\\\\n",
       "\tStreamingMoviesYes & 1.9969526 & 0.93292770 &  4.2830834\\\\\n",
       "\tContractOne year & 0.4925550 & 0.38398850 &  0.6287934\\\\\n",
       "\tContractTwo year & 0.1851103 & 0.11861743 &  0.2810647\\\\\n",
       "\tPaperlessBillingYes & 1.2574257 & 1.05555013 &  1.4986911\\\\\n",
       "\tPaymentMethodCredit card (automatic) & 0.9618184 & 0.73691268 &  1.2549433\\\\\n",
       "\tPaymentMethodElectronic check & 1.3806198 & 1.10696493 &  1.7249998\\\\\n",
       "\tPaymentMethodMailed check & 0.9999225 & 0.76517273 &  1.3078646\\\\\n",
       "\tMonthlyCharges & 0.9555808 & 0.88759578 &  1.0285992\\\\\n",
       "\ttenure\\_group0-12 Month & 6.6455476 & 4.50155928 &  9.8949620\\\\\n",
       "\ttenure\\_group12-24 Month & 2.6346565 & 1.79478256 &  3.8936048\\\\\n",
       "\ttenure\\_group24-48 Month & 1.7835051 & 1.25773242 &  2.5477596\\\\\n",
       "\ttenure\\_group48-60 Month & 1.4254591 & 0.97923279 &  2.0805648\\\\\n",
       "\\end{tabular}\n"
      ],
      "text/markdown": [
       "\n",
       "A matrix: 26 × 3 of type dbl\n",
       "\n",
       "| <!--/--> | OR | 2.5 % | 97.5 % |\n",
       "|---|---|---|---|\n",
       "| (Intercept) | 0.3955510 | 0.05857155 |  2.6684762 |\n",
       "| genderMale | 0.9337757 | 0.80184976 |  1.0873692 |\n",
       "| SeniorCitizenYes | 1.2335840 | 1.01379474 |  1.5004491 |\n",
       "| PartnerYes | 1.0209978 | 0.85343352 |  1.2218190 |\n",
       "| DependentsYes | 0.8181552 | 0.66346167 |  1.0073248 |\n",
       "| PhoneServiceYes | 1.6581579 | 0.36796809 |  7.4871583 |\n",
       "| MultipleLinesYes | 1.7523429 | 1.16231469 |  2.6450107 |\n",
       "| InternetServiceFiber optic | 7.3203989 | 1.14696566 | 47.0079399 |\n",
       "| InternetServiceNo | 0.1232775 | 0.01890126 |  0.8012303 |\n",
       "| OnlineSecurityYes | 0.8795716 | 0.58124605 |  1.3301515 |\n",
       "| OnlineBackupYes | 1.0987551 | 0.72938789 |  1.6556013 |\n",
       "| DeviceProtectionYes | 1.2635847 | 0.84001093 |  1.9017520 |\n",
       "| TechSupportYes | 0.8748198 | 0.57581592 |  1.3282088 |\n",
       "| StreamingTVYes | 2.1113781 | 0.99137244 |  4.5070157 |\n",
       "| StreamingMoviesYes | 1.9969526 | 0.93292770 |  4.2830834 |\n",
       "| ContractOne year | 0.4925550 | 0.38398850 |  0.6287934 |\n",
       "| ContractTwo year | 0.1851103 | 0.11861743 |  0.2810647 |\n",
       "| PaperlessBillingYes | 1.2574257 | 1.05555013 |  1.4986911 |\n",
       "| PaymentMethodCredit card (automatic) | 0.9618184 | 0.73691268 |  1.2549433 |\n",
       "| PaymentMethodElectronic check | 1.3806198 | 1.10696493 |  1.7249998 |\n",
       "| PaymentMethodMailed check | 0.9999225 | 0.76517273 |  1.3078646 |\n",
       "| MonthlyCharges | 0.9555808 | 0.88759578 |  1.0285992 |\n",
       "| tenure_group0-12 Month | 6.6455476 | 4.50155928 |  9.8949620 |\n",
       "| tenure_group12-24 Month | 2.6346565 | 1.79478256 |  3.8936048 |\n",
       "| tenure_group24-48 Month | 1.7835051 | 1.25773242 |  2.5477596 |\n",
       "| tenure_group48-60 Month | 1.4254591 | 0.97923279 |  2.0805648 |\n",
       "\n"
      ],
      "text/plain": [
       "                                     OR        2.5 %      97.5 %    \n",
       "(Intercept)                          0.3955510 0.05857155  2.6684762\n",
       "genderMale                           0.9337757 0.80184976  1.0873692\n",
       "SeniorCitizenYes                     1.2335840 1.01379474  1.5004491\n",
       "PartnerYes                           1.0209978 0.85343352  1.2218190\n",
       "DependentsYes                        0.8181552 0.66346167  1.0073248\n",
       "PhoneServiceYes                      1.6581579 0.36796809  7.4871583\n",
       "MultipleLinesYes                     1.7523429 1.16231469  2.6450107\n",
       "InternetServiceFiber optic           7.3203989 1.14696566 47.0079399\n",
       "InternetServiceNo                    0.1232775 0.01890126  0.8012303\n",
       "OnlineSecurityYes                    0.8795716 0.58124605  1.3301515\n",
       "OnlineBackupYes                      1.0987551 0.72938789  1.6556013\n",
       "DeviceProtectionYes                  1.2635847 0.84001093  1.9017520\n",
       "TechSupportYes                       0.8748198 0.57581592  1.3282088\n",
       "StreamingTVYes                       2.1113781 0.99137244  4.5070157\n",
       "StreamingMoviesYes                   1.9969526 0.93292770  4.2830834\n",
       "ContractOne year                     0.4925550 0.38398850  0.6287934\n",
       "ContractTwo year                     0.1851103 0.11861743  0.2810647\n",
       "PaperlessBillingYes                  1.2574257 1.05555013  1.4986911\n",
       "PaymentMethodCredit card (automatic) 0.9618184 0.73691268  1.2549433\n",
       "PaymentMethodElectronic check        1.3806198 1.10696493  1.7249998\n",
       "PaymentMethodMailed check            0.9999225 0.76517273  1.3078646\n",
       "MonthlyCharges                       0.9555808 0.88759578  1.0285992\n",
       "tenure_group0-12 Month               6.6455476 4.50155928  9.8949620\n",
       "tenure_group12-24 Month              2.6346565 1.79478256  3.8936048\n",
       "tenure_group24-48 Month              1.7835051 1.25773242  2.5477596\n",
       "tenure_group48-60 Month              1.4254591 0.97923279  2.0805648"
      ]
     },
     "metadata": {},
     "output_type": "display_data"
    }
   ],
   "source": [
    "library(MASS)\n",
    "exp(cbind(OR=coef(LogModel), confint(LogModel)))"
   ]
  },
  {
   "cell_type": "code",
   "execution_count": null,
   "metadata": {},
   "outputs": [],
   "source": []
  },
  {
   "cell_type": "code",
   "execution_count": null,
   "metadata": {},
   "outputs": [],
   "source": []
  },
  {
   "cell_type": "markdown",
   "metadata": {},
   "source": [
    "## Decision Tree"
   ]
  },
  {
   "cell_type": "code",
   "execution_count": 28,
   "metadata": {},
   "outputs": [
    {
     "data": {
      "image/png": "[encoded data removed]",
      "text/plain": [
       "plot without title"
      ]
     },
     "metadata": {
      "image/png": {
       "height": 420,
       "width": 420
      },
      "text/plain": {
       "height": 420,
       "width": 420
      }
     },
     "output_type": "display_data"
    }
   ],
   "source": [
    "tree <- ctree(Churn~Contract+tenure_group+PaperlessBilling, training)\n",
    "plot(tree)"
   ]
  },
  {
   "cell_type": "code",
   "execution_count": null,
   "metadata": {},
   "outputs": [],
   "source": []
  },
  {
   "cell_type": "code",
   "execution_count": 29,
   "metadata": {},
   "outputs": [
    {
     "name": "stdout",
     "output_type": "stream",
     "text": [
      "[1] \"Confusion Matrix for Decision Tree\"\n"
     ]
    },
    {
     "data": {
      "text/plain": [
       "         Actual\n",
       "Predicted    0    1\n",
       "      No  1384  327\n",
       "      Yes  164  233"
      ]
     },
     "metadata": {},
     "output_type": "display_data"
    }
   ],
   "source": [
    "pred_tree <- predict(tree, testing)\n",
    "print(\"Confusion Matrix for Decision Tree\"); table(Predicted = pred_tree, Actual = testing$Churn)"
   ]
  },
  {
   "cell_type": "code",
   "execution_count": null,
   "metadata": {},
   "outputs": [],
   "source": []
  },
  {
   "cell_type": "code",
   "execution_count": 30,
   "metadata": {},
   "outputs": [
    {
     "name": "stdout",
     "output_type": "stream",
     "text": [
      "[1] \"Decision Tree Accuracy 0.76707779886148\"\n"
     ]
    }
   ],
   "source": [
    "p1 <- predict(tree, training)\n",
    "tab1 <- table(Predicted = p1, Actual = training$Churn)\n",
    "tab2 <- table(Predicted = pred_tree, Actual = testing$Churn)\n",
    "print(paste('Decision Tree Accuracy',sum(diag(tab2))/sum(tab2)))"
   ]
  },
  {
   "cell_type": "code",
   "execution_count": null,
   "metadata": {},
   "outputs": [],
   "source": []
  },
  {
   "cell_type": "markdown",
   "metadata": {},
   "source": [
    "## Random Forest"
   ]
  },
  {
   "cell_type": "code",
   "execution_count": 31,
   "metadata": {},
   "outputs": [
    {
     "name": "stdout",
     "output_type": "stream",
     "text": [
      "\n",
      "Call:\n",
      " randomForest(formula = Churn ~ ., data = training) \n",
      "               Type of random forest: classification\n",
      "                     Number of trees: 500\n",
      "No. of variables tried at each split: 4\n",
      "\n",
      "        OOB estimate of  error rate: 21.79%\n",
      "Confusion matrix:\n",
      "      No Yes class.error\n",
      "No  3216 399   0.1103734\n",
      "Yes  674 635   0.5148969\n"
     ]
    }
   ],
   "source": [
    "rfModel <- randomForest(Churn ~., data = training)\n",
    "print(rfModel)"
   ]
  },
  {
   "cell_type": "code",
   "execution_count": null,
   "metadata": {},
   "outputs": [],
   "source": []
  },
  {
   "cell_type": "code",
   "execution_count": 37,
   "metadata": {},
   "outputs": [
    {
     "name": "stdout",
     "output_type": "stream",
     "text": [
      "mtry = 4  OOB error = 21.32% \n",
      "Searching left ...\n",
      "mtry = 8 \tOOB error = 22.56% \n",
      "-0.05809524 0.05 \n",
      "Searching right ...\n",
      "mtry = 2 \tOOB error = 20.69% \n",
      "0.02952381 0.05 \n"
     ]
    },
    {
     "data": {
      "image/png": "[encoded data removed]",
      "text/plain": [
       "plot without title"
      ]
     },
     "metadata": {
      "image/png": {
       "height": 420,
       "width": 420
      },
      "text/plain": {
       "height": 420,
       "width": 420
      }
     },
     "output_type": "display_data"
    }
   ],
   "source": [
    "t <- tuneRF(training[, -18], training[, 18], stepFactor = 0.5, plot = TRUE, ntreeTry = 200, trace = TRUE, improve = 0.05)"
   ]
  },
  {
   "cell_type": "code",
   "execution_count": 38,
   "metadata": {},
   "outputs": [
    {
     "name": "stdout",
     "output_type": "stream",
     "text": [
      "\n",
      "Call:\n",
      " randomForest(formula = Churn ~ ., data = training, ntree = 200,      mtry = 2, importance = TRUE, proximity = TRUE) \n",
      "               Type of random forest: classification\n",
      "                     Number of trees: 200\n",
      "No. of variables tried at each split: 2\n",
      "\n",
      "        OOB estimate of  error rate: 20.86%\n",
      "Confusion matrix:\n",
      "      No Yes class.error\n",
      "No  3305 310   0.0857538\n",
      "Yes  717 592   0.5477464\n"
     ]
    }
   ],
   "source": [
    "rfModel_new <- randomForest(Churn ~., data = training, ntree = 200, mtry = 2, importance = TRUE, proximity = TRUE)\n",
    "print(rfModel_new)"
   ]
  },
  {
   "cell_type": "code",
   "execution_count": 39,
   "metadata": {},
   "outputs": [
    {
     "data": {
      "image/png": "[encoded data removed]",
      "text/plain": [
       "plot without title"
      ]
     },
     "metadata": {
      "image/png": {
       "height": 420,
       "width": 420
      },
      "text/plain": {
       "height": 420,
       "width": 420
      }
     },
     "output_type": "display_data"
    }
   ],
   "source": [
    "varImpPlot(rfModel_new, sort=T, n.var = 10, main = 'Top 10 Feature Importance')"
   ]
  },
  {
   "cell_type": "code",
   "execution_count": null,
   "metadata": {},
   "outputs": [],
   "source": []
  }
 ],
 "metadata": {
  "kernelspec": {
   "display_name": "R",
   "language": "R",
   "name": "ir"
  },
  "language_info": {
   "codemirror_mode": "r",
   "file_extension": ".r",
   "mimetype": "text/x-r-source",
   "name": "R",
   "pygments_lexer": "r",
   "version": "3.5.3"
  }
 },
 "nbformat": 4,
 "nbformat_minor": 2
}
