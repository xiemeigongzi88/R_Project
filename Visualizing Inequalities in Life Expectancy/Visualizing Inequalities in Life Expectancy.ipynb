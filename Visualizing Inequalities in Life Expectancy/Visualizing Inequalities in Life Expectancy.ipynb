{
 "cells": [
  {
   "cell_type": "markdown",
   "metadata": {},
   "source": [
    "#  Visualizing Inequalities in Life Expectancy"
   ]
  },
  {
   "cell_type": "markdown",
   "metadata": {},
   "source": [
    "dataset:\n",
    "http://data.un.org/Data.aspx?d=GenderStat&f=inID:37&c=1,2,3,4,5,6&s=crEngName:asc,sgvEngName:asc,timeEngName:desc&v=1"
   ]
  },
  {
   "cell_type": "code",
   "execution_count": null,
   "metadata": {},
   "outputs": [],
   "source": []
  },
  {
   "cell_type": "markdown",
   "metadata": {},
   "source": [
    "## 1. Import United Nations Data "
   ]
  },
  {
   "cell_type": "code",
   "execution_count": 6,
   "metadata": {},
   "outputs": [
    {
     "data": {
      "text/html": [
       "<table>\n",
       "<caption>A data.frame: 1571 × 7</caption>\n",
       "<thead>\n",
       "\t<tr><th scope=col>Country.or.Area</th><th scope=col>Subgroup</th><th scope=col>Year</th><th scope=col>Source</th><th scope=col>Unit</th><th scope=col>Value</th><th scope=col>Value.Footnotes</th></tr>\n",
       "\t<tr><th scope=col>&lt;fct&gt;</th><th scope=col>&lt;fct&gt;</th><th scope=col>&lt;fct&gt;</th><th scope=col>&lt;fct&gt;</th><th scope=col>&lt;fct&gt;</th><th scope=col>&lt;int&gt;</th><th scope=col>&lt;int&gt;</th></tr>\n",
       "</thead>\n",
       "<tbody>\n",
       "\t<tr><td>Afghanistan</td><td>Female</td><td>2000-2005</td><td>UNPD_World Population Prospects_2006 (International estimate)</td><td>Years</td><td>42</td><td>NA</td></tr>\n",
       "\t<tr><td>Afghanistan</td><td>Female</td><td>1995-2000</td><td>UNPD_World Population Prospects_2006 (International estimate)</td><td>Years</td><td>42</td><td>NA</td></tr>\n",
       "\t<tr><td>Afghanistan</td><td>Female</td><td>1990-1995</td><td>UNPD_World Population Prospects_2006 (International estimate)</td><td>Years</td><td>42</td><td>NA</td></tr>\n",
       "\t<tr><td>Afghanistan</td><td>Female</td><td>1985-1990</td><td>UNPD_World Population Prospects_2006 (International estimate)</td><td>Years</td><td>41</td><td>NA</td></tr>\n",
       "\t<tr><td>Afghanistan</td><td>Male  </td><td>2000-2005</td><td>UNPD_World Population Prospects_2006 (International estimate)</td><td>Years</td><td>42</td><td>NA</td></tr>\n",
       "\t<tr><td>Afghanistan</td><td>Male  </td><td>1995-2000</td><td>UNPD_World Population Prospects_2006 (International estimate)</td><td>Years</td><td>42</td><td>NA</td></tr>\n",
       "\t<tr><td>Afghanistan</td><td>Male  </td><td>1990-1995</td><td>UNPD_World Population Prospects_2006 (International estimate)</td><td>Years</td><td>42</td><td>NA</td></tr>\n",
       "\t<tr><td>Afghanistan</td><td>Male  </td><td>1985-1990</td><td>UNPD_World Population Prospects_2006 (International estimate)</td><td>Years</td><td>41</td><td>NA</td></tr>\n",
       "\t<tr><td>Albania    </td><td>Female</td><td>2000-2005</td><td>UNPD_World Population Prospects_2006 (International estimate)</td><td>Years</td><td>79</td><td>NA</td></tr>\n",
       "\t<tr><td>Albania    </td><td>Female</td><td>1995-2000</td><td>UNPD_World Population Prospects_2006 (International estimate)</td><td>Years</td><td>76</td><td>NA</td></tr>\n",
       "\t<tr><td>Albania    </td><td>Female</td><td>1990-1995</td><td>UNPD_World Population Prospects_2006 (International estimate)</td><td>Years</td><td>75</td><td>NA</td></tr>\n",
       "\t<tr><td>Albania    </td><td>Female</td><td>1985-1990</td><td>UNPD_World Population Prospects_2006 (International estimate)</td><td>Years</td><td>75</td><td>NA</td></tr>\n",
       "\t<tr><td>Albania    </td><td>Male  </td><td>2000-2005</td><td>UNPD_World Population Prospects_2006 (International estimate)</td><td>Years</td><td>73</td><td>NA</td></tr>\n",
       "\t<tr><td>Albania    </td><td>Male  </td><td>1995-2000</td><td>UNPD_World Population Prospects_2006 (International estimate)</td><td>Years</td><td>70</td><td>NA</td></tr>\n",
       "\t<tr><td>Albania    </td><td>Male  </td><td>1990-1995</td><td>UNPD_World Population Prospects_2006 (International estimate)</td><td>Years</td><td>69</td><td>NA</td></tr>\n",
       "\t<tr><td>Albania    </td><td>Male  </td><td>1985-1990</td><td>UNPD_World Population Prospects_2006 (International estimate)</td><td>Years</td><td>69</td><td>NA</td></tr>\n",
       "\t<tr><td>Algeria    </td><td>Female</td><td>2000-2005</td><td>UNPD_World Population Prospects_2006 (International estimate)</td><td>Years</td><td>72</td><td>NA</td></tr>\n",
       "\t<tr><td>Algeria    </td><td>Female</td><td>1995-2000</td><td>UNPD_World Population Prospects_2006 (International estimate)</td><td>Years</td><td>70</td><td>NA</td></tr>\n",
       "\t<tr><td>Algeria    </td><td>Female</td><td>1990-1995</td><td>UNPD_World Population Prospects_2006 (International estimate)</td><td>Years</td><td>69</td><td>NA</td></tr>\n",
       "\t<tr><td>Algeria    </td><td>Female</td><td>1985-1990</td><td>UNPD_World Population Prospects_2006 (International estimate)</td><td>Years</td><td>67</td><td>NA</td></tr>\n",
       "\t<tr><td>Algeria    </td><td>Male  </td><td>2000-2005</td><td>UNPD_World Population Prospects_2006 (International estimate)</td><td>Years</td><td>70</td><td>NA</td></tr>\n",
       "\t<tr><td>Algeria    </td><td>Male  </td><td>1995-2000</td><td>UNPD_World Population Prospects_2006 (International estimate)</td><td>Years</td><td>68</td><td>NA</td></tr>\n",
       "\t<tr><td>Algeria    </td><td>Male  </td><td>1990-1995</td><td>UNPD_World Population Prospects_2006 (International estimate)</td><td>Years</td><td>67</td><td>NA</td></tr>\n",
       "\t<tr><td>Algeria    </td><td>Male  </td><td>1985-1990</td><td>UNPD_World Population Prospects_2006 (International estimate)</td><td>Years</td><td>65</td><td>NA</td></tr>\n",
       "\t<tr><td>Angola     </td><td>Female</td><td>2000-2005</td><td>UNPD_World Population Prospects_2006 (International estimate)</td><td>Years</td><td>43</td><td>NA</td></tr>\n",
       "\t<tr><td>Angola     </td><td>Female</td><td>1995-2000</td><td>UNPD_World Population Prospects_2006 (International estimate)</td><td>Years</td><td>43</td><td>NA</td></tr>\n",
       "\t<tr><td>Angola     </td><td>Female</td><td>1990-1995</td><td>UNPD_World Population Prospects_2006 (International estimate)</td><td>Years</td><td>42</td><td>NA</td></tr>\n",
       "\t<tr><td>Angola     </td><td>Female</td><td>1985-1990</td><td>UNPD_World Population Prospects_2006 (International estimate)</td><td>Years</td><td>42</td><td>NA</td></tr>\n",
       "\t<tr><td>Angola     </td><td>Male  </td><td>2000-2005</td><td>UNPD_World Population Prospects_2006 (International estimate)</td><td>Years</td><td>39</td><td>NA</td></tr>\n",
       "\t<tr><td>Angola     </td><td>Male  </td><td>1995-2000</td><td>UNPD_World Population Prospects_2006 (International estimate)</td><td>Years</td><td>39</td><td>NA</td></tr>\n",
       "\t<tr><td>...</td><td>...</td><td>...</td><td>...</td><td>...</td><td>...</td><td>...</td></tr>\n",
       "\t<tr><td>Yemen   </td><td>Male                                                                                                                           </td><td>1995-2000</td><td>UNPD_World Population Prospects_2006 (International estimate)</td><td>Years</td><td>57</td><td>NA</td></tr>\n",
       "\t<tr><td>Yemen   </td><td>Male                                                                                                                           </td><td>1990-1995</td><td>UNPD_World Population Prospects_2006 (International estimate)</td><td>Years</td><td>55</td><td>NA</td></tr>\n",
       "\t<tr><td>Yemen   </td><td>Male                                                                                                                           </td><td>1985-1990</td><td>UNPD_World Population Prospects_2006 (International estimate)</td><td>Years</td><td>52</td><td>NA</td></tr>\n",
       "\t<tr><td>Zambia  </td><td>Female                                                                                                                         </td><td>2000-2005</td><td>UNPD_World Population Prospects_2006 (International estimate)</td><td>Years</td><td>39</td><td>NA</td></tr>\n",
       "\t<tr><td>Zambia  </td><td>Female                                                                                                                         </td><td>1995-2000</td><td>UNPD_World Population Prospects_2006 (International estimate)</td><td>Years</td><td>42</td><td>NA</td></tr>\n",
       "\t<tr><td>Zambia  </td><td>Female                                                                                                                         </td><td>1990-1995</td><td>UNPD_World Population Prospects_2006 (International estimate)</td><td>Years</td><td>49</td><td>NA</td></tr>\n",
       "\t<tr><td>Zambia  </td><td>Female                                                                                                                         </td><td>1985-1990</td><td>UNPD_World Population Prospects_2006 (International estimate)</td><td>Years</td><td>53</td><td>NA</td></tr>\n",
       "\t<tr><td>Zambia  </td><td>Male                                                                                                                           </td><td>2000-2005</td><td>UNPD_World Population Prospects_2006 (International estimate)</td><td>Years</td><td>39</td><td>NA</td></tr>\n",
       "\t<tr><td>Zambia  </td><td>Male                                                                                                                           </td><td>1995-2000</td><td>UNPD_World Population Prospects_2006 (International estimate)</td><td>Years</td><td>39</td><td>NA</td></tr>\n",
       "\t<tr><td>Zambia  </td><td>Male                                                                                                                           </td><td>1990-1995</td><td>UNPD_World Population Prospects_2006 (International estimate)</td><td>Years</td><td>44</td><td>NA</td></tr>\n",
       "\t<tr><td>Zambia  </td><td>Male                                                                                                                           </td><td>1985-1990</td><td>UNPD_World Population Prospects_2006 (International estimate)</td><td>Years</td><td>49</td><td>NA</td></tr>\n",
       "\t<tr><td>Zimbabwe</td><td>Female                                                                                                                         </td><td>2000-2005</td><td>UNPD_World Population Prospects_2006 (International estimate)</td><td>Years</td><td>40</td><td>NA</td></tr>\n",
       "\t<tr><td>Zimbabwe</td><td>Female                                                                                                                         </td><td>1995-2000</td><td>UNPD_World Population Prospects_2006 (International estimate)</td><td>Years</td><td>49</td><td>NA</td></tr>\n",
       "\t<tr><td>Zimbabwe</td><td>Female                                                                                                                         </td><td>1990-1995</td><td>UNPD_World Population Prospects_2006 (International estimate)</td><td>Years</td><td>63</td><td>NA</td></tr>\n",
       "\t<tr><td>Zimbabwe</td><td>Female                                                                                                                         </td><td>1985-1990</td><td>UNPD_World Population Prospects_2006 (International estimate)</td><td>Years</td><td>64</td><td>NA</td></tr>\n",
       "\t<tr><td>Zimbabwe</td><td>Male                                                                                                                           </td><td>2000-2005</td><td>UNPD_World Population Prospects_2006 (International estimate)</td><td>Years</td><td>40</td><td>NA</td></tr>\n",
       "\t<tr><td>Zimbabwe</td><td>Male                                                                                                                           </td><td>1995-2000</td><td>UNPD_World Population Prospects_2006 (International estimate)</td><td>Years</td><td>45</td><td>NA</td></tr>\n",
       "\t<tr><td>Zimbabwe</td><td>Male                                                                                                                           </td><td>1990-1995</td><td>UNPD_World Population Prospects_2006 (International estimate)</td><td>Years</td><td>58</td><td>NA</td></tr>\n",
       "\t<tr><td>Zimbabwe</td><td>Male                                                                                                                           </td><td>1985-1990</td><td>UNPD_World Population Prospects_2006 (International estimate)</td><td>Years</td><td>60</td><td>NA</td></tr>\n",
       "\t<tr><td>fnSeqID </td><td>Footnote                                                                                                                       </td><td>         </td><td>                                                             </td><td>     </td><td>NA</td><td>NA</td></tr>\n",
       "\t<tr><td>1       </td><td>Including Christmas Island, Cocos (Keeling) Islands, and Norfolk Island.                                                       </td><td>         </td><td>                                                             </td><td>     </td><td>NA</td><td>NA</td></tr>\n",
       "\t<tr><td>2       </td><td>Refers to Guernsey, and Jersey.                                                                                                </td><td>         </td><td>                                                             </td><td>     </td><td>NA</td><td>NA</td></tr>\n",
       "\t<tr><td>3       </td><td>For statistical purposes, the data for China do not include Hong Kong and Macao, Special Administrative Regions (SAR) of China.</td><td>         </td><td>                                                             </td><td>     </td><td>NA</td><td>NA</td></tr>\n",
       "\t<tr><td>4       </td><td>Including the island of Mayotte.                                                                                               </td><td>         </td><td>                                                             </td><td>     </td><td>NA</td><td>NA</td></tr>\n",
       "\t<tr><td>5       </td><td>Including Ã…land Islands.                                                                                                      </td><td>         </td><td>                                                             </td><td>     </td><td>NA</td><td>NA</td></tr>\n",
       "\t<tr><td>6       </td><td>As of 1 July 1997, Hong Kong became a Special Administrative Region (SAR) of China.                                            </td><td>         </td><td>                                                             </td><td>     </td><td>NA</td><td>NA</td></tr>\n",
       "\t<tr><td>7       </td><td>As of 20 December 1999, Macao became a Special Administrative Region (SAR) of China.                                           </td><td>         </td><td>                                                             </td><td>     </td><td>NA</td><td>NA</td></tr>\n",
       "\t<tr><td>8       </td><td>The former Yugoslav Republic of Macedonia.                                                                                     </td><td>         </td><td>                                                             </td><td>     </td><td>NA</td><td>NA</td></tr>\n",
       "\t<tr><td>9       </td><td>Including Agalega, Rodrigues, and Saint Brandon.                                                                               </td><td>         </td><td>                                                             </td><td>     </td><td>NA</td><td>NA</td></tr>\n",
       "\t<tr><td>10      </td><td>Including Svalbard and Jan Mayen Islands.                                                                                      </td><td>         </td><td>                                                             </td><td>     </td><td>NA</td><td>NA</td></tr>\n",
       "</tbody>\n",
       "</table>\n"
      ],
      "text/latex": [
       "A data.frame: 1571 × 7\n",
       "\\begin{tabular}{r|lllllll}\n",
       " Country.or.Area & Subgroup & Year & Source & Unit & Value & Value.Footnotes\\\\\n",
       " <fct> & <fct> & <fct> & <fct> & <fct> & <int> & <int>\\\\\n",
       "\\hline\n",
       "\t Afghanistan & Female & 2000-2005 & UNPD\\_World Population Prospects\\_2006 (International estimate) & Years & 42 & NA\\\\\n",
       "\t Afghanistan & Female & 1995-2000 & UNPD\\_World Population Prospects\\_2006 (International estimate) & Years & 42 & NA\\\\\n",
       "\t Afghanistan & Female & 1990-1995 & UNPD\\_World Population Prospects\\_2006 (International estimate) & Years & 42 & NA\\\\\n",
       "\t Afghanistan & Female & 1985-1990 & UNPD\\_World Population Prospects\\_2006 (International estimate) & Years & 41 & NA\\\\\n",
       "\t Afghanistan & Male   & 2000-2005 & UNPD\\_World Population Prospects\\_2006 (International estimate) & Years & 42 & NA\\\\\n",
       "\t Afghanistan & Male   & 1995-2000 & UNPD\\_World Population Prospects\\_2006 (International estimate) & Years & 42 & NA\\\\\n",
       "\t Afghanistan & Male   & 1990-1995 & UNPD\\_World Population Prospects\\_2006 (International estimate) & Years & 42 & NA\\\\\n",
       "\t Afghanistan & Male   & 1985-1990 & UNPD\\_World Population Prospects\\_2006 (International estimate) & Years & 41 & NA\\\\\n",
       "\t Albania     & Female & 2000-2005 & UNPD\\_World Population Prospects\\_2006 (International estimate) & Years & 79 & NA\\\\\n",
       "\t Albania     & Female & 1995-2000 & UNPD\\_World Population Prospects\\_2006 (International estimate) & Years & 76 & NA\\\\\n",
       "\t Albania     & Female & 1990-1995 & UNPD\\_World Population Prospects\\_2006 (International estimate) & Years & 75 & NA\\\\\n",
       "\t Albania     & Female & 1985-1990 & UNPD\\_World Population Prospects\\_2006 (International estimate) & Years & 75 & NA\\\\\n",
       "\t Albania     & Male   & 2000-2005 & UNPD\\_World Population Prospects\\_2006 (International estimate) & Years & 73 & NA\\\\\n",
       "\t Albania     & Male   & 1995-2000 & UNPD\\_World Population Prospects\\_2006 (International estimate) & Years & 70 & NA\\\\\n",
       "\t Albania     & Male   & 1990-1995 & UNPD\\_World Population Prospects\\_2006 (International estimate) & Years & 69 & NA\\\\\n",
       "\t Albania     & Male   & 1985-1990 & UNPD\\_World Population Prospects\\_2006 (International estimate) & Years & 69 & NA\\\\\n",
       "\t Algeria     & Female & 2000-2005 & UNPD\\_World Population Prospects\\_2006 (International estimate) & Years & 72 & NA\\\\\n",
       "\t Algeria     & Female & 1995-2000 & UNPD\\_World Population Prospects\\_2006 (International estimate) & Years & 70 & NA\\\\\n",
       "\t Algeria     & Female & 1990-1995 & UNPD\\_World Population Prospects\\_2006 (International estimate) & Years & 69 & NA\\\\\n",
       "\t Algeria     & Female & 1985-1990 & UNPD\\_World Population Prospects\\_2006 (International estimate) & Years & 67 & NA\\\\\n",
       "\t Algeria     & Male   & 2000-2005 & UNPD\\_World Population Prospects\\_2006 (International estimate) & Years & 70 & NA\\\\\n",
       "\t Algeria     & Male   & 1995-2000 & UNPD\\_World Population Prospects\\_2006 (International estimate) & Years & 68 & NA\\\\\n",
       "\t Algeria     & Male   & 1990-1995 & UNPD\\_World Population Prospects\\_2006 (International estimate) & Years & 67 & NA\\\\\n",
       "\t Algeria     & Male   & 1985-1990 & UNPD\\_World Population Prospects\\_2006 (International estimate) & Years & 65 & NA\\\\\n",
       "\t Angola      & Female & 2000-2005 & UNPD\\_World Population Prospects\\_2006 (International estimate) & Years & 43 & NA\\\\\n",
       "\t Angola      & Female & 1995-2000 & UNPD\\_World Population Prospects\\_2006 (International estimate) & Years & 43 & NA\\\\\n",
       "\t Angola      & Female & 1990-1995 & UNPD\\_World Population Prospects\\_2006 (International estimate) & Years & 42 & NA\\\\\n",
       "\t Angola      & Female & 1985-1990 & UNPD\\_World Population Prospects\\_2006 (International estimate) & Years & 42 & NA\\\\\n",
       "\t Angola      & Male   & 2000-2005 & UNPD\\_World Population Prospects\\_2006 (International estimate) & Years & 39 & NA\\\\\n",
       "\t Angola      & Male   & 1995-2000 & UNPD\\_World Population Prospects\\_2006 (International estimate) & Years & 39 & NA\\\\\n",
       "\t ... & ... & ... & ... & ... & ... & ...\\\\\n",
       "\t Yemen    & Male                                                                                                                            & 1995-2000 & UNPD\\_World Population Prospects\\_2006 (International estimate) & Years & 57 & NA\\\\\n",
       "\t Yemen    & Male                                                                                                                            & 1990-1995 & UNPD\\_World Population Prospects\\_2006 (International estimate) & Years & 55 & NA\\\\\n",
       "\t Yemen    & Male                                                                                                                            & 1985-1990 & UNPD\\_World Population Prospects\\_2006 (International estimate) & Years & 52 & NA\\\\\n",
       "\t Zambia   & Female                                                                                                                          & 2000-2005 & UNPD\\_World Population Prospects\\_2006 (International estimate) & Years & 39 & NA\\\\\n",
       "\t Zambia   & Female                                                                                                                          & 1995-2000 & UNPD\\_World Population Prospects\\_2006 (International estimate) & Years & 42 & NA\\\\\n",
       "\t Zambia   & Female                                                                                                                          & 1990-1995 & UNPD\\_World Population Prospects\\_2006 (International estimate) & Years & 49 & NA\\\\\n",
       "\t Zambia   & Female                                                                                                                          & 1985-1990 & UNPD\\_World Population Prospects\\_2006 (International estimate) & Years & 53 & NA\\\\\n",
       "\t Zambia   & Male                                                                                                                            & 2000-2005 & UNPD\\_World Population Prospects\\_2006 (International estimate) & Years & 39 & NA\\\\\n",
       "\t Zambia   & Male                                                                                                                            & 1995-2000 & UNPD\\_World Population Prospects\\_2006 (International estimate) & Years & 39 & NA\\\\\n",
       "\t Zambia   & Male                                                                                                                            & 1990-1995 & UNPD\\_World Population Prospects\\_2006 (International estimate) & Years & 44 & NA\\\\\n",
       "\t Zambia   & Male                                                                                                                            & 1985-1990 & UNPD\\_World Population Prospects\\_2006 (International estimate) & Years & 49 & NA\\\\\n",
       "\t Zimbabwe & Female                                                                                                                          & 2000-2005 & UNPD\\_World Population Prospects\\_2006 (International estimate) & Years & 40 & NA\\\\\n",
       "\t Zimbabwe & Female                                                                                                                          & 1995-2000 & UNPD\\_World Population Prospects\\_2006 (International estimate) & Years & 49 & NA\\\\\n",
       "\t Zimbabwe & Female                                                                                                                          & 1990-1995 & UNPD\\_World Population Prospects\\_2006 (International estimate) & Years & 63 & NA\\\\\n",
       "\t Zimbabwe & Female                                                                                                                          & 1985-1990 & UNPD\\_World Population Prospects\\_2006 (International estimate) & Years & 64 & NA\\\\\n",
       "\t Zimbabwe & Male                                                                                                                            & 2000-2005 & UNPD\\_World Population Prospects\\_2006 (International estimate) & Years & 40 & NA\\\\\n",
       "\t Zimbabwe & Male                                                                                                                            & 1995-2000 & UNPD\\_World Population Prospects\\_2006 (International estimate) & Years & 45 & NA\\\\\n",
       "\t Zimbabwe & Male                                                                                                                            & 1990-1995 & UNPD\\_World Population Prospects\\_2006 (International estimate) & Years & 58 & NA\\\\\n",
       "\t Zimbabwe & Male                                                                                                                            & 1985-1990 & UNPD\\_World Population Prospects\\_2006 (International estimate) & Years & 60 & NA\\\\\n",
       "\t fnSeqID  & Footnote                                                                                                                        &           &                                                               &       & NA & NA\\\\\n",
       "\t 1        & Including Christmas Island, Cocos (Keeling) Islands, and Norfolk Island.                                                        &           &                                                               &       & NA & NA\\\\\n",
       "\t 2        & Refers to Guernsey, and Jersey.                                                                                                 &           &                                                               &       & NA & NA\\\\\n",
       "\t 3        & For statistical purposes, the data for China do not include Hong Kong and Macao, Special Administrative Regions (SAR) of China. &           &                                                               &       & NA & NA\\\\\n",
       "\t 4        & Including the island of Mayotte.                                                                                                &           &                                                               &       & NA & NA\\\\\n",
       "\t 5        & Including Ã…land Islands.                                                                                                       &           &                                                               &       & NA & NA\\\\\n",
       "\t 6        & As of 1 July 1997, Hong Kong became a Special Administrative Region (SAR) of China.                                             &           &                                                               &       & NA & NA\\\\\n",
       "\t 7        & As of 20 December 1999, Macao became a Special Administrative Region (SAR) of China.                                            &           &                                                               &       & NA & NA\\\\\n",
       "\t 8        & The former Yugoslav Republic of Macedonia.                                                                                      &           &                                                               &       & NA & NA\\\\\n",
       "\t 9        & Including Agalega, Rodrigues, and Saint Brandon.                                                                                &           &                                                               &       & NA & NA\\\\\n",
       "\t 10       & Including Svalbard and Jan Mayen Islands.                                                                                       &           &                                                               &       & NA & NA\\\\\n",
       "\\end{tabular}\n"
      ],
      "text/markdown": [
       "\n",
       "A data.frame: 1571 × 7\n",
       "\n",
       "| Country.or.Area &lt;fct&gt; | Subgroup &lt;fct&gt; | Year &lt;fct&gt; | Source &lt;fct&gt; | Unit &lt;fct&gt; | Value &lt;int&gt; | Value.Footnotes &lt;int&gt; |\n",
       "|---|---|---|---|---|---|---|\n",
       "| Afghanistan | Female | 2000-2005 | UNPD_World Population Prospects_2006 (International estimate) | Years | 42 | NA |\n",
       "| Afghanistan | Female | 1995-2000 | UNPD_World Population Prospects_2006 (International estimate) | Years | 42 | NA |\n",
       "| Afghanistan | Female | 1990-1995 | UNPD_World Population Prospects_2006 (International estimate) | Years | 42 | NA |\n",
       "| Afghanistan | Female | 1985-1990 | UNPD_World Population Prospects_2006 (International estimate) | Years | 41 | NA |\n",
       "| Afghanistan | Male   | 2000-2005 | UNPD_World Population Prospects_2006 (International estimate) | Years | 42 | NA |\n",
       "| Afghanistan | Male   | 1995-2000 | UNPD_World Population Prospects_2006 (International estimate) | Years | 42 | NA |\n",
       "| Afghanistan | Male   | 1990-1995 | UNPD_World Population Prospects_2006 (International estimate) | Years | 42 | NA |\n",
       "| Afghanistan | Male   | 1985-1990 | UNPD_World Population Prospects_2006 (International estimate) | Years | 41 | NA |\n",
       "| Albania     | Female | 2000-2005 | UNPD_World Population Prospects_2006 (International estimate) | Years | 79 | NA |\n",
       "| Albania     | Female | 1995-2000 | UNPD_World Population Prospects_2006 (International estimate) | Years | 76 | NA |\n",
       "| Albania     | Female | 1990-1995 | UNPD_World Population Prospects_2006 (International estimate) | Years | 75 | NA |\n",
       "| Albania     | Female | 1985-1990 | UNPD_World Population Prospects_2006 (International estimate) | Years | 75 | NA |\n",
       "| Albania     | Male   | 2000-2005 | UNPD_World Population Prospects_2006 (International estimate) | Years | 73 | NA |\n",
       "| Albania     | Male   | 1995-2000 | UNPD_World Population Prospects_2006 (International estimate) | Years | 70 | NA |\n",
       "| Albania     | Male   | 1990-1995 | UNPD_World Population Prospects_2006 (International estimate) | Years | 69 | NA |\n",
       "| Albania     | Male   | 1985-1990 | UNPD_World Population Prospects_2006 (International estimate) | Years | 69 | NA |\n",
       "| Algeria     | Female | 2000-2005 | UNPD_World Population Prospects_2006 (International estimate) | Years | 72 | NA |\n",
       "| Algeria     | Female | 1995-2000 | UNPD_World Population Prospects_2006 (International estimate) | Years | 70 | NA |\n",
       "| Algeria     | Female | 1990-1995 | UNPD_World Population Prospects_2006 (International estimate) | Years | 69 | NA |\n",
       "| Algeria     | Female | 1985-1990 | UNPD_World Population Prospects_2006 (International estimate) | Years | 67 | NA |\n",
       "| Algeria     | Male   | 2000-2005 | UNPD_World Population Prospects_2006 (International estimate) | Years | 70 | NA |\n",
       "| Algeria     | Male   | 1995-2000 | UNPD_World Population Prospects_2006 (International estimate) | Years | 68 | NA |\n",
       "| Algeria     | Male   | 1990-1995 | UNPD_World Population Prospects_2006 (International estimate) | Years | 67 | NA |\n",
       "| Algeria     | Male   | 1985-1990 | UNPD_World Population Prospects_2006 (International estimate) | Years | 65 | NA |\n",
       "| Angola      | Female | 2000-2005 | UNPD_World Population Prospects_2006 (International estimate) | Years | 43 | NA |\n",
       "| Angola      | Female | 1995-2000 | UNPD_World Population Prospects_2006 (International estimate) | Years | 43 | NA |\n",
       "| Angola      | Female | 1990-1995 | UNPD_World Population Prospects_2006 (International estimate) | Years | 42 | NA |\n",
       "| Angola      | Female | 1985-1990 | UNPD_World Population Prospects_2006 (International estimate) | Years | 42 | NA |\n",
       "| Angola      | Male   | 2000-2005 | UNPD_World Population Prospects_2006 (International estimate) | Years | 39 | NA |\n",
       "| Angola      | Male   | 1995-2000 | UNPD_World Population Prospects_2006 (International estimate) | Years | 39 | NA |\n",
       "| ... | ... | ... | ... | ... | ... | ... |\n",
       "| Yemen    | Male                                                                                                                            | 1995-2000 | UNPD_World Population Prospects_2006 (International estimate) | Years | 57 | NA |\n",
       "| Yemen    | Male                                                                                                                            | 1990-1995 | UNPD_World Population Prospects_2006 (International estimate) | Years | 55 | NA |\n",
       "| Yemen    | Male                                                                                                                            | 1985-1990 | UNPD_World Population Prospects_2006 (International estimate) | Years | 52 | NA |\n",
       "| Zambia   | Female                                                                                                                          | 2000-2005 | UNPD_World Population Prospects_2006 (International estimate) | Years | 39 | NA |\n",
       "| Zambia   | Female                                                                                                                          | 1995-2000 | UNPD_World Population Prospects_2006 (International estimate) | Years | 42 | NA |\n",
       "| Zambia   | Female                                                                                                                          | 1990-1995 | UNPD_World Population Prospects_2006 (International estimate) | Years | 49 | NA |\n",
       "| Zambia   | Female                                                                                                                          | 1985-1990 | UNPD_World Population Prospects_2006 (International estimate) | Years | 53 | NA |\n",
       "| Zambia   | Male                                                                                                                            | 2000-2005 | UNPD_World Population Prospects_2006 (International estimate) | Years | 39 | NA |\n",
       "| Zambia   | Male                                                                                                                            | 1995-2000 | UNPD_World Population Prospects_2006 (International estimate) | Years | 39 | NA |\n",
       "| Zambia   | Male                                                                                                                            | 1990-1995 | UNPD_World Population Prospects_2006 (International estimate) | Years | 44 | NA |\n",
       "| Zambia   | Male                                                                                                                            | 1985-1990 | UNPD_World Population Prospects_2006 (International estimate) | Years | 49 | NA |\n",
       "| Zimbabwe | Female                                                                                                                          | 2000-2005 | UNPD_World Population Prospects_2006 (International estimate) | Years | 40 | NA |\n",
       "| Zimbabwe | Female                                                                                                                          | 1995-2000 | UNPD_World Population Prospects_2006 (International estimate) | Years | 49 | NA |\n",
       "| Zimbabwe | Female                                                                                                                          | 1990-1995 | UNPD_World Population Prospects_2006 (International estimate) | Years | 63 | NA |\n",
       "| Zimbabwe | Female                                                                                                                          | 1985-1990 | UNPD_World Population Prospects_2006 (International estimate) | Years | 64 | NA |\n",
       "| Zimbabwe | Male                                                                                                                            | 2000-2005 | UNPD_World Population Prospects_2006 (International estimate) | Years | 40 | NA |\n",
       "| Zimbabwe | Male                                                                                                                            | 1995-2000 | UNPD_World Population Prospects_2006 (International estimate) | Years | 45 | NA |\n",
       "| Zimbabwe | Male                                                                                                                            | 1990-1995 | UNPD_World Population Prospects_2006 (International estimate) | Years | 58 | NA |\n",
       "| Zimbabwe | Male                                                                                                                            | 1985-1990 | UNPD_World Population Prospects_2006 (International estimate) | Years | 60 | NA |\n",
       "| fnSeqID  | Footnote                                                                                                                        | <!----> | <!----> | <!----> | NA | NA |\n",
       "| 1        | Including Christmas Island, Cocos (Keeling) Islands, and Norfolk Island.                                                        | <!----> | <!----> | <!----> | NA | NA |\n",
       "| 2        | Refers to Guernsey, and Jersey.                                                                                                 | <!----> | <!----> | <!----> | NA | NA |\n",
       "| 3        | For statistical purposes, the data for China do not include Hong Kong and Macao, Special Administrative Regions (SAR) of China. | <!----> | <!----> | <!----> | NA | NA |\n",
       "| 4        | Including the island of Mayotte.                                                                                                | <!----> | <!----> | <!----> | NA | NA |\n",
       "| 5        | Including Ã…land Islands.                                                                                                       | <!----> | <!----> | <!----> | NA | NA |\n",
       "| 6        | As of 1 July 1997, Hong Kong became a Special Administrative Region (SAR) of China.                                             | <!----> | <!----> | <!----> | NA | NA |\n",
       "| 7        | As of 20 December 1999, Macao became a Special Administrative Region (SAR) of China.                                            | <!----> | <!----> | <!----> | NA | NA |\n",
       "| 8        | The former Yugoslav Republic of Macedonia.                                                                                      | <!----> | <!----> | <!----> | NA | NA |\n",
       "| 9        | Including Agalega, Rodrigues, and Saint Brandon.                                                                                | <!----> | <!----> | <!----> | NA | NA |\n",
       "| 10       | Including Svalbard and Jan Mayen Islands.                                                                                       | <!----> | <!----> | <!----> | NA | NA |\n",
       "\n"
      ],
      "text/plain": [
       "     Country.or.Area\n",
       "1    Afghanistan    \n",
       "2    Afghanistan    \n",
       "3    Afghanistan    \n",
       "4    Afghanistan    \n",
       "5    Afghanistan    \n",
       "6    Afghanistan    \n",
       "7    Afghanistan    \n",
       "8    Afghanistan    \n",
       "9    Albania        \n",
       "10   Albania        \n",
       "11   Albania        \n",
       "12   Albania        \n",
       "13   Albania        \n",
       "14   Albania        \n",
       "15   Albania        \n",
       "16   Albania        \n",
       "17   Algeria        \n",
       "18   Algeria        \n",
       "19   Algeria        \n",
       "20   Algeria        \n",
       "21   Algeria        \n",
       "22   Algeria        \n",
       "23   Algeria        \n",
       "24   Algeria        \n",
       "25   Angola         \n",
       "26   Angola         \n",
       "27   Angola         \n",
       "28   Angola         \n",
       "29   Angola         \n",
       "30   Angola         \n",
       "...  ...            \n",
       "1542 Yemen          \n",
       "1543 Yemen          \n",
       "1544 Yemen          \n",
       "1545 Zambia         \n",
       "1546 Zambia         \n",
       "1547 Zambia         \n",
       "1548 Zambia         \n",
       "1549 Zambia         \n",
       "1550 Zambia         \n",
       "1551 Zambia         \n",
       "1552 Zambia         \n",
       "1553 Zimbabwe       \n",
       "1554 Zimbabwe       \n",
       "1555 Zimbabwe       \n",
       "1556 Zimbabwe       \n",
       "1557 Zimbabwe       \n",
       "1558 Zimbabwe       \n",
       "1559 Zimbabwe       \n",
       "1560 Zimbabwe       \n",
       "1561 fnSeqID        \n",
       "1562 1              \n",
       "1563 2              \n",
       "1564 3              \n",
       "1565 4              \n",
       "1566 5              \n",
       "1567 6              \n",
       "1568 7              \n",
       "1569 8              \n",
       "1570 9              \n",
       "1571 10             \n",
       "     Subgroup                                                                                                                       \n",
       "1    Female                                                                                                                         \n",
       "2    Female                                                                                                                         \n",
       "3    Female                                                                                                                         \n",
       "4    Female                                                                                                                         \n",
       "5    Male                                                                                                                           \n",
       "6    Male                                                                                                                           \n",
       "7    Male                                                                                                                           \n",
       "8    Male                                                                                                                           \n",
       "9    Female                                                                                                                         \n",
       "10   Female                                                                                                                         \n",
       "11   Female                                                                                                                         \n",
       "12   Female                                                                                                                         \n",
       "13   Male                                                                                                                           \n",
       "14   Male                                                                                                                           \n",
       "15   Male                                                                                                                           \n",
       "16   Male                                                                                                                           \n",
       "17   Female                                                                                                                         \n",
       "18   Female                                                                                                                         \n",
       "19   Female                                                                                                                         \n",
       "20   Female                                                                                                                         \n",
       "21   Male                                                                                                                           \n",
       "22   Male                                                                                                                           \n",
       "23   Male                                                                                                                           \n",
       "24   Male                                                                                                                           \n",
       "25   Female                                                                                                                         \n",
       "26   Female                                                                                                                         \n",
       "27   Female                                                                                                                         \n",
       "28   Female                                                                                                                         \n",
       "29   Male                                                                                                                           \n",
       "30   Male                                                                                                                           \n",
       "...  ...                                                                                                                            \n",
       "1542 Male                                                                                                                           \n",
       "1543 Male                                                                                                                           \n",
       "1544 Male                                                                                                                           \n",
       "1545 Female                                                                                                                         \n",
       "1546 Female                                                                                                                         \n",
       "1547 Female                                                                                                                         \n",
       "1548 Female                                                                                                                         \n",
       "1549 Male                                                                                                                           \n",
       "1550 Male                                                                                                                           \n",
       "1551 Male                                                                                                                           \n",
       "1552 Male                                                                                                                           \n",
       "1553 Female                                                                                                                         \n",
       "1554 Female                                                                                                                         \n",
       "1555 Female                                                                                                                         \n",
       "1556 Female                                                                                                                         \n",
       "1557 Male                                                                                                                           \n",
       "1558 Male                                                                                                                           \n",
       "1559 Male                                                                                                                           \n",
       "1560 Male                                                                                                                           \n",
       "1561 Footnote                                                                                                                       \n",
       "1562 Including Christmas Island, Cocos (Keeling) Islands, and Norfolk Island.                                                       \n",
       "1563 Refers to Guernsey, and Jersey.                                                                                                \n",
       "1564 For statistical purposes, the data for China do not include Hong Kong and Macao, Special Administrative Regions (SAR) of China.\n",
       "1565 Including the island of Mayotte.                                                                                               \n",
       "1566 Including Ã…land Islands.                                                                                                      \n",
       "1567 As of 1 July 1997, Hong Kong became a Special Administrative Region (SAR) of China.                                            \n",
       "1568 As of 20 December 1999, Macao became a Special Administrative Region (SAR) of China.                                           \n",
       "1569 The former Yugoslav Republic of Macedonia.                                                                                     \n",
       "1570 Including Agalega, Rodrigues, and Saint Brandon.                                                                               \n",
       "1571 Including Svalbard and Jan Mayen Islands.                                                                                      \n",
       "     Year      Source                                                       \n",
       "1    2000-2005 UNPD_World Population Prospects_2006 (International estimate)\n",
       "2    1995-2000 UNPD_World Population Prospects_2006 (International estimate)\n",
       "3    1990-1995 UNPD_World Population Prospects_2006 (International estimate)\n",
       "4    1985-1990 UNPD_World Population Prospects_2006 (International estimate)\n",
       "5    2000-2005 UNPD_World Population Prospects_2006 (International estimate)\n",
       "6    1995-2000 UNPD_World Population Prospects_2006 (International estimate)\n",
       "7    1990-1995 UNPD_World Population Prospects_2006 (International estimate)\n",
       "8    1985-1990 UNPD_World Population Prospects_2006 (International estimate)\n",
       "9    2000-2005 UNPD_World Population Prospects_2006 (International estimate)\n",
       "10   1995-2000 UNPD_World Population Prospects_2006 (International estimate)\n",
       "11   1990-1995 UNPD_World Population Prospects_2006 (International estimate)\n",
       "12   1985-1990 UNPD_World Population Prospects_2006 (International estimate)\n",
       "13   2000-2005 UNPD_World Population Prospects_2006 (International estimate)\n",
       "14   1995-2000 UNPD_World Population Prospects_2006 (International estimate)\n",
       "15   1990-1995 UNPD_World Population Prospects_2006 (International estimate)\n",
       "16   1985-1990 UNPD_World Population Prospects_2006 (International estimate)\n",
       "17   2000-2005 UNPD_World Population Prospects_2006 (International estimate)\n",
       "18   1995-2000 UNPD_World Population Prospects_2006 (International estimate)\n",
       "19   1990-1995 UNPD_World Population Prospects_2006 (International estimate)\n",
       "20   1985-1990 UNPD_World Population Prospects_2006 (International estimate)\n",
       "21   2000-2005 UNPD_World Population Prospects_2006 (International estimate)\n",
       "22   1995-2000 UNPD_World Population Prospects_2006 (International estimate)\n",
       "23   1990-1995 UNPD_World Population Prospects_2006 (International estimate)\n",
       "24   1985-1990 UNPD_World Population Prospects_2006 (International estimate)\n",
       "25   2000-2005 UNPD_World Population Prospects_2006 (International estimate)\n",
       "26   1995-2000 UNPD_World Population Prospects_2006 (International estimate)\n",
       "27   1990-1995 UNPD_World Population Prospects_2006 (International estimate)\n",
       "28   1985-1990 UNPD_World Population Prospects_2006 (International estimate)\n",
       "29   2000-2005 UNPD_World Population Prospects_2006 (International estimate)\n",
       "30   1995-2000 UNPD_World Population Prospects_2006 (International estimate)\n",
       "...  ...       ...                                                          \n",
       "1542 1995-2000 UNPD_World Population Prospects_2006 (International estimate)\n",
       "1543 1990-1995 UNPD_World Population Prospects_2006 (International estimate)\n",
       "1544 1985-1990 UNPD_World Population Prospects_2006 (International estimate)\n",
       "1545 2000-2005 UNPD_World Population Prospects_2006 (International estimate)\n",
       "1546 1995-2000 UNPD_World Population Prospects_2006 (International estimate)\n",
       "1547 1990-1995 UNPD_World Population Prospects_2006 (International estimate)\n",
       "1548 1985-1990 UNPD_World Population Prospects_2006 (International estimate)\n",
       "1549 2000-2005 UNPD_World Population Prospects_2006 (International estimate)\n",
       "1550 1995-2000 UNPD_World Population Prospects_2006 (International estimate)\n",
       "1551 1990-1995 UNPD_World Population Prospects_2006 (International estimate)\n",
       "1552 1985-1990 UNPD_World Population Prospects_2006 (International estimate)\n",
       "1553 2000-2005 UNPD_World Population Prospects_2006 (International estimate)\n",
       "1554 1995-2000 UNPD_World Population Prospects_2006 (International estimate)\n",
       "1555 1990-1995 UNPD_World Population Prospects_2006 (International estimate)\n",
       "1556 1985-1990 UNPD_World Population Prospects_2006 (International estimate)\n",
       "1557 2000-2005 UNPD_World Population Prospects_2006 (International estimate)\n",
       "1558 1995-2000 UNPD_World Population Prospects_2006 (International estimate)\n",
       "1559 1990-1995 UNPD_World Population Prospects_2006 (International estimate)\n",
       "1560 1985-1990 UNPD_World Population Prospects_2006 (International estimate)\n",
       "1561                                                                        \n",
       "1562                                                                        \n",
       "1563                                                                        \n",
       "1564                                                                        \n",
       "1565                                                                        \n",
       "1566                                                                        \n",
       "1567                                                                        \n",
       "1568                                                                        \n",
       "1569                                                                        \n",
       "1570                                                                        \n",
       "1571                                                                        \n",
       "     Unit  Value Value.Footnotes\n",
       "1    Years 42    NA             \n",
       "2    Years 42    NA             \n",
       "3    Years 42    NA             \n",
       "4    Years 41    NA             \n",
       "5    Years 42    NA             \n",
       "6    Years 42    NA             \n",
       "7    Years 42    NA             \n",
       "8    Years 41    NA             \n",
       "9    Years 79    NA             \n",
       "10   Years 76    NA             \n",
       "11   Years 75    NA             \n",
       "12   Years 75    NA             \n",
       "13   Years 73    NA             \n",
       "14   Years 70    NA             \n",
       "15   Years 69    NA             \n",
       "16   Years 69    NA             \n",
       "17   Years 72    NA             \n",
       "18   Years 70    NA             \n",
       "19   Years 69    NA             \n",
       "20   Years 67    NA             \n",
       "21   Years 70    NA             \n",
       "22   Years 68    NA             \n",
       "23   Years 67    NA             \n",
       "24   Years 65    NA             \n",
       "25   Years 43    NA             \n",
       "26   Years 43    NA             \n",
       "27   Years 42    NA             \n",
       "28   Years 42    NA             \n",
       "29   Years 39    NA             \n",
       "30   Years 39    NA             \n",
       "...  ...   ...   ...            \n",
       "1542 Years 57    NA             \n",
       "1543 Years 55    NA             \n",
       "1544 Years 52    NA             \n",
       "1545 Years 39    NA             \n",
       "1546 Years 42    NA             \n",
       "1547 Years 49    NA             \n",
       "1548 Years 53    NA             \n",
       "1549 Years 39    NA             \n",
       "1550 Years 39    NA             \n",
       "1551 Years 44    NA             \n",
       "1552 Years 49    NA             \n",
       "1553 Years 40    NA             \n",
       "1554 Years 49    NA             \n",
       "1555 Years 63    NA             \n",
       "1556 Years 64    NA             \n",
       "1557 Years 40    NA             \n",
       "1558 Years 45    NA             \n",
       "1559 Years 58    NA             \n",
       "1560 Years 60    NA             \n",
       "1561       NA    NA             \n",
       "1562       NA    NA             \n",
       "1563       NA    NA             \n",
       "1564       NA    NA             \n",
       "1565       NA    NA             \n",
       "1566       NA    NA             \n",
       "1567       NA    NA             \n",
       "1568       NA    NA             \n",
       "1569       NA    NA             \n",
       "1570       NA    NA             \n",
       "1571       NA    NA             "
      ]
     },
     "metadata": {},
     "output_type": "display_data"
    }
   ],
   "source": [
    "\n",
    "# This sets plot images to a nice size\n",
    "options(repr.plot.width = 6, repr.plot.height = 6)\n",
    "\n",
    "# Loading packages\n",
    "library(dplyr)\n",
    "library(tidyr)\n",
    "library(ggplot2)\n",
    "\n",
    "# Loading data\n",
    "life_expectancy <- read.csv(\"UNdata_Export_20191117.csv\")\n",
    "\n",
    "# Taking a look at the first few rows\n",
    "life_expectancy"
   ]
  },
  {
   "cell_type": "code",
   "execution_count": null,
   "metadata": {},
   "outputs": [],
   "source": []
  },
  {
   "cell_type": "markdown",
   "metadata": {},
   "source": [
    "## 2. Life expectancy of men vs. women by country"
   ]
  },
  {
   "cell_type": "code",
   "execution_count": 5,
   "metadata": {},
   "outputs": [
    {
     "data": {
      "text/html": [
       "<table>\n",
       "<caption>A data.frame: 6 × 3</caption>\n",
       "<thead>\n",
       "\t<tr><th scope=col>Country.or.Area</th><th scope=col>Female</th><th scope=col>Male</th></tr>\n",
       "\t<tr><th scope=col>&lt;fct&gt;</th><th scope=col>&lt;int&gt;</th><th scope=col>&lt;int&gt;</th></tr>\n",
       "</thead>\n",
       "<tbody>\n",
       "\t<tr><td>Afghanistan</td><td>42</td><td>42</td></tr>\n",
       "\t<tr><td>Albania    </td><td>79</td><td>73</td></tr>\n",
       "\t<tr><td>Algeria    </td><td>72</td><td>70</td></tr>\n",
       "\t<tr><td>Angola     </td><td>43</td><td>39</td></tr>\n",
       "\t<tr><td>Argentina  </td><td>78</td><td>71</td></tr>\n",
       "\t<tr><td>Armenia    </td><td>75</td><td>68</td></tr>\n",
       "</tbody>\n",
       "</table>\n"
      ],
      "text/latex": [
       "A data.frame: 6 × 3\n",
       "\\begin{tabular}{r|lll}\n",
       " Country.or.Area & Female & Male\\\\\n",
       " <fct> & <int> & <int>\\\\\n",
       "\\hline\n",
       "\t Afghanistan & 42 & 42\\\\\n",
       "\t Albania     & 79 & 73\\\\\n",
       "\t Algeria     & 72 & 70\\\\\n",
       "\t Angola      & 43 & 39\\\\\n",
       "\t Argentina   & 78 & 71\\\\\n",
       "\t Armenia     & 75 & 68\\\\\n",
       "\\end{tabular}\n"
      ],
      "text/markdown": [
       "\n",
       "A data.frame: 6 × 3\n",
       "\n",
       "| Country.or.Area &lt;fct&gt; | Female &lt;int&gt; | Male &lt;int&gt; |\n",
       "|---|---|---|\n",
       "| Afghanistan | 42 | 42 |\n",
       "| Albania     | 79 | 73 |\n",
       "| Algeria     | 72 | 70 |\n",
       "| Angola      | 43 | 39 |\n",
       "| Argentina   | 78 | 71 |\n",
       "| Armenia     | 75 | 68 |\n",
       "\n"
      ],
      "text/plain": [
       "  Country.or.Area Female Male\n",
       "1 Afghanistan     42     42  \n",
       "2 Albania         79     73  \n",
       "3 Algeria         72     70  \n",
       "4 Angola          43     39  \n",
       "5 Argentina       78     71  \n",
       "6 Armenia         75     68  "
      ]
     },
     "metadata": {},
     "output_type": "display_data"
    }
   ],
   "source": [
    "\n",
    "# Subsetting and reshaping the life expectancy data\n",
    "subdata <- life_expectancy  %>% \n",
    "            filter(Year == \"2000-2005\")%>%\n",
    "            select(Country.or.Area, Subgroup, Value)%>%\n",
    "            spread(Subgroup, Value)\n",
    "\n",
    "# Taking a look at the first few rows\n",
    "head(subdata)"
   ]
  },
  {
   "cell_type": "code",
   "execution_count": null,
   "metadata": {},
   "outputs": [],
   "source": []
  },
  {
   "cell_type": "markdown",
   "metadata": {},
   "source": [
    "## 3. Data Visualization I"
   ]
  },
  {
   "cell_type": "code",
   "execution_count": 7,
   "metadata": {},
   "outputs": [
    {
     "data": {
      "image/png": "[encoded data removed]",
      "text/plain": [
       "plot without title"
      ]
     },
     "metadata": {
      "image/png": {
       "height": 360,
       "width": 360
      },
      "text/plain": {
       "height": 360,
       "width": 360
      }
     },
     "output_type": "display_data"
    }
   ],
   "source": [
    "# Plotting male and female life expectancy\n",
    "ggplot(subdata, aes(x=Male, y=Female))+\n",
    "geom_point()"
   ]
  },
  {
   "cell_type": "code",
   "execution_count": null,
   "metadata": {},
   "outputs": [],
   "source": []
  },
  {
   "cell_type": "markdown",
   "metadata": {},
   "source": [
    "## 4. Reference lines I"
   ]
  },
  {
   "cell_type": "code",
   "execution_count": 8,
   "metadata": {},
   "outputs": [
    {
     "data": {
      "image/png": "[encoded data removed]",
      "text/plain": [
       "plot without title"
      ]
     },
     "metadata": {
      "image/png": {
       "height": 360,
       "width": 360
      },
      "text/plain": {
       "height": 360,
       "width": 360
      }
     },
     "output_type": "display_data"
    }
   ],
   "source": [
    "\n",
    "# Adding an abline and changing the scale of axes of the previous plots\n",
    "ggplot(subdata, aes(x=Male, y=Female))+\n",
    "geom_point()+\n",
    "scale_x_continuous(limits=c(35,85))+\n",
    "geom_abline(intercept=0, slope=1, linetype=2)+\n",
    "scale_y_continuous(limits=c(35,85))"
   ]
  },
  {
   "cell_type": "code",
   "execution_count": null,
   "metadata": {},
   "outputs": [],
   "source": []
  },
  {
   "cell_type": "markdown",
   "metadata": {},
   "source": [
    "## 5. Plot titles and axis labels"
   ]
  },
  {
   "cell_type": "code",
   "execution_count": 9,
   "metadata": {},
   "outputs": [
    {
     "data": {
      "image/png": "[encoded data removed]",
      "text/plain": [
       "plot without title"
      ]
     },
     "metadata": {
      "image/png": {
       "height": 360,
       "width": 360
      },
      "text/plain": {
       "height": 360,
       "width": 360
      }
     },
     "output_type": "display_data"
    }
   ],
   "source": [
    "# Adding labels to previous plot\n",
    "ggplot(subdata, aes(x=Male, y=Female))+\n",
    "  geom_point(colour=\"white\", fill=\"chartreuse3\", shape=21, alpha=.55, size=5)+\n",
    "  geom_abline(intercept = 0, slope = 1, linetype=2)+\n",
    "  scale_x_continuous(limits=c(35,85))+\n",
    "  scale_y_continuous(limits=c(35,85))+\n",
    "  labs(title=\"Life Expectancy at Birth by Country\",\n",
    "       subtitle=\"Years. Period: 2000-2005. Average.\",\n",
    "       caption=\"Source: United Nations Statistics Division\",\n",
    "       x=\"Males\",\n",
    "       y=\"Females\")"
   ]
  },
  {
   "cell_type": "code",
   "execution_count": null,
   "metadata": {},
   "outputs": [],
   "source": []
  },
  {
   "cell_type": "markdown",
   "metadata": {},
   "source": [
    "## 6. Highlighting remarkable countries"
   ]
  },
  {
   "cell_type": "code",
   "execution_count": 10,
   "metadata": {},
   "outputs": [
    {
     "data": {
      "image/png": "[encoded data removed]",
      "text/plain": [
       "plot without title"
      ]
     },
     "metadata": {
      "image/png": {
       "height": 360,
       "width": 360
      },
      "text/plain": {
       "height": 360,
       "width": 360
      }
     },
     "output_type": "display_data"
    }
   ],
   "source": [
    "# Subseting data to obtain countries of interest\n",
    "top_male <- subdata %>% arrange(Male-Female) %>% head(3)\n",
    "top_female <- subdata %>% arrange(Female-Male) %>% head(3)\n",
    "\n",
    "# Adding text to the previous plot to label countries of interest\n",
    "ggplot(subdata, aes(x=Male, y=Female, label=Country.or.Area))+\n",
    "  geom_point(colour=\"white\", fill=\"chartreuse3\", shape=21, alpha=.55, size=5)+\n",
    "  geom_abline(intercept = 0, slope = 1, linetype=2)+\n",
    "  scale_x_continuous(limits=c(35,85))+\n",
    "  scale_y_continuous(limits=c(35,85))+\n",
    "  labs(title=\"Life Expectancy at Birth by Country\",\n",
    "       subtitle=\"Years. Period: 2000-2005. Average.\",\n",
    "       caption=\"Source: United Nations Statistics Division\",\n",
    "       x=\"Males\",\n",
    "       y=\"Females\")+\n",
    "  geom_text(data=top_male, size=3)+\n",
    "  geom_text(data=top_female, size=3)+\n",
    "  theme_bw()"
   ]
  },
  {
   "cell_type": "code",
   "execution_count": null,
   "metadata": {},
   "outputs": [],
   "source": []
  },
  {
   "cell_type": "markdown",
   "metadata": {},
   "source": [
    "## 7. How has life expectancy by gender evolved?"
   ]
  },
  {
   "cell_type": "code",
   "execution_count": 11,
   "metadata": {},
   "outputs": [
    {
     "data": {
      "text/html": [
       "<table>\n",
       "<caption>A data.frame: 6 × 10</caption>\n",
       "<thead>\n",
       "\t<tr><th scope=col>Country.or.Area</th><th scope=col>Source</th><th scope=col>Unit</th><th scope=col>Value.Footnotes</th><th scope=col>Female_1985_1990</th><th scope=col>Female_2000_2005</th><th scope=col>Male_1985_1990</th><th scope=col>Male_2000_2005</th><th scope=col>diff_Female</th><th scope=col>diff_Male</th></tr>\n",
       "\t<tr><th scope=col>&lt;fct&gt;</th><th scope=col>&lt;fct&gt;</th><th scope=col>&lt;fct&gt;</th><th scope=col>&lt;int&gt;</th><th scope=col>&lt;int&gt;</th><th scope=col>&lt;int&gt;</th><th scope=col>&lt;int&gt;</th><th scope=col>&lt;int&gt;</th><th scope=col>&lt;int&gt;</th><th scope=col>&lt;int&gt;</th></tr>\n",
       "</thead>\n",
       "<tbody>\n",
       "\t<tr><td>Afghanistan</td><td>UNPD_World Population Prospects_2006 (International estimate)</td><td>Years</td><td>NA</td><td>41</td><td>42</td><td>41</td><td>42</td><td>1</td><td>1</td></tr>\n",
       "\t<tr><td>Albania    </td><td>UNPD_World Population Prospects_2006 (International estimate)</td><td>Years</td><td>NA</td><td>75</td><td>79</td><td>69</td><td>73</td><td>4</td><td>4</td></tr>\n",
       "\t<tr><td>Algeria    </td><td>UNPD_World Population Prospects_2006 (International estimate)</td><td>Years</td><td>NA</td><td>67</td><td>72</td><td>65</td><td>70</td><td>5</td><td>5</td></tr>\n",
       "\t<tr><td>Angola     </td><td>UNPD_World Population Prospects_2006 (International estimate)</td><td>Years</td><td>NA</td><td>42</td><td>43</td><td>38</td><td>39</td><td>1</td><td>1</td></tr>\n",
       "\t<tr><td>Argentina  </td><td>UNPD_World Population Prospects_2006 (International estimate)</td><td>Years</td><td>NA</td><td>75</td><td>78</td><td>68</td><td>71</td><td>3</td><td>3</td></tr>\n",
       "\t<tr><td>Armenia    </td><td>UNPD_World Population Prospects_2006 (International estimate)</td><td>Years</td><td>NA</td><td>71</td><td>75</td><td>66</td><td>68</td><td>4</td><td>2</td></tr>\n",
       "</tbody>\n",
       "</table>\n"
      ],
      "text/latex": [
       "A data.frame: 6 × 10\n",
       "\\begin{tabular}{r|llllllllll}\n",
       " Country.or.Area & Source & Unit & Value.Footnotes & Female\\_1985\\_1990 & Female\\_2000\\_2005 & Male\\_1985\\_1990 & Male\\_2000\\_2005 & diff\\_Female & diff\\_Male\\\\\n",
       " <fct> & <fct> & <fct> & <int> & <int> & <int> & <int> & <int> & <int> & <int>\\\\\n",
       "\\hline\n",
       "\t Afghanistan & UNPD\\_World Population Prospects\\_2006 (International estimate) & Years & NA & 41 & 42 & 41 & 42 & 1 & 1\\\\\n",
       "\t Albania     & UNPD\\_World Population Prospects\\_2006 (International estimate) & Years & NA & 75 & 79 & 69 & 73 & 4 & 4\\\\\n",
       "\t Algeria     & UNPD\\_World Population Prospects\\_2006 (International estimate) & Years & NA & 67 & 72 & 65 & 70 & 5 & 5\\\\\n",
       "\t Angola      & UNPD\\_World Population Prospects\\_2006 (International estimate) & Years & NA & 42 & 43 & 38 & 39 & 1 & 1\\\\\n",
       "\t Argentina   & UNPD\\_World Population Prospects\\_2006 (International estimate) & Years & NA & 75 & 78 & 68 & 71 & 3 & 3\\\\\n",
       "\t Armenia     & UNPD\\_World Population Prospects\\_2006 (International estimate) & Years & NA & 71 & 75 & 66 & 68 & 4 & 2\\\\\n",
       "\\end{tabular}\n"
      ],
      "text/markdown": [
       "\n",
       "A data.frame: 6 × 10\n",
       "\n",
       "| Country.or.Area &lt;fct&gt; | Source &lt;fct&gt; | Unit &lt;fct&gt; | Value.Footnotes &lt;int&gt; | Female_1985_1990 &lt;int&gt; | Female_2000_2005 &lt;int&gt; | Male_1985_1990 &lt;int&gt; | Male_2000_2005 &lt;int&gt; | diff_Female &lt;int&gt; | diff_Male &lt;int&gt; |\n",
       "|---|---|---|---|---|---|---|---|---|---|\n",
       "| Afghanistan | UNPD_World Population Prospects_2006 (International estimate) | Years | NA | 41 | 42 | 41 | 42 | 1 | 1 |\n",
       "| Albania     | UNPD_World Population Prospects_2006 (International estimate) | Years | NA | 75 | 79 | 69 | 73 | 4 | 4 |\n",
       "| Algeria     | UNPD_World Population Prospects_2006 (International estimate) | Years | NA | 67 | 72 | 65 | 70 | 5 | 5 |\n",
       "| Angola      | UNPD_World Population Prospects_2006 (International estimate) | Years | NA | 42 | 43 | 38 | 39 | 1 | 1 |\n",
       "| Argentina   | UNPD_World Population Prospects_2006 (International estimate) | Years | NA | 75 | 78 | 68 | 71 | 3 | 3 |\n",
       "| Armenia     | UNPD_World Population Prospects_2006 (International estimate) | Years | NA | 71 | 75 | 66 | 68 | 4 | 2 |\n",
       "\n"
      ],
      "text/plain": [
       "  Country.or.Area Source                                                       \n",
       "1 Afghanistan     UNPD_World Population Prospects_2006 (International estimate)\n",
       "2 Albania         UNPD_World Population Prospects_2006 (International estimate)\n",
       "3 Algeria         UNPD_World Population Prospects_2006 (International estimate)\n",
       "4 Angola          UNPD_World Population Prospects_2006 (International estimate)\n",
       "5 Argentina       UNPD_World Population Prospects_2006 (International estimate)\n",
       "6 Armenia         UNPD_World Population Prospects_2006 (International estimate)\n",
       "  Unit  Value.Footnotes Female_1985_1990 Female_2000_2005 Male_1985_1990\n",
       "1 Years NA              41               42               41            \n",
       "2 Years NA              75               79               69            \n",
       "3 Years NA              67               72               65            \n",
       "4 Years NA              42               43               38            \n",
       "5 Years NA              75               78               68            \n",
       "6 Years NA              71               75               66            \n",
       "  Male_2000_2005 diff_Female diff_Male\n",
       "1 42             1           1        \n",
       "2 73             4           4        \n",
       "3 70             5           5        \n",
       "4 39             1           1        \n",
       "5 71             3           3        \n",
       "6 68             4           2        "
      ]
     },
     "metadata": {},
     "output_type": "display_data"
    }
   ],
   "source": [
    "# Subsetting, mutating and reshaping the life expectancy data\n",
    "subdata2 <- life_expectancy %>% \n",
    "  filter(Year %in% c(\"1985-1990\", \"2000-2005\")) %>% \n",
    "  mutate(Sub_Year=paste(Subgroup, Year, sep=\"_\")) %>% \n",
    "  mutate(Sub_Year=gsub(\"-\", \"_\", Sub_Year)) %>% \n",
    "  select(-Subgroup, -Year) %>% \n",
    "  spread(Sub_Year, Value)%>%\n",
    "  mutate(diff_Female = Female_2000_2005 - Female_1985_1990)%>%\n",
    "  mutate(diff_Male = Male_2000_2005 - Male_1985_1990)\n",
    "\n",
    "# Taking a look at the first few rows\n",
    "head(subdata2)"
   ]
  },
  {
   "cell_type": "code",
   "execution_count": null,
   "metadata": {},
   "outputs": [],
   "source": []
  },
  {
   "cell_type": "markdown",
   "metadata": {},
   "source": [
    "## 8. Visualize"
   ]
  },
  {
   "cell_type": "code",
   "execution_count": 12,
   "metadata": {},
   "outputs": [
    {
     "data": {
      "image/png": "[encoded data removed]",
      "text/plain": [
       "plot without title"
      ]
     },
     "metadata": {
      "image/png": {
       "height": 360,
       "width": 360
      },
      "text/plain": {
       "height": 360,
       "width": 360
      }
     },
     "output_type": "display_data"
    }
   ],
   "source": [
    "\n",
    "# Doing a nice first version of the plot with abline, scaling axis and adding labels\n",
    "ggplot(subdata2, aes(x=diff_Male, y=diff_Female, label=Country.or.Area))+\n",
    "  geom_point(colour=\"white\", fill=\"chartreuse3\", shape=21, alpha=.55, size=5)+\n",
    "  geom_abline(intercept = 0, slope = 1, linetype=2)+\n",
    "  scale_x_continuous(limits=c(-25,25))+\n",
    "  scale_y_continuous(limits=c(-25,25))+\n",
    "  labs(title=\"Life Expectancy at Birth by Country in Years\",\n",
    "       subtitle=\"Difference between 1985-1990 and 2000-2005. Average.\",\n",
    "       caption=\"Source: United Nations Statistics Division\",\n",
    "       x=\"Males\",\n",
    "       y=\"Females\")+\n",
    "theme_bw()"
   ]
  },
  {
   "cell_type": "code",
   "execution_count": null,
   "metadata": {},
   "outputs": [],
   "source": []
  },
  {
   "cell_type": "markdown",
   "metadata": {},
   "source": [
    "## 9. Reference lines II"
   ]
  },
  {
   "cell_type": "code",
   "execution_count": 13,
   "metadata": {},
   "outputs": [
    {
     "data": {
      "image/png": "[encoded data removed]",
      "text/plain": [
       "plot without title"
      ]
     },
     "metadata": {
      "image/png": {
       "height": 360,
       "width": 360
      },
      "text/plain": {
       "height": 360,
       "width": 360
      }
     },
     "output_type": "display_data"
    }
   ],
   "source": [
    "# Adding an hline and vline to previous plots\n",
    "ggplot(subdata2, aes(x=diff_Male, y=diff_Female, label=Country.or.Area))+\n",
    "  geom_point(colour=\"white\", fill=\"chartreuse3\", shape=21, alpha=.55, size=5)+\n",
    "  geom_abline(intercept = 0, slope = 1, linetype=2)+\n",
    "  scale_x_continuous(limits=c(-25,25))+\n",
    "  scale_y_continuous(limits=c(-25,25))+\n",
    "  geom_hline(yintercept = 0, linetype=2)+\n",
    "  geom_vline(xintercept = 0, linetype=2)+\n",
    "  labs(title=\"Life Expectancy at Birth by Country\",\n",
    "       subtitle=\"Years. Difference between 1985-1990 and 2000-2005. Average.\",\n",
    "       caption=\"Source: United Nations Statistics Division\",\n",
    "       x=\"Males\",\n",
    "       y=\"Females\")+\n",
    "theme_bw()"
   ]
  },
  {
   "cell_type": "code",
   "execution_count": null,
   "metadata": {},
   "outputs": [],
   "source": []
  },
  {
   "cell_type": "markdown",
   "metadata": {},
   "source": [
    "## 10. Highlighting remarkable countries II"
   ]
  },
  {
   "cell_type": "code",
   "execution_count": 14,
   "metadata": {},
   "outputs": [
    {
     "data": {
      "image/png": "[encoded data removed]",
      "text/plain": [
       "plot without title"
      ]
     },
     "metadata": {
      "image/png": {
       "height": 360,
       "width": 360
      },
      "text/plain": {
       "height": 360,
       "width": 360
      }
     },
     "output_type": "display_data"
    }
   ],
   "source": [
    "# Subseting data to obtain countries of interest\n",
    "top <- subdata2 %>% arrange(diff_Male+diff_Female) %>% head(3)\n",
    "bottom <-  subdata2 %>% arrange(-(diff_Male+diff_Female)) %>% head(3)\n",
    "\n",
    "# Adding text to the previous plot to label countries of interest\n",
    "ggplot(subdata2, aes(x=diff_Male, y=diff_Female, label=Country.or.Area), guide=FALSE)+\n",
    "  geom_point(colour=\"white\", fill=\"chartreuse3\", shape=21, alpha=.55, size=5)+\n",
    "  geom_abline(intercept = 0, slope = 1, linetype=2)+\n",
    "  scale_x_continuous(limits=c(-25,25))+\n",
    "  scale_y_continuous(limits=c(-25,25))+\n",
    "  geom_hline(yintercept=0, linetype=2)+\n",
    "  geom_vline(xintercept=0, linetype=2)+\n",
    "  labs(title=\"Life Expectancy at Birth by Country\",\n",
    "       subtitle=\"Years. Difference between 1985-1990 and 2000-2005. Average.\",\n",
    "       caption=\"Source: United Nations Statistics Division\",\n",
    "       x=\"Males\",\n",
    "       y=\"Females\")+\n",
    "  geom_text(data=top, size=3)+\n",
    "  geom_text(data=bottom, size=3)+\n",
    "  theme_bw()"
   ]
  },
  {
   "cell_type": "code",
   "execution_count": null,
   "metadata": {},
   "outputs": [],
   "source": []
  },
  {
   "cell_type": "code",
   "execution_count": null,
   "metadata": {},
   "outputs": [],
   "source": []
  }
 ],
 "metadata": {
  "kernelspec": {
   "display_name": "R",
   "language": "R",
   "name": "ir"
  },
  "language_info": {
   "codemirror_mode": "r",
   "file_extension": ".r",
   "mimetype": "text/x-r-source",
   "name": "R",
   "pygments_lexer": "r",
   "version": "3.5.3"
  }
 },
 "nbformat": 4,
 "nbformat_minor": 2
}
